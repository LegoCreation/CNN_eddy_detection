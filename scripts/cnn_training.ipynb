{
 "cells": [
  {
   "cell_type": "code",
   "execution_count": 18,
   "metadata": {},
   "outputs": [],
   "source": [
    "from IPython.core.interactiveshell import InteractiveShell\n",
    "InteractiveShell.ast_node_interactivity = \"all\"\n",
    "\n",
    "# standard imports\n",
    "import tensorrt #For GPU\n",
    "from tensorflow import keras\n",
    "import numpy as np\n",
    "from tensorflow.keras.preprocessing.image import load_img\n",
    "from tensorflow.keras import layers\n",
    "import random\n",
    "from sklearn import preprocessing\n",
    "from keras.callbacks import History\n",
    "import matplotlib.pyplot as plt\n",
    "import np_utils\n",
    "import os\n",
    "from tensorflow.keras.optimizers import Adam\n",
    "from plain_neural_network import*\n",
    "from keras import backend as K\n",
    "\n",
    "%matplotlib inline"
   ]
  },
  {
   "cell_type": "code",
   "execution_count": 19,
   "metadata": {},
   "outputs": [
    {
     "name": "stdout",
     "output_type": "stream",
     "text": [
      "[name: \"/device:CPU:0\"\n",
      "device_type: \"CPU\"\n",
      "memory_limit: 268435456\n",
      "locality {\n",
      "}\n",
      "incarnation: 56344699698743468\n",
      "xla_global_id: -1\n",
      ", name: \"/device:GPU:0\"\n",
      "device_type: \"GPU\"\n",
      "memory_limit: 82781208576\n",
      "locality {\n",
      "  bus_id: 4\n",
      "  numa_node: 3\n",
      "  links {\n",
      "  }\n",
      "}\n",
      "incarnation: 10070873136231119361\n",
      "physical_device_desc: \"device: 0, name: NVIDIA A100 80GB PCIe, pci bus id: 0000:01:00.0, compute capability: 8.0\"\n",
      "xla_global_id: 416903419\n",
      "]\n",
      "[PhysicalDevice(name='/physical_device:GPU:0', device_type='GPU')]\n"
     ]
    },
    {
     "name": "stderr",
     "output_type": "stream",
     "text": [
      "2023-10-21 16:44:19.863051: I tensorflow/core/common_runtime/gpu/gpu_device.cc:1639] Created device /device:GPU:0 with 78946 MB memory:  -> device: 0, name: NVIDIA A100 80GB PCIe, pci bus id: 0000:01:00.0, compute capability: 8.0\n"
     ]
    }
   ],
   "source": [
    "from tensorflow.python.client import device_lib\n",
    "print(device_lib.list_local_devices())\n",
    "import tensorflow as tf; print(tf.config.list_physical_devices('GPU'))"
   ]
  },
  {
   "cell_type": "code",
   "execution_count": 20,
   "metadata": {},
   "outputs": [
    {
     "name": "stdout",
     "output_type": "stream",
     "text": [
      "(1905, 840, 480)\n"
     ]
    }
   ],
   "source": [
    "input_dir = \"/albedo/home/ssunar/CNN_eddy_detection/for_paper/interpolation/south_atlantic\"\n",
    "input_file_paths = sorted(\n",
    "    [\n",
    "        os.path.join(input_dir, fname)\n",
    "        for fname in os.listdir(input_dir)\n",
    "    ])\n",
    "#input_file_paths.pop(29)\n",
    "#input_file_paths.pop(11)\n",
    "\n",
    "data_x = xr.open_mfdataset(input_file_paths,combine = 'nested', concat_dim=\"TIME\")\n",
    "data_x = data_x.ssh.to_numpy()\n",
    "X = np.float32(data_x)\n",
    "                            \n",
    "X[X>1000] = 0\n",
    "print(X.shape)"
   ]
  },
  {
   "cell_type": "code",
   "execution_count": 21,
   "metadata": {},
   "outputs": [
    {
     "data": {
      "text/plain": [
       "(1905, 840, 480)"
      ]
     },
     "execution_count": 21,
     "metadata": {},
     "output_type": "execute_result"
    }
   ],
   "source": [
    "input_dir = \"/albedo/home/ssunar/CNN_eddy_detection/for_paper/segmentation_masks/south_atlantic\"\n",
    "input_file_paths = sorted(\n",
    "    [\n",
    "        os.path.join(input_dir, fname)\n",
    "        for fname in os.listdir(input_dir)\n",
    "    ])\n",
    "#input_file_paths.pop(29)\n",
    "#input_file_paths.pop(11)\n",
    "\n",
    "data_y = xr.open_mfdataset(input_file_paths,combine = 'nested', concat_dim=\"TIME\")\n",
    "data_y = data_y.seg_mask.to_numpy()\n",
    "Y = np.float32(data_y)\n",
    "\n",
    "\n",
    "(Y.shape)"
   ]
  },
  {
   "cell_type": "code",
   "execution_count": 22,
   "metadata": {},
   "outputs": [],
   "source": [
    "Y[(Y != 1) & (Y!=2)] = 0"
   ]
  },
  {
   "cell_type": "code",
   "execution_count": 23,
   "metadata": {},
   "outputs": [],
   "source": [
    "def split_3d_vector(vector):\n",
    "    X, Y, Z = vector.shape\n",
    "    chunks = []\n",
    "    \n",
    "    for i in range(X):\n",
    "        vector_2d = vector[i,:,:]\n",
    "        B = Y // 256 + 1\n",
    "        for b in range(B):\n",
    "            start_y = b * 256\n",
    "            end_y = (b + 1) * 256\n",
    "            if end_y > Y:\n",
    "                start_y = Y - 256\n",
    "                end_y = Y\n",
    "      \n",
    "            C = Z // 256 + 1\n",
    "            for c in range(C):\n",
    "                start_z = c * 256\n",
    "                end_z = (c + 1) * 256\n",
    "                if end_z > Z:\n",
    "                    start_z = Z - 256\n",
    "                    end_z = Z\n",
    "                final_chunk = vector_2d[start_y:end_y, start_z:end_z]\n",
    "                chunks.append(final_chunk)\n",
    "    return chunks"
   ]
  },
  {
   "cell_type": "code",
   "execution_count": 24,
   "metadata": {},
   "outputs": [
    {
     "data": {
      "text/plain": [
       "(15240, 256, 256)"
      ]
     },
     "execution_count": 24,
     "metadata": {},
     "output_type": "execute_result"
    },
    {
     "data": {
      "text/plain": [
       "(15240, 256, 256)"
      ]
     },
     "execution_count": 24,
     "metadata": {},
     "output_type": "execute_result"
    }
   ],
   "source": [
    "new_X = np.array(split_3d_vector(X))\n",
    "new_Y = np.array(split_3d_vector(Y))\n",
    "\n",
    "data_x = new_X\n",
    "data_y = new_Y\n",
    "\n",
    "(data_x.shape)\n",
    "(data_y.shape)"
   ]
  },
  {
   "cell_type": "code",
   "execution_count": 25,
   "metadata": {},
   "outputs": [
    {
     "name": "stdout",
     "output_type": "stream",
     "text": [
      "4000\n"
     ]
    }
   ],
   "source": [
    "img_size = (256, 256)\n",
    "num_classes = 3\n",
    "batch_size = 16\n",
    "epochs = 60\n",
    "if len(data_x) > 4000:\n",
    "    total_samples = 4000\n",
    "else:\n",
    "    total_samples = len(data_x)\n",
    "print(total_samples)"
   ]
  },
  {
   "cell_type": "code",
   "execution_count": 26,
   "metadata": {},
   "outputs": [
    {
     "name": "stdout",
     "output_type": "stream",
     "text": [
      "Model: \"model_1\"\n",
      "__________________________________________________________________________________________________\n",
      " Layer (type)                Output Shape                 Param #   Connected to                  \n",
      "==================================================================================================\n",
      " input_2 (InputLayer)        [(None, 256, 256, 1)]        0         []                            \n",
      "                                                                                                  \n",
      " separable_conv2d_15 (Separ  (None, 256, 256, 16)         25        ['input_2[0][0]']             \n",
      " ableConv2D)                                                                                      \n",
      "                                                                                                  \n",
      " batch_normalization_14 (Ba  (None, 256, 256, 16)         64        ['separable_conv2d_15[0][0]'] \n",
      " tchNormalization)                                                                                \n",
      "                                                                                                  \n",
      " activation_15 (Activation)  (None, 256, 256, 16)         0         ['batch_normalization_14[0][0]\n",
      "                                                                    ']                            \n",
      "                                                                                                  \n",
      " separable_conv2d_16 (Separ  (None, 256, 256, 16)         400       ['activation_15[0][0]']       \n",
      " ableConv2D)                                                                                      \n",
      "                                                                                                  \n",
      " batch_normalization_15 (Ba  (None, 256, 256, 16)         64        ['separable_conv2d_16[0][0]'] \n",
      " tchNormalization)                                                                                \n",
      "                                                                                                  \n",
      " activation_16 (Activation)  (None, 256, 256, 16)         0         ['batch_normalization_15[0][0]\n",
      "                                                                    ']                            \n",
      "                                                                                                  \n",
      " dropout_7 (Dropout)         (None, 256, 256, 16)         0         ['activation_16[0][0]']       \n",
      "                                                                                                  \n",
      " max_pooling2d_3 (MaxPoolin  (None, 128, 128, 16)         0         ['dropout_7[0][0]']           \n",
      " g2D)                                                                                             \n",
      "                                                                                                  \n",
      " separable_conv2d_17 (Separ  (None, 128, 128, 16)         400       ['max_pooling2d_3[0][0]']     \n",
      " ableConv2D)                                                                                      \n",
      "                                                                                                  \n",
      " batch_normalization_16 (Ba  (None, 128, 128, 16)         64        ['separable_conv2d_17[0][0]'] \n",
      " tchNormalization)                                                                                \n",
      "                                                                                                  \n",
      " activation_17 (Activation)  (None, 128, 128, 16)         0         ['batch_normalization_16[0][0]\n",
      "                                                                    ']                            \n",
      "                                                                                                  \n",
      " separable_conv2d_18 (Separ  (None, 128, 128, 16)         400       ['activation_17[0][0]']       \n",
      " ableConv2D)                                                                                      \n",
      "                                                                                                  \n",
      " batch_normalization_17 (Ba  (None, 128, 128, 16)         64        ['separable_conv2d_18[0][0]'] \n",
      " tchNormalization)                                                                                \n",
      "                                                                                                  \n",
      " activation_18 (Activation)  (None, 128, 128, 16)         0         ['batch_normalization_17[0][0]\n",
      "                                                                    ']                            \n",
      "                                                                                                  \n",
      " dropout_8 (Dropout)         (None, 128, 128, 16)         0         ['activation_18[0][0]']       \n",
      "                                                                                                  \n",
      " max_pooling2d_4 (MaxPoolin  (None, 64, 64, 16)           0         ['dropout_8[0][0]']           \n",
      " g2D)                                                                                             \n",
      "                                                                                                  \n",
      " separable_conv2d_19 (Separ  (None, 64, 64, 32)           656       ['max_pooling2d_4[0][0]']     \n",
      " ableConv2D)                                                                                      \n",
      "                                                                                                  \n",
      " batch_normalization_18 (Ba  (None, 64, 64, 32)           128       ['separable_conv2d_19[0][0]'] \n",
      " tchNormalization)                                                                                \n",
      "                                                                                                  \n",
      " activation_19 (Activation)  (None, 64, 64, 32)           0         ['batch_normalization_18[0][0]\n",
      "                                                                    ']                            \n",
      "                                                                                                  \n",
      " separable_conv2d_20 (Separ  (None, 64, 64, 32)           1312      ['activation_19[0][0]']       \n",
      " ableConv2D)                                                                                      \n",
      "                                                                                                  \n",
      " batch_normalization_19 (Ba  (None, 64, 64, 32)           128       ['separable_conv2d_20[0][0]'] \n",
      " tchNormalization)                                                                                \n",
      "                                                                                                  \n",
      " activation_20 (Activation)  (None, 64, 64, 32)           0         ['batch_normalization_19[0][0]\n",
      "                                                                    ']                            \n",
      "                                                                                                  \n",
      " dropout_9 (Dropout)         (None, 64, 64, 32)           0         ['activation_20[0][0]']       \n",
      "                                                                                                  \n",
      " max_pooling2d_5 (MaxPoolin  (None, 32, 32, 32)           0         ['dropout_9[0][0]']           \n",
      " g2D)                                                                                             \n",
      "                                                                                                  \n",
      " separable_conv2d_21 (Separ  (None, 32, 32, 32)           1312      ['max_pooling2d_5[0][0]']     \n",
      " ableConv2D)                                                                                      \n",
      "                                                                                                  \n",
      " batch_normalization_20 (Ba  (None, 32, 32, 32)           128       ['separable_conv2d_21[0][0]'] \n",
      " tchNormalization)                                                                                \n",
      "                                                                                                  \n",
      " activation_21 (Activation)  (None, 32, 32, 32)           0         ['batch_normalization_20[0][0]\n",
      "                                                                    ']                            \n",
      "                                                                                                  \n"
     ]
    },
    {
     "name": "stdout",
     "output_type": "stream",
     "text": [
      " separable_conv2d_22 (Separ  (None, 32, 32, 32)           1312      ['activation_21[0][0]']       \n",
      " ableConv2D)                                                                                      \n",
      "                                                                                                  \n",
      " batch_normalization_21 (Ba  (None, 32, 32, 32)           128       ['separable_conv2d_22[0][0]'] \n",
      " tchNormalization)                                                                                \n",
      "                                                                                                  \n",
      " activation_22 (Activation)  (None, 32, 32, 32)           0         ['batch_normalization_21[0][0]\n",
      "                                                                    ']                            \n",
      "                                                                                                  \n",
      " dropout_10 (Dropout)        (None, 32, 32, 32)           0         ['activation_22[0][0]']       \n",
      "                                                                                                  \n",
      " up_sampling2d_3 (UpSamplin  (None, 64, 64, 32)           0         ['dropout_10[0][0]']          \n",
      " g2D)                                                                                             \n",
      "                                                                                                  \n",
      " concatenate_3 (Concatenate  (None, 64, 64, 64)           0         ['up_sampling2d_3[0][0]',     \n",
      " )                                                                   'dropout_9[0][0]']           \n",
      "                                                                                                  \n",
      " separable_conv2d_23 (Separ  (None, 64, 64, 32)           2624      ['concatenate_3[0][0]']       \n",
      " ableConv2D)                                                                                      \n",
      "                                                                                                  \n",
      " batch_normalization_22 (Ba  (None, 64, 64, 32)           128       ['separable_conv2d_23[0][0]'] \n",
      " tchNormalization)                                                                                \n",
      "                                                                                                  \n",
      " activation_23 (Activation)  (None, 64, 64, 32)           0         ['batch_normalization_22[0][0]\n",
      "                                                                    ']                            \n",
      "                                                                                                  \n",
      " separable_conv2d_24 (Separ  (None, 64, 64, 32)           1312      ['activation_23[0][0]']       \n",
      " ableConv2D)                                                                                      \n",
      "                                                                                                  \n",
      " batch_normalization_23 (Ba  (None, 64, 64, 32)           128       ['separable_conv2d_24[0][0]'] \n",
      " tchNormalization)                                                                                \n",
      "                                                                                                  \n",
      " activation_24 (Activation)  (None, 64, 64, 32)           0         ['batch_normalization_23[0][0]\n",
      "                                                                    ']                            \n",
      "                                                                                                  \n",
      " dropout_11 (Dropout)        (None, 64, 64, 32)           0         ['activation_24[0][0]']       \n",
      "                                                                                                  \n",
      " up_sampling2d_4 (UpSamplin  (None, 128, 128, 32)         0         ['dropout_11[0][0]']          \n",
      " g2D)                                                                                             \n",
      "                                                                                                  \n",
      " concatenate_4 (Concatenate  (None, 128, 128, 48)         0         ['up_sampling2d_4[0][0]',     \n",
      " )                                                                   'dropout_8[0][0]']           \n",
      "                                                                                                  \n",
      " separable_conv2d_25 (Separ  (None, 128, 128, 16)         1200      ['concatenate_4[0][0]']       \n",
      " ableConv2D)                                                                                      \n",
      "                                                                                                  \n",
      " batch_normalization_24 (Ba  (None, 128, 128, 16)         64        ['separable_conv2d_25[0][0]'] \n",
      " tchNormalization)                                                                                \n",
      "                                                                                                  \n",
      " activation_25 (Activation)  (None, 128, 128, 16)         0         ['batch_normalization_24[0][0]\n",
      "                                                                    ']                            \n",
      "                                                                                                  \n",
      " separable_conv2d_26 (Separ  (None, 128, 128, 16)         400       ['activation_25[0][0]']       \n",
      " ableConv2D)                                                                                      \n",
      "                                                                                                  \n",
      " batch_normalization_25 (Ba  (None, 128, 128, 16)         64        ['separable_conv2d_26[0][0]'] \n",
      " tchNormalization)                                                                                \n",
      "                                                                                                  \n",
      " activation_26 (Activation)  (None, 128, 128, 16)         0         ['batch_normalization_25[0][0]\n",
      "                                                                    ']                            \n",
      "                                                                                                  \n",
      " dropout_12 (Dropout)        (None, 128, 128, 16)         0         ['activation_26[0][0]']       \n",
      "                                                                                                  \n",
      " up_sampling2d_5 (UpSamplin  (None, 256, 256, 16)         0         ['dropout_12[0][0]']          \n",
      " g2D)                                                                                             \n",
      "                                                                                                  \n",
      " concatenate_5 (Concatenate  (None, 256, 256, 32)         0         ['up_sampling2d_5[0][0]',     \n",
      " )                                                                   'dropout_7[0][0]']           \n",
      "                                                                                                  \n",
      " separable_conv2d_27 (Separ  (None, 256, 256, 16)         800       ['concatenate_5[0][0]']       \n",
      " ableConv2D)                                                                                      \n",
      "                                                                                                  \n",
      " batch_normalization_26 (Ba  (None, 256, 256, 16)         64        ['separable_conv2d_27[0][0]'] \n",
      " tchNormalization)                                                                                \n",
      "                                                                                                  \n",
      " activation_27 (Activation)  (None, 256, 256, 16)         0         ['batch_normalization_26[0][0]\n",
      "                                                                    ']                            \n",
      "                                                                                                  \n",
      " separable_conv2d_28 (Separ  (None, 256, 256, 16)         400       ['activation_27[0][0]']       \n",
      " ableConv2D)                                                                                      \n",
      "                                                                                                  \n",
      " batch_normalization_27 (Ba  (None, 256, 256, 16)         64        ['separable_conv2d_28[0][0]'] \n",
      " tchNormalization)                                                                                \n"
     ]
    },
    {
     "name": "stdout",
     "output_type": "stream",
     "text": [
      "                                                                                                  \n",
      " activation_28 (Activation)  (None, 256, 256, 16)         0         ['batch_normalization_27[0][0]\n",
      "                                                                    ']                            \n",
      "                                                                                                  \n",
      " dropout_13 (Dropout)        (None, 256, 256, 16)         0         ['activation_28[0][0]']       \n",
      "                                                                                                  \n",
      " separable_conv2d_29 (Separ  (None, 256, 256, 3)          64        ['dropout_13[0][0]']          \n",
      " ableConv2D)                                                                                      \n",
      "                                                                                                  \n",
      " reshape_1 (Reshape)         (None, 65536, 3)             0         ['separable_conv2d_29[0][0]'] \n",
      "                                                                                                  \n",
      " activation_29 (Activation)  (None, 65536, 3)             0         ['reshape_1[0][0]']           \n",
      "                                                                                                  \n",
      "==================================================================================================\n",
      "Total params: 13897 (54.29 KB)\n",
      "Trainable params: 13257 (51.79 KB)\n",
      "Non-trainable params: 640 (2.50 KB)\n",
      "__________________________________________________________________________________________________\n"
     ]
    }
   ],
   "source": [
    "model = get_model(img_size, num_classes)\n",
    "model.summary()"
   ]
  },
  {
   "cell_type": "code",
   "execution_count": 27,
   "metadata": {},
   "outputs": [
    {
     "data": {
      "text/plain": [
       "{0.0: 910443743, 1.0: 40704538, 2.0: 47620359}"
      ]
     },
     "execution_count": 27,
     "metadata": {},
     "output_type": "execute_result"
    },
    {
     "name": "stdout",
     "output_type": "stream",
     "text": [
      "[0.023537207665551153, 0.5264598125838619, 0.450002979750587]\n"
     ]
    }
   ],
   "source": [
    "#Loss function \n",
    "#defined from the paper:\n",
    "#Santana et al._2020_Neural network training for the detection and classification of oceanic mesoscale eddies\n",
    "\n",
    "unique, counts = np.unique(data_y, return_counts=True)\n",
    "dict(zip(unique, counts))\n",
    "\n",
    "freq = [np.sum(counts)/j for j in counts]\n",
    "weightsSeg = [f/np.sum(freq) for f in freq]\n",
    "print(weightsSeg)\n",
    "\n",
    "def dice_coef_anti(y_true, y_pred):\n",
    "    smooth = 1.  # to avoid zero division\n",
    "    y_true_anti = y_true[:,:,1]\n",
    "    y_pred_anti = y_pred[:,:,1]\n",
    "    intersection_anti = K.sum(y_true_anti * y_pred_anti)\n",
    "    return (2 * intersection_anti + smooth) / (K.sum(y_true_anti)+ K.sum(y_pred_anti) + smooth)\n",
    "\n",
    "def dice_coef_cyc(y_true, y_pred):\n",
    "    smooth = 1.  # to avoid zero division\n",
    "    y_true_cyc = y_true[:,:,2]\n",
    "    y_pred_cyc = y_pred[:,:,2]\n",
    "    intersection_cyc = K.sum(y_true_cyc * y_pred_cyc)\n",
    "    return (2 * intersection_cyc + smooth) / (K.sum(y_true_cyc) + K.sum(y_pred_cyc) + smooth)\n",
    "\n",
    "def dice_coef_nn(y_true, y_pred):\n",
    "    smooth = 1.  # to avoid zero division\n",
    "    y_true_nn = y_true[:,:,0]\n",
    "    y_pred_nn = y_pred[:,:,0]\n",
    "    intersection_nn = K.sum(y_true_nn * y_pred_nn)\n",
    "    return (2 * intersection_nn + smooth) / (K.sum(y_true_nn) + K.sum(y_pred_nn) + smooth)\n",
    "    \n",
    "def mean_dice_coef(y_true, y_pred):\n",
    "    return (dice_coef_anti(y_true, y_pred) + dice_coef_cyc(y_true, y_pred) + dice_coef_nn(y_true, y_pred))/3.\n",
    "\n",
    "def weighted_mean_dice_coef(y_true, y_pred):\n",
    "    #return (weightsSeg[2]*dice_coef_anti(y_true, y_pred) + weightsSeg[1]*dice_coef_cyc(y_true, y_pred) + weightsSeg[0]*dice_coef_nn(y_true, y_pred))\n",
    "    return (weightsSeg[2]*dice_coef_anti(y_true, y_pred) + weightsSeg[1]*dice_coef_cyc(y_true, y_pred) + weightsSeg[0]*dice_coef_nn(y_true, y_pred))\n",
    "      \n",
    "def dice_coef_loss(y_true, y_pred):\n",
    "    return 1 - weighted_mean_dice_coef(y_true, y_pred)"
   ]
  },
  {
   "cell_type": "code",
   "execution_count": 28,
   "metadata": {},
   "outputs": [
    {
     "name": "stdout",
     "output_type": "stream",
     "text": [
      "train_input: (2800, 256, 256)\n",
      "val_input: (1200, 256, 256)\n",
      "Size of each batch:  (16, 256, 256, 1)\n"
     ]
    }
   ],
   "source": [
    "# Split our img paths into a training and a validation set\n",
    "split = 0.3\n",
    "train_samples = int((1-split)*total_samples)\n",
    "#same seed must be used\n",
    "random.Random(0).shuffle(data_x)\n",
    "random.Random(0).shuffle(data_y)\n",
    "train_input = data_x[0:train_samples]\n",
    "train_target = data_y[0:train_samples]\n",
    "val_input = data_x[train_samples:total_samples]\n",
    "val_target = data_y[train_samples:total_samples]\n",
    "\n",
    "print(\"train_input:\", train_input.shape)\n",
    "print(\"val_input:\", val_input.shape)\n",
    "\n",
    "# Instantiate data Sequences for each split\n",
    "train_gen = plain_net_eddy(batch_size, img_size, train_input, train_target)\n",
    "val_gen = plain_net_eddy(batch_size, img_size, val_input, val_target)\n",
    "print(\"Size of each batch: \",train_gen[1][0].shape)"
   ]
  },
  {
   "cell_type": "code",
   "execution_count": 31,
   "metadata": {},
   "outputs": [
    {
     "data": {
      "text/plain": [
       "'--xla_gpu_cuda_data_dir=/albedo/soft/sw/spack-sw/cuda/11.7.0-qk7q7bh/'"
      ]
     },
     "execution_count": 31,
     "metadata": {},
     "output_type": "execute_result"
    }
   ],
   "source": [
    "os.environ['XLA_FLAGS'] = '--xla_gpu_cuda_data_dir=/albedo/soft/sw/spack-sw/cuda/11.7.0-qk7q7bh/'\n",
    "os.environ['XLA_FLAGS']\n",
    "# print(os.environ.get('CUDA_HOME'))"
   ]
  },
  {
   "cell_type": "code",
   "execution_count": 32,
   "metadata": {},
   "outputs": [
    {
     "name": "stderr",
     "output_type": "stream",
     "text": [
      "WARNING:absl:`lr` is deprecated in Keras optimizer, please use `learning_rate` or use the legacy optimizer, e.g.,tf.keras.optimizers.legacy.Adam.\n"
     ]
    },
    {
     "name": "stdout",
     "output_type": "stream",
     "text": [
      "Epoch 1/60\n"
     ]
    },
    {
     "name": "stderr",
     "output_type": "stream",
     "text": [
      "2023-10-21 16:49:50.353754: E tensorflow/core/grappler/optimizers/meta_optimizer.cc:954] layout failed: INVALID_ARGUMENT: Size of values 0 does not match size of permutation 4 @ fanin shape inmodel_1/dropout_7/dropout/SelectV2-2-TransposeNHWCToNCHW-LayoutOptimizer\n",
      "2023-10-21 16:49:52.323724: I tensorflow/compiler/xla/stream_executor/cuda/cuda_dnn.cc:432] Loaded cuDNN version 8904\n",
      "2023-10-21 16:50:01.503528: I tensorflow/compiler/xla/stream_executor/cuda/cuda_blas.cc:606] TensorFloat-32 will be used for the matrix multiplication. This will only be logged once.\n",
      "2023-10-21 16:50:02.157323: I tensorflow/compiler/xla/service/service.cc:168] XLA service 0x15501aab7410 initialized for platform CUDA (this does not guarantee that XLA will be used). Devices:\n",
      "2023-10-21 16:50:02.157349: I tensorflow/compiler/xla/service/service.cc:176]   StreamExecutor device (0): NVIDIA A100 80GB PCIe, Compute Capability 8.0\n",
      "2023-10-21 16:50:02.161861: I tensorflow/compiler/mlir/tensorflow/utils/dump_mlir_util.cc:255] disabling MLIR crash reproducer, set env var `MLIR_CRASH_REPRODUCER_DIRECTORY` to enable.\n",
      "2023-10-21 16:50:02.620610: I ./tensorflow/compiler/jit/device_compiler.h:186] Compiled cluster using XLA!  This line is logged at most once for the lifetime of the process.\n"
     ]
    },
    {
     "name": "stdout",
     "output_type": "stream",
     "text": [
      "175/175 [==============================] - 38s 104ms/step - loss: 0.8514 - categorical_accuracy: 0.6954 - mean_dice_coef: 0.2730 - weighted_mean_dice_coef: 0.1486 - val_loss: 0.9274 - val_categorical_accuracy: 0.9131 - val_mean_dice_coef: 0.2626 - val_weighted_mean_dice_coef: 0.0726 - lr: 0.0010\n",
      "Epoch 2/60\n",
      "175/175 [==============================] - 17s 99ms/step - loss: 0.6681 - categorical_accuracy: 0.8193 - mean_dice_coef: 0.4848 - weighted_mean_dice_coef: 0.3319 - val_loss: 0.9605 - val_categorical_accuracy: 0.9132 - val_mean_dice_coef: 0.3253 - val_weighted_mean_dice_coef: 0.0395 - lr: 0.0010\n",
      "Epoch 3/60\n",
      "175/175 [==============================] - 18s 101ms/step - loss: 0.5048 - categorical_accuracy: 0.9024 - mean_dice_coef: 0.6351 - weighted_mean_dice_coef: 0.4952 - val_loss: 0.8702 - val_categorical_accuracy: 0.9160 - val_mean_dice_coef: 0.3903 - val_weighted_mean_dice_coef: 0.1298 - lr: 0.0010\n",
      "Epoch 4/60\n",
      "175/175 [==============================] - 18s 101ms/step - loss: 0.4540 - categorical_accuracy: 0.9142 - mean_dice_coef: 0.6734 - weighted_mean_dice_coef: 0.5460 - val_loss: 0.6201 - val_categorical_accuracy: 0.9240 - val_mean_dice_coef: 0.5662 - val_weighted_mean_dice_coef: 0.3799 - lr: 0.0010\n",
      "Epoch 5/60\n",
      "175/175 [==============================] - 18s 100ms/step - loss: 0.4310 - categorical_accuracy: 0.9188 - mean_dice_coef: 0.6903 - weighted_mean_dice_coef: 0.5690 - val_loss: 0.5917 - val_categorical_accuracy: 0.9241 - val_mean_dice_coef: 0.5820 - val_weighted_mean_dice_coef: 0.4083 - lr: 0.0010\n",
      "Epoch 6/60\n",
      "175/175 [==============================] - 18s 101ms/step - loss: 0.4152 - categorical_accuracy: 0.9222 - mean_dice_coef: 0.7018 - weighted_mean_dice_coef: 0.5848 - val_loss: 0.6173 - val_categorical_accuracy: 0.9209 - val_mean_dice_coef: 0.5645 - val_weighted_mean_dice_coef: 0.3827 - lr: 0.0010\n",
      "Epoch 7/60\n",
      "175/175 [==============================] - 17s 100ms/step - loss: 0.4023 - categorical_accuracy: 0.9247 - mean_dice_coef: 0.7111 - weighted_mean_dice_coef: 0.5977 - val_loss: 0.5315 - val_categorical_accuracy: 0.9252 - val_mean_dice_coef: 0.6240 - val_weighted_mean_dice_coef: 0.4685 - lr: 0.0010\n",
      "Epoch 8/60\n",
      "175/175 [==============================] - 17s 99ms/step - loss: 0.3916 - categorical_accuracy: 0.9268 - mean_dice_coef: 0.7188 - weighted_mean_dice_coef: 0.6084 - val_loss: 0.6014 - val_categorical_accuracy: 0.9231 - val_mean_dice_coef: 0.5760 - val_weighted_mean_dice_coef: 0.3986 - lr: 0.0010\n",
      "Epoch 9/60\n",
      "175/175 [==============================] - 18s 100ms/step - loss: 0.3846 - categorical_accuracy: 0.9282 - mean_dice_coef: 0.7239 - weighted_mean_dice_coef: 0.6154 - val_loss: 0.6250 - val_categorical_accuracy: 0.9220 - val_mean_dice_coef: 0.5588 - val_weighted_mean_dice_coef: 0.3750 - lr: 0.0010\n",
      "Epoch 10/60\n",
      "175/175 [==============================] - 17s 100ms/step - loss: 0.3771 - categorical_accuracy: 0.9296 - mean_dice_coef: 0.7293 - weighted_mean_dice_coef: 0.6229 - val_loss: 0.5014 - val_categorical_accuracy: 0.9286 - val_mean_dice_coef: 0.6441 - val_weighted_mean_dice_coef: 0.4986 - lr: 0.0010\n",
      "Epoch 11/60\n",
      "175/175 [==============================] - 17s 100ms/step - loss: 0.3720 - categorical_accuracy: 0.9308 - mean_dice_coef: 0.7330 - weighted_mean_dice_coef: 0.6280 - val_loss: 0.4945 - val_categorical_accuracy: 0.9316 - val_mean_dice_coef: 0.6482 - val_weighted_mean_dice_coef: 0.5055 - lr: 0.0010\n",
      "Epoch 12/60\n",
      "175/175 [==============================] - 17s 100ms/step - loss: 0.3659 - categorical_accuracy: 0.9320 - mean_dice_coef: 0.7374 - weighted_mean_dice_coef: 0.6341 - val_loss: 0.5302 - val_categorical_accuracy: 0.9299 - val_mean_dice_coef: 0.6245 - val_weighted_mean_dice_coef: 0.4698 - lr: 0.0010\n",
      "Epoch 13/60\n",
      "175/175 [==============================] - 17s 100ms/step - loss: 0.3625 - categorical_accuracy: 0.9325 - mean_dice_coef: 0.7398 - weighted_mean_dice_coef: 0.6375 - val_loss: 0.5522 - val_categorical_accuracy: 0.9281 - val_mean_dice_coef: 0.6092 - val_weighted_mean_dice_coef: 0.4478 - lr: 0.0010\n",
      "Epoch 14/60\n",
      "175/175 [==============================] - 17s 100ms/step - loss: 0.3564 - categorical_accuracy: 0.9336 - mean_dice_coef: 0.7443 - weighted_mean_dice_coef: 0.6436 - val_loss: 0.5762 - val_categorical_accuracy: 0.9252 - val_mean_dice_coef: 0.5942 - val_weighted_mean_dice_coef: 0.4238 - lr: 0.0010\n",
      "Epoch 15/60\n",
      "175/175 [==============================] - 17s 100ms/step - loss: 0.3510 - categorical_accuracy: 0.9348 - mean_dice_coef: 0.7482 - weighted_mean_dice_coef: 0.6490 - val_loss: 0.4743 - val_categorical_accuracy: 0.9284 - val_mean_dice_coef: 0.6632 - val_weighted_mean_dice_coef: 0.5257 - lr: 0.0010\n",
      "Epoch 16/60\n",
      "175/175 [==============================] - 18s 101ms/step - loss: 0.3497 - categorical_accuracy: 0.9350 - mean_dice_coef: 0.7491 - weighted_mean_dice_coef: 0.6503 - val_loss: 0.4595 - val_categorical_accuracy: 0.9319 - val_mean_dice_coef: 0.6733 - val_weighted_mean_dice_coef: 0.5405 - lr: 0.0010\n",
      "Epoch 17/60\n",
      "175/175 [==============================] - 17s 99ms/step - loss: 0.3448 - categorical_accuracy: 0.9360 - mean_dice_coef: 0.7527 - weighted_mean_dice_coef: 0.6552 - val_loss: 0.5576 - val_categorical_accuracy: 0.9279 - val_mean_dice_coef: 0.6076 - val_weighted_mean_dice_coef: 0.4424 - lr: 0.0010\n",
      "Epoch 18/60\n",
      "175/175 [==============================] - 17s 100ms/step - loss: 0.3426 - categorical_accuracy: 0.9364 - mean_dice_coef: 0.7542 - weighted_mean_dice_coef: 0.6574 - val_loss: 0.4898 - val_categorical_accuracy: 0.9327 - val_mean_dice_coef: 0.6521 - val_weighted_mean_dice_coef: 0.5102 - lr: 0.0010\n",
      "Epoch 19/60\n",
      "175/175 [==============================] - 18s 100ms/step - loss: 0.3380 - categorical_accuracy: 0.9372 - mean_dice_coef: 0.7576 - weighted_mean_dice_coef: 0.6620 - val_loss: 0.4854 - val_categorical_accuracy: 0.9307 - val_mean_dice_coef: 0.6560 - val_weighted_mean_dice_coef: 0.5146 - lr: 0.0010\n",
      "Epoch 20/60\n",
      "175/175 [==============================] - 17s 100ms/step - loss: 0.3376 - categorical_accuracy: 0.9373 - mean_dice_coef: 0.7579 - weighted_mean_dice_coef: 0.6624 - val_loss: 0.4592 - val_categorical_accuracy: 0.9363 - val_mean_dice_coef: 0.6750 - val_weighted_mean_dice_coef: 0.5408 - lr: 0.0010\n",
      "Epoch 21/60\n",
      "175/175 [==============================] - 18s 100ms/step - loss: 0.3324 - categorical_accuracy: 0.9383 - mean_dice_coef: 0.7616 - weighted_mean_dice_coef: 0.6676 - val_loss: 0.4611 - val_categorical_accuracy: 0.9356 - val_mean_dice_coef: 0.6735 - val_weighted_mean_dice_coef: 0.5389 - lr: 0.0010\n",
      "Epoch 22/60\n",
      "175/175 [==============================] - 17s 100ms/step - loss: 0.3305 - categorical_accuracy: 0.9387 - mean_dice_coef: 0.7630 - weighted_mean_dice_coef: 0.6695 - val_loss: 0.5015 - val_categorical_accuracy: 0.9300 - val_mean_dice_coef: 0.6438 - val_weighted_mean_dice_coef: 0.4985 - lr: 0.0010\n",
      "Epoch 23/60\n",
      "175/175 [==============================] - 18s 100ms/step - loss: 0.3291 - categorical_accuracy: 0.9389 - mean_dice_coef: 0.7640 - weighted_mean_dice_coef: 0.6709 - val_loss: 0.4713 - val_categorical_accuracy: 0.9365 - val_mean_dice_coef: 0.6666 - val_weighted_mean_dice_coef: 0.5287 - lr: 0.0010\n",
      "Epoch 24/60\n",
      "175/175 [==============================] - 17s 100ms/step - loss: 0.3261 - categorical_accuracy: 0.9395 - mean_dice_coef: 0.7662 - weighted_mean_dice_coef: 0.6739 - val_loss: 0.4132 - val_categorical_accuracy: 0.9378 - val_mean_dice_coef: 0.7069 - val_weighted_mean_dice_coef: 0.5868 - lr: 0.0010\n",
      "Epoch 25/60\n",
      "175/175 [==============================] - 18s 101ms/step - loss: 0.3257 - categorical_accuracy: 0.9396 - mean_dice_coef: 0.7665 - weighted_mean_dice_coef: 0.6743 - val_loss: 0.4853 - val_categorical_accuracy: 0.9318 - val_mean_dice_coef: 0.6556 - val_weighted_mean_dice_coef: 0.5147 - lr: 0.0010\n",
      "Epoch 26/60\n",
      "175/175 [==============================] - 18s 101ms/step - loss: 0.3217 - categorical_accuracy: 0.9404 - mean_dice_coef: 0.7694 - weighted_mean_dice_coef: 0.6783 - val_loss: 0.4618 - val_categorical_accuracy: 0.9368 - val_mean_dice_coef: 0.6748 - val_weighted_mean_dice_coef: 0.5382 - lr: 0.0010\n",
      "Epoch 27/60\n",
      "175/175 [==============================] - 17s 99ms/step - loss: 0.3215 - categorical_accuracy: 0.9404 - mean_dice_coef: 0.7695 - weighted_mean_dice_coef: 0.6785 - val_loss: 0.4661 - val_categorical_accuracy: 0.9368 - val_mean_dice_coef: 0.6700 - val_weighted_mean_dice_coef: 0.5339 - lr: 0.0010\n"
     ]
    },
    {
     "name": "stdout",
     "output_type": "stream",
     "text": [
      "Epoch 28/60\n",
      "175/175 [==============================] - 17s 99ms/step - loss: 0.3183 - categorical_accuracy: 0.9410 - mean_dice_coef: 0.7719 - weighted_mean_dice_coef: 0.6817 - val_loss: 0.4458 - val_categorical_accuracy: 0.9348 - val_mean_dice_coef: 0.6836 - val_weighted_mean_dice_coef: 0.5542 - lr: 0.0010\n",
      "Epoch 29/60\n",
      "175/175 [==============================] - 17s 100ms/step - loss: 0.3196 - categorical_accuracy: 0.9407 - mean_dice_coef: 0.7708 - weighted_mean_dice_coef: 0.6804 - val_loss: 0.5147 - val_categorical_accuracy: 0.9321 - val_mean_dice_coef: 0.6362 - val_weighted_mean_dice_coef: 0.4853 - lr: 0.0010\n",
      "Epoch 30/60\n",
      "175/175 [==============================] - 17s 99ms/step - loss: 0.3153 - categorical_accuracy: 0.9415 - mean_dice_coef: 0.7740 - weighted_mean_dice_coef: 0.6847 - val_loss: 0.4969 - val_categorical_accuracy: 0.9354 - val_mean_dice_coef: 0.6499 - val_weighted_mean_dice_coef: 0.5031 - lr: 0.0010\n",
      "Epoch 31/60\n",
      "175/175 [==============================] - 17s 99ms/step - loss: 0.3160 - categorical_accuracy: 0.9415 - mean_dice_coef: 0.7736 - weighted_mean_dice_coef: 0.6840 - val_loss: 0.4842 - val_categorical_accuracy: 0.9326 - val_mean_dice_coef: 0.6567 - val_weighted_mean_dice_coef: 0.5158 - lr: 0.0010\n",
      "Epoch 32/60\n",
      "175/175 [==============================] - 17s 98ms/step - loss: 0.3137 - categorical_accuracy: 0.9419 - mean_dice_coef: 0.7751 - weighted_mean_dice_coef: 0.6863 - val_loss: 0.4353 - val_categorical_accuracy: 0.9375 - val_mean_dice_coef: 0.6921 - val_weighted_mean_dice_coef: 0.5647 - lr: 0.0010\n",
      "Epoch 33/60\n",
      "175/175 [==============================] - 17s 99ms/step - loss: 0.3127 - categorical_accuracy: 0.9421 - mean_dice_coef: 0.7759 - weighted_mean_dice_coef: 0.6873 - val_loss: 0.5069 - val_categorical_accuracy: 0.9297 - val_mean_dice_coef: 0.6415 - val_weighted_mean_dice_coef: 0.4931 - lr: 0.0010\n",
      "Epoch 34/60\n",
      "175/175 [==============================] - 17s 99ms/step - loss: 0.3104 - categorical_accuracy: 0.9426 - mean_dice_coef: 0.7776 - weighted_mean_dice_coef: 0.6896 - val_loss: 0.4072 - val_categorical_accuracy: 0.9413 - val_mean_dice_coef: 0.7125 - val_weighted_mean_dice_coef: 0.5928 - lr: 0.0010\n",
      "Epoch 35/60\n",
      "175/175 [==============================] - 18s 100ms/step - loss: 0.3093 - categorical_accuracy: 0.9428 - mean_dice_coef: 0.7784 - weighted_mean_dice_coef: 0.6907 - val_loss: 0.4650 - val_categorical_accuracy: 0.9355 - val_mean_dice_coef: 0.6695 - val_weighted_mean_dice_coef: 0.5350 - lr: 0.0010\n",
      "Epoch 36/60\n",
      "175/175 [==============================] - 18s 100ms/step - loss: 0.3078 - categorical_accuracy: 0.9430 - mean_dice_coef: 0.7794 - weighted_mean_dice_coef: 0.6922 - val_loss: 0.4581 - val_categorical_accuracy: 0.9382 - val_mean_dice_coef: 0.6756 - val_weighted_mean_dice_coef: 0.5419 - lr: 0.0010\n",
      "Epoch 37/60\n",
      "175/175 [==============================] - 18s 101ms/step - loss: 0.3080 - categorical_accuracy: 0.9430 - mean_dice_coef: 0.7793 - weighted_mean_dice_coef: 0.6920 - val_loss: 0.4572 - val_categorical_accuracy: 0.9349 - val_mean_dice_coef: 0.6755 - val_weighted_mean_dice_coef: 0.5428 - lr: 0.0010\n",
      "Epoch 38/60\n",
      "175/175 [==============================] - 17s 99ms/step - loss: 0.3057 - categorical_accuracy: 0.9434 - mean_dice_coef: 0.7809 - weighted_mean_dice_coef: 0.6943 - val_loss: 0.4766 - val_categorical_accuracy: 0.9336 - val_mean_dice_coef: 0.6616 - val_weighted_mean_dice_coef: 0.5234 - lr: 0.0010\n",
      "Epoch 39/60\n",
      "175/175 [==============================] - 17s 100ms/step - loss: 0.3071 - categorical_accuracy: 0.9432 - mean_dice_coef: 0.7799 - weighted_mean_dice_coef: 0.6929 - val_loss: 0.4389 - val_categorical_accuracy: 0.9378 - val_mean_dice_coef: 0.6890 - val_weighted_mean_dice_coef: 0.5611 - lr: 0.0010\n",
      "Epoch 40/60\n",
      "175/175 [==============================] - 17s 98ms/step - loss: 0.3025 - categorical_accuracy: 0.9441 - mean_dice_coef: 0.7833 - weighted_mean_dice_coef: 0.6975 - val_loss: 0.4106 - val_categorical_accuracy: 0.9412 - val_mean_dice_coef: 0.7096 - val_weighted_mean_dice_coef: 0.5894 - lr: 0.0010\n",
      "Epoch 41/60\n",
      "175/175 [==============================] - 17s 99ms/step - loss: 0.3038 - categorical_accuracy: 0.9437 - mean_dice_coef: 0.7823 - weighted_mean_dice_coef: 0.6962 - val_loss: 0.4317 - val_categorical_accuracy: 0.9385 - val_mean_dice_coef: 0.6950 - val_weighted_mean_dice_coef: 0.5683 - lr: 0.0010\n",
      "Epoch 42/60\n",
      "175/175 [==============================] - 18s 100ms/step - loss: 0.3033 - categorical_accuracy: 0.9440 - mean_dice_coef: 0.7827 - weighted_mean_dice_coef: 0.6967 - val_loss: 0.4316 - val_categorical_accuracy: 0.9396 - val_mean_dice_coef: 0.6945 - val_weighted_mean_dice_coef: 0.5684 - lr: 0.0010\n",
      "Epoch 43/60\n",
      "175/175 [==============================] - 17s 99ms/step - loss: 0.3021 - categorical_accuracy: 0.9442 - mean_dice_coef: 0.7836 - weighted_mean_dice_coef: 0.6979 - val_loss: 0.4229 - val_categorical_accuracy: 0.9381 - val_mean_dice_coef: 0.7007 - val_weighted_mean_dice_coef: 0.5771 - lr: 0.0010\n",
      "Epoch 44/60\n",
      "175/175 [==============================] - ETA: 0s - loss: 0.3006 - categorical_accuracy: 0.9445 - mean_dice_coef: 0.7847 - weighted_mean_dice_coef: 0.6994\n",
      "Epoch 44: ReduceLROnPlateau reducing learning rate to 0.0005000000237487257.\n",
      "175/175 [==============================] - 17s 99ms/step - loss: 0.3006 - categorical_accuracy: 0.9445 - mean_dice_coef: 0.7847 - weighted_mean_dice_coef: 0.6994 - val_loss: 0.4354 - val_categorical_accuracy: 0.9369 - val_mean_dice_coef: 0.6919 - val_weighted_mean_dice_coef: 0.5646 - lr: 0.0010\n",
      "Epoch 45/60\n",
      "175/175 [==============================] - 17s 99ms/step - loss: 0.2942 - categorical_accuracy: 0.9457 - mean_dice_coef: 0.7893 - weighted_mean_dice_coef: 0.7058 - val_loss: 0.4301 - val_categorical_accuracy: 0.9387 - val_mean_dice_coef: 0.6947 - val_weighted_mean_dice_coef: 0.5699 - lr: 5.0000e-04\n",
      "Epoch 46/60\n",
      "175/175 [==============================] - 17s 100ms/step - loss: 0.2934 - categorical_accuracy: 0.9459 - mean_dice_coef: 0.7898 - weighted_mean_dice_coef: 0.7066 - val_loss: 0.3896 - val_categorical_accuracy: 0.9428 - val_mean_dice_coef: 0.7240 - val_weighted_mean_dice_coef: 0.6104 - lr: 5.0000e-04\n",
      "Epoch 47/60\n",
      "175/175 [==============================] - 18s 100ms/step - loss: 0.2922 - categorical_accuracy: 0.9461 - mean_dice_coef: 0.7907 - weighted_mean_dice_coef: 0.7078 - val_loss: 0.4191 - val_categorical_accuracy: 0.9412 - val_mean_dice_coef: 0.7036 - val_weighted_mean_dice_coef: 0.5809 - lr: 5.0000e-04\n",
      "Epoch 48/60\n",
      "175/175 [==============================] - 17s 99ms/step - loss: 0.2919 - categorical_accuracy: 0.9462 - mean_dice_coef: 0.7910 - weighted_mean_dice_coef: 0.7081 - val_loss: 0.4074 - val_categorical_accuracy: 0.9418 - val_mean_dice_coef: 0.7123 - val_weighted_mean_dice_coef: 0.5926 - lr: 5.0000e-04\n",
      "Epoch 49/60\n",
      "175/175 [==============================] - 18s 101ms/step - loss: 0.2921 - categorical_accuracy: 0.9460 - mean_dice_coef: 0.7908 - weighted_mean_dice_coef: 0.7079 - val_loss: 0.4656 - val_categorical_accuracy: 0.9374 - val_mean_dice_coef: 0.6720 - val_weighted_mean_dice_coef: 0.5344 - lr: 5.0000e-04\n",
      "Epoch 50/60\n",
      "175/175 [==============================] - 17s 99ms/step - loss: 0.2921 - categorical_accuracy: 0.9461 - mean_dice_coef: 0.7908 - weighted_mean_dice_coef: 0.7079 - val_loss: 0.4132 - val_categorical_accuracy: 0.9410 - val_mean_dice_coef: 0.7069 - val_weighted_mean_dice_coef: 0.5868 - lr: 5.0000e-04\n",
      "Epoch 51/60\n",
      "175/175 [==============================] - 18s 101ms/step - loss: 0.2907 - categorical_accuracy: 0.9464 - mean_dice_coef: 0.7918 - weighted_mean_dice_coef: 0.7093 - val_loss: 0.4288 - val_categorical_accuracy: 0.9410 - val_mean_dice_coef: 0.6966 - val_weighted_mean_dice_coef: 0.5712 - lr: 5.0000e-04\n",
      "Epoch 52/60\n",
      "175/175 [==============================] - 18s 100ms/step - loss: 0.2914 - categorical_accuracy: 0.9462 - mean_dice_coef: 0.7913 - weighted_mean_dice_coef: 0.7086 - val_loss: 0.4369 - val_categorical_accuracy: 0.9391 - val_mean_dice_coef: 0.6914 - val_weighted_mean_dice_coef: 0.5631 - lr: 5.0000e-04\n",
      "Epoch 53/60\n",
      "175/175 [==============================] - 18s 101ms/step - loss: 0.2900 - categorical_accuracy: 0.9465 - mean_dice_coef: 0.7923 - weighted_mean_dice_coef: 0.7100 - val_loss: 0.4211 - val_categorical_accuracy: 0.9395 - val_mean_dice_coef: 0.7010 - val_weighted_mean_dice_coef: 0.5789 - lr: 5.0000e-04\n"
     ]
    },
    {
     "name": "stdout",
     "output_type": "stream",
     "text": [
      "Epoch 54/60\n",
      "175/175 [==============================] - 17s 100ms/step - loss: 0.2897 - categorical_accuracy: 0.9465 - mean_dice_coef: 0.7925 - weighted_mean_dice_coef: 0.7103 - val_loss: 0.4208 - val_categorical_accuracy: 0.9402 - val_mean_dice_coef: 0.7019 - val_weighted_mean_dice_coef: 0.5792 - lr: 5.0000e-04\n",
      "Epoch 55/60\n",
      "175/175 [==============================] - 17s 100ms/step - loss: 0.2893 - categorical_accuracy: 0.9466 - mean_dice_coef: 0.7927 - weighted_mean_dice_coef: 0.7107 - val_loss: 0.3907 - val_categorical_accuracy: 0.9435 - val_mean_dice_coef: 0.7231 - val_weighted_mean_dice_coef: 0.6093 - lr: 5.0000e-04\n",
      "Epoch 56/60\n",
      "175/175 [==============================] - ETA: 0s - loss: 0.2886 - categorical_accuracy: 0.9467 - mean_dice_coef: 0.7933 - weighted_mean_dice_coef: 0.7114\n",
      "Epoch 56: ReduceLROnPlateau reducing learning rate to 0.0002500000118743628.\n",
      "175/175 [==============================] - 18s 100ms/step - loss: 0.2886 - categorical_accuracy: 0.9467 - mean_dice_coef: 0.7933 - weighted_mean_dice_coef: 0.7114 - val_loss: 0.4014 - val_categorical_accuracy: 0.9425 - val_mean_dice_coef: 0.7157 - val_weighted_mean_dice_coef: 0.5986 - lr: 5.0000e-04\n",
      "Epoch 57/60\n",
      "175/175 [==============================] - 17s 100ms/step - loss: 0.2853 - categorical_accuracy: 0.9474 - mean_dice_coef: 0.7957 - weighted_mean_dice_coef: 0.7147 - val_loss: 0.3920 - val_categorical_accuracy: 0.9429 - val_mean_dice_coef: 0.7221 - val_weighted_mean_dice_coef: 0.6080 - lr: 2.5000e-04\n",
      "Epoch 58/60\n",
      "175/175 [==============================] - 18s 100ms/step - loss: 0.2846 - categorical_accuracy: 0.9476 - mean_dice_coef: 0.7961 - weighted_mean_dice_coef: 0.7154 - val_loss: 0.4381 - val_categorical_accuracy: 0.9382 - val_mean_dice_coef: 0.6899 - val_weighted_mean_dice_coef: 0.5619 - lr: 2.5000e-04\n",
      "Epoch 59/60\n",
      "175/175 [==============================] - 18s 100ms/step - loss: 0.2843 - categorical_accuracy: 0.9476 - mean_dice_coef: 0.7964 - weighted_mean_dice_coef: 0.7157 - val_loss: 0.4252 - val_categorical_accuracy: 0.9416 - val_mean_dice_coef: 0.6993 - val_weighted_mean_dice_coef: 0.5748 - lr: 2.5000e-04\n",
      "Epoch 60/60\n",
      "175/175 [==============================] - 17s 99ms/step - loss: 0.2840 - categorical_accuracy: 0.9476 - mean_dice_coef: 0.7966 - weighted_mean_dice_coef: 0.7160 - val_loss: 0.4184 - val_categorical_accuracy: 0.9417 - val_mean_dice_coef: 0.7041 - val_weighted_mean_dice_coef: 0.5816 - lr: 2.5000e-04\n"
     ]
    }
   ],
   "source": [
    "file_path_save = \"/albedo/home/ssunar/CNN_eddy_detection/for_paper/unet_trained/south_atlantic/train\"\n",
    "os.makedirs(file_path_save, exist_ok=True)\n",
    "model.compile(optimizer=Adam(lr=1e-3), loss=dice_coef_loss, metrics=['categorical_accuracy', mean_dice_coef, weighted_mean_dice_coef])\n",
    "\n",
    "callbacks = [keras.callbacks.ModelCheckpoint(file_path_save, save_best_only=True , monitor='val_loss',save_weights_only=True, save_freq=\"epoch\"),\n",
    "            keras.callbacks.ReduceLROnPlateau(monitor='val_loss', factor=0.5, patience=10, verbose=1, mode='auto', min_delta=1e-30, min_lr=1e-30)]\n",
    "\n",
    "# Train the model, doing validation at the end of each epoch.\n",
    "history = model.fit(train_gen, epochs=epochs, validation_data=val_gen, callbacks=callbacks, shuffle=True,verbose=1)"
   ]
  },
  {
   "cell_type": "code",
   "execution_count": 67,
   "metadata": {},
   "outputs": [],
   "source": [
    "model.save_weights(file_path_save + '/weights.h5')"
   ]
  },
  {
   "cell_type": "code",
   "execution_count": 34,
   "metadata": {
    "scrolled": false
   },
   "outputs": [
    {
     "data": {
      "text/plain": [
       "<Figure size 1000x1000 with 0 Axes>"
      ]
     },
     "execution_count": 34,
     "metadata": {},
     "output_type": "execute_result"
    },
    {
     "data": {
      "text/plain": [
       "[<matplotlib.lines.Line2D at 0x15545c98d9a0>]"
      ]
     },
     "execution_count": 34,
     "metadata": {},
     "output_type": "execute_result"
    },
    {
     "data": {
      "text/plain": [
       "[<matplotlib.lines.Line2D at 0x15545ca158b0>]"
      ]
     },
     "execution_count": 34,
     "metadata": {},
     "output_type": "execute_result"
    },
    {
     "data": {
      "text/plain": [
       "Text(0.5, 1.0, 'model loss')"
      ]
     },
     "execution_count": 34,
     "metadata": {},
     "output_type": "execute_result"
    },
    {
     "data": {
      "text/plain": [
       "Text(0, 0.5, 'loss')"
      ]
     },
     "execution_count": 34,
     "metadata": {},
     "output_type": "execute_result"
    },
    {
     "data": {
      "text/plain": [
       "Text(0.5, 0, 'epoch')"
      ]
     },
     "execution_count": 34,
     "metadata": {},
     "output_type": "execute_result"
    },
    {
     "data": {
      "text/plain": [
       "<matplotlib.legend.Legend at 0x1553f410d430>"
      ]
     },
     "execution_count": 34,
     "metadata": {},
     "output_type": "execute_result"
    },
    {
     "data": {
      "image/png": "[encoded data removed]",
      "text/plain": [
       "<Figure size 1000x1000 with 1 Axes>"
      ]
     },
     "metadata": {},
     "output_type": "display_data"
    }
   ],
   "source": [
    "dir_path = \"/albedo/home/ssunar/CNN_eddy_detection/for_paper/unet_trained/south_atlantic/train\"\n",
    "plt.figure(figsize=(10, 10))\n",
    "plt.semilogy(model.history.history['loss'])\n",
    "plt.semilogy(model.history.history['val_loss'])\n",
    "plt.title('model loss')\n",
    "plt.ylabel('loss')\n",
    "plt.xlabel('epoch')\n",
    "plt.legend(['train_loss', 'val_loss'], loc='upper right');\n",
    "plt.savefig(dir_path + \"loss_graph.png\", dpi = 300)"
   ]
  },
  {
   "cell_type": "code",
   "execution_count": 35,
   "metadata": {},
   "outputs": [
    {
     "name": "stdout",
     "output_type": "stream",
     "text": [
      "75/75 [==============================] - 2s 18ms/step\n",
      "(1200, 65536, 3)\n",
      "Time Per image: 0.00450103794603043\n",
      "Time for 1 year eqv: 1.6428788503011067\n"
     ]
    }
   ],
   "source": [
    "import time\n",
    "from sklearn.metrics import classification_report\n",
    "start = time.time()\n",
    "val_gen = plain_net_eddy(batch_size, img_size, val_input, val_target)\n",
    "val_preds = model.predict(val_gen)\n",
    "print(val_preds.shape)\n",
    "\n",
    "end = time.time()\n",
    "time_per_img = (end - start)/438\n",
    "print(\"Time Per image:\",time_per_img)\n",
    "print(\"Time for 1 year eqv:\",time_per_img*365)"
   ]
  },
  {
   "cell_type": "code",
   "execution_count": 54,
   "metadata": {},
   "outputs": [
    {
     "data": {
      "text/plain": [
       "(1000, 256, 256)"
      ]
     },
     "execution_count": 54,
     "metadata": {},
     "output_type": "execute_result"
    },
    {
     "data": {
      "text/plain": [
       "(1000, 256, 256)"
      ]
     },
     "execution_count": 54,
     "metadata": {},
     "output_type": "execute_result"
    }
   ],
   "source": [
    "# Since we do not use all samples for training.\n",
    "if len(data_x) > total_samples + 1000:\n",
    "    test_size = 1000\n",
    "    test_inp = data_x[total_samples : total_samples+test_size]\n",
    "    test_seg = data_y[total_samples : total_samples+test_size]\n",
    "elif len(data_x) > total_samples:\n",
    "    test_size = len(data_x) - total_samples\n",
    "    test_inp = data_x[total_samples : total_samples+test_size]\n",
    "    test_seg = data_y[total_samples : total_samples+test_size]\n",
    "else:\n",
    "    test_inp = val_input\n",
    "    test_seg = val_target\n",
    "    test_size = len(test_inp)\n",
    "    \n",
    "test_inp.shape\n",
    "test_seg.shape"
   ]
  },
  {
   "cell_type": "code",
   "execution_count": 112,
   "metadata": {},
   "outputs": [
    {
     "data": {
      "text/plain": [
       "(1000, 65536, 3)"
      ]
     },
     "execution_count": 112,
     "metadata": {},
     "output_type": "execute_result"
    }
   ],
   "source": [
    "# convert test segmentation mask into catagorical form\n",
    "categorical_test_seg = to_categorical(test_seg)\n",
    "categorical_test_seg.shape"
   ]
  },
  {
   "cell_type": "code",
   "execution_count": 115,
   "metadata": {},
   "outputs": [
    {
     "name": "stdout",
     "output_type": "stream",
     "text": [
      "32/32 [==============================] - 1s 20ms/step - loss: 0.4305 - categorical_accuracy: 0.9431 - mean_dice_coef: 0.6962 - weighted_mean_dice_coef: 0.5695\n"
     ]
    },
    {
     "data": {
      "text/plain": [
       "[0.43049925565719604,\n",
       " 0.9431262016296387,\n",
       " 0.6962056756019592,\n",
       " 0.5694870352745056]"
      ]
     },
     "execution_count": 115,
     "metadata": {},
     "output_type": "execute_result"
    }
   ],
   "source": [
    "# Model evaluation in test data in South Atlantic region\n",
    "model.evaluate(test_inp, categorical_test_seg)"
   ]
  },
  {
   "cell_type": "code",
   "execution_count": 117,
   "metadata": {},
   "outputs": [
    {
     "name": "stdout",
     "output_type": "stream",
     "text": [
      "32/32 [==============================] - 0s 14ms/step\n"
     ]
    }
   ],
   "source": [
    "# Prediction on test data\n",
    "test_inp = np.reshape(test_inp,(len(test_inp),img_size[0],img_size[1],1))\n",
    "catagorical_test_preds = model.predict(test_inp)"
   ]
  },
  {
   "cell_type": "code",
   "execution_count": 118,
   "metadata": {},
   "outputs": [
    {
     "ename": "InvalidArgumentError",
     "evalue": "`labels` out of bound\nCondition x < y did not hold.\nFirst 3 elements of x:\n[  0  99 111]\nFirst 1 elements of y:\n[3]",
     "output_type": "error",
     "traceback": [
      "\u001b[0;31m---------------------------------------------------------------------------\u001b[0m",
      "\u001b[0;31mInvalidArgumentError\u001b[0m                      Traceback (most recent call last)",
      "Cell \u001b[0;32mIn[118], line 2\u001b[0m\n\u001b[1;32m      1\u001b[0m \u001b[38;5;66;03m# Calculate confusion matrix\u001b[39;00m\n\u001b[0;32m----> 2\u001b[0m confusion_mtx \u001b[38;5;241m=\u001b[39m \u001b[43mtf\u001b[49m\u001b[38;5;241;43m.\u001b[39;49m\u001b[43mmath\u001b[49m\u001b[38;5;241;43m.\u001b[39;49m\u001b[43mconfusion_matrix\u001b[49m\u001b[43m(\u001b[49m\n\u001b[1;32m      3\u001b[0m \u001b[43m    \u001b[49m\u001b[43mlabels\u001b[49m\u001b[38;5;241;43m=\u001b[39;49m\u001b[43mtf\u001b[49m\u001b[38;5;241;43m.\u001b[39;49m\u001b[43margmax\u001b[49m\u001b[43m(\u001b[49m\u001b[43mcategorical_test_seg\u001b[49m\u001b[43m,\u001b[49m\u001b[43m \u001b[49m\u001b[43maxis\u001b[49m\u001b[38;5;241;43m=\u001b[39;49m\u001b[38;5;241;43m1\u001b[39;49m\u001b[43m)\u001b[49m\u001b[43m,\u001b[49m\n\u001b[1;32m      4\u001b[0m \u001b[43m    \u001b[49m\u001b[43mpredictions\u001b[49m\u001b[38;5;241;43m=\u001b[39;49m\u001b[43mtf\u001b[49m\u001b[38;5;241;43m.\u001b[39;49m\u001b[43margmax\u001b[49m\u001b[43m(\u001b[49m\u001b[43mcatagorical_test_preds\u001b[49m\u001b[43m,\u001b[49m\u001b[43m \u001b[49m\u001b[43maxis\u001b[49m\u001b[38;5;241;43m=\u001b[39;49m\u001b[38;5;241;43m1\u001b[39;49m\u001b[43m)\u001b[49m\u001b[43m,\u001b[49m\n\u001b[1;32m      5\u001b[0m \u001b[43m    \u001b[49m\u001b[43mnum_classes\u001b[49m\u001b[38;5;241;43m=\u001b[39;49m\u001b[38;5;241;43m3\u001b[39;49m\n\u001b[1;32m      6\u001b[0m \u001b[43m)\u001b[49m\n\u001b[1;32m      8\u001b[0m \u001b[38;5;66;03m# Calculate class-wise accuracy\u001b[39;00m\n\u001b[1;32m      9\u001b[0m class_wise_accuracy \u001b[38;5;241m=\u001b[39m tf\u001b[38;5;241m.\u001b[39mlinalg\u001b[38;5;241m.\u001b[39mtensor_diag_part(confusion_mtx) \u001b[38;5;241m/\u001b[39m tf\u001b[38;5;241m.\u001b[39mreduce_sum(confusion_mtx, axis\u001b[38;5;241m=\u001b[39m\u001b[38;5;241m1\u001b[39m)\n",
      "File \u001b[0;32m~/.conda/envs/eddy-tracking/lib/python3.8/site-packages/tensorflow/python/util/traceback_utils.py:153\u001b[0m, in \u001b[0;36mfilter_traceback.<locals>.error_handler\u001b[0;34m(*args, **kwargs)\u001b[0m\n\u001b[1;32m    151\u001b[0m \u001b[38;5;28;01mexcept\u001b[39;00m \u001b[38;5;167;01mException\u001b[39;00m \u001b[38;5;28;01mas\u001b[39;00m e:\n\u001b[1;32m    152\u001b[0m   filtered_tb \u001b[38;5;241m=\u001b[39m _process_traceback_frames(e\u001b[38;5;241m.\u001b[39m__traceback__)\n\u001b[0;32m--> 153\u001b[0m   \u001b[38;5;28;01mraise\u001b[39;00m e\u001b[38;5;241m.\u001b[39mwith_traceback(filtered_tb) \u001b[38;5;28;01mfrom\u001b[39;00m \u001b[38;5;28mNone\u001b[39m\n\u001b[1;32m    154\u001b[0m \u001b[38;5;28;01mfinally\u001b[39;00m:\n\u001b[1;32m    155\u001b[0m   \u001b[38;5;28;01mdel\u001b[39;00m filtered_tb\n",
      "File \u001b[0;32m~/.conda/envs/eddy-tracking/lib/python3.8/site-packages/tensorflow/python/ops/check_ops.py:487\u001b[0m, in \u001b[0;36m_binary_assert\u001b[0;34m(sym, opname, op_func, static_func, x, y, data, summarize, message, name)\u001b[0m\n\u001b[1;32m    484\u001b[0m   \u001b[38;5;28;01mif\u001b[39;00m message \u001b[38;5;129;01mis\u001b[39;00m \u001b[38;5;129;01mnot\u001b[39;00m \u001b[38;5;28;01mNone\u001b[39;00m:\n\u001b[1;32m    485\u001b[0m     data \u001b[38;5;241m=\u001b[39m [message] \u001b[38;5;241m+\u001b[39m \u001b[38;5;28mlist\u001b[39m(data)\n\u001b[0;32m--> 487\u001b[0m   \u001b[38;5;28;01mraise\u001b[39;00m errors\u001b[38;5;241m.\u001b[39mInvalidArgumentError(\n\u001b[1;32m    488\u001b[0m       node_def\u001b[38;5;241m=\u001b[39m\u001b[38;5;28;01mNone\u001b[39;00m,\n\u001b[1;32m    489\u001b[0m       op\u001b[38;5;241m=\u001b[39m\u001b[38;5;28;01mNone\u001b[39;00m,\n\u001b[1;32m    490\u001b[0m       message\u001b[38;5;241m=\u001b[39m(\u001b[38;5;124m'\u001b[39m\u001b[38;5;130;01m\\n\u001b[39;00m\u001b[38;5;124m'\u001b[39m\u001b[38;5;241m.\u001b[39mjoin(_pretty_print(d, summarize) \u001b[38;5;28;01mfor\u001b[39;00m d \u001b[38;5;129;01min\u001b[39;00m data)))\n\u001b[1;32m    492\u001b[0m \u001b[38;5;28;01melse\u001b[39;00m:  \u001b[38;5;66;03m# not context.executing_eagerly()\u001b[39;00m\n\u001b[1;32m    493\u001b[0m   \u001b[38;5;28;01mif\u001b[39;00m data \u001b[38;5;129;01mis\u001b[39;00m \u001b[38;5;28;01mNone\u001b[39;00m:\n",
      "\u001b[0;31mInvalidArgumentError\u001b[0m: `labels` out of bound\nCondition x < y did not hold.\nFirst 3 elements of x:\n[  0  99 111]\nFirst 1 elements of y:\n[3]"
     ]
    }
   ],
   "source": [
    "# Calculate confusion matrix\n",
    "confusion_mtx = tf.math.confusion_matrix(\n",
    "    labels=tf.argmax(categorical_test_seg, axis=1),\n",
    "    predictions=tf.argmax(catagorical_test_preds, axis=1),\n",
    "    num_classes=3\n",
    ")\n",
    "\n",
    "# Calculate class-wise accuracy\n",
    "class_wise_accuracy = tf.linalg.tensor_diag_part(confusion_mtx) / tf.reduce_sum(confusion_mtx, axis=1)\n",
    "\n",
    "print(\"Confusion Matrix:\")\n",
    "print(confusion_mtx.numpy())\n",
    "print(\"\\nClass-wise Accuracy:\")\n",
    "print(class_wise_accuracy.numpy())"
   ]
  },
  {
   "cell_type": "code",
   "execution_count": null,
   "metadata": {},
   "outputs": [],
   "source": []
  },
  {
   "cell_type": "code",
   "execution_count": 40,
   "metadata": {},
   "outputs": [
    {
     "data": {
      "text/plain": [
       "<Figure size 2000x1000 with 0 Axes>"
      ]
     },
     "execution_count": 40,
     "metadata": {},
     "output_type": "execute_result"
    },
    {
     "data": {
      "text/plain": [
       "<AxesSubplot:>"
      ]
     },
     "execution_count": 40,
     "metadata": {},
     "output_type": "execute_result"
    },
    {
     "data": {
      "text/plain": [
       "<matplotlib.image.AxesImage at 0x1552e410a550>"
      ]
     },
     "execution_count": 40,
     "metadata": {},
     "output_type": "execute_result"
    },
    {
     "data": {
      "text/plain": [
       "<matplotlib.colorbar.Colorbar at 0x1552dcdaf580>"
      ]
     },
     "execution_count": 40,
     "metadata": {},
     "output_type": "execute_result"
    },
    {
     "data": {
      "text/plain": [
       "(-0.5, 255.5, 255.5, -0.5)"
      ]
     },
     "execution_count": 40,
     "metadata": {},
     "output_type": "execute_result"
    },
    {
     "data": {
      "text/plain": [
       "Text(0.5, 1.0, 'Result Segmentation')"
      ]
     },
     "execution_count": 40,
     "metadata": {},
     "output_type": "execute_result"
    },
    {
     "data": {
      "text/plain": [
       "<AxesSubplot:>"
      ]
     },
     "execution_count": 40,
     "metadata": {},
     "output_type": "execute_result"
    },
    {
     "data": {
      "text/plain": [
       "<matplotlib.image.AxesImage at 0x1552dce0e1f0>"
      ]
     },
     "execution_count": 40,
     "metadata": {},
     "output_type": "execute_result"
    },
    {
     "data": {
      "text/plain": [
       "<matplotlib.colorbar.Colorbar at 0x1552dcd94a60>"
      ]
     },
     "execution_count": 40,
     "metadata": {},
     "output_type": "execute_result"
    },
    {
     "data": {
      "text/plain": [
       "(-0.5, 255.5, 255.5, -0.5)"
      ]
     },
     "execution_count": 40,
     "metadata": {},
     "output_type": "execute_result"
    },
    {
     "data": {
      "text/plain": [
       "Text(0.5, 1.0, 'Groundtruth Segmentation')"
      ]
     },
     "execution_count": 40,
     "metadata": {},
     "output_type": "execute_result"
    },
    {
     "data": {
      "image/png": "[encoded data removed]",
      "text/plain": [
       "<Figure size 2000x1000 with 4 Axes>"
      ]
     },
     "metadata": {},
     "output_type": "display_data"
    }
   ],
   "source": [
    "#seeing the prediction of one image of the validation set\n",
    "%matplotlib inline\n",
    "\n",
    "plt.figure(figsize=(20, 10))\n",
    "\n",
    "plt.subplot(131)\n",
    "plt.imshow(mask.T, cmap='viridis')\n",
    "plt.colorbar(extend='both', fraction=0.042, pad=0.04)\n",
    "plt.axis('off')\n",
    "plt.title('Result Segmentation');\n",
    "plt.savefig(dir_path + \"prediction.png\", dpi = 300)\n",
    "\n",
    "plt.subplot(132)\n",
    "plt.imshow(data_y[20].T, cmap='viridis')\n",
    "plt.colorbar(extend='both', fraction=0.042, pad=0.04)\n",
    "plt.axis('off')\n",
    "plt.title('Groundtruth Segmentation');\n",
    "plt.savefig(dir_path + \"groundtruth.png\", dpi = 300)"
   ]
  },
  {
   "cell_type": "code",
   "execution_count": null,
   "metadata": {},
   "outputs": [],
   "source": []
  }
 ],
 "metadata": {
  "kernelspec": {
   "display_name": "Python 3 (ipykernel)",
   "language": "python",
   "name": "python3"
  },
  "language_info": {
   "codemirror_mode": {
    "name": "ipython",
    "version": 3
   },
   "file_extension": ".py",
   "mimetype": "text/x-python",
   "name": "python",
   "nbconvert_exporter": "python",
   "pygments_lexer": "ipython3",
   "version": "3.10.12"
  }
 },
 "nbformat": 4,
 "nbformat_minor": 2
}
