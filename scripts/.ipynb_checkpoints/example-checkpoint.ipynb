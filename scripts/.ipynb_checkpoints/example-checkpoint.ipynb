{
 "cells": [
  {
   "cell_type": "code",
   "execution_count": 1,
   "metadata": {},
   "outputs": [],
   "source": [
    "import os\n",
    "import sys\n",
    "import yaml\n",
    "\n",
    "from interpolator_func import*\n",
    "import month_to_year as m2y"
   ]
  },
  {
   "cell_type": "markdown",
   "metadata": {},
   "source": [
    "# Interpolation"
   ]
  },
  {
   "cell_type": "markdown",
   "metadata": {},
   "source": [
    "### Please set the parameters in the interpolator.yaml before running below. The grid data could be in either .nod2 or .nc format. "
   ]
  },
  {
   "cell_type": "code",
   "execution_count": 5,
   "metadata": {},
   "outputs": [],
   "source": [
    "parameters = yaml.safe_load(open('./interpolator.yaml'))"
   ]
  },
  {
   "cell_type": "code",
   "execution_count": 6,
   "metadata": {},
   "outputs": [],
   "source": [
    "month = 1\n",
    "\n",
    "nc_or_nod2d = int(parameters[\"nc_or_nod2d\"])\n",
    "input_path_data_nc = None\n",
    "input_path_grid_nc = None\n",
    "\n",
    "input_path_nod2dfile = None\n",
    "input_path_elm2dfile = None\n",
    "\n",
    "input_left = parameters[\"input_left\"]\n",
    "input_right = parameters[\"input_right\"]\n",
    "input_top = parameters[\"input_top\"]\n",
    "input_bottom = parameters[\"input_bottom\"]\n",
    "year = parameters[\"year\"]\n",
    "filename = parameters[\"filename\"]\n",
    "bessel_filter = int(parameters[\"bessel_filter\"])\n",
    "\n",
    "output_path_months = parameters[\"output_path\"] + \"/months\"\n",
    "if not os.path.isdir(output_path_months):\n",
    "    os.mkdir(output_path_months)\n",
    "\n",
    "\n",
    "\n",
    "#checking if the path address is valid or not\n",
    "if nc_or_nod2d == 1:\n",
    "    input_path_data_nc = parameters[\"input_path_data_nc\"]\n",
    "    input_path_grid_nc = parameters[\"input_path_grid_nc\"]\n",
    "    if not os.path.exists(input_path_data_nc):\n",
    "        print(input_path_data, \"doesn't exist!\")\n",
    "        sys.exit(1)\n",
    "    if not os.path.exists(input_path_grid_nc):\n",
    "        print(input_path_grid, \"doesn't exist!\")\n",
    "        sys.exit(1)\n",
    "else:\n",
    "    input_path_nod2dfile = parameters[\"input_path_nod2dfile\"]\n",
    "    input_path_elm2dfile = parameters[\"input_path_elm2dfile\"]\n",
    "    if not os.path.exists(input_path_nod2dfile):\n",
    "        print(input_path_nod2dfile, \"doesn't exist!\")\n",
    "        sys.exit(1)\n",
    "    if not os.path.exists(input_path_elm2dfile):\n",
    "        print(input_path_elm2dfile, \"doesn't exist!\")\n",
    "        sys.exit(1)"
   ]
  },
  {
   "cell_type": "code",
   "execution_count": 13,
   "metadata": {},
   "outputs": [],
   "source": [
    "interpolator_object = Interpolator(input_path_data_nc, input_path_grid_nc, year, month, input_left, input_right, input_top, input_bottom, input_path_nod2dfile, input_path_elm2dfile, nc_or_nod2d, bessel_filter)"
   ]
  },
  {
   "cell_type": "code",
   "execution_count": null,
   "metadata": {},
   "outputs": [],
   "source": [
    "interpolator_object.nn_interpolation_action(output_path_months, filename, mask_flag = 1)"
   ]
  },
  {
   "cell_type": "code",
   "execution_count": null,
   "metadata": {},
   "outputs": [],
   "source": []
  },
  {
   "cell_type": "markdown",
   "metadata": {},
   "source": [
    "# Reading the interpolated data"
   ]
  },
  {
   "cell_type": "code",
   "execution_count": 6,
   "metadata": {},
   "outputs": [],
   "source": [
    "import xarray as xr\n"
   ]
  },
  {
   "cell_type": "code",
   "execution_count": 9,
   "metadata": {},
   "outputs": [
    {
     "data": {
      "text/html": [
       "<pre>&lt;xarray.Dataset&gt;\n",
       "Dimensions:     (LONGITUDE: 360, LATITUDE: 360, TIME: 31)\n",
       "Coordinates:\n",
       "  * LONGITUDE   (LONGITUDE) float32 -70.0 -69.92 -69.83 ... -40.25 -40.17 -40.08\n",
       "  * LATITUDE    (LATITUDE) float32 25.0 25.08 25.17 25.25 ... 54.75 54.83 54.92\n",
       "  * TIME        (TIME) float32 23.93 47.93 71.93 95.93 ... 695.9 719.9 743.9\n",
       "Data variables:\n",
       "    ssh         (TIME, LONGITUDE, LATITUDE) float64 ...\n",
       "    ssh_bessel  (TIME, LONGITUDE, LATITUDE) float64 ...</pre>"
      ],
      "text/plain": [
       "<xarray.Dataset>\n",
       "Dimensions:     (LONGITUDE: 360, LATITUDE: 360, TIME: 31)\n",
       "Coordinates:\n",
       "  * LONGITUDE   (LONGITUDE) float32 -70.0 -69.92 -69.83 ... -40.25 -40.17 -40.08\n",
       "  * LATITUDE    (LATITUDE) float32 25.0 25.08 25.17 25.25 ... 54.75 54.83 54.92\n",
       "  * TIME        (TIME) float32 23.93 47.93 71.93 95.93 ... 695.9 719.9 743.9\n",
       "Data variables:\n",
       "    ssh         (TIME, LONGITUDE, LATITUDE) float64 ...\n",
       "    ssh_bessel  (TIME, LONGITUDE, LATITUDE) float64 ..."
      ]
     },
     "execution_count": 9,
     "metadata": {},
     "output_type": "execute_result"
    }
   ],
   "source": [
    "outfile = (output_path_months+\"/\"+filename+\"_\"+str(year)+'_'+str(1).zfill(3)+'_'+str(month).zfill(2)+'.nc')\n",
    "xr.open_dataset(outfile)"
   ]
  },
  {
   "cell_type": "code",
   "execution_count": null,
   "metadata": {},
   "outputs": [],
   "source": []
  }
 ],
 "metadata": {
  "kernelspec": {
   "display_name": "eddy-tracking",
   "language": "python",
   "name": "eddy-tracking"
  },
  "language_info": {
   "codemirror_mode": {
    "name": "ipython",
    "version": 3
   },
   "file_extension": ".py",
   "mimetype": "text/x-python",
   "name": "python",
   "nbconvert_exporter": "python",
   "pygments_lexer": "ipython3",
   "version": "3.8.12"
  }
 },
 "nbformat": 4,
 "nbformat_minor": 4
}
