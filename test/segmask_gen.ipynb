{
 "cells": [
  {
   "cell_type": "code",
   "execution_count": 1,
   "metadata": {},
   "outputs": [],
   "source": [
    "import numpy as np\n",
    "from matplotlib import pyplot as plt\n",
    "from matplotlib.path import Path\n",
    "from numpy import arange\n",
    "\n",
    "from py_eddy_tracker import data\n",
    "from py_eddy_tracker.dataset.grid import RegularGridDataset\n",
    "from py_eddy_tracker.poly import create_vertice\n",
    "import re\n",
    "from datetime import datetime, timedelta\n",
    "\n",
    "from matplotlib.animation import FuncAnimation\n",
    "from numpy import arange, isnan, meshgrid, ones\n",
    "\n",
    "from py_eddy_tracker import start_logger\n",
    "from py_eddy_tracker.data import get_demo_path\n",
    "from py_eddy_tracker.dataset.grid import GridCollection\n",
    "from py_eddy_tracker.gui import GUI_AXES\n",
    "from netCDF4 import Dataset\n",
    "import xarray as xr\n",
    "import pandas as pd\n",
    "import numpy as np\n",
    "import matplotlib.cm as cm\n",
    "\n",
    "from typing import List, Tuple\n"
   ]
  },
  {
   "cell_type": "code",
   "execution_count": 2,
   "metadata": {},
   "outputs": [
    {
     "data": {
      "text/plain": [
       "'/home/ollie/ssunar'"
      ]
     },
     "execution_count": 2,
     "metadata": {},
     "output_type": "execute_result"
    }
   ],
   "source": [
    "pwd"
   ]
  },
  {
   "cell_type": "code",
   "execution_count": 3,
   "metadata": {},
   "outputs": [
    {
     "name": "stdout",
     "output_type": "stream",
     "text": [
      "/home/ollie/ssunar/pyfiles\n"
     ]
    }
   ],
   "source": [
    "cd ./pyfiles/"
   ]
  },
  {
   "cell_type": "code",
   "execution_count": 4,
   "metadata": {},
   "outputs": [],
   "source": [
    "from segmask_generator import *\n"
   ]
  },
  {
   "cell_type": "code",
   "execution_count": 5,
   "metadata": {},
   "outputs": [
    {
     "name": "stderr",
     "output_type": "stream",
     "text": [
      "We assume pixel position of grid is centered for /work/ollie/bpanthi/NN_gulf/ssh_gridded_1961_001_01_new.nc\n",
      "We assume pixel position of grid is centered for /work/ollie/bpanthi/NN_gulf/ssh_gridded_1961_001_01_new.nc\n",
      "We assume pixel position of grid is centered for /work/ollie/bpanthi/NN_gulf/ssh_gridded_1961_001_01_new.nc\n",
      "We assume pixel position of grid is centered for /work/ollie/bpanthi/NN_gulf/ssh_gridded_1961_001_01_new.nc\n",
      "We assume pixel position of grid is centered for /work/ollie/bpanthi/NN_gulf/ssh_gridded_1961_001_01_new.nc\n",
      "We assume pixel position of grid is centered for /work/ollie/bpanthi/NN_gulf/ssh_gridded_1961_001_01_new.nc\n",
      "We assume pixel position of grid is centered for /work/ollie/bpanthi/NN_gulf/ssh_gridded_1961_001_01_new.nc\n",
      "We assume pixel position of grid is centered for /work/ollie/bpanthi/NN_gulf/ssh_gridded_1961_001_01_new.nc\n",
      "We assume pixel position of grid is centered for /work/ollie/bpanthi/NN_gulf/ssh_gridded_1961_001_01_new.nc\n",
      "We assume pixel position of grid is centered for /work/ollie/bpanthi/NN_gulf/ssh_gridded_1961_001_01_new.nc\n",
      "We assume pixel position of grid is centered for /work/ollie/bpanthi/NN_gulf/ssh_gridded_1961_001_01_new.nc\n",
      "We assume pixel position of grid is centered for /work/ollie/bpanthi/NN_gulf/ssh_gridded_1961_001_01_new.nc\n",
      "We assume pixel position of grid is centered for /work/ollie/bpanthi/NN_gulf/ssh_gridded_1961_001_01_new.nc\n",
      "We assume pixel position of grid is centered for /work/ollie/bpanthi/NN_gulf/ssh_gridded_1961_001_01_new.nc\n",
      "We assume pixel position of grid is centered for /work/ollie/bpanthi/NN_gulf/ssh_gridded_1961_001_01_new.nc\n",
      "We assume pixel position of grid is centered for /work/ollie/bpanthi/NN_gulf/ssh_gridded_1961_001_01_new.nc\n",
      "We assume pixel position of grid is centered for /work/ollie/bpanthi/NN_gulf/ssh_gridded_1961_001_01_new.nc\n",
      "We assume pixel position of grid is centered for /work/ollie/bpanthi/NN_gulf/ssh_gridded_1961_001_01_new.nc\n",
      "We assume pixel position of grid is centered for /work/ollie/bpanthi/NN_gulf/ssh_gridded_1961_001_01_new.nc\n",
      "We assume pixel position of grid is centered for /work/ollie/bpanthi/NN_gulf/ssh_gridded_1961_001_01_new.nc\n",
      "We assume pixel position of grid is centered for /work/ollie/bpanthi/NN_gulf/ssh_gridded_1961_001_01_new.nc\n",
      "We assume pixel position of grid is centered for /work/ollie/bpanthi/NN_gulf/ssh_gridded_1961_001_01_new.nc\n",
      "We assume pixel position of grid is centered for /work/ollie/bpanthi/NN_gulf/ssh_gridded_1961_001_01_new.nc\n",
      "We assume pixel position of grid is centered for /work/ollie/bpanthi/NN_gulf/ssh_gridded_1961_001_01_new.nc\n",
      "We assume pixel position of grid is centered for /work/ollie/bpanthi/NN_gulf/ssh_gridded_1961_001_01_new.nc\n",
      "We assume pixel position of grid is centered for /work/ollie/bpanthi/NN_gulf/ssh_gridded_1961_001_01_new.nc\n",
      "We assume pixel position of grid is centered for /work/ollie/bpanthi/NN_gulf/ssh_gridded_1961_001_01_new.nc\n",
      "We assume pixel position of grid is centered for /work/ollie/bpanthi/NN_gulf/ssh_gridded_1961_001_01_new.nc\n",
      "We assume pixel position of grid is centered for /work/ollie/bpanthi/NN_gulf/ssh_gridded_1961_001_01_new.nc\n",
      "We assume pixel position of grid is centered for /work/ollie/bpanthi/NN_gulf/ssh_gridded_1961_001_01_new.nc\n",
      "We assume pixel position of grid is centered for /work/ollie/bpanthi/NN_gulf/ssh_gridded_1961_001_01_new.nc\n"
     ]
    }
   ],
   "source": [
    "import os\n",
    "for i in range(1,2):\n",
    "    data_addr_nn = '/work/ollie/bpanthi/NN_gulf/ssh_gridded_1961_001_'+str(i).zfill(2)+'_new.nc'\n",
    "    eddy_instance = eddy(dataset_path=data_addr_nn)\n",
    "    outfile = \"/home/ollie/ssunar/test_data/test\"+str(i).zfill(2)+\"_new.nc\"\n",
    "    eddy_instance.generate_mask(outfile)"
   ]
  },
  {
   "cell_type": "code",
   "execution_count": null,
   "metadata": {},
   "outputs": [],
   "source": []
  },
  {
   "cell_type": "code",
   "execution_count": null,
   "metadata": {},
   "outputs": [],
   "source": []
  }
 ],
 "metadata": {
  "kernelspec": {
   "display_name": "eddy-tracking",
   "language": "python",
   "name": "eddy-tracking"
  },
  "language_info": {
   "codemirror_mode": {
    "name": "ipython",
    "version": 3
   },
   "file_extension": ".py",
   "mimetype": "text/x-python",
   "name": "python",
   "nbconvert_exporter": "python",
   "pygments_lexer": "ipython3",
   "version": "3.8.12"
  }
 },
 "nbformat": 4,
 "nbformat_minor": 4
}
