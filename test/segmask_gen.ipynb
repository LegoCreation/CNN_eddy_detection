{
 "cells": [
  {
   "cell_type": "code",
   "execution_count": 3,
   "metadata": {},
   "outputs": [
    {
     "ename": "ModuleNotFoundError",
     "evalue": "No module named 'interpolator_func'",
     "output_type": "error",
     "traceback": [
      "\u001b[0;31m---------------------------------------------------------------------------\u001b[0m",
      "\u001b[0;31mModuleNotFoundError\u001b[0m                       Traceback (most recent call last)",
      "\u001b[0;32m/work/ollie/tmp/ipykernel_33715/2824363783.py\u001b[0m in \u001b[0;36m<module>\u001b[0;34m\u001b[0m\n\u001b[1;32m      2\u001b[0m \u001b[0;32mimport\u001b[0m \u001b[0msys\u001b[0m\u001b[0;34m\u001b[0m\u001b[0;34m\u001b[0m\u001b[0m\n\u001b[1;32m      3\u001b[0m \u001b[0;32mimport\u001b[0m \u001b[0myaml\u001b[0m\u001b[0;34m\u001b[0m\u001b[0;34m\u001b[0m\u001b[0m\n\u001b[0;32m----> 4\u001b[0;31m \u001b[0;32mfrom\u001b[0m \u001b[0minterpolator_func\u001b[0m \u001b[0;32mimport\u001b[0m\u001b[0;34m*\u001b[0m\u001b[0;34m\u001b[0m\u001b[0;34m\u001b[0m\u001b[0m\n\u001b[0m\u001b[1;32m      5\u001b[0m \u001b[0;32mimport\u001b[0m \u001b[0mmonth_to_year\u001b[0m \u001b[0;32mas\u001b[0m \u001b[0mm2y\u001b[0m\u001b[0;34m\u001b[0m\u001b[0;34m\u001b[0m\u001b[0m\n",
      "\u001b[0;31mModuleNotFoundError\u001b[0m: No module named 'interpolator_func'"
     ]
    }
   ],
   "source": [
    "import os\n",
    "import sys\n",
    "import yaml\n",
    "from interpolator_func import*\n",
    "import month_to_year as m2y\n"
   ]
  },
  {
   "cell_type": "code",
   "execution_count": 4,
   "metadata": {},
   "outputs": [
    {
     "data": {
      "text/plain": [
       "'/home/ollie/ssunar/CNN_eddy_detection/test'"
      ]
     },
     "execution_count": 4,
     "metadata": {},
     "output_type": "execute_result"
    }
   ],
   "source": [
    "parameters = yaml.safe_load(open('/home/ollie/ssunar/pyfiles/interpolator.yaml'))"
   ]
  },
  {
   "cell_type": "code",
   "execution_count": 3,
   "metadata": {},
   "outputs": [
    {
     "data": {
      "text/plain": [
       "'/home/ollie/ssunar/CNN_eddy_detection/test'"
      ]
     },
     "execution_count": 3,
     "metadata": {},
     "output_type": "execute_result"
    }
   ],
   "source": [
    "pwd"
   ]
  },
  {
   "cell_type": "code",
   "execution_count": 4,
   "metadata": {},
   "outputs": [],
   "source": [
    "from segmask_generator import *\n"
   ]
  },
  {
   "cell_type": "code",
   "execution_count": 5,
   "metadata": {},
   "outputs": [
    {
     "name": "stderr",
     "output_type": "stream",
     "text": [
      "We assume pixel position of grid is centered for /work/ollie/bpanthi/NN_gulf/ssh_gridded_1961_001_01_new.nc\n",
      "We assume pixel position of grid is centered for /work/ollie/bpanthi/NN_gulf/ssh_gridded_1961_001_01_new.nc\n",
      "We assume pixel position of grid is centered for /work/ollie/bpanthi/NN_gulf/ssh_gridded_1961_001_01_new.nc\n",
      "We assume pixel position of grid is centered for /work/ollie/bpanthi/NN_gulf/ssh_gridded_1961_001_01_new.nc\n",
      "We assume pixel position of grid is centered for /work/ollie/bpanthi/NN_gulf/ssh_gridded_1961_001_01_new.nc\n",
      "We assume pixel position of grid is centered for /work/ollie/bpanthi/NN_gulf/ssh_gridded_1961_001_01_new.nc\n",
      "We assume pixel position of grid is centered for /work/ollie/bpanthi/NN_gulf/ssh_gridded_1961_001_01_new.nc\n",
      "We assume pixel position of grid is centered for /work/ollie/bpanthi/NN_gulf/ssh_gridded_1961_001_01_new.nc\n",
      "We assume pixel position of grid is centered for /work/ollie/bpanthi/NN_gulf/ssh_gridded_1961_001_01_new.nc\n",
      "We assume pixel position of grid is centered for /work/ollie/bpanthi/NN_gulf/ssh_gridded_1961_001_01_new.nc\n",
      "We assume pixel position of grid is centered for /work/ollie/bpanthi/NN_gulf/ssh_gridded_1961_001_01_new.nc\n",
      "We assume pixel position of grid is centered for /work/ollie/bpanthi/NN_gulf/ssh_gridded_1961_001_01_new.nc\n",
      "We assume pixel position of grid is centered for /work/ollie/bpanthi/NN_gulf/ssh_gridded_1961_001_01_new.nc\n",
      "We assume pixel position of grid is centered for /work/ollie/bpanthi/NN_gulf/ssh_gridded_1961_001_01_new.nc\n",
      "We assume pixel position of grid is centered for /work/ollie/bpanthi/NN_gulf/ssh_gridded_1961_001_01_new.nc\n",
      "We assume pixel position of grid is centered for /work/ollie/bpanthi/NN_gulf/ssh_gridded_1961_001_01_new.nc\n",
      "We assume pixel position of grid is centered for /work/ollie/bpanthi/NN_gulf/ssh_gridded_1961_001_01_new.nc\n",
      "We assume pixel position of grid is centered for /work/ollie/bpanthi/NN_gulf/ssh_gridded_1961_001_01_new.nc\n",
      "We assume pixel position of grid is centered for /work/ollie/bpanthi/NN_gulf/ssh_gridded_1961_001_01_new.nc\n",
      "We assume pixel position of grid is centered for /work/ollie/bpanthi/NN_gulf/ssh_gridded_1961_001_01_new.nc\n",
      "We assume pixel position of grid is centered for /work/ollie/bpanthi/NN_gulf/ssh_gridded_1961_001_01_new.nc\n",
      "We assume pixel position of grid is centered for /work/ollie/bpanthi/NN_gulf/ssh_gridded_1961_001_01_new.nc\n",
      "We assume pixel position of grid is centered for /work/ollie/bpanthi/NN_gulf/ssh_gridded_1961_001_01_new.nc\n",
      "We assume pixel position of grid is centered for /work/ollie/bpanthi/NN_gulf/ssh_gridded_1961_001_01_new.nc\n",
      "We assume pixel position of grid is centered for /work/ollie/bpanthi/NN_gulf/ssh_gridded_1961_001_01_new.nc\n",
      "We assume pixel position of grid is centered for /work/ollie/bpanthi/NN_gulf/ssh_gridded_1961_001_01_new.nc\n",
      "We assume pixel position of grid is centered for /work/ollie/bpanthi/NN_gulf/ssh_gridded_1961_001_01_new.nc\n",
      "We assume pixel position of grid is centered for /work/ollie/bpanthi/NN_gulf/ssh_gridded_1961_001_01_new.nc\n",
      "We assume pixel position of grid is centered for /work/ollie/bpanthi/NN_gulf/ssh_gridded_1961_001_01_new.nc\n",
      "We assume pixel position of grid is centered for /work/ollie/bpanthi/NN_gulf/ssh_gridded_1961_001_01_new.nc\n",
      "We assume pixel position of grid is centered for /work/ollie/bpanthi/NN_gulf/ssh_gridded_1961_001_01_new.nc\n"
     ]
    }
   ],
   "source": [
    "import os\n",
    "for i in range(1,2):\n",
    "    data_addr_nn = '/work/ollie/bpanthi/NN_gulf/ssh_gridded_1961_001_'+str(i).zfill(2)+'_new.nc'\n",
    "    eddy_instance = eddy(dataset_path=data_addr_nn)\n",
    "    outfile = \"/home/ollie/ssunar/test_data/test\"+str(i).zfill(2)+\"_new.nc\"\n",
    "    eddy_instance.generate_mask(outfile)"
   ]
  },
  {
   "cell_type": "code",
   "execution_count": null,
   "metadata": {},
   "outputs": [],
   "source": []
  },
  {
   "cell_type": "code",
   "execution_count": null,
   "metadata": {},
   "outputs": [],
   "source": []
  }
 ],
 "metadata": {
  "kernelspec": {
   "display_name": "eddy-tracking",
   "language": "python",
   "name": "eddy-tracking"
  },
  "language_info": {
   "codemirror_mode": {
    "name": "ipython",
    "version": 3
   },
   "file_extension": ".py",
   "mimetype": "text/x-python",
   "name": "python",
   "nbconvert_exporter": "python",
   "pygments_lexer": "ipython3",
   "version": "3.8.16"
  }
 },
 "nbformat": 4,
 "nbformat_minor": 4
}
