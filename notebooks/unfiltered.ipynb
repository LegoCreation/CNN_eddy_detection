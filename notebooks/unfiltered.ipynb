{
 "cells": [
  {
   "cell_type": "code",
   "execution_count": 1,
   "metadata": {},
   "outputs": [
    {
     "name": "stderr",
     "output_type": "stream",
     "text": [
      "2022-07-02 09:07:39.960348: W tensorflow/stream_executor/platform/default/dso_loader.cc:64] Could not load dynamic library 'libcudart.so.11.0'; dlerror: libcudart.so.11.0: cannot open shared object file: No such file or directory\n",
      "2022-07-02 09:07:39.960392: I tensorflow/stream_executor/cuda/cudart_stub.cc:29] Ignore above cudart dlerror if you do not have a GPU set up on your machine.\n"
     ]
    }
   ],
   "source": [
    "from IPython.core.interactiveshell import InteractiveShell\n",
    "InteractiveShell.ast_node_interactivity = \"all\"\n",
    "\n",
    "# standard imports\n",
    "from tensorflow import keras\n",
    "import numpy as np\n",
    "from tensorflow.keras.preprocessing.image import load_img\n",
    "from tensorflow.keras import layers\n",
    "import random\n",
    "from sklearn import preprocessing\n",
    "from keras.callbacks import History\n",
    "import matplotlib.pyplot as plt\n",
    "from keras.utils import np_utils\n",
    "import os\n",
    "from tensorflow.keras.optimizers import Adam\n",
    "from plain_neural_network import*\n",
    "from keras import backend as K\n",
    "\n",
    "%matplotlib inline"
   ]
  },
  {
   "cell_type": "code",
   "execution_count": 2,
   "metadata": {},
   "outputs": [
    {
     "data": {
      "text/plain": [
       "'/work/ollie/bpanthi/nn_interpolation_new/ssh_gridded_1963_001_06_new.nc'"
      ]
     },
     "execution_count": 2,
     "metadata": {},
     "output_type": "execute_result"
    },
    {
     "data": {
      "text/plain": [
       "'/work/ollie/bpanthi/nn_interpolation_new/ssh_gridded_1961_001_12_new.nc'"
      ]
     },
     "execution_count": 2,
     "metadata": {},
     "output_type": "execute_result"
    },
    {
     "name": "stdout",
     "output_type": "stream",
     "text": [
      "(1034, 1200, 480)\n"
     ]
    }
   ],
   "source": [
    "input_dir = \"/work/ollie/bpanthi/nn_interpolation_new\"\n",
    "input_file_paths = sorted(\n",
    "    [\n",
    "        os.path.join(input_dir, fname)\n",
    "        for fname in os.listdir(input_dir)\n",
    "    ])\n",
    "input_file_paths.pop(29)\n",
    "input_file_paths.pop(11)\n",
    "\n",
    "data_x = xr.open_mfdataset(input_file_paths,combine = 'nested', concat_dim=\"TIME\")\n",
    "data_x = data_x.ssh.to_numpy()\n",
    "X = np.float32(data_x)\n",
    "                            \n",
    "X[X>1000] = 0\n",
    "print(X.shape)"
   ]
  },
  {
   "cell_type": "code",
   "execution_count": null,
   "metadata": {},
   "outputs": [],
   "source": []
  },
  {
   "cell_type": "code",
   "execution_count": 3,
   "metadata": {},
   "outputs": [
    {
     "data": {
      "text/plain": [
       "'/home/ollie/ssunar/segmentation_masks_3_years/segmentation_mask_nn_1963_001_06_new.nc'"
      ]
     },
     "execution_count": 3,
     "metadata": {},
     "output_type": "execute_result"
    },
    {
     "data": {
      "text/plain": [
       "'/home/ollie/ssunar/segmentation_masks_3_years/segmentation_mask_nn_1961_001_12_new.nc'"
      ]
     },
     "execution_count": 3,
     "metadata": {},
     "output_type": "execute_result"
    },
    {
     "name": "stdout",
     "output_type": "stream",
     "text": [
      "(1034, 1200, 480)\n"
     ]
    }
   ],
   "source": [
    "input_dir = \"/home/ollie/ssunar/segmentation_masks_3_years\"\n",
    "input_file_paths = sorted(\n",
    "    [\n",
    "        os.path.join(input_dir, fname)\n",
    "        for fname in os.listdir(input_dir)\n",
    "    ])\n",
    "input_file_paths.pop(29)\n",
    "input_file_paths.pop(11)\n",
    "\n",
    "data_y = xr.open_mfdataset(input_file_paths,combine = 'nested', concat_dim=\"TIME\")\n",
    "data_y = data_y.seg_mask.to_numpy()\n",
    "Y = np.float32(data_y)\n",
    "print(Y.shape)"
   ]
  },
  {
   "cell_type": "code",
   "execution_count": 4,
   "metadata": {},
   "outputs": [],
   "source": [
    "X = X[0:365]\n",
    "Y = Y[0:365]"
   ]
  },
  {
   "cell_type": "code",
   "execution_count": 5,
   "metadata": {},
   "outputs": [
    {
     "name": "stdout",
     "output_type": "stream",
     "text": [
      "Shape of data X: (2920, 256, 256)\n",
      "Shape of data Y: (2920, 256, 256)\n"
     ]
    }
   ],
   "source": [
    "temp_x_1 = X[:,0:256, 0:256]\n",
    "temp_x_2 = X[:,0:256, 224:480]\n",
    "temp_y_1 = Y[:,0:256, 0:256]\n",
    "temp_y_2 = Y[:,0:256, 224:480]\n",
    "data_x = np.concatenate((temp_x_1,temp_x_2), axis=0)\n",
    "data_y = np.concatenate((temp_y_1,temp_y_2), axis=0)\n",
    "\n",
    "for i in range(1,4):\n",
    "    temp_x_1 = X[:,256*i:256*(i+1), 0:256]\n",
    "    temp_x_2 = X[:,256*i:256*(i+1), 224:480]\n",
    "    temp_y_1 = Y[:,256*i:256*(i+1), 0:256]\n",
    "    temp_y_2 = Y[:,256*i:256*(i+1), 224:480]\n",
    "    data_x = np.concatenate((data_x, np.concatenate((temp_x_1,temp_x_2), axis=0)), axis=0)\n",
    "    data_y = np.concatenate((data_y, np.concatenate((temp_y_1,temp_y_2), axis=0)), axis=0)\n",
    "    \n",
    "print(\"Shape of data X:\", data_x.shape)  \n",
    "print(\"Shape of data Y:\",data_y.shape)"
   ]
  },
  {
   "cell_type": "code",
   "execution_count": 6,
   "metadata": {},
   "outputs": [
    {
     "data": {
      "text/plain": [
       "'\\ndata_x_1 = data_x\\ndata_y_1 = data_y\\n\\n#only using a portion of data from this region\\nused_split = 0.4\\nused_samples = int(used_split*len(data_x))\\n#same seed must be used\\nrandom.Random(0).shuffle(data_x)\\nrandom.Random(0).shuffle(data_y)\\ndata_x_1 = data_x[0:used_samples]\\ndata_y_1 = data_y[0:used_samples]\\n'"
      ]
     },
     "execution_count": 6,
     "metadata": {},
     "output_type": "execute_result"
    }
   ],
   "source": [
    "\"\"\"\n",
    "data_x_1 = data_x\n",
    "data_y_1 = data_y\n",
    "\n",
    "#only using a portion of data from this region\n",
    "used_split = 0.4\n",
    "used_samples = int(used_split*len(data_x))\n",
    "#same seed must be used\n",
    "random.Random(0).shuffle(data_x)\n",
    "random.Random(0).shuffle(data_y)\n",
    "data_x_1 = data_x[0:used_samples]\n",
    "data_y_1 = data_y[0:used_samples]\n",
    "\"\"\""
   ]
  },
  {
   "cell_type": "code",
   "execution_count": null,
   "metadata": {},
   "outputs": [],
   "source": []
  },
  {
   "cell_type": "code",
   "execution_count": 7,
   "metadata": {},
   "outputs": [
    {
     "data": {
      "text/plain": [
       "'\\ninput_dir = \"/work/ollie/bpanthi/NN_gulf/\"\\ninput_file_paths = sorted(\\n    [\\n        os.path.join(input_dir, fname)\\n        for fname in os.listdir(input_dir)\\n    ])\\ninput_file_paths.pop(6)\\ndata_x_2 = xr.open_mfdataset(input_file_paths,combine = \\'nested\\', concat_dim=\"TIME\")\\ndata_x_2 = data_x_2.ssh.to_numpy()\\ndata_x_2 = np.float32(data_x_2)\\n                            \\ndata_x_2[data_x_2>1000] = 0\\ndata_x_2 = data_x_2[:,52:308, 52:308]\\nprint(data_x_2.shape)\\n\\ninput_dir = \"/home/ollie/ssunar/segmentation_masks_NN_gulf\"\\ninput_file_paths = sorted(\\n    [\\n        os.path.join(input_dir, fname)\\n        for fname in os.listdir(input_dir)\\n    ])\\ninput_file_paths.pop(6)\\ndata_y_2 = xr.open_mfdataset(input_file_paths,combine = \\'nested\\', concat_dim=\"TIME\")\\ndata_y_2 = data_y_2.seg_mask.to_numpy()\\ndata_y_2 = np.float32(data_y_2)\\ndata_y_2 = data_y_2[:,52:308, 52:308]\\nprint(data_y_2.shape)\\n'"
      ]
     },
     "execution_count": 7,
     "metadata": {},
     "output_type": "execute_result"
    }
   ],
   "source": [
    "\"\"\"\n",
    "input_dir = \"/work/ollie/bpanthi/NN_gulf/\"\n",
    "input_file_paths = sorted(\n",
    "    [\n",
    "        os.path.join(input_dir, fname)\n",
    "        for fname in os.listdir(input_dir)\n",
    "    ])\n",
    "input_file_paths.pop(6)\n",
    "data_x_2 = xr.open_mfdataset(input_file_paths,combine = 'nested', concat_dim=\"TIME\")\n",
    "data_x_2 = data_x_2.ssh.to_numpy()\n",
    "data_x_2 = np.float32(data_x_2)\n",
    "                            \n",
    "data_x_2[data_x_2>1000] = 0\n",
    "data_x_2 = data_x_2[:,52:308, 52:308]\n",
    "print(data_x_2.shape)\n",
    "\n",
    "input_dir = \"/home/ollie/ssunar/segmentation_masks_NN_gulf\"\n",
    "input_file_paths = sorted(\n",
    "    [\n",
    "        os.path.join(input_dir, fname)\n",
    "        for fname in os.listdir(input_dir)\n",
    "    ])\n",
    "input_file_paths.pop(6)\n",
    "data_y_2 = xr.open_mfdataset(input_file_paths,combine = 'nested', concat_dim=\"TIME\")\n",
    "data_y_2 = data_y_2.seg_mask.to_numpy()\n",
    "data_y_2 = np.float32(data_y_2)\n",
    "data_y_2 = data_y_2[:,52:308, 52:308]\n",
    "print(data_y_2.shape)\n",
    "\"\"\""
   ]
  },
  {
   "cell_type": "code",
   "execution_count": 8,
   "metadata": {},
   "outputs": [
    {
     "data": {
      "text/plain": [
       "'\\ninput_dir = \"/work/ollie/bpanthi/NN_kursaal/\"\\ninput_file_paths = sorted(\\n    [\\n        os.path.join(input_dir, fname)\\n        for fname in os.listdir(input_dir)\\n    ])\\n\\ndata_x_3 = xr.open_mfdataset(input_file_paths,combine = \\'nested\\', concat_dim=\"TIME\")\\ndata_x_3 = data_x_3.ssh.to_numpy()\\ndata_x_3 = np.float32(data_x_3)\\n                            \\ndata_x_3[data_x_3>1000] = 0\\ndata_x_3 = data_x_3[:,52:308, 52:308]\\nprint(data_x_3.shape)\\n\\ninput_dir = \"/home/ollie/ssunar/segmentation_masks_NN_kursaal\"\\ninput_file_paths = sorted(\\n    [\\n        os.path.join(input_dir, fname)\\n        for fname in os.listdir(input_dir)\\n    ])\\ndata_y_3 = xr.open_mfdataset(input_file_paths,combine = \\'nested\\', concat_dim=\"TIME\")\\ndata_y_3 = data_y_3.seg_mask.to_numpy()\\ndata_y_3 = np.float32(data_y_3)\\ndata_y_3 = data_y_3[:,52:308, 52:308]\\nprint(data_y_3.shape)\\n'"
      ]
     },
     "execution_count": 8,
     "metadata": {},
     "output_type": "execute_result"
    }
   ],
   "source": [
    "\"\"\"\n",
    "input_dir = \"/work/ollie/bpanthi/NN_kursaal/\"\n",
    "input_file_paths = sorted(\n",
    "    [\n",
    "        os.path.join(input_dir, fname)\n",
    "        for fname in os.listdir(input_dir)\n",
    "    ])\n",
    "\n",
    "data_x_3 = xr.open_mfdataset(input_file_paths,combine = 'nested', concat_dim=\"TIME\")\n",
    "data_x_3 = data_x_3.ssh.to_numpy()\n",
    "data_x_3 = np.float32(data_x_3)\n",
    "                            \n",
    "data_x_3[data_x_3>1000] = 0\n",
    "data_x_3 = data_x_3[:,52:308, 52:308]\n",
    "print(data_x_3.shape)\n",
    "\n",
    "input_dir = \"/home/ollie/ssunar/segmentation_masks_NN_kursaal\"\n",
    "input_file_paths = sorted(\n",
    "    [\n",
    "        os.path.join(input_dir, fname)\n",
    "        for fname in os.listdir(input_dir)\n",
    "    ])\n",
    "data_y_3 = xr.open_mfdataset(input_file_paths,combine = 'nested', concat_dim=\"TIME\")\n",
    "data_y_3 = data_y_3.seg_mask.to_numpy()\n",
    "data_y_3 = np.float32(data_y_3)\n",
    "data_y_3 = data_y_3[:,52:308, 52:308]\n",
    "print(data_y_3.shape)\n",
    "\"\"\""
   ]
  },
  {
   "cell_type": "code",
   "execution_count": 9,
   "metadata": {},
   "outputs": [
    {
     "data": {
      "text/plain": [
       "'\\ndata_x = np.concatenate((data_x_1, np.concatenate((data_x_2,data_x_3), axis=0)), axis=0)\\ndata_y = np.concatenate((data_y_1, np.concatenate((data_y_2,data_y_3), axis=0)), axis=0)\\nprint(data_x.shape)\\nprint(data_y.shape)\\n'"
      ]
     },
     "execution_count": 9,
     "metadata": {},
     "output_type": "execute_result"
    }
   ],
   "source": [
    "\"\"\"\n",
    "data_x = np.concatenate((data_x_1, np.concatenate((data_x_2,data_x_3), axis=0)), axis=0)\n",
    "data_y = np.concatenate((data_y_1, np.concatenate((data_y_2,data_y_3), axis=0)), axis=0)\n",
    "print(data_x.shape)\n",
    "print(data_y.shape)\n",
    "\"\"\""
   ]
  },
  {
   "cell_type": "code",
   "execution_count": null,
   "metadata": {},
   "outputs": [],
   "source": []
  },
  {
   "cell_type": "code",
   "execution_count": 10,
   "metadata": {},
   "outputs": [
    {
     "name": "stdout",
     "output_type": "stream",
     "text": [
      "2920\n"
     ]
    }
   ],
   "source": [
    "img_size = (256, 256)\n",
    "num_classes = 3\n",
    "batch_size = 16\n",
    "epochs = 60\n",
    "total_samples = len(data_x)\n",
    "print(total_samples)"
   ]
  },
  {
   "cell_type": "code",
   "execution_count": 11,
   "metadata": {},
   "outputs": [
    {
     "name": "stderr",
     "output_type": "stream",
     "text": [
      "2022-07-02 09:08:51.216692: W tensorflow/stream_executor/platform/default/dso_loader.cc:64] Could not load dynamic library 'libcuda.so.1'; dlerror: libcuda.so.1: cannot open shared object file: No such file or directory\n",
      "2022-07-02 09:08:51.216746: W tensorflow/stream_executor/cuda/cuda_driver.cc:269] failed call to cuInit: UNKNOWN ERROR (303)\n",
      "2022-07-02 09:08:51.216782: I tensorflow/stream_executor/cuda/cuda_diagnostics.cc:156] kernel driver does not appear to be running on this host (prod-0311): /proc/driver/nvidia/version does not exist\n",
      "2022-07-02 09:08:51.217053: I tensorflow/core/platform/cpu_feature_guard.cc:151] This TensorFlow binary is optimized with oneAPI Deep Neural Network Library (oneDNN) to use the following CPU instructions in performance-critical operations:  AVX2 FMA\n",
      "To enable them in other operations, rebuild TensorFlow with the appropriate compiler flags.\n"
     ]
    },
    {
     "name": "stdout",
     "output_type": "stream",
     "text": [
      "Model: \"model\"\n",
      "__________________________________________________________________________________________________\n",
      " Layer (type)                   Output Shape         Param #     Connected to                     \n",
      "==================================================================================================\n",
      " input_1 (InputLayer)           [(None, 256, 256, 1  0           []                               \n",
      "                                )]                                                                \n",
      "                                                                                                  \n",
      " separable_conv2d (SeparableCon  (None, 256, 256, 16  25         ['input_1[0][0]']                \n",
      " v2D)                           )                                                                 \n",
      "                                                                                                  \n",
      " batch_normalization (BatchNorm  (None, 256, 256, 16  64         ['separable_conv2d[0][0]']       \n",
      " alization)                     )                                                                 \n",
      "                                                                                                  \n",
      " activation (Activation)        (None, 256, 256, 16  0           ['batch_normalization[0][0]']    \n",
      "                                )                                                                 \n",
      "                                                                                                  \n",
      " separable_conv2d_1 (SeparableC  (None, 256, 256, 16  400        ['activation[0][0]']             \n",
      " onv2D)                         )                                                                 \n",
      "                                                                                                  \n",
      " batch_normalization_1 (BatchNo  (None, 256, 256, 16  64         ['separable_conv2d_1[0][0]']     \n",
      " rmalization)                   )                                                                 \n",
      "                                                                                                  \n",
      " activation_1 (Activation)      (None, 256, 256, 16  0           ['batch_normalization_1[0][0]']  \n",
      "                                )                                                                 \n",
      "                                                                                                  \n",
      " dropout (Dropout)              (None, 256, 256, 16  0           ['activation_1[0][0]']           \n",
      "                                )                                                                 \n",
      "                                                                                                  \n",
      " max_pooling2d (MaxPooling2D)   (None, 128, 128, 16  0           ['dropout[0][0]']                \n",
      "                                )                                                                 \n",
      "                                                                                                  \n",
      " separable_conv2d_2 (SeparableC  (None, 128, 128, 16  400        ['max_pooling2d[0][0]']          \n",
      " onv2D)                         )                                                                 \n",
      "                                                                                                  \n",
      " batch_normalization_2 (BatchNo  (None, 128, 128, 16  64         ['separable_conv2d_2[0][0]']     \n",
      " rmalization)                   )                                                                 \n",
      "                                                                                                  \n",
      " activation_2 (Activation)      (None, 128, 128, 16  0           ['batch_normalization_2[0][0]']  \n",
      "                                )                                                                 \n",
      "                                                                                                  \n",
      " separable_conv2d_3 (SeparableC  (None, 128, 128, 16  400        ['activation_2[0][0]']           \n",
      " onv2D)                         )                                                                 \n",
      "                                                                                                  \n",
      " batch_normalization_3 (BatchNo  (None, 128, 128, 16  64         ['separable_conv2d_3[0][0]']     \n",
      " rmalization)                   )                                                                 \n",
      "                                                                                                  \n",
      " activation_3 (Activation)      (None, 128, 128, 16  0           ['batch_normalization_3[0][0]']  \n",
      "                                )                                                                 \n",
      "                                                                                                  \n",
      " dropout_1 (Dropout)            (None, 128, 128, 16  0           ['activation_3[0][0]']           \n",
      "                                )                                                                 \n",
      "                                                                                                  \n",
      " max_pooling2d_1 (MaxPooling2D)  (None, 64, 64, 16)  0           ['dropout_1[0][0]']              \n",
      "                                                                                                  \n",
      " separable_conv2d_4 (SeparableC  (None, 64, 64, 32)  656         ['max_pooling2d_1[0][0]']        \n",
      " onv2D)                                                                                           \n",
      "                                                                                                  \n",
      " batch_normalization_4 (BatchNo  (None, 64, 64, 32)  128         ['separable_conv2d_4[0][0]']     \n",
      " rmalization)                                                                                     \n",
      "                                                                                                  \n",
      " activation_4 (Activation)      (None, 64, 64, 32)   0           ['batch_normalization_4[0][0]']  \n",
      "                                                                                                  \n",
      " separable_conv2d_5 (SeparableC  (None, 64, 64, 32)  1312        ['activation_4[0][0]']           \n",
      " onv2D)                                                                                           \n",
      "                                                                                                  \n",
      " batch_normalization_5 (BatchNo  (None, 64, 64, 32)  128         ['separable_conv2d_5[0][0]']     \n",
      " rmalization)                                                                                     \n",
      "                                                                                                  \n",
      " activation_5 (Activation)      (None, 64, 64, 32)   0           ['batch_normalization_5[0][0]']  \n",
      "                                                                                                  \n",
      " dropout_2 (Dropout)            (None, 64, 64, 32)   0           ['activation_5[0][0]']           \n",
      "                                                                                                  \n",
      " max_pooling2d_2 (MaxPooling2D)  (None, 32, 32, 32)  0           ['dropout_2[0][0]']              \n",
      "                                                                                                  \n",
      " separable_conv2d_6 (SeparableC  (None, 32, 32, 32)  1312        ['max_pooling2d_2[0][0]']        \n",
      " onv2D)                                                                                           \n",
      "                                                                                                  \n",
      " batch_normalization_6 (BatchNo  (None, 32, 32, 32)  128         ['separable_conv2d_6[0][0]']     \n",
      " rmalization)                                                                                     \n",
      "                                                                                                  \n",
      " activation_6 (Activation)      (None, 32, 32, 32)   0           ['batch_normalization_6[0][0]']  \n",
      "                                                                                                  \n",
      " separable_conv2d_7 (SeparableC  (None, 32, 32, 32)  1312        ['activation_6[0][0]']           \n",
      " onv2D)                                                                                           \n"
     ]
    },
    {
     "name": "stdout",
     "output_type": "stream",
     "text": [
      "                                                                                                  \n",
      " batch_normalization_7 (BatchNo  (None, 32, 32, 32)  128         ['separable_conv2d_7[0][0]']     \n",
      " rmalization)                                                                                     \n",
      "                                                                                                  \n",
      " activation_7 (Activation)      (None, 32, 32, 32)   0           ['batch_normalization_7[0][0]']  \n",
      "                                                                                                  \n",
      " dropout_3 (Dropout)            (None, 32, 32, 32)   0           ['activation_7[0][0]']           \n",
      "                                                                                                  \n",
      " up_sampling2d (UpSampling2D)   (None, 64, 64, 32)   0           ['dropout_3[0][0]']              \n",
      "                                                                                                  \n",
      " concatenate (Concatenate)      (None, 64, 64, 64)   0           ['up_sampling2d[0][0]',          \n",
      "                                                                  'dropout_2[0][0]']              \n",
      "                                                                                                  \n",
      " separable_conv2d_8 (SeparableC  (None, 64, 64, 32)  2624        ['concatenate[0][0]']            \n",
      " onv2D)                                                                                           \n",
      "                                                                                                  \n",
      " batch_normalization_8 (BatchNo  (None, 64, 64, 32)  128         ['separable_conv2d_8[0][0]']     \n",
      " rmalization)                                                                                     \n",
      "                                                                                                  \n",
      " activation_8 (Activation)      (None, 64, 64, 32)   0           ['batch_normalization_8[0][0]']  \n",
      "                                                                                                  \n",
      " separable_conv2d_9 (SeparableC  (None, 64, 64, 32)  1312        ['activation_8[0][0]']           \n",
      " onv2D)                                                                                           \n",
      "                                                                                                  \n",
      " batch_normalization_9 (BatchNo  (None, 64, 64, 32)  128         ['separable_conv2d_9[0][0]']     \n",
      " rmalization)                                                                                     \n",
      "                                                                                                  \n",
      " activation_9 (Activation)      (None, 64, 64, 32)   0           ['batch_normalization_9[0][0]']  \n",
      "                                                                                                  \n",
      " dropout_4 (Dropout)            (None, 64, 64, 32)   0           ['activation_9[0][0]']           \n",
      "                                                                                                  \n",
      " up_sampling2d_1 (UpSampling2D)  (None, 128, 128, 32  0          ['dropout_4[0][0]']              \n",
      "                                )                                                                 \n",
      "                                                                                                  \n",
      " concatenate_1 (Concatenate)    (None, 128, 128, 48  0           ['up_sampling2d_1[0][0]',        \n",
      "                                )                                 'dropout_1[0][0]']              \n",
      "                                                                                                  \n",
      " separable_conv2d_10 (Separable  (None, 128, 128, 16  1200       ['concatenate_1[0][0]']          \n",
      " Conv2D)                        )                                                                 \n",
      "                                                                                                  \n",
      " batch_normalization_10 (BatchN  (None, 128, 128, 16  64         ['separable_conv2d_10[0][0]']    \n",
      " ormalization)                  )                                                                 \n",
      "                                                                                                  \n",
      " activation_10 (Activation)     (None, 128, 128, 16  0           ['batch_normalization_10[0][0]'] \n",
      "                                )                                                                 \n",
      "                                                                                                  \n",
      " separable_conv2d_11 (Separable  (None, 128, 128, 16  400        ['activation_10[0][0]']          \n",
      " Conv2D)                        )                                                                 \n",
      "                                                                                                  \n",
      " batch_normalization_11 (BatchN  (None, 128, 128, 16  64         ['separable_conv2d_11[0][0]']    \n",
      " ormalization)                  )                                                                 \n",
      "                                                                                                  \n",
      " activation_11 (Activation)     (None, 128, 128, 16  0           ['batch_normalization_11[0][0]'] \n",
      "                                )                                                                 \n",
      "                                                                                                  \n",
      " dropout_5 (Dropout)            (None, 128, 128, 16  0           ['activation_11[0][0]']          \n",
      "                                )                                                                 \n",
      "                                                                                                  \n",
      " up_sampling2d_2 (UpSampling2D)  (None, 256, 256, 16  0          ['dropout_5[0][0]']              \n",
      "                                )                                                                 \n",
      "                                                                                                  \n",
      " concatenate_2 (Concatenate)    (None, 256, 256, 32  0           ['up_sampling2d_2[0][0]',        \n",
      "                                )                                 'dropout[0][0]']                \n",
      "                                                                                                  \n",
      " separable_conv2d_12 (Separable  (None, 256, 256, 16  800        ['concatenate_2[0][0]']          \n",
      " Conv2D)                        )                                                                 \n",
      "                                                                                                  \n",
      " batch_normalization_12 (BatchN  (None, 256, 256, 16  64         ['separable_conv2d_12[0][0]']    \n",
      " ormalization)                  )                                                                 \n",
      "                                                                                                  \n",
      " activation_12 (Activation)     (None, 256, 256, 16  0           ['batch_normalization_12[0][0]'] \n",
      "                                )                                                                 \n",
      "                                                                                                  \n",
      " separable_conv2d_13 (Separable  (None, 256, 256, 16  400        ['activation_12[0][0]']          \n",
      " Conv2D)                        )                                                                 \n",
      "                                                                                                  \n",
      " batch_normalization_13 (BatchN  (None, 256, 256, 16  64         ['separable_conv2d_13[0][0]']    \n",
      " ormalization)                  )                                                                 \n",
      "                                                                                                  \n",
      " activation_13 (Activation)     (None, 256, 256, 16  0           ['batch_normalization_13[0][0]'] \n",
      "                                )                                                                 \n",
      "                                                                                                  \n",
      " dropout_6 (Dropout)            (None, 256, 256, 16  0           ['activation_13[0][0]']          \n"
     ]
    },
    {
     "name": "stdout",
     "output_type": "stream",
     "text": [
      "                                )                                                                 \n",
      "                                                                                                  \n",
      " separable_conv2d_14 (Separable  (None, 256, 256, 3)  64         ['dropout_6[0][0]']              \n",
      " Conv2D)                                                                                          \n",
      "                                                                                                  \n",
      " reshape (Reshape)              (None, 65536, 3)     0           ['separable_conv2d_14[0][0]']    \n",
      "                                                                                                  \n",
      " activation_14 (Activation)     (None, 65536, 3)     0           ['reshape[0][0]']                \n",
      "                                                                                                  \n",
      "==================================================================================================\n",
      "Total params: 13,897\n",
      "Trainable params: 13,257\n",
      "Non-trainable params: 640\n",
      "__________________________________________________________________________________________________\n"
     ]
    }
   ],
   "source": [
    "model = get_model(img_size, num_classes)\n",
    "model.summary()"
   ]
  },
  {
   "cell_type": "code",
   "execution_count": 12,
   "metadata": {},
   "outputs": [
    {
     "data": {
      "text/plain": [
       "{0.0: 173491229, 1.0: 9002024, 2.0: 8871867}"
      ]
     },
     "execution_count": 12,
     "metadata": {},
     "output_type": "execute_result"
    },
    {
     "name": "stdout",
     "output_type": "stream",
     "text": [
      "[0.025108166095129312, 0.4838963541732521, 0.49099547973161856]\n"
     ]
    }
   ],
   "source": [
    "#Loss function \n",
    "#defined from the paper:\n",
    "#Santana et al._2020_Neural network training for the detection and classification of oceanic mesoscale eddies\n",
    "\n",
    "unique, counts = np.unique(data_y, return_counts=True)\n",
    "dict(zip(unique, counts))\n",
    "\n",
    "freq = [np.sum(counts)/j for j in counts]\n",
    "weightsSeg = [f/np.sum(freq) for f in freq]\n",
    "print(weightsSeg)\n",
    "\n",
    "def dice_coef_anti(y_true, y_pred):\n",
    "    smooth = 1.  # to avoid zero division\n",
    "    y_true_anti = y_true[:,:,1]\n",
    "    y_pred_anti = y_pred[:,:,1]\n",
    "    intersection_anti = K.sum(y_true_anti * y_pred_anti)\n",
    "    return (2 * intersection_anti + smooth) / (K.sum(y_true_anti)+ K.sum(y_pred_anti) + smooth)\n",
    "\n",
    "def dice_coef_cyc(y_true, y_pred):\n",
    "    smooth = 1.  # to avoid zero division\n",
    "    y_true_cyc = y_true[:,:,2]\n",
    "    y_pred_cyc = y_pred[:,:,2]\n",
    "    intersection_cyc = K.sum(y_true_cyc * y_pred_cyc)\n",
    "    return (2 * intersection_cyc + smooth) / (K.sum(y_true_cyc) + K.sum(y_pred_cyc) + smooth)\n",
    "\n",
    "def dice_coef_nn(y_true, y_pred):\n",
    "    smooth = 1.  # to avoid zero division\n",
    "    y_true_nn = y_true[:,:,0]\n",
    "    y_pred_nn = y_pred[:,:,0]\n",
    "    intersection_nn = K.sum(y_true_nn * y_pred_nn)\n",
    "    return (2 * intersection_nn + smooth) / (K.sum(y_true_nn) + K.sum(y_pred_nn) + smooth)\n",
    "    \n",
    "def mean_dice_coef(y_true, y_pred):\n",
    "    return (dice_coef_anti(y_true, y_pred) + dice_coef_cyc(y_true, y_pred) + dice_coef_nn(y_true, y_pred))/3.\n",
    "\n",
    "def weighted_mean_dice_coef(y_true, y_pred):\n",
    "    #return (weightsSeg[2]*dice_coef_anti(y_true, y_pred) + weightsSeg[1]*dice_coef_cyc(y_true, y_pred) + weightsSeg[0]*dice_coef_nn(y_true, y_pred))\n",
    "    return (weightsSeg[2]*dice_coef_anti(y_true, y_pred) + weightsSeg[1]*dice_coef_cyc(y_true, y_pred) + weightsSeg[0]*dice_coef_nn(y_true, y_pred))\n",
    "      \n",
    "def dice_coef_loss(y_true, y_pred):\n",
    "    return 1 - weighted_mean_dice_coef(y_true, y_pred)"
   ]
  },
  {
   "cell_type": "code",
   "execution_count": 13,
   "metadata": {},
   "outputs": [
    {
     "name": "stdout",
     "output_type": "stream",
     "text": [
      "train_input: (2336, 256, 256)\n",
      "val_input: (584, 256, 256)\n",
      "Size of each batch:  (16, 256, 256, 1)\n"
     ]
    }
   ],
   "source": [
    "# Split our img paths into a training and a validation set\n",
    "split = 0.2\n",
    "train_samples = int((1-split)*total_samples)\n",
    "#same seed must be used\n",
    "random.Random(0).shuffle(data_x)\n",
    "random.Random(0).shuffle(data_y)\n",
    "train_input = data_x[0:train_samples]\n",
    "train_target = data_y[0:train_samples]\n",
    "val_input = data_x[train_samples:total_samples]\n",
    "val_target = data_y[train_samples:total_samples]\n",
    "\n",
    "print(\"train_input:\", train_input.shape)\n",
    "print(\"val_input:\", val_input.shape)\n",
    "\n",
    "# Instantiate data Sequences for each split\n",
    "train_gen = plain_net_eddy(batch_size, img_size, train_input, train_target)\n",
    "val_gen = plain_net_eddy(batch_size, img_size, val_input, val_target)\n",
    "print(\"Size of each batch: \",train_gen[1][0].shape)"
   ]
  },
  {
   "cell_type": "code",
   "execution_count": 14,
   "metadata": {},
   "outputs": [
    {
     "name": "stdout",
     "output_type": "stream",
     "text": [
      "Epoch 1/60\n"
     ]
    },
    {
     "name": "stderr",
     "output_type": "stream",
     "text": [
      "/home/ollie/ssunar/.conda/envs/eddy-tracking/lib/python3.8/site-packages/keras/optimizer_v2/adam.py:105: UserWarning: The `lr` argument is deprecated, use `learning_rate` instead.\n",
      "  super(Adam, self).__init__(name, **kwargs)\n"
     ]
    },
    {
     "name": "stdout",
     "output_type": "stream",
     "text": [
      "146/146 [==============================] - 125s 836ms/step - loss: 0.8650 - categorical_accuracy: 0.4608 - mean_dice_coef: 0.2471 - weighted_mean_dice_coef: 0.1350 - val_loss: 0.9093 - val_categorical_accuracy: 0.9112 - val_mean_dice_coef: 0.2649 - val_weighted_mean_dice_coef: 0.0907 - lr: 0.0010\n",
      "Epoch 2/60\n",
      "146/146 [==============================] - 122s 835ms/step - loss: 0.7460 - categorical_accuracy: 0.6246 - mean_dice_coef: 0.4004 - weighted_mean_dice_coef: 0.2540 - val_loss: 0.9433 - val_categorical_accuracy: 0.9111 - val_mean_dice_coef: 0.3313 - val_weighted_mean_dice_coef: 0.0567 - lr: 0.0010\n",
      "Epoch 3/60\n",
      "146/146 [==============================] - 125s 860ms/step - loss: 0.6135 - categorical_accuracy: 0.8752 - mean_dice_coef: 0.5551 - weighted_mean_dice_coef: 0.3865 - val_loss: 0.9361 - val_categorical_accuracy: 0.9113 - val_mean_dice_coef: 0.3450 - val_weighted_mean_dice_coef: 0.0639 - lr: 0.0010\n",
      "Epoch 4/60\n",
      "146/146 [==============================] - 128s 878ms/step - loss: 0.5600 - categorical_accuracy: 0.8995 - mean_dice_coef: 0.5990 - weighted_mean_dice_coef: 0.4400 - val_loss: 0.8315 - val_categorical_accuracy: 0.9111 - val_mean_dice_coef: 0.4166 - val_weighted_mean_dice_coef: 0.1685 - lr: 0.0010\n",
      "Epoch 5/60\n",
      "146/146 [==============================] - 130s 893ms/step - loss: 0.5377 - categorical_accuracy: 0.9056 - mean_dice_coef: 0.6156 - weighted_mean_dice_coef: 0.4623 - val_loss: 0.7287 - val_categorical_accuracy: 0.9128 - val_mean_dice_coef: 0.4868 - val_weighted_mean_dice_coef: 0.2713 - lr: 0.0010\n",
      "Epoch 6/60\n",
      "146/146 [==============================] - 131s 896ms/step - loss: 0.5247 - categorical_accuracy: 0.9080 - mean_dice_coef: 0.6250 - weighted_mean_dice_coef: 0.4753 - val_loss: 0.7691 - val_categorical_accuracy: 0.9131 - val_mean_dice_coef: 0.4596 - val_weighted_mean_dice_coef: 0.2309 - lr: 0.0010\n",
      "Epoch 7/60\n",
      "146/146 [==============================] - 134s 919ms/step - loss: 0.5130 - categorical_accuracy: 0.9104 - mean_dice_coef: 0.6335 - weighted_mean_dice_coef: 0.4870 - val_loss: 0.7024 - val_categorical_accuracy: 0.9119 - val_mean_dice_coef: 0.5050 - val_weighted_mean_dice_coef: 0.2976 - lr: 0.0010\n",
      "Epoch 8/60\n",
      "146/146 [==============================] - 134s 917ms/step - loss: 0.5045 - categorical_accuracy: 0.9120 - mean_dice_coef: 0.6396 - weighted_mean_dice_coef: 0.4955 - val_loss: 0.7104 - val_categorical_accuracy: 0.9135 - val_mean_dice_coef: 0.4998 - val_weighted_mean_dice_coef: 0.2896 - lr: 0.0010\n",
      "Epoch 9/60\n",
      "146/146 [==============================] - 135s 926ms/step - loss: 0.4989 - categorical_accuracy: 0.9134 - mean_dice_coef: 0.6437 - weighted_mean_dice_coef: 0.5011 - val_loss: 0.6322 - val_categorical_accuracy: 0.9090 - val_mean_dice_coef: 0.5522 - val_weighted_mean_dice_coef: 0.3678 - lr: 0.0010\n",
      "Epoch 10/60\n",
      "146/146 [==============================] - 137s 941ms/step - loss: 0.4958 - categorical_accuracy: 0.9135 - mean_dice_coef: 0.6458 - weighted_mean_dice_coef: 0.5042 - val_loss: 0.6360 - val_categorical_accuracy: 0.9074 - val_mean_dice_coef: 0.5495 - val_weighted_mean_dice_coef: 0.3640 - lr: 0.0010\n",
      "Epoch 11/60\n",
      "146/146 [==============================] - 138s 949ms/step - loss: 0.4863 - categorical_accuracy: 0.9155 - mean_dice_coef: 0.6527 - weighted_mean_dice_coef: 0.5137 - val_loss: 0.5989 - val_categorical_accuracy: 0.9126 - val_mean_dice_coef: 0.5755 - val_weighted_mean_dice_coef: 0.4011 - lr: 0.0010\n",
      "Epoch 12/60\n",
      "146/146 [==============================] - 138s 948ms/step - loss: 0.4827 - categorical_accuracy: 0.9165 - mean_dice_coef: 0.6553 - weighted_mean_dice_coef: 0.5173 - val_loss: 0.6037 - val_categorical_accuracy: 0.9140 - val_mean_dice_coef: 0.5724 - val_weighted_mean_dice_coef: 0.3963 - lr: 0.0010\n",
      "Epoch 13/60\n",
      "146/146 [==============================] - 136s 935ms/step - loss: 0.4790 - categorical_accuracy: 0.9171 - mean_dice_coef: 0.6580 - weighted_mean_dice_coef: 0.5210 - val_loss: 0.6222 - val_categorical_accuracy: 0.9157 - val_mean_dice_coef: 0.5602 - val_weighted_mean_dice_coef: 0.3778 - lr: 0.0010\n",
      "Epoch 14/60\n",
      "146/146 [==============================] - 138s 944ms/step - loss: 0.4753 - categorical_accuracy: 0.9178 - mean_dice_coef: 0.6606 - weighted_mean_dice_coef: 0.5247 - val_loss: 0.6228 - val_categorical_accuracy: 0.9150 - val_mean_dice_coef: 0.5597 - val_weighted_mean_dice_coef: 0.3772 - lr: 0.0010\n",
      "Epoch 15/60\n",
      "146/146 [==============================] - 140s 960ms/step - loss: 0.4699 - categorical_accuracy: 0.9187 - mean_dice_coef: 0.6645 - weighted_mean_dice_coef: 0.5301 - val_loss: 0.6442 - val_categorical_accuracy: 0.9123 - val_mean_dice_coef: 0.5446 - val_weighted_mean_dice_coef: 0.3558 - lr: 0.0010\n",
      "Epoch 16/60\n",
      "146/146 [==============================] - 141s 964ms/step - loss: 0.4677 - categorical_accuracy: 0.9191 - mean_dice_coef: 0.6661 - weighted_mean_dice_coef: 0.5323 - val_loss: 0.6065 - val_categorical_accuracy: 0.9136 - val_mean_dice_coef: 0.5705 - val_weighted_mean_dice_coef: 0.3935 - lr: 0.0010\n",
      "Epoch 17/60\n",
      "146/146 [==============================] - 141s 969ms/step - loss: 0.4648 - categorical_accuracy: 0.9197 - mean_dice_coef: 0.6681 - weighted_mean_dice_coef: 0.5352 - val_loss: 0.6191 - val_categorical_accuracy: 0.9164 - val_mean_dice_coef: 0.5624 - val_weighted_mean_dice_coef: 0.3809 - lr: 0.0010\n",
      "Epoch 18/60\n",
      "146/146 [==============================] - 142s 974ms/step - loss: 0.4613 - categorical_accuracy: 0.9203 - mean_dice_coef: 0.6707 - weighted_mean_dice_coef: 0.5387 - val_loss: 0.6019 - val_categorical_accuracy: 0.9121 - val_mean_dice_coef: 0.5734 - val_weighted_mean_dice_coef: 0.3981 - lr: 0.0010\n",
      "Epoch 19/60\n",
      "146/146 [==============================] - 143s 978ms/step - loss: 0.4598 - categorical_accuracy: 0.9209 - mean_dice_coef: 0.6718 - weighted_mean_dice_coef: 0.5402 - val_loss: 0.6311 - val_categorical_accuracy: 0.9128 - val_mean_dice_coef: 0.5536 - val_weighted_mean_dice_coef: 0.3689 - lr: 0.0010\n",
      "Epoch 20/60\n",
      "146/146 [==============================] - 142s 972ms/step - loss: 0.4577 - categorical_accuracy: 0.9211 - mean_dice_coef: 0.6732 - weighted_mean_dice_coef: 0.5423 - val_loss: 0.6781 - val_categorical_accuracy: 0.9150 - val_mean_dice_coef: 0.5220 - val_weighted_mean_dice_coef: 0.3219 - lr: 0.0010\n",
      "Epoch 21/60\n",
      "146/146 [==============================] - ETA: 0s - loss: 0.4558 - categorical_accuracy: 0.9215 - mean_dice_coef: 0.6746 - weighted_mean_dice_coef: 0.5442\n",
      "Epoch 21: ReduceLROnPlateau reducing learning rate to 0.0005000000237487257.\n",
      "146/146 [==============================] - 143s 978ms/step - loss: 0.4558 - categorical_accuracy: 0.9215 - mean_dice_coef: 0.6746 - weighted_mean_dice_coef: 0.5442 - val_loss: 0.6011 - val_categorical_accuracy: 0.9145 - val_mean_dice_coef: 0.5744 - val_weighted_mean_dice_coef: 0.3989 - lr: 0.0010\n",
      "Epoch 22/60\n",
      "146/146 [==============================] - 143s 980ms/step - loss: 0.4482 - categorical_accuracy: 0.9230 - mean_dice_coef: 0.6801 - weighted_mean_dice_coef: 0.5518 - val_loss: 0.5891 - val_categorical_accuracy: 0.9163 - val_mean_dice_coef: 0.5829 - val_weighted_mean_dice_coef: 0.4109 - lr: 5.0000e-04\n",
      "Epoch 23/60\n",
      "146/146 [==============================] - 144s 986ms/step - loss: 0.4470 - categorical_accuracy: 0.9230 - mean_dice_coef: 0.6809 - weighted_mean_dice_coef: 0.5530 - val_loss: 0.5967 - val_categorical_accuracy: 0.9191 - val_mean_dice_coef: 0.5782 - val_weighted_mean_dice_coef: 0.4033 - lr: 5.0000e-04\n",
      "Epoch 24/60\n",
      "146/146 [==============================] - 143s 978ms/step - loss: 0.4440 - categorical_accuracy: 0.9239 - mean_dice_coef: 0.6831 - weighted_mean_dice_coef: 0.5560 - val_loss: 0.6121 - val_categorical_accuracy: 0.9182 - val_mean_dice_coef: 0.5676 - val_weighted_mean_dice_coef: 0.3879 - lr: 5.0000e-04\n",
      "Epoch 25/60\n",
      "146/146 [==============================] - 142s 975ms/step - loss: 0.4435 - categorical_accuracy: 0.9240 - mean_dice_coef: 0.6835 - weighted_mean_dice_coef: 0.5565 - val_loss: 0.6122 - val_categorical_accuracy: 0.9197 - val_mean_dice_coef: 0.5676 - val_weighted_mean_dice_coef: 0.3878 - lr: 5.0000e-04\n",
      "Epoch 26/60\n",
      "146/146 [==============================] - 143s 977ms/step - loss: 0.4424 - categorical_accuracy: 0.9242 - mean_dice_coef: 0.6843 - weighted_mean_dice_coef: 0.5576 - val_loss: 0.5669 - val_categorical_accuracy: 0.9144 - val_mean_dice_coef: 0.5976 - val_weighted_mean_dice_coef: 0.4331 - lr: 5.0000e-04\n"
     ]
    },
    {
     "name": "stdout",
     "output_type": "stream",
     "text": [
      "Epoch 27/60\n",
      "146/146 [==============================] - 142s 974ms/step - loss: 0.4417 - categorical_accuracy: 0.9243 - mean_dice_coef: 0.6848 - weighted_mean_dice_coef: 0.5583 - val_loss: 0.5864 - val_categorical_accuracy: 0.9201 - val_mean_dice_coef: 0.5853 - val_weighted_mean_dice_coef: 0.4136 - lr: 5.0000e-04\n",
      "Epoch 28/60\n",
      "146/146 [==============================] - 144s 989ms/step - loss: 0.4397 - categorical_accuracy: 0.9247 - mean_dice_coef: 0.6862 - weighted_mean_dice_coef: 0.5603 - val_loss: 0.6171 - val_categorical_accuracy: 0.9193 - val_mean_dice_coef: 0.5643 - val_weighted_mean_dice_coef: 0.3829 - lr: 5.0000e-04\n",
      "Epoch 29/60\n",
      "146/146 [==============================] - 144s 983ms/step - loss: 0.4393 - categorical_accuracy: 0.9248 - mean_dice_coef: 0.6865 - weighted_mean_dice_coef: 0.5607 - val_loss: 0.5905 - val_categorical_accuracy: 0.9200 - val_mean_dice_coef: 0.5825 - val_weighted_mean_dice_coef: 0.4095 - lr: 5.0000e-04\n",
      "Epoch 30/60\n",
      "146/146 [==============================] - 144s 987ms/step - loss: 0.4385 - categorical_accuracy: 0.9248 - mean_dice_coef: 0.6870 - weighted_mean_dice_coef: 0.5615 - val_loss: 0.5731 - val_categorical_accuracy: 0.9214 - val_mean_dice_coef: 0.5947 - val_weighted_mean_dice_coef: 0.4269 - lr: 5.0000e-04\n",
      "Epoch 31/60\n",
      "146/146 [==============================] - 143s 983ms/step - loss: 0.4371 - categorical_accuracy: 0.9252 - mean_dice_coef: 0.6880 - weighted_mean_dice_coef: 0.5629 - val_loss: 0.6096 - val_categorical_accuracy: 0.9186 - val_mean_dice_coef: 0.5693 - val_weighted_mean_dice_coef: 0.3904 - lr: 5.0000e-04\n",
      "Epoch 32/60\n",
      "146/146 [==============================] - 142s 972ms/step - loss: 0.4362 - categorical_accuracy: 0.9254 - mean_dice_coef: 0.6887 - weighted_mean_dice_coef: 0.5638 - val_loss: 0.5803 - val_categorical_accuracy: 0.9183 - val_mean_dice_coef: 0.5892 - val_weighted_mean_dice_coef: 0.4197 - lr: 5.0000e-04\n",
      "Epoch 33/60\n",
      "146/146 [==============================] - 143s 980ms/step - loss: 0.4353 - categorical_accuracy: 0.9253 - mean_dice_coef: 0.6893 - weighted_mean_dice_coef: 0.5647 - val_loss: 0.5721 - val_categorical_accuracy: 0.9190 - val_mean_dice_coef: 0.5948 - val_weighted_mean_dice_coef: 0.4279 - lr: 5.0000e-04\n",
      "Epoch 34/60\n",
      "146/146 [==============================] - 143s 980ms/step - loss: 0.4357 - categorical_accuracy: 0.9256 - mean_dice_coef: 0.6891 - weighted_mean_dice_coef: 0.5643 - val_loss: 0.5475 - val_categorical_accuracy: 0.9184 - val_mean_dice_coef: 0.6117 - val_weighted_mean_dice_coef: 0.4525 - lr: 5.0000e-04\n",
      "Epoch 35/60\n",
      "146/146 [==============================] - 144s 989ms/step - loss: 0.4344 - categorical_accuracy: 0.9258 - mean_dice_coef: 0.6900 - weighted_mean_dice_coef: 0.5656 - val_loss: 0.5868 - val_categorical_accuracy: 0.9207 - val_mean_dice_coef: 0.5852 - val_weighted_mean_dice_coef: 0.4132 - lr: 5.0000e-04\n",
      "Epoch 36/60\n",
      "146/146 [==============================] - 142s 974ms/step - loss: 0.4332 - categorical_accuracy: 0.9255 - mean_dice_coef: 0.6908 - weighted_mean_dice_coef: 0.5668 - val_loss: 0.5738 - val_categorical_accuracy: 0.9190 - val_mean_dice_coef: 0.5938 - val_weighted_mean_dice_coef: 0.4262 - lr: 5.0000e-04\n",
      "Epoch 37/60\n",
      "146/146 [==============================] - 143s 980ms/step - loss: 0.4328 - categorical_accuracy: 0.9259 - mean_dice_coef: 0.6911 - weighted_mean_dice_coef: 0.5672 - val_loss: 0.5838 - val_categorical_accuracy: 0.9192 - val_mean_dice_coef: 0.5870 - val_weighted_mean_dice_coef: 0.4162 - lr: 5.0000e-04\n",
      "Epoch 38/60\n",
      "146/146 [==============================] - 143s 983ms/step - loss: 0.4308 - categorical_accuracy: 0.9266 - mean_dice_coef: 0.6927 - weighted_mean_dice_coef: 0.5692 - val_loss: 0.6437 - val_categorical_accuracy: 0.9206 - val_mean_dice_coef: 0.5462 - val_weighted_mean_dice_coef: 0.3563 - lr: 5.0000e-04\n",
      "Epoch 39/60\n",
      "146/146 [==============================] - 145s 993ms/step - loss: 0.4308 - categorical_accuracy: 0.9265 - mean_dice_coef: 0.6926 - weighted_mean_dice_coef: 0.5692 - val_loss: 0.5789 - val_categorical_accuracy: 0.9198 - val_mean_dice_coef: 0.5905 - val_weighted_mean_dice_coef: 0.4211 - lr: 5.0000e-04\n",
      "Epoch 40/60\n",
      "146/146 [==============================] - 145s 991ms/step - loss: 0.4310 - categorical_accuracy: 0.9263 - mean_dice_coef: 0.6925 - weighted_mean_dice_coef: 0.5690 - val_loss: 0.5558 - val_categorical_accuracy: 0.9205 - val_mean_dice_coef: 0.6062 - val_weighted_mean_dice_coef: 0.4442 - lr: 5.0000e-04\n",
      "Epoch 41/60\n",
      "146/146 [==============================] - 145s 994ms/step - loss: 0.4299 - categorical_accuracy: 0.9267 - mean_dice_coef: 0.6933 - weighted_mean_dice_coef: 0.5701 - val_loss: 0.5969 - val_categorical_accuracy: 0.9190 - val_mean_dice_coef: 0.5780 - val_weighted_mean_dice_coef: 0.4031 - lr: 5.0000e-04\n",
      "Epoch 42/60\n",
      "146/146 [==============================] - 144s 984ms/step - loss: 0.4292 - categorical_accuracy: 0.9270 - mean_dice_coef: 0.6938 - weighted_mean_dice_coef: 0.5708 - val_loss: 0.5917 - val_categorical_accuracy: 0.9210 - val_mean_dice_coef: 0.5819 - val_weighted_mean_dice_coef: 0.4083 - lr: 5.0000e-04\n",
      "Epoch 43/60\n",
      "146/146 [==============================] - 143s 982ms/step - loss: 0.4279 - categorical_accuracy: 0.9269 - mean_dice_coef: 0.6946 - weighted_mean_dice_coef: 0.5721 - val_loss: 0.5510 - val_categorical_accuracy: 0.9206 - val_mean_dice_coef: 0.6095 - val_weighted_mean_dice_coef: 0.4490 - lr: 5.0000e-04\n",
      "Epoch 44/60\n",
      "146/146 [==============================] - ETA: 0s - loss: 0.4277 - categorical_accuracy: 0.9272 - mean_dice_coef: 0.6949 - weighted_mean_dice_coef: 0.5723\n",
      "Epoch 44: ReduceLROnPlateau reducing learning rate to 0.0002500000118743628.\n",
      "146/146 [==============================] - 143s 980ms/step - loss: 0.4277 - categorical_accuracy: 0.9272 - mean_dice_coef: 0.6949 - weighted_mean_dice_coef: 0.5723 - val_loss: 0.5708 - val_categorical_accuracy: 0.9189 - val_mean_dice_coef: 0.5958 - val_weighted_mean_dice_coef: 0.4292 - lr: 5.0000e-04\n",
      "Epoch 45/60\n",
      "146/146 [==============================] - 145s 997ms/step - loss: 0.4255 - categorical_accuracy: 0.9275 - mean_dice_coef: 0.6964 - weighted_mean_dice_coef: 0.5745 - val_loss: 0.6016 - val_categorical_accuracy: 0.9216 - val_mean_dice_coef: 0.5752 - val_weighted_mean_dice_coef: 0.3984 - lr: 2.5000e-04\n",
      "Epoch 46/60\n",
      "146/146 [==============================] - 146s 1s/step - loss: 0.4250 - categorical_accuracy: 0.9276 - mean_dice_coef: 0.6968 - weighted_mean_dice_coef: 0.5750 - val_loss: 0.5950 - val_categorical_accuracy: 0.9218 - val_mean_dice_coef: 0.5798 - val_weighted_mean_dice_coef: 0.4050 - lr: 2.5000e-04\n",
      "Epoch 47/60\n",
      "146/146 [==============================] - 144s 986ms/step - loss: 0.4239 - categorical_accuracy: 0.9277 - mean_dice_coef: 0.6976 - weighted_mean_dice_coef: 0.5761 - val_loss: 0.5526 - val_categorical_accuracy: 0.9190 - val_mean_dice_coef: 0.6082 - val_weighted_mean_dice_coef: 0.4474 - lr: 2.5000e-04\n",
      "Epoch 48/60\n",
      "146/146 [==============================] - 145s 997ms/step - loss: 0.4235 - categorical_accuracy: 0.9278 - mean_dice_coef: 0.6978 - weighted_mean_dice_coef: 0.5765 - val_loss: 0.5711 - val_categorical_accuracy: 0.9213 - val_mean_dice_coef: 0.5960 - val_weighted_mean_dice_coef: 0.4289 - lr: 2.5000e-04\n",
      "Epoch 49/60\n",
      "146/146 [==============================] - 144s 988ms/step - loss: 0.4228 - categorical_accuracy: 0.9278 - mean_dice_coef: 0.6983 - weighted_mean_dice_coef: 0.5772 - val_loss: 0.5826 - val_categorical_accuracy: 0.9212 - val_mean_dice_coef: 0.5882 - val_weighted_mean_dice_coef: 0.4174 - lr: 2.5000e-04\n",
      "Epoch 50/60\n",
      "146/146 [==============================] - 145s 990ms/step - loss: 0.4227 - categorical_accuracy: 0.9278 - mean_dice_coef: 0.6983 - weighted_mean_dice_coef: 0.5773 - val_loss: 0.6178 - val_categorical_accuracy: 0.9218 - val_mean_dice_coef: 0.5642 - val_weighted_mean_dice_coef: 0.3822 - lr: 2.5000e-04\n",
      "Epoch 51/60\n",
      "146/146 [==============================] - 146s 1s/step - loss: 0.4222 - categorical_accuracy: 0.9281 - mean_dice_coef: 0.6987 - weighted_mean_dice_coef: 0.5778 - val_loss: 0.5572 - val_categorical_accuracy: 0.9215 - val_mean_dice_coef: 0.6056 - val_weighted_mean_dice_coef: 0.4428 - lr: 2.5000e-04\n",
      "Epoch 52/60\n"
     ]
    },
    {
     "name": "stdout",
     "output_type": "stream",
     "text": [
      "146/146 [==============================] - 145s 997ms/step - loss: 0.4229 - categorical_accuracy: 0.9278 - mean_dice_coef: 0.6982 - weighted_mean_dice_coef: 0.5771 - val_loss: 0.5867 - val_categorical_accuracy: 0.9216 - val_mean_dice_coef: 0.5854 - val_weighted_mean_dice_coef: 0.4133 - lr: 2.5000e-04\n",
      "Epoch 53/60\n",
      "146/146 [==============================] - 145s 993ms/step - loss: 0.4223 - categorical_accuracy: 0.9282 - mean_dice_coef: 0.6987 - weighted_mean_dice_coef: 0.5777 - val_loss: 0.5783 - val_categorical_accuracy: 0.9204 - val_mean_dice_coef: 0.5909 - val_weighted_mean_dice_coef: 0.4217 - lr: 2.5000e-04\n",
      "Epoch 54/60\n",
      "146/146 [==============================] - ETA: 0s - loss: 0.4216 - categorical_accuracy: 0.9283 - mean_dice_coef: 0.6992 - weighted_mean_dice_coef: 0.5784\n",
      "Epoch 54: ReduceLROnPlateau reducing learning rate to 0.0001250000059371814.\n",
      "146/146 [==============================] - 143s 983ms/step - loss: 0.4216 - categorical_accuracy: 0.9283 - mean_dice_coef: 0.6992 - weighted_mean_dice_coef: 0.5784 - val_loss: 0.6016 - val_categorical_accuracy: 0.9205 - val_mean_dice_coef: 0.5750 - val_weighted_mean_dice_coef: 0.3984 - lr: 2.5000e-04\n",
      "Epoch 55/60\n",
      "146/146 [==============================] - 145s 991ms/step - loss: 0.4199 - categorical_accuracy: 0.9286 - mean_dice_coef: 0.7004 - weighted_mean_dice_coef: 0.5801 - val_loss: 0.5800 - val_categorical_accuracy: 0.9221 - val_mean_dice_coef: 0.5901 - val_weighted_mean_dice_coef: 0.4200 - lr: 1.2500e-04\n",
      "Epoch 56/60\n",
      "146/146 [==============================] - 144s 988ms/step - loss: 0.4193 - categorical_accuracy: 0.9288 - mean_dice_coef: 0.7009 - weighted_mean_dice_coef: 0.5807 - val_loss: 0.6004 - val_categorical_accuracy: 0.9221 - val_mean_dice_coef: 0.5761 - val_weighted_mean_dice_coef: 0.3996 - lr: 1.2500e-04\n",
      "Epoch 57/60\n",
      "146/146 [==============================] - 144s 986ms/step - loss: 0.4199 - categorical_accuracy: 0.9286 - mean_dice_coef: 0.7005 - weighted_mean_dice_coef: 0.5801 - val_loss: 0.5723 - val_categorical_accuracy: 0.9223 - val_mean_dice_coef: 0.5953 - val_weighted_mean_dice_coef: 0.4277 - lr: 1.2500e-04\n",
      "Epoch 58/60\n",
      "146/146 [==============================] - 143s 982ms/step - loss: 0.4192 - categorical_accuracy: 0.9287 - mean_dice_coef: 0.7009 - weighted_mean_dice_coef: 0.5808 - val_loss: 0.6043 - val_categorical_accuracy: 0.9221 - val_mean_dice_coef: 0.5735 - val_weighted_mean_dice_coef: 0.3957 - lr: 1.2500e-04\n",
      "Epoch 59/60\n",
      "146/146 [==============================] - 144s 983ms/step - loss: 0.4182 - categorical_accuracy: 0.9288 - mean_dice_coef: 0.7017 - weighted_mean_dice_coef: 0.5818 - val_loss: 0.5796 - val_categorical_accuracy: 0.9216 - val_mean_dice_coef: 0.5902 - val_weighted_mean_dice_coef: 0.4204 - lr: 1.2500e-04\n",
      "Epoch 60/60\n",
      "146/146 [==============================] - 145s 993ms/step - loss: 0.4195 - categorical_accuracy: 0.9286 - mean_dice_coef: 0.7007 - weighted_mean_dice_coef: 0.5805 - val_loss: 0.5743 - val_categorical_accuracy: 0.9219 - val_mean_dice_coef: 0.5939 - val_weighted_mean_dice_coef: 0.4257 - lr: 1.2500e-04\n"
     ]
    }
   ],
   "source": [
    "file_path_save = \"/home/ollie/ssunar/weights_unfilter_new/weights\"\n",
    "model.compile(optimizer=Adam(lr=1e-3), loss=dice_coef_loss, metrics=['categorical_accuracy', mean_dice_coef, weighted_mean_dice_coef])\n",
    "\n",
    "callbacks = [keras.callbacks.ModelCheckpoint(file_path_save, save_best_only=True , monitor='val_loss',save_weights_only=True),\n",
    "            keras.callbacks.ReduceLROnPlateau(monitor='val_loss', factor=0.5, patience=10, verbose=1, mode='auto', min_delta=1e-30, min_lr=1e-30)]\n",
    "\n",
    "# Train the model, doing validation at the end of each epoch.\n",
    "history = model.fit(train_gen, epochs=epochs, validation_data=val_gen, callbacks=callbacks, shuffle=True,verbose=1)"
   ]
  },
  {
   "cell_type": "code",
   "execution_count": 15,
   "metadata": {
    "scrolled": false
   },
   "outputs": [
    {
     "data": {
      "image/png": "[encoded data removed]",
      "text/plain": [
       "<Figure size 720x720 with 1 Axes>"
      ]
     },
     "metadata": {
      "needs_background": "light"
     },
     "output_type": "display_data"
    }
   ],
   "source": [
    "plt.figure(figsize=(10, 10))\n",
    "plt.semilogy(model.history.history['loss'])\n",
    "plt.semilogy(model.history.history['val_loss'])\n",
    "plt.title('model loss')\n",
    "plt.ylabel('loss')\n",
    "plt.xlabel('epoch')\n",
    "plt.legend(['train_loss', 'val_loss'], loc='upper right');"
   ]
  },
  {
   "cell_type": "code",
   "execution_count": null,
   "metadata": {},
   "outputs": [],
   "source": []
  },
  {
   "cell_type": "code",
   "execution_count": null,
   "metadata": {},
   "outputs": [],
   "source": []
  },
  {
   "cell_type": "code",
   "execution_count": 16,
   "metadata": {},
   "outputs": [
    {
     "name": "stdout",
     "output_type": "stream",
     "text": [
      "(576, 65536, 3)\n",
      "Time Per image: 0.0039567610288314585\n",
      "Time for 1 year eqv: 1.4442177755234824\n"
     ]
    }
   ],
   "source": [
    "import time\n",
    "from sklearn.metrics import classification_report\n",
    "start = time.time()\n",
    "val_gen = plain_net_eddy(batch_size, img_size, val_input, val_target)\n",
    "val_preds = model.predict(val_gen)\n",
    "print(val_preds.shape)\n",
    "\n",
    "end = time.time()\n",
    "time_per_img = (end - start)/1655\n",
    "print(\"Time Per image:\",time_per_img)\n",
    "print(\"Time for 1 year eqv:\",time_per_img*365)"
   ]
  },
  {
   "cell_type": "code",
   "execution_count": 17,
   "metadata": {},
   "outputs": [
    {
     "name": "stdout",
     "output_type": "stream",
     "text": [
      "(1, 256, 256, 1)\n",
      "(1, 65536, 3)\n",
      "              precision    recall  f1-score   support\n",
      "\n",
      "         0.0       0.93      0.95      0.94     60136\n",
      "         1.0       0.16      0.13      0.14      3040\n",
      "         2.0       0.32      0.16      0.21      2360\n",
      "\n",
      "    accuracy                           0.89     65536\n",
      "   macro avg       0.47      0.42      0.43     65536\n",
      "weighted avg       0.87      0.89      0.88     65536\n",
      "\n"
     ]
    }
   ],
   "source": [
    "# val_gen = plain_net_eddy(batch_size, img_size, val_input, val_target)\n",
    "# mask = np.expand_dims(val_preds, axis=-1)\n",
    "val_gen = data_x[0]\n",
    "val_gen = np.reshape(val_gen,(1,img_size[0],img_size[1],1))\n",
    "print(val_gen.shape)\n",
    "val_preds = model.predict(val_gen)\n",
    "print(val_preds.shape)\n",
    "mask = np.argmax(np.reshape(val_preds[0],(1,img_size[1],img_size[0],3)), axis=-1)\n",
    "mask = np.reshape(mask,(img_size[0],img_size[1]))\n",
    "print(classification_report(np.reshape(data_y[80],(65536)),np.reshape(mask,(65536))))"
   ]
  },
  {
   "cell_type": "code",
   "execution_count": 18,
   "metadata": {},
   "outputs": [
    {
     "data": {
      "text/plain": [
       "<Figure size 1440x720 with 0 Axes>"
      ]
     },
     "execution_count": 18,
     "metadata": {},
     "output_type": "execute_result"
    },
    {
     "data": {
      "text/plain": [
       "<AxesSubplot:>"
      ]
     },
     "execution_count": 18,
     "metadata": {},
     "output_type": "execute_result"
    },
    {
     "data": {
      "text/plain": [
       "<matplotlib.image.AxesImage at 0x2aae06accf70>"
      ]
     },
     "execution_count": 18,
     "metadata": {},
     "output_type": "execute_result"
    },
    {
     "data": {
      "text/plain": [
       "<matplotlib.colorbar.Colorbar at 0x2aae066ce760>"
      ]
     },
     "execution_count": 18,
     "metadata": {},
     "output_type": "execute_result"
    },
    {
     "data": {
      "text/plain": [
       "(-0.5, 255.5, 255.5, -0.5)"
      ]
     },
     "execution_count": 18,
     "metadata": {},
     "output_type": "execute_result"
    },
    {
     "data": {
      "text/plain": [
       "Text(0.5, 1.0, 'Result Segmentation')"
      ]
     },
     "execution_count": 18,
     "metadata": {},
     "output_type": "execute_result"
    },
    {
     "data": {
      "text/plain": [
       "<AxesSubplot:>"
      ]
     },
     "execution_count": 18,
     "metadata": {},
     "output_type": "execute_result"
    },
    {
     "data": {
      "text/plain": [
       "<matplotlib.image.AxesImage at 0x2aae0669cf10>"
      ]
     },
     "execution_count": 18,
     "metadata": {},
     "output_type": "execute_result"
    },
    {
     "data": {
      "text/plain": [
       "<matplotlib.colorbar.Colorbar at 0x2aae067769d0>"
      ]
     },
     "execution_count": 18,
     "metadata": {},
     "output_type": "execute_result"
    },
    {
     "data": {
      "text/plain": [
       "(-0.5, 255.5, 255.5, -0.5)"
      ]
     },
     "execution_count": 18,
     "metadata": {},
     "output_type": "execute_result"
    },
    {
     "data": {
      "text/plain": [
       "Text(0.5, 1.0, 'Groundtruth Segmentation')"
      ]
     },
     "execution_count": 18,
     "metadata": {},
     "output_type": "execute_result"
    },
    {
     "data": {
      "image/png": "[encoded data removed]",
      "text/plain": [
       "<Figure size 1440x720 with 4 Axes>"
      ]
     },
     "metadata": {
      "needs_background": "light"
     },
     "output_type": "display_data"
    }
   ],
   "source": [
    "#seeing the prediction of one image of the validation set\n",
    "%matplotlib inline\n",
    "\n",
    "plt.figure(figsize=(20, 10))\n",
    "\n",
    "plt.subplot(131)\n",
    "plt.imshow(mask.T, cmap='viridis')\n",
    "plt.colorbar(extend='both', fraction=0.042, pad=0.04)\n",
    "plt.axis('off')\n",
    "plt.title('Result Segmentation');\n",
    "plt.savefig('prediction.png')\n",
    "\n",
    "plt.subplot(132)\n",
    "plt.imshow(data_y[80].T, cmap='viridis')\n",
    "plt.colorbar(extend='both', fraction=0.042, pad=0.04)\n",
    "plt.axis('off')\n",
    "plt.title('Groundtruth Segmentation');\n",
    "plt.savefig('groundtruth.png')"
   ]
  },
  {
   "cell_type": "code",
   "execution_count": null,
   "metadata": {},
   "outputs": [],
   "source": []
  },
  {
   "cell_type": "code",
   "execution_count": null,
   "metadata": {},
   "outputs": [],
   "source": []
  }
 ],
 "metadata": {
  "kernelspec": {
   "display_name": "eddy-tracking",
   "language": "python",
   "name": "eddy-tracking"
  },
  "language_info": {
   "codemirror_mode": {
    "name": "ipython",
    "version": 3
   },
   "file_extension": ".py",
   "mimetype": "text/x-python",
   "name": "python",
   "nbconvert_exporter": "python",
   "pygments_lexer": "ipython3",
   "version": "3.8.12"
  }
 },
 "nbformat": 4,
 "nbformat_minor": 2
}
