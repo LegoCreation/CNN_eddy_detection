{
 "cells": [
  {
   "cell_type": "code",
   "execution_count": 3,
   "metadata": {
    "collapsed": true
   },
   "outputs": [],
   "source": [
    "import tensorflow as tf\n",
    "from tensorflow import keras\n",
    "import numpy as np\n",
    "from tensorflow.keras import layers\n",
    "from keras.callbacks import History\n",
    "import matplotlib.pyplot as plt\n",
    "import os\n",
    "from tensorflow.keras.optimizers import Adam\n",
    "from plain_neural_network import*"
   ]
  },
  {
   "cell_type": "code",
   "execution_count": 15,
   "metadata": {},
   "outputs": [
    {
     "name": "stdout",
     "output_type": "stream",
     "text": [
      "(1034, 1200, 480)\n",
      "{0.0: 544897047, 1.0: 25863453, 2.0: 24823500}\n",
      "[0.022717421672285045, 0.47861575114049626, 0.49866682718721866]\n",
      "\n",
      "(334, 360, 360)\n",
      "{0.0: 38515458, 1.0: 2761631, 2.0: 2009311}\n",
      "[0.02931251208400809, 0.4088108903927085, 0.5618765975232833]\n",
      "\n",
      "(365, 360, 360)\n",
      "{0.0: 42097701, 1.0: 2727906, 2.0: 2478393}\n",
      "[0.029923879919032025, 0.461792506630109, 0.5082836134508588]\n",
      "\n"
     ]
    }
   ],
   "source": [
    "input_dir = [\"/home/ollie/ssunar/segmentation_masks_3_years\", \"/home/ollie/ssunar/segmentation_masks_NN_gulf\",\"/home/ollie/ssunar/segmentation_masks_NN_kursaal\"]\n",
    "for i in range(3):\n",
    "    input_file_paths = sorted(\n",
    "        [\n",
    "            os.path.join(input_dir[i], fname)\n",
    "            for fname in os.listdir(input_dir[i])\n",
    "        ])\n",
    "    if i==0:\n",
    "        input_file_paths.pop(29)\n",
    "        input_file_paths.pop(11)\n",
    "    elif i==1:\n",
    "        input_file_paths.pop(6)\n",
    "\n",
    "    data_y = xr.open_mfdataset(input_file_paths,combine = 'nested', concat_dim=\"TIME\")\n",
    "    data_y = data_y.seg_mask.to_numpy()\n",
    "    data_y = np.float32(data_y)\n",
    "    print(data_y.shape)\n",
    "\n",
    "    unique, counts = np.unique(data_y, return_counts=True)\n",
    "    print(dict(zip(unique, counts)))\n",
    "\n",
    "    freq = [np.sum(counts)/j for j in counts]\n",
    "    weightsSeg = [f/np.sum(freq) for f in freq]\n",
    "    print(weightsSeg)\n",
    "    print()"
   ]
  }
 ],
 "metadata": {
  "kernelspec": {
   "display_name": "eddy-tracking",
   "language": "python",
   "name": "eddy-tracking"
  },
  "language_info": {
   "codemirror_mode": {
    "name": "ipython",
    "version": 3
   },
   "file_extension": ".py",
   "mimetype": "text/x-python",
   "name": "python",
   "nbconvert_exporter": "python",
   "pygments_lexer": "ipython3",
   "version": "3.8.12"
  }
 },
 "nbformat": 4,
 "nbformat_minor": 2
}
