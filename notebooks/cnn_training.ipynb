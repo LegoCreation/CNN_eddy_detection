{
 "cells": [
  {
   "cell_type": "code",
   "execution_count": 2,
   "metadata": {},
   "outputs": [],
   "source": [
    "from IPython.core.interactiveshell import InteractiveShell\n",
    "InteractiveShell.ast_node_interactivity = \"all\"\n",
    "\n",
    "# standard imports\n",
    "from tensorflow import keras\n",
    "import numpy as np\n",
    "from tensorflow.keras.preprocessing.image import load_img\n",
    "from tensorflow.keras import layers\n",
    "import random\n",
    "from sklearn import preprocessing\n",
    "from keras.callbacks import History\n",
    "import matplotlib.pyplot as plt\n",
    "from keras.utils import np_utils\n",
    "import os\n",
    "from tensorflow.keras.optimizers import Adam\n",
    "from plain_neural_network import*\n",
    "from keras import backend as K\n",
    "\n",
    "%matplotlib inline"
   ]
  },
  {
   "cell_type": "code",
   "execution_count": 2,
   "metadata": {},
   "outputs": [
    {
     "name": "stdout",
     "output_type": "stream",
     "text": [
      "(1095, 1200, 480)\n"
     ]
    }
   ],
   "source": [
    "input_dir = \"/home/ollie/ssunar/ssh_filtered/months\"\n",
    "input_file_paths = sorted(\n",
    "    [\n",
    "        os.path.join(input_dir, fname)\n",
    "        for fname in os.listdir(input_dir)\n",
    "    ])\n",
    "#input_file_paths.pop(29)\n",
    "#input_file_paths.pop(11)\n",
    "\n",
    "data_x = xr.open_mfdataset(input_file_paths,combine = 'nested', concat_dim=\"TIME\")\n",
    "data_x = data_x.ssh.to_numpy()\n",
    "X = np.float32(data_x)\n",
    "                            \n",
    "X[X>1000] = 0\n",
    "print(X.shape)"
   ]
  },
  {
   "cell_type": "code",
   "execution_count": null,
   "metadata": {},
   "outputs": [],
   "source": []
  },
  {
   "cell_type": "code",
   "execution_count": 3,
   "metadata": {},
   "outputs": [
    {
     "data": {
      "text/plain": [
       "(1095, 1200, 480)"
      ]
     },
     "execution_count": 3,
     "metadata": {},
     "output_type": "execute_result"
    }
   ],
   "source": [
    "input_dir = \"/home/ollie/ssunar/segmentation_masks_3_years\"\n",
    "input_file_paths = sorted(\n",
    "    [\n",
    "        os.path.join(input_dir, fname)\n",
    "        for fname in os.listdir(input_dir)\n",
    "    ])\n",
    "#input_file_paths.pop(29)\n",
    "#input_file_paths.pop(11)\n",
    "\n",
    "data_y = xr.open_mfdataset(input_file_paths,combine = 'nested', concat_dim=\"TIME\")\n",
    "data_y = data_y.seg_mask.to_numpy()\n",
    "Y = np.float32(data_y)\n",
    "\n",
    "\n",
    "(Y.shape)"
   ]
  },
  {
   "cell_type": "code",
   "execution_count": 4,
   "metadata": {},
   "outputs": [],
   "source": [
    "Y[(Y != 1) & (Y!=2)] = 0"
   ]
  },
  {
   "cell_type": "code",
   "execution_count": 5,
   "metadata": {},
   "outputs": [],
   "source": [
    "#X = X[0:365]\n",
    "#Y = Y[0:365]"
   ]
  },
  {
   "cell_type": "code",
   "execution_count": 6,
   "metadata": {},
   "outputs": [
    {
     "name": "stdout",
     "output_type": "stream",
     "text": [
      "Shape of data X: (8760, 256, 256)\n",
      "Shape of data Y: (8760, 256, 256)\n"
     ]
    }
   ],
   "source": [
    "temp_x_1 = X[:,0:256, 0:256]\n",
    "temp_x_2 = X[:,0:256, 224:480]\n",
    "temp_y_1 = Y[:,0:256, 0:256]\n",
    "temp_y_2 = Y[:,0:256, 224:480]\n",
    "data_x = np.concatenate((temp_x_1,temp_x_2), axis=0)\n",
    "data_y = np.concatenate((temp_y_1,temp_y_2), axis=0)\n",
    "\n",
    "for i in range(1,4):\n",
    "    temp_x_1 = X[:,256*i:256*(i+1), 0:256]\n",
    "    temp_x_2 = X[:,256*i:256*(i+1), 224:480]\n",
    "    temp_y_1 = Y[:,256*i:256*(i+1), 0:256]\n",
    "    temp_y_2 = Y[:,256*i:256*(i+1), 224:480]\n",
    "    data_x = np.concatenate((data_x, np.concatenate((temp_x_1,temp_x_2), axis=0)), axis=0)\n",
    "    data_y = np.concatenate((data_y, np.concatenate((temp_y_1,temp_y_2), axis=0)), axis=0)\n",
    "    \n",
    "print(\"Shape of data X:\", data_x.shape)  \n",
    "print(\"Shape of data Y:\",data_y.shape)"
   ]
  },
  {
   "cell_type": "code",
   "execution_count": 6,
   "metadata": {},
   "outputs": [
    {
     "data": {
      "text/plain": [
       "'\\ndata_x_1 = data_x\\ndata_y_1 = data_y\\n\\n#only using a portion of data from this region\\nused_split = 0.4\\nused_samples = int(used_split*len(data_x))\\n#same seed must be used\\nrandom.Random(0).shuffle(data_x)\\nrandom.Random(0).shuffle(data_y)\\ndata_x_1 = data_x[0:used_samples]\\ndata_y_1 = data_y[0:used_samples]\\n'"
      ]
     },
     "execution_count": 6,
     "metadata": {},
     "output_type": "execute_result"
    }
   ],
   "source": [
    "\"\"\"\n",
    "data_x_1 = data_x\n",
    "data_y_1 = data_y\n",
    "\n",
    "#only using a portion of data from this region\n",
    "used_split = 0.4\n",
    "used_samples = int(used_split*len(data_x))\n",
    "#same seed must be used\n",
    "random.Random(0).shuffle(data_x)\n",
    "random.Random(0).shuffle(data_y)\n",
    "data_x_1 = data_x[0:used_samples]\n",
    "data_y_1 = data_y[0:used_samples]\n",
    "\"\"\""
   ]
  },
  {
   "cell_type": "code",
   "execution_count": null,
   "metadata": {},
   "outputs": [],
   "source": []
  },
  {
   "cell_type": "code",
   "execution_count": 7,
   "metadata": {},
   "outputs": [
    {
     "data": {
      "text/plain": [
       "'\\ninput_dir = \"/work/ollie/bpanthi/NN_gulf/\"\\ninput_file_paths = sorted(\\n    [\\n        os.path.join(input_dir, fname)\\n        for fname in os.listdir(input_dir)\\n    ])\\ninput_file_paths.pop(6)\\ndata_x_2 = xr.open_mfdataset(input_file_paths,combine = \\'nested\\', concat_dim=\"TIME\")\\ndata_x_2 = data_x_2.ssh.to_numpy()\\ndata_x_2 = np.float32(data_x_2)\\n                            \\ndata_x_2[data_x_2>1000] = 0\\ndata_x_2 = data_x_2[:,52:308, 52:308]\\nprint(data_x_2.shape)\\n\\ninput_dir = \"/home/ollie/ssunar/segmentation_masks_NN_gulf\"\\ninput_file_paths = sorted(\\n    [\\n        os.path.join(input_dir, fname)\\n        for fname in os.listdir(input_dir)\\n    ])\\ninput_file_paths.pop(6)\\ndata_y_2 = xr.open_mfdataset(input_file_paths,combine = \\'nested\\', concat_dim=\"TIME\")\\ndata_y_2 = data_y_2.seg_mask.to_numpy()\\ndata_y_2 = np.float32(data_y_2)\\ndata_y_2 = data_y_2[:,52:308, 52:308]\\nprint(data_y_2.shape)\\n'"
      ]
     },
     "execution_count": 7,
     "metadata": {},
     "output_type": "execute_result"
    }
   ],
   "source": [
    "\"\"\"\n",
    "input_dir = \"/work/ollie/bpanthi/NN_gulf/\"\n",
    "input_file_paths = sorted(\n",
    "    [\n",
    "        os.path.join(input_dir, fname)\n",
    "        for fname in os.listdir(input_dir)\n",
    "    ])\n",
    "input_file_paths.pop(6)\n",
    "data_x_2 = xr.open_mfdataset(input_file_paths,combine = 'nested', concat_dim=\"TIME\")\n",
    "data_x_2 = data_x_2.ssh.to_numpy()\n",
    "data_x_2 = np.float32(data_x_2)\n",
    "                            \n",
    "data_x_2[data_x_2>1000] = 0\n",
    "data_x_2 = data_x_2[:,52:308, 52:308]\n",
    "print(data_x_2.shape)\n",
    "\n",
    "input_dir = \"/home/ollie/ssunar/segmentation_masks_NN_gulf\"\n",
    "input_file_paths = sorted(\n",
    "    [\n",
    "        os.path.join(input_dir, fname)\n",
    "        for fname in os.listdir(input_dir)\n",
    "    ])\n",
    "input_file_paths.pop(6)\n",
    "data_y_2 = xr.open_mfdataset(input_file_paths,combine = 'nested', concat_dim=\"TIME\")\n",
    "data_y_2 = data_y_2.seg_mask.to_numpy()\n",
    "data_y_2 = np.float32(data_y_2)\n",
    "data_y_2 = data_y_2[:,52:308, 52:308]\n",
    "print(data_y_2.shape)\n",
    "\"\"\""
   ]
  },
  {
   "cell_type": "code",
   "execution_count": 8,
   "metadata": {},
   "outputs": [
    {
     "data": {
      "text/plain": [
       "'\\ninput_dir = \"/work/ollie/bpanthi/NN_kursaal/\"\\ninput_file_paths = sorted(\\n    [\\n        os.path.join(input_dir, fname)\\n        for fname in os.listdir(input_dir)\\n    ])\\n\\ndata_x_3 = xr.open_mfdataset(input_file_paths,combine = \\'nested\\', concat_dim=\"TIME\")\\ndata_x_3 = data_x_3.ssh.to_numpy()\\ndata_x_3 = np.float32(data_x_3)\\n                            \\ndata_x_3[data_x_3>1000] = 0\\ndata_x_3 = data_x_3[:,52:308, 52:308]\\nprint(data_x_3.shape)\\n\\ninput_dir = \"/home/ollie/ssunar/segmentation_masks_NN_kursaal\"\\ninput_file_paths = sorted(\\n    [\\n        os.path.join(input_dir, fname)\\n        for fname in os.listdir(input_dir)\\n    ])\\ndata_y_3 = xr.open_mfdataset(input_file_paths,combine = \\'nested\\', concat_dim=\"TIME\")\\ndata_y_3 = data_y_3.seg_mask.to_numpy()\\ndata_y_3 = np.float32(data_y_3)\\ndata_y_3 = data_y_3[:,52:308, 52:308]\\nprint(data_y_3.shape)\\n'"
      ]
     },
     "execution_count": 8,
     "metadata": {},
     "output_type": "execute_result"
    }
   ],
   "source": [
    "\"\"\"\n",
    "input_dir = \"/work/ollie/bpanthi/NN_kursaal/\"\n",
    "input_file_paths = sorted(\n",
    "    [\n",
    "        os.path.join(input_dir, fname)\n",
    "        for fname in os.listdir(input_dir)\n",
    "    ])\n",
    "\n",
    "data_x_3 = xr.open_mfdataset(input_file_paths,combine = 'nested', concat_dim=\"TIME\")\n",
    "data_x_3 = data_x_3.ssh.to_numpy()\n",
    "data_x_3 = np.float32(data_x_3)\n",
    "                            \n",
    "data_x_3[data_x_3>1000] = 0\n",
    "data_x_3 = data_x_3[:,52:308, 52:308]\n",
    "print(data_x_3.shape)\n",
    "\n",
    "input_dir = \"/home/ollie/ssunar/segmentation_masks_NN_kursaal\"\n",
    "input_file_paths = sorted(\n",
    "    [\n",
    "        os.path.join(input_dir, fname)\n",
    "        for fname in os.listdir(input_dir)\n",
    "    ])\n",
    "data_y_3 = xr.open_mfdataset(input_file_paths,combine = 'nested', concat_dim=\"TIME\")\n",
    "data_y_3 = data_y_3.seg_mask.to_numpy()\n",
    "data_y_3 = np.float32(data_y_3)\n",
    "data_y_3 = data_y_3[:,52:308, 52:308]\n",
    "print(data_y_3.shape)\n",
    "\"\"\""
   ]
  },
  {
   "cell_type": "code",
   "execution_count": 9,
   "metadata": {},
   "outputs": [
    {
     "data": {
      "text/plain": [
       "'\\ndata_x = np.concatenate((data_x_1, np.concatenate((data_x_2,data_x_3), axis=0)), axis=0)\\ndata_y = np.concatenate((data_y_1, np.concatenate((data_y_2,data_y_3), axis=0)), axis=0)\\nprint(data_x.shape)\\nprint(data_y.shape)\\n'"
      ]
     },
     "execution_count": 9,
     "metadata": {},
     "output_type": "execute_result"
    }
   ],
   "source": [
    "\"\"\"\n",
    "data_x = np.concatenate((data_x_1, np.concatenate((data_x_2,data_x_3), axis=0)), axis=0)\n",
    "data_y = np.concatenate((data_y_1, np.concatenate((data_y_2,data_y_3), axis=0)), axis=0)\n",
    "print(data_x.shape)\n",
    "print(data_y.shape)\n",
    "\"\"\""
   ]
  },
  {
   "cell_type": "code",
   "execution_count": 7,
   "metadata": {},
   "outputs": [
    {
     "name": "stdout",
     "output_type": "stream",
     "text": [
      "8760\n"
     ]
    }
   ],
   "source": [
    "img_size = (256, 256)\n",
    "num_classes = 3\n",
    "batch_size = 16\n",
    "epochs = 60\n",
    "total_samples = len(data_x)\n",
    "print(total_samples)"
   ]
  },
  {
   "cell_type": "code",
   "execution_count": 8,
   "metadata": {},
   "outputs": [
    {
     "name": "stderr",
     "output_type": "stream",
     "text": [
      "2023-03-09 23:32:35.825659: W tensorflow/stream_executor/platform/default/dso_loader.cc:64] Could not load dynamic library 'libcuda.so.1'; dlerror: libcuda.so.1: cannot open shared object file: No such file or directory\n",
      "2023-03-09 23:32:35.825692: W tensorflow/stream_executor/cuda/cuda_driver.cc:269] failed call to cuInit: UNKNOWN ERROR (303)\n",
      "2023-03-09 23:32:35.825714: I tensorflow/stream_executor/cuda/cuda_diagnostics.cc:156] kernel driver does not appear to be running on this host (prod-0060): /proc/driver/nvidia/version does not exist\n",
      "2023-03-09 23:32:35.826005: I tensorflow/core/platform/cpu_feature_guard.cc:151] This TensorFlow binary is optimized with oneAPI Deep Neural Network Library (oneDNN) to use the following CPU instructions in performance-critical operations:  AVX2 FMA\n",
      "To enable them in other operations, rebuild TensorFlow with the appropriate compiler flags.\n"
     ]
    },
    {
     "name": "stdout",
     "output_type": "stream",
     "text": [
      "Model: \"model\"\n",
      "__________________________________________________________________________________________________\n",
      " Layer (type)                   Output Shape         Param #     Connected to                     \n",
      "==================================================================================================\n",
      " input_1 (InputLayer)           [(None, 256, 256, 1  0           []                               \n",
      "                                )]                                                                \n",
      "                                                                                                  \n",
      " separable_conv2d (SeparableCon  (None, 256, 256, 16  25         ['input_1[0][0]']                \n",
      " v2D)                           )                                                                 \n",
      "                                                                                                  \n",
      " batch_normalization (BatchNorm  (None, 256, 256, 16  64         ['separable_conv2d[0][0]']       \n",
      " alization)                     )                                                                 \n",
      "                                                                                                  \n",
      " activation (Activation)        (None, 256, 256, 16  0           ['batch_normalization[0][0]']    \n",
      "                                )                                                                 \n",
      "                                                                                                  \n",
      " separable_conv2d_1 (SeparableC  (None, 256, 256, 16  400        ['activation[0][0]']             \n",
      " onv2D)                         )                                                                 \n",
      "                                                                                                  \n",
      " batch_normalization_1 (BatchNo  (None, 256, 256, 16  64         ['separable_conv2d_1[0][0]']     \n",
      " rmalization)                   )                                                                 \n",
      "                                                                                                  \n",
      " activation_1 (Activation)      (None, 256, 256, 16  0           ['batch_normalization_1[0][0]']  \n",
      "                                )                                                                 \n",
      "                                                                                                  \n",
      " dropout (Dropout)              (None, 256, 256, 16  0           ['activation_1[0][0]']           \n",
      "                                )                                                                 \n",
      "                                                                                                  \n",
      " max_pooling2d (MaxPooling2D)   (None, 128, 128, 16  0           ['dropout[0][0]']                \n",
      "                                )                                                                 \n",
      "                                                                                                  \n",
      " separable_conv2d_2 (SeparableC  (None, 128, 128, 16  400        ['max_pooling2d[0][0]']          \n",
      " onv2D)                         )                                                                 \n",
      "                                                                                                  \n",
      " batch_normalization_2 (BatchNo  (None, 128, 128, 16  64         ['separable_conv2d_2[0][0]']     \n",
      " rmalization)                   )                                                                 \n",
      "                                                                                                  \n",
      " activation_2 (Activation)      (None, 128, 128, 16  0           ['batch_normalization_2[0][0]']  \n",
      "                                )                                                                 \n",
      "                                                                                                  \n",
      " separable_conv2d_3 (SeparableC  (None, 128, 128, 16  400        ['activation_2[0][0]']           \n",
      " onv2D)                         )                                                                 \n",
      "                                                                                                  \n",
      " batch_normalization_3 (BatchNo  (None, 128, 128, 16  64         ['separable_conv2d_3[0][0]']     \n",
      " rmalization)                   )                                                                 \n",
      "                                                                                                  \n",
      " activation_3 (Activation)      (None, 128, 128, 16  0           ['batch_normalization_3[0][0]']  \n",
      "                                )                                                                 \n",
      "                                                                                                  \n",
      " dropout_1 (Dropout)            (None, 128, 128, 16  0           ['activation_3[0][0]']           \n",
      "                                )                                                                 \n",
      "                                                                                                  \n",
      " max_pooling2d_1 (MaxPooling2D)  (None, 64, 64, 16)  0           ['dropout_1[0][0]']              \n",
      "                                                                                                  \n",
      " separable_conv2d_4 (SeparableC  (None, 64, 64, 32)  656         ['max_pooling2d_1[0][0]']        \n",
      " onv2D)                                                                                           \n",
      "                                                                                                  \n",
      " batch_normalization_4 (BatchNo  (None, 64, 64, 32)  128         ['separable_conv2d_4[0][0]']     \n",
      " rmalization)                                                                                     \n",
      "                                                                                                  \n",
      " activation_4 (Activation)      (None, 64, 64, 32)   0           ['batch_normalization_4[0][0]']  \n",
      "                                                                                                  \n",
      " separable_conv2d_5 (SeparableC  (None, 64, 64, 32)  1312        ['activation_4[0][0]']           \n",
      " onv2D)                                                                                           \n",
      "                                                                                                  \n",
      " batch_normalization_5 (BatchNo  (None, 64, 64, 32)  128         ['separable_conv2d_5[0][0]']     \n",
      " rmalization)                                                                                     \n",
      "                                                                                                  \n",
      " activation_5 (Activation)      (None, 64, 64, 32)   0           ['batch_normalization_5[0][0]']  \n",
      "                                                                                                  \n",
      " dropout_2 (Dropout)            (None, 64, 64, 32)   0           ['activation_5[0][0]']           \n",
      "                                                                                                  \n",
      " max_pooling2d_2 (MaxPooling2D)  (None, 32, 32, 32)  0           ['dropout_2[0][0]']              \n",
      "                                                                                                  \n",
      " separable_conv2d_6 (SeparableC  (None, 32, 32, 32)  1312        ['max_pooling2d_2[0][0]']        \n",
      " onv2D)                                                                                           \n",
      "                                                                                                  \n",
      " batch_normalization_6 (BatchNo  (None, 32, 32, 32)  128         ['separable_conv2d_6[0][0]']     \n",
      " rmalization)                                                                                     \n",
      "                                                                                                  \n",
      " activation_6 (Activation)      (None, 32, 32, 32)   0           ['batch_normalization_6[0][0]']  \n",
      "                                                                                                  \n",
      " separable_conv2d_7 (SeparableC  (None, 32, 32, 32)  1312        ['activation_6[0][0]']           \n",
      " onv2D)                                                                                           \n"
     ]
    },
    {
     "name": "stdout",
     "output_type": "stream",
     "text": [
      "                                                                                                  \n",
      " batch_normalization_7 (BatchNo  (None, 32, 32, 32)  128         ['separable_conv2d_7[0][0]']     \n",
      " rmalization)                                                                                     \n",
      "                                                                                                  \n",
      " activation_7 (Activation)      (None, 32, 32, 32)   0           ['batch_normalization_7[0][0]']  \n",
      "                                                                                                  \n",
      " dropout_3 (Dropout)            (None, 32, 32, 32)   0           ['activation_7[0][0]']           \n",
      "                                                                                                  \n",
      " up_sampling2d (UpSampling2D)   (None, 64, 64, 32)   0           ['dropout_3[0][0]']              \n",
      "                                                                                                  \n",
      " concatenate (Concatenate)      (None, 64, 64, 64)   0           ['up_sampling2d[0][0]',          \n",
      "                                                                  'dropout_2[0][0]']              \n",
      "                                                                                                  \n",
      " separable_conv2d_8 (SeparableC  (None, 64, 64, 32)  2624        ['concatenate[0][0]']            \n",
      " onv2D)                                                                                           \n",
      "                                                                                                  \n",
      " batch_normalization_8 (BatchNo  (None, 64, 64, 32)  128         ['separable_conv2d_8[0][0]']     \n",
      " rmalization)                                                                                     \n",
      "                                                                                                  \n",
      " activation_8 (Activation)      (None, 64, 64, 32)   0           ['batch_normalization_8[0][0]']  \n",
      "                                                                                                  \n",
      " separable_conv2d_9 (SeparableC  (None, 64, 64, 32)  1312        ['activation_8[0][0]']           \n",
      " onv2D)                                                                                           \n",
      "                                                                                                  \n",
      " batch_normalization_9 (BatchNo  (None, 64, 64, 32)  128         ['separable_conv2d_9[0][0]']     \n",
      " rmalization)                                                                                     \n",
      "                                                                                                  \n",
      " activation_9 (Activation)      (None, 64, 64, 32)   0           ['batch_normalization_9[0][0]']  \n",
      "                                                                                                  \n",
      " dropout_4 (Dropout)            (None, 64, 64, 32)   0           ['activation_9[0][0]']           \n",
      "                                                                                                  \n",
      " up_sampling2d_1 (UpSampling2D)  (None, 128, 128, 32  0          ['dropout_4[0][0]']              \n",
      "                                )                                                                 \n",
      "                                                                                                  \n",
      " concatenate_1 (Concatenate)    (None, 128, 128, 48  0           ['up_sampling2d_1[0][0]',        \n",
      "                                )                                 'dropout_1[0][0]']              \n",
      "                                                                                                  \n",
      " separable_conv2d_10 (Separable  (None, 128, 128, 16  1200       ['concatenate_1[0][0]']          \n",
      " Conv2D)                        )                                                                 \n",
      "                                                                                                  \n",
      " batch_normalization_10 (BatchN  (None, 128, 128, 16  64         ['separable_conv2d_10[0][0]']    \n",
      " ormalization)                  )                                                                 \n",
      "                                                                                                  \n",
      " activation_10 (Activation)     (None, 128, 128, 16  0           ['batch_normalization_10[0][0]'] \n",
      "                                )                                                                 \n",
      "                                                                                                  \n",
      " separable_conv2d_11 (Separable  (None, 128, 128, 16  400        ['activation_10[0][0]']          \n",
      " Conv2D)                        )                                                                 \n",
      "                                                                                                  \n",
      " batch_normalization_11 (BatchN  (None, 128, 128, 16  64         ['separable_conv2d_11[0][0]']    \n",
      " ormalization)                  )                                                                 \n",
      "                                                                                                  \n",
      " activation_11 (Activation)     (None, 128, 128, 16  0           ['batch_normalization_11[0][0]'] \n",
      "                                )                                                                 \n",
      "                                                                                                  \n",
      " dropout_5 (Dropout)            (None, 128, 128, 16  0           ['activation_11[0][0]']          \n",
      "                                )                                                                 \n",
      "                                                                                                  \n",
      " up_sampling2d_2 (UpSampling2D)  (None, 256, 256, 16  0          ['dropout_5[0][0]']              \n",
      "                                )                                                                 \n",
      "                                                                                                  \n",
      " concatenate_2 (Concatenate)    (None, 256, 256, 32  0           ['up_sampling2d_2[0][0]',        \n",
      "                                )                                 'dropout[0][0]']                \n",
      "                                                                                                  \n",
      " separable_conv2d_12 (Separable  (None, 256, 256, 16  800        ['concatenate_2[0][0]']          \n",
      " Conv2D)                        )                                                                 \n",
      "                                                                                                  \n",
      " batch_normalization_12 (BatchN  (None, 256, 256, 16  64         ['separable_conv2d_12[0][0]']    \n",
      " ormalization)                  )                                                                 \n",
      "                                                                                                  \n",
      " activation_12 (Activation)     (None, 256, 256, 16  0           ['batch_normalization_12[0][0]'] \n",
      "                                )                                                                 \n",
      "                                                                                                  \n",
      " separable_conv2d_13 (Separable  (None, 256, 256, 16  400        ['activation_12[0][0]']          \n",
      " Conv2D)                        )                                                                 \n",
      "                                                                                                  \n",
      " batch_normalization_13 (BatchN  (None, 256, 256, 16  64         ['separable_conv2d_13[0][0]']    \n",
      " ormalization)                  )                                                                 \n",
      "                                                                                                  \n",
      " activation_13 (Activation)     (None, 256, 256, 16  0           ['batch_normalization_13[0][0]'] \n",
      "                                )                                                                 \n",
      "                                                                                                  \n",
      " dropout_6 (Dropout)            (None, 256, 256, 16  0           ['activation_13[0][0]']          \n"
     ]
    },
    {
     "name": "stdout",
     "output_type": "stream",
     "text": [
      "                                )                                                                 \n",
      "                                                                                                  \n",
      " separable_conv2d_14 (Separable  (None, 256, 256, 3)  64         ['dropout_6[0][0]']              \n",
      " Conv2D)                                                                                          \n",
      "                                                                                                  \n",
      " reshape (Reshape)              (None, 65536, 3)     0           ['separable_conv2d_14[0][0]']    \n",
      "                                                                                                  \n",
      " activation_14 (Activation)     (None, 65536, 3)     0           ['reshape[0][0]']                \n",
      "                                                                                                  \n",
      "==================================================================================================\n",
      "Total params: 13,897\n",
      "Trainable params: 13,257\n",
      "Non-trainable params: 640\n",
      "__________________________________________________________________________________________________\n"
     ]
    }
   ],
   "source": [
    "model = get_model(img_size, num_classes)\n",
    "model.summary()"
   ]
  },
  {
   "cell_type": "code",
   "execution_count": 9,
   "metadata": {},
   "outputs": [
    {
     "data": {
      "text/plain": [
       "{0.0: 509594946, 1.0: 29774289, 2.0: 34726125}"
      ]
     },
     "execution_count": 9,
     "metadata": {},
     "output_type": "execute_result"
    },
    {
     "name": "stdout",
     "output_type": "stream",
     "text": [
      "[0.03049714615889355, 0.5219668402491648, 0.4475360135919417]\n"
     ]
    }
   ],
   "source": [
    "#Loss function \n",
    "#defined from the paper:\n",
    "#Santana et al._2020_Neural network training for the detection and classification of oceanic mesoscale eddies\n",
    "\n",
    "unique, counts = np.unique(data_y, return_counts=True)\n",
    "dict(zip(unique, counts))\n",
    "\n",
    "freq = [np.sum(counts)/j for j in counts]\n",
    "weightsSeg = [f/np.sum(freq) for f in freq]\n",
    "print(weightsSeg)\n",
    "\n",
    "def dice_coef_anti(y_true, y_pred):\n",
    "    smooth = 1.  # to avoid zero division\n",
    "    y_true_anti = y_true[:,:,1]\n",
    "    y_pred_anti = y_pred[:,:,1]\n",
    "    intersection_anti = K.sum(y_true_anti * y_pred_anti)\n",
    "    return (2 * intersection_anti + smooth) / (K.sum(y_true_anti)+ K.sum(y_pred_anti) + smooth)\n",
    "\n",
    "def dice_coef_cyc(y_true, y_pred):\n",
    "    smooth = 1.  # to avoid zero division\n",
    "    y_true_cyc = y_true[:,:,2]\n",
    "    y_pred_cyc = y_pred[:,:,2]\n",
    "    intersection_cyc = K.sum(y_true_cyc * y_pred_cyc)\n",
    "    return (2 * intersection_cyc + smooth) / (K.sum(y_true_cyc) + K.sum(y_pred_cyc) + smooth)\n",
    "\n",
    "def dice_coef_nn(y_true, y_pred):\n",
    "    smooth = 1.  # to avoid zero division\n",
    "    y_true_nn = y_true[:,:,0]\n",
    "    y_pred_nn = y_pred[:,:,0]\n",
    "    intersection_nn = K.sum(y_true_nn * y_pred_nn)\n",
    "    return (2 * intersection_nn + smooth) / (K.sum(y_true_nn) + K.sum(y_pred_nn) + smooth)\n",
    "    \n",
    "def mean_dice_coef(y_true, y_pred):\n",
    "    return (dice_coef_anti(y_true, y_pred) + dice_coef_cyc(y_true, y_pred) + dice_coef_nn(y_true, y_pred))/3.\n",
    "\n",
    "def weighted_mean_dice_coef(y_true, y_pred):\n",
    "    #return (weightsSeg[2]*dice_coef_anti(y_true, y_pred) + weightsSeg[1]*dice_coef_cyc(y_true, y_pred) + weightsSeg[0]*dice_coef_nn(y_true, y_pred))\n",
    "    return (weightsSeg[2]*dice_coef_anti(y_true, y_pred) + weightsSeg[1]*dice_coef_cyc(y_true, y_pred) + weightsSeg[0]*dice_coef_nn(y_true, y_pred))\n",
    "      \n",
    "def dice_coef_loss(y_true, y_pred):\n",
    "    return 1 - weighted_mean_dice_coef(y_true, y_pred)"
   ]
  },
  {
   "cell_type": "code",
   "execution_count": 10,
   "metadata": {},
   "outputs": [
    {
     "name": "stdout",
     "output_type": "stream",
     "text": [
      "train_input: (7008, 256, 256)\n",
      "val_input: (1752, 256, 256)\n",
      "Size of each batch:  (16, 256, 256, 1)\n"
     ]
    }
   ],
   "source": [
    "# Split our img paths into a training and a validation set\n",
    "split = 0.2\n",
    "train_samples = int((1-split)*total_samples)\n",
    "#same seed must be used\n",
    "random.Random(0).shuffle(data_x)\n",
    "random.Random(0).shuffle(data_y)\n",
    "train_input = data_x[0:train_samples]\n",
    "train_target = data_y[0:train_samples]\n",
    "val_input = data_x[train_samples:total_samples]\n",
    "val_target = data_y[train_samples:total_samples]\n",
    "\n",
    "print(\"train_input:\", train_input.shape)\n",
    "print(\"val_input:\", val_input.shape)\n",
    "\n",
    "# Instantiate data Sequences for each split\n",
    "train_gen = plain_net_eddy(batch_size, img_size, train_input, train_target)\n",
    "val_gen = plain_net_eddy(batch_size, img_size, val_input, val_target)\n",
    "print(\"Size of each batch: \",train_gen[1][0].shape)"
   ]
  },
  {
   "cell_type": "code",
   "execution_count": 13,
   "metadata": {},
   "outputs": [
    {
     "name": "stdout",
     "output_type": "stream",
     "text": [
      "Epoch 1/60\n",
      "438/438 [==============================] - 462s 1s/step - loss: 0.3911 - categorical_accuracy: 0.9175 - mean_dice_coef: 0.7170 - weighted_mean_dice_coef: 0.6089 - val_loss: 0.4303 - val_categorical_accuracy: 0.8999 - val_mean_dice_coef: 0.6856 - val_weighted_mean_dice_coef: 0.5697 - lr: 0.0010\n",
      "Epoch 2/60\n",
      "438/438 [==============================] - 463s 1s/step - loss: 0.3698 - categorical_accuracy: 0.9221 - mean_dice_coef: 0.7325 - weighted_mean_dice_coef: 0.6302 - val_loss: 0.4788 - val_categorical_accuracy: 0.8961 - val_mean_dice_coef: 0.6514 - val_weighted_mean_dice_coef: 0.5212 - lr: 0.0010\n",
      "Epoch 3/60\n",
      "438/438 [==============================] - 462s 1s/step - loss: 0.3542 - categorical_accuracy: 0.9256 - mean_dice_coef: 0.7439 - weighted_mean_dice_coef: 0.6458 - val_loss: 0.4809 - val_categorical_accuracy: 0.9086 - val_mean_dice_coef: 0.6554 - val_weighted_mean_dice_coef: 0.5191 - lr: 0.0010\n",
      "Epoch 4/60\n",
      "438/438 [==============================] - 463s 1s/step - loss: 0.3462 - categorical_accuracy: 0.9275 - mean_dice_coef: 0.7497 - weighted_mean_dice_coef: 0.6538 - val_loss: 0.4626 - val_categorical_accuracy: 0.9138 - val_mean_dice_coef: 0.6675 - val_weighted_mean_dice_coef: 0.5374 - lr: 0.0010\n",
      "Epoch 5/60\n",
      "438/438 [==============================] - 464s 1s/step - loss: 0.3383 - categorical_accuracy: 0.9292 - mean_dice_coef: 0.7555 - weighted_mean_dice_coef: 0.6617 - val_loss: 0.4739 - val_categorical_accuracy: 0.9085 - val_mean_dice_coef: 0.6593 - val_weighted_mean_dice_coef: 0.5261 - lr: 0.0010\n",
      "Epoch 6/60\n",
      "438/438 [==============================] - 465s 1s/step - loss: 0.3309 - categorical_accuracy: 0.9309 - mean_dice_coef: 0.7608 - weighted_mean_dice_coef: 0.6691 - val_loss: 0.5038 - val_categorical_accuracy: 0.8981 - val_mean_dice_coef: 0.6361 - val_weighted_mean_dice_coef: 0.4962 - lr: 0.0010\n",
      "Epoch 7/60\n",
      "438/438 [==============================] - 466s 1s/step - loss: 0.3272 - categorical_accuracy: 0.9318 - mean_dice_coef: 0.7636 - weighted_mean_dice_coef: 0.6728 - val_loss: 0.3937 - val_categorical_accuracy: 0.9189 - val_mean_dice_coef: 0.7138 - val_weighted_mean_dice_coef: 0.6063 - lr: 0.0010\n",
      "Epoch 8/60\n",
      "438/438 [==============================] - 465s 1s/step - loss: 0.3225 - categorical_accuracy: 0.9328 - mean_dice_coef: 0.7669 - weighted_mean_dice_coef: 0.6775 - val_loss: 0.4081 - val_categorical_accuracy: 0.9210 - val_mean_dice_coef: 0.7053 - val_weighted_mean_dice_coef: 0.5919 - lr: 0.0010\n",
      "Epoch 9/60\n",
      "438/438 [==============================] - 466s 1s/step - loss: 0.3187 - categorical_accuracy: 0.9337 - mean_dice_coef: 0.7697 - weighted_mean_dice_coef: 0.6813 - val_loss: 0.3771 - val_categorical_accuracy: 0.9248 - val_mean_dice_coef: 0.7271 - val_weighted_mean_dice_coef: 0.6229 - lr: 0.0010\n",
      "Epoch 10/60\n",
      "438/438 [==============================] - 466s 1s/step - loss: 0.3129 - categorical_accuracy: 0.9349 - mean_dice_coef: 0.7739 - weighted_mean_dice_coef: 0.6871 - val_loss: 0.4427 - val_categorical_accuracy: 0.9141 - val_mean_dice_coef: 0.6798 - val_weighted_mean_dice_coef: 0.5573 - lr: 0.0010\n",
      "Epoch 11/60\n",
      "438/438 [==============================] - 467s 1s/step - loss: 0.3109 - categorical_accuracy: 0.9355 - mean_dice_coef: 0.7754 - weighted_mean_dice_coef: 0.6891 - val_loss: 0.4434 - val_categorical_accuracy: 0.9120 - val_mean_dice_coef: 0.6795 - val_weighted_mean_dice_coef: 0.5566 - lr: 0.0010\n",
      "Epoch 12/60\n",
      "438/438 [==============================] - 465s 1s/step - loss: 0.3086 - categorical_accuracy: 0.9359 - mean_dice_coef: 0.7770 - weighted_mean_dice_coef: 0.6914 - val_loss: 0.4180 - val_categorical_accuracy: 0.9164 - val_mean_dice_coef: 0.6974 - val_weighted_mean_dice_coef: 0.5820 - lr: 0.0010\n",
      "Epoch 13/60\n",
      "438/438 [==============================] - 464s 1s/step - loss: 0.3065 - categorical_accuracy: 0.9364 - mean_dice_coef: 0.7785 - weighted_mean_dice_coef: 0.6935 - val_loss: 0.4430 - val_categorical_accuracy: 0.9207 - val_mean_dice_coef: 0.6819 - val_weighted_mean_dice_coef: 0.5570 - lr: 0.0010\n",
      "Epoch 14/60\n",
      "438/438 [==============================] - 465s 1s/step - loss: 0.3023 - categorical_accuracy: 0.9373 - mean_dice_coef: 0.7816 - weighted_mean_dice_coef: 0.6977 - val_loss: 0.3686 - val_categorical_accuracy: 0.9292 - val_mean_dice_coef: 0.7342 - val_weighted_mean_dice_coef: 0.6314 - lr: 0.0010\n",
      "Epoch 15/60\n",
      "438/438 [==============================] - 463s 1s/step - loss: 0.3021 - categorical_accuracy: 0.9374 - mean_dice_coef: 0.7817 - weighted_mean_dice_coef: 0.6979 - val_loss: 0.3827 - val_categorical_accuracy: 0.9217 - val_mean_dice_coef: 0.7227 - val_weighted_mean_dice_coef: 0.6173 - lr: 0.0010\n",
      "Epoch 16/60\n",
      "438/438 [==============================] - 462s 1s/step - loss: 0.2995 - categorical_accuracy: 0.9379 - mean_dice_coef: 0.7836 - weighted_mean_dice_coef: 0.7005 - val_loss: 0.3575 - val_categorical_accuracy: 0.9296 - val_mean_dice_coef: 0.7415 - val_weighted_mean_dice_coef: 0.6425 - lr: 0.0010\n",
      "Epoch 17/60\n",
      "438/438 [==============================] - 465s 1s/step - loss: 0.2987 - categorical_accuracy: 0.9381 - mean_dice_coef: 0.7842 - weighted_mean_dice_coef: 0.7013 - val_loss: 0.4264 - val_categorical_accuracy: 0.9191 - val_mean_dice_coef: 0.6915 - val_weighted_mean_dice_coef: 0.5736 - lr: 0.0010\n",
      "Epoch 18/60\n",
      "438/438 [==============================] - 464s 1s/step - loss: 0.2964 - categorical_accuracy: 0.9386 - mean_dice_coef: 0.7859 - weighted_mean_dice_coef: 0.7036 - val_loss: 0.3777 - val_categorical_accuracy: 0.9209 - val_mean_dice_coef: 0.7266 - val_weighted_mean_dice_coef: 0.6223 - lr: 0.0010\n",
      "Epoch 19/60\n",
      "438/438 [==============================] - 460s 1s/step - loss: 0.2967 - categorical_accuracy: 0.9385 - mean_dice_coef: 0.7857 - weighted_mean_dice_coef: 0.7033 - val_loss: 0.3433 - val_categorical_accuracy: 0.9306 - val_mean_dice_coef: 0.7520 - val_weighted_mean_dice_coef: 0.6567 - lr: 0.0010\n",
      "Epoch 20/60\n",
      "438/438 [==============================] - 461s 1s/step - loss: 0.2930 - categorical_accuracy: 0.9394 - mean_dice_coef: 0.7883 - weighted_mean_dice_coef: 0.7070 - val_loss: 0.3796 - val_categorical_accuracy: 0.9308 - val_mean_dice_coef: 0.7281 - val_weighted_mean_dice_coef: 0.6204 - lr: 0.0010\n",
      "Epoch 21/60\n",
      "438/438 [==============================] - 460s 1s/step - loss: 0.2911 - categorical_accuracy: 0.9398 - mean_dice_coef: 0.7897 - weighted_mean_dice_coef: 0.7089 - val_loss: 0.3701 - val_categorical_accuracy: 0.9271 - val_mean_dice_coef: 0.7334 - val_weighted_mean_dice_coef: 0.6299 - lr: 0.0010\n",
      "Epoch 22/60\n",
      "438/438 [==============================] - 461s 1s/step - loss: 0.2919 - categorical_accuracy: 0.9397 - mean_dice_coef: 0.7892 - weighted_mean_dice_coef: 0.7081 - val_loss: 0.3564 - val_categorical_accuracy: 0.9327 - val_mean_dice_coef: 0.7435 - val_weighted_mean_dice_coef: 0.6436 - lr: 0.0010\n",
      "Epoch 23/60\n",
      "438/438 [==============================] - 461s 1s/step - loss: 0.2890 - categorical_accuracy: 0.9403 - mean_dice_coef: 0.7913 - weighted_mean_dice_coef: 0.7110 - val_loss: 0.4018 - val_categorical_accuracy: 0.9194 - val_mean_dice_coef: 0.7099 - val_weighted_mean_dice_coef: 0.5982 - lr: 0.0010\n",
      "Epoch 24/60\n",
      "438/438 [==============================] - 463s 1s/step - loss: 0.2886 - categorical_accuracy: 0.9403 - mean_dice_coef: 0.7916 - weighted_mean_dice_coef: 0.7114 - val_loss: 0.4577 - val_categorical_accuracy: 0.9194 - val_mean_dice_coef: 0.6721 - val_weighted_mean_dice_coef: 0.5423 - lr: 0.0010\n",
      "Epoch 25/60\n",
      "438/438 [==============================] - 460s 1s/step - loss: 0.2883 - categorical_accuracy: 0.9404 - mean_dice_coef: 0.7918 - weighted_mean_dice_coef: 0.7117 - val_loss: 0.3861 - val_categorical_accuracy: 0.9233 - val_mean_dice_coef: 0.7207 - val_weighted_mean_dice_coef: 0.6139 - lr: 0.0010\n",
      "Epoch 26/60\n",
      "438/438 [==============================] - 464s 1s/step - loss: 0.2868 - categorical_accuracy: 0.9407 - mean_dice_coef: 0.7929 - weighted_mean_dice_coef: 0.7132 - val_loss: 0.3770 - val_categorical_accuracy: 0.9281 - val_mean_dice_coef: 0.7277 - val_weighted_mean_dice_coef: 0.6230 - lr: 0.0010\n",
      "Epoch 27/60\n",
      "438/438 [==============================] - 461s 1s/step - loss: 0.2862 - categorical_accuracy: 0.9409 - mean_dice_coef: 0.7933 - weighted_mean_dice_coef: 0.7138 - val_loss: 0.3528 - val_categorical_accuracy: 0.9246 - val_mean_dice_coef: 0.7438 - val_weighted_mean_dice_coef: 0.6472 - lr: 0.0010\n"
     ]
    },
    {
     "name": "stdout",
     "output_type": "stream",
     "text": [
      "Epoch 28/60\n",
      "438/438 [==============================] - 460s 1s/step - loss: 0.2842 - categorical_accuracy: 0.9413 - mean_dice_coef: 0.7948 - weighted_mean_dice_coef: 0.7158 - val_loss: 0.3422 - val_categorical_accuracy: 0.9323 - val_mean_dice_coef: 0.7533 - val_weighted_mean_dice_coef: 0.6578 - lr: 0.0010\n",
      "Epoch 29/60\n",
      "438/438 [==============================] - 461s 1s/step - loss: 0.2837 - categorical_accuracy: 0.9413 - mean_dice_coef: 0.7951 - weighted_mean_dice_coef: 0.7163 - val_loss: 0.3471 - val_categorical_accuracy: 0.9330 - val_mean_dice_coef: 0.7500 - val_weighted_mean_dice_coef: 0.6529 - lr: 0.0010\n",
      "Epoch 30/60\n",
      "438/438 [==============================] - 460s 1s/step - loss: 0.2833 - categorical_accuracy: 0.9415 - mean_dice_coef: 0.7954 - weighted_mean_dice_coef: 0.7167 - val_loss: 0.3838 - val_categorical_accuracy: 0.9285 - val_mean_dice_coef: 0.7233 - val_weighted_mean_dice_coef: 0.6162 - lr: 0.0010\n",
      "Epoch 31/60\n",
      "438/438 [==============================] - 463s 1s/step - loss: 0.2811 - categorical_accuracy: 0.9418 - mean_dice_coef: 0.7970 - weighted_mean_dice_coef: 0.7189 - val_loss: 0.3318 - val_categorical_accuracy: 0.9307 - val_mean_dice_coef: 0.7598 - val_weighted_mean_dice_coef: 0.6682 - lr: 0.0010\n",
      "Epoch 32/60\n",
      "438/438 [==============================] - 459s 1s/step - loss: 0.2812 - categorical_accuracy: 0.9420 - mean_dice_coef: 0.7970 - weighted_mean_dice_coef: 0.7188 - val_loss: 0.3499 - val_categorical_accuracy: 0.9307 - val_mean_dice_coef: 0.7477 - val_weighted_mean_dice_coef: 0.6501 - lr: 0.0010\n",
      "Epoch 33/60\n",
      "438/438 [==============================] - 460s 1s/step - loss: 0.2814 - categorical_accuracy: 0.9419 - mean_dice_coef: 0.7968 - weighted_mean_dice_coef: 0.7186 - val_loss: 0.3659 - val_categorical_accuracy: 0.9169 - val_mean_dice_coef: 0.7339 - val_weighted_mean_dice_coef: 0.6341 - lr: 0.0010\n",
      "Epoch 34/60\n",
      "438/438 [==============================] - 459s 1s/step - loss: 0.2799 - categorical_accuracy: 0.9422 - mean_dice_coef: 0.7979 - weighted_mean_dice_coef: 0.7201 - val_loss: 0.3680 - val_categorical_accuracy: 0.9268 - val_mean_dice_coef: 0.7338 - val_weighted_mean_dice_coef: 0.6320 - lr: 0.0010\n",
      "Epoch 35/60\n",
      "438/438 [==============================] - 462s 1s/step - loss: 0.2787 - categorical_accuracy: 0.9424 - mean_dice_coef: 0.7987 - weighted_mean_dice_coef: 0.7213 - val_loss: 0.3387 - val_categorical_accuracy: 0.9318 - val_mean_dice_coef: 0.7559 - val_weighted_mean_dice_coef: 0.6613 - lr: 0.0010\n",
      "Epoch 36/60\n",
      "438/438 [==============================] - 461s 1s/step - loss: 0.2783 - categorical_accuracy: 0.9426 - mean_dice_coef: 0.7990 - weighted_mean_dice_coef: 0.7217 - val_loss: 0.3833 - val_categorical_accuracy: 0.9267 - val_mean_dice_coef: 0.7235 - val_weighted_mean_dice_coef: 0.6167 - lr: 0.0010\n",
      "Epoch 37/60\n",
      "438/438 [==============================] - 463s 1s/step - loss: 0.2768 - categorical_accuracy: 0.9428 - mean_dice_coef: 0.8001 - weighted_mean_dice_coef: 0.7232 - val_loss: 0.4746 - val_categorical_accuracy: 0.9161 - val_mean_dice_coef: 0.6588 - val_weighted_mean_dice_coef: 0.5254 - lr: 0.0010\n",
      "Epoch 38/60\n",
      "438/438 [==============================] - 462s 1s/step - loss: 0.2766 - categorical_accuracy: 0.9429 - mean_dice_coef: 0.8003 - weighted_mean_dice_coef: 0.7234 - val_loss: 0.3189 - val_categorical_accuracy: 0.9349 - val_mean_dice_coef: 0.7692 - val_weighted_mean_dice_coef: 0.6811 - lr: 0.0010\n",
      "Epoch 39/60\n",
      "438/438 [==============================] - 462s 1s/step - loss: 0.2760 - categorical_accuracy: 0.9430 - mean_dice_coef: 0.8007 - weighted_mean_dice_coef: 0.7240 - val_loss: 0.3601 - val_categorical_accuracy: 0.9256 - val_mean_dice_coef: 0.7392 - val_weighted_mean_dice_coef: 0.6399 - lr: 0.0010\n",
      "Epoch 40/60\n",
      "438/438 [==============================] - 462s 1s/step - loss: 0.2756 - categorical_accuracy: 0.9431 - mean_dice_coef: 0.8010 - weighted_mean_dice_coef: 0.7244 - val_loss: 0.4189 - val_categorical_accuracy: 0.9206 - val_mean_dice_coef: 0.6981 - val_weighted_mean_dice_coef: 0.5811 - lr: 0.0010\n",
      "Epoch 41/60\n",
      "438/438 [==============================] - 461s 1s/step - loss: 0.2743 - categorical_accuracy: 0.9433 - mean_dice_coef: 0.8019 - weighted_mean_dice_coef: 0.7257 - val_loss: 0.3107 - val_categorical_accuracy: 0.9378 - val_mean_dice_coef: 0.7753 - val_weighted_mean_dice_coef: 0.6893 - lr: 0.0010\n",
      "Epoch 42/60\n",
      "438/438 [==============================] - 462s 1s/step - loss: 0.2745 - categorical_accuracy: 0.9433 - mean_dice_coef: 0.8018 - weighted_mean_dice_coef: 0.7254 - val_loss: 0.3671 - val_categorical_accuracy: 0.9272 - val_mean_dice_coef: 0.7349 - val_weighted_mean_dice_coef: 0.6329 - lr: 0.0010\n",
      "Epoch 43/60\n",
      "438/438 [==============================] - 463s 1s/step - loss: 0.2730 - categorical_accuracy: 0.9436 - mean_dice_coef: 0.8029 - weighted_mean_dice_coef: 0.7270 - val_loss: 0.3340 - val_categorical_accuracy: 0.9309 - val_mean_dice_coef: 0.7584 - val_weighted_mean_dice_coef: 0.6660 - lr: 0.0010\n",
      "Epoch 44/60\n",
      "438/438 [==============================] - 464s 1s/step - loss: 0.2740 - categorical_accuracy: 0.9434 - mean_dice_coef: 0.8022 - weighted_mean_dice_coef: 0.7260 - val_loss: 0.3645 - val_categorical_accuracy: 0.9196 - val_mean_dice_coef: 0.7345 - val_weighted_mean_dice_coef: 0.6355 - lr: 0.0010\n",
      "Epoch 45/60\n",
      "438/438 [==============================] - 464s 1s/step - loss: 0.2723 - categorical_accuracy: 0.9437 - mean_dice_coef: 0.8034 - weighted_mean_dice_coef: 0.7277 - val_loss: 0.3859 - val_categorical_accuracy: 0.9249 - val_mean_dice_coef: 0.7219 - val_weighted_mean_dice_coef: 0.6141 - lr: 0.0010\n",
      "Epoch 46/60\n",
      "438/438 [==============================] - 464s 1s/step - loss: 0.2747 - categorical_accuracy: 0.9432 - mean_dice_coef: 0.8016 - weighted_mean_dice_coef: 0.7253 - val_loss: 0.3652 - val_categorical_accuracy: 0.9321 - val_mean_dice_coef: 0.7380 - val_weighted_mean_dice_coef: 0.6348 - lr: 0.0010\n",
      "Epoch 47/60\n",
      "438/438 [==============================] - 465s 1s/step - loss: 0.2689 - categorical_accuracy: 0.9445 - mean_dice_coef: 0.8058 - weighted_mean_dice_coef: 0.7311 - val_loss: 0.3652 - val_categorical_accuracy: 0.9283 - val_mean_dice_coef: 0.7363 - val_weighted_mean_dice_coef: 0.6348 - lr: 0.0010\n",
      "Epoch 48/60\n",
      "438/438 [==============================] - 467s 1s/step - loss: 0.2718 - categorical_accuracy: 0.9439 - mean_dice_coef: 0.8037 - weighted_mean_dice_coef: 0.7282 - val_loss: 0.3942 - val_categorical_accuracy: 0.9266 - val_mean_dice_coef: 0.7158 - val_weighted_mean_dice_coef: 0.6058 - lr: 0.0010\n",
      "Epoch 49/60\n",
      "438/438 [==============================] - 467s 1s/step - loss: 0.2689 - categorical_accuracy: 0.9445 - mean_dice_coef: 0.8058 - weighted_mean_dice_coef: 0.7311 - val_loss: 0.3203 - val_categorical_accuracy: 0.9353 - val_mean_dice_coef: 0.7688 - val_weighted_mean_dice_coef: 0.6797 - lr: 0.0010\n",
      "Epoch 50/60\n",
      "438/438 [==============================] - 466s 1s/step - loss: 0.2705 - categorical_accuracy: 0.9441 - mean_dice_coef: 0.8047 - weighted_mean_dice_coef: 0.7295 - val_loss: 0.3171 - val_categorical_accuracy: 0.9336 - val_mean_dice_coef: 0.7705 - val_weighted_mean_dice_coef: 0.6829 - lr: 0.0010\n",
      "Epoch 51/60\n",
      "438/438 [==============================] - ETA: 0s - loss: 0.2689 - categorical_accuracy: 0.9445 - mean_dice_coef: 0.8058 - weighted_mean_dice_coef: 0.7311\n",
      "Epoch 51: ReduceLROnPlateau reducing learning rate to 0.0005000000237487257.\n",
      "438/438 [==============================] - 466s 1s/step - loss: 0.2689 - categorical_accuracy: 0.9445 - mean_dice_coef: 0.8058 - weighted_mean_dice_coef: 0.7311 - val_loss: 0.3179 - val_categorical_accuracy: 0.9364 - val_mean_dice_coef: 0.7706 - val_weighted_mean_dice_coef: 0.6821 - lr: 0.0010\n",
      "Epoch 52/60\n",
      "438/438 [==============================] - 465s 1s/step - loss: 0.2611 - categorical_accuracy: 0.9461 - mean_dice_coef: 0.8114 - weighted_mean_dice_coef: 0.7389 - val_loss: 0.2950 - val_categorical_accuracy: 0.9373 - val_mean_dice_coef: 0.7864 - val_weighted_mean_dice_coef: 0.7050 - lr: 5.0000e-04\n",
      "Epoch 53/60\n",
      "438/438 [==============================] - 462s 1s/step - loss: 0.2607 - categorical_accuracy: 0.9461 - mean_dice_coef: 0.8117 - weighted_mean_dice_coef: 0.7393 - val_loss: 0.3069 - val_categorical_accuracy: 0.9342 - val_mean_dice_coef: 0.7772 - val_weighted_mean_dice_coef: 0.6931 - lr: 5.0000e-04\n"
     ]
    },
    {
     "name": "stdout",
     "output_type": "stream",
     "text": [
      "Epoch 54/60\n",
      "438/438 [==============================] - 463s 1s/step - loss: 0.2614 - categorical_accuracy: 0.9461 - mean_dice_coef: 0.8112 - weighted_mean_dice_coef: 0.7386 - val_loss: 0.3201 - val_categorical_accuracy: 0.9375 - val_mean_dice_coef: 0.7689 - val_weighted_mean_dice_coef: 0.6799 - lr: 5.0000e-04\n",
      "Epoch 55/60\n",
      "438/438 [==============================] - 466s 1s/step - loss: 0.2601 - categorical_accuracy: 0.9463 - mean_dice_coef: 0.8121 - weighted_mean_dice_coef: 0.7399 - val_loss: 0.3550 - val_categorical_accuracy: 0.9299 - val_mean_dice_coef: 0.7434 - val_weighted_mean_dice_coef: 0.6450 - lr: 5.0000e-04\n",
      "Epoch 56/60\n",
      "438/438 [==============================] - 466s 1s/step - loss: 0.2611 - categorical_accuracy: 0.9461 - mean_dice_coef: 0.8114 - weighted_mean_dice_coef: 0.7389 - val_loss: 0.3047 - val_categorical_accuracy: 0.9378 - val_mean_dice_coef: 0.7799 - val_weighted_mean_dice_coef: 0.6953 - lr: 5.0000e-04\n",
      "Epoch 57/60\n",
      "438/438 [==============================] - 465s 1s/step - loss: 0.2592 - categorical_accuracy: 0.9466 - mean_dice_coef: 0.8128 - weighted_mean_dice_coef: 0.7408 - val_loss: 0.3373 - val_categorical_accuracy: 0.9274 - val_mean_dice_coef: 0.7556 - val_weighted_mean_dice_coef: 0.6627 - lr: 5.0000e-04\n",
      "Epoch 58/60\n",
      "438/438 [==============================] - 466s 1s/step - loss: 0.2608 - categorical_accuracy: 0.9462 - mean_dice_coef: 0.8116 - weighted_mean_dice_coef: 0.7392 - val_loss: 0.2990 - val_categorical_accuracy: 0.9354 - val_mean_dice_coef: 0.7829 - val_weighted_mean_dice_coef: 0.7010 - lr: 5.0000e-04\n",
      "Epoch 59/60\n",
      "438/438 [==============================] - 463s 1s/step - loss: 0.2594 - categorical_accuracy: 0.9465 - mean_dice_coef: 0.8127 - weighted_mean_dice_coef: 0.7406 - val_loss: 0.2805 - val_categorical_accuracy: 0.9410 - val_mean_dice_coef: 0.7967 - val_weighted_mean_dice_coef: 0.7195 - lr: 5.0000e-04\n",
      "Epoch 60/60\n",
      "438/438 [==============================] - 463s 1s/step - loss: 0.2597 - categorical_accuracy: 0.9464 - mean_dice_coef: 0.8124 - weighted_mean_dice_coef: 0.7403 - val_loss: 0.2917 - val_categorical_accuracy: 0.9361 - val_mean_dice_coef: 0.7884 - val_weighted_mean_dice_coef: 0.7083 - lr: 5.0000e-04\n"
     ]
    }
   ],
   "source": [
    "file_path_save = \"/home/ollie/ssunar/weights_filter_new/weights\"\n",
    "model.compile(optimizer=Adam(lr=1e-3), loss=dice_coef_loss, metrics=['categorical_accuracy', mean_dice_coef, weighted_mean_dice_coef])\n",
    "\n",
    "callbacks = [keras.callbacks.ModelCheckpoint(file_path_save, save_best_only=True , monitor='val_loss',save_weights_only=True, save_freq=\"epoch\"),\n",
    "            keras.callbacks.ReduceLROnPlateau(monitor='val_loss', factor=0.5, patience=10, verbose=1, mode='auto', min_delta=1e-30, min_lr=1e-30)]\n",
    "\n",
    "# Train the model, doing validation at the end of each epoch.\n",
    "history = model.fit(train_gen, epochs=epochs, validation_data=val_gen, callbacks=callbacks, shuffle=True,verbose=1)"
   ]
  },
  {
   "cell_type": "code",
   "execution_count": 14,
   "metadata": {
    "scrolled": false
   },
   "outputs": [
    {
     "data": {
      "text/plain": [
       "<Figure size 720x720 with 0 Axes>"
      ]
     },
     "execution_count": 14,
     "metadata": {},
     "output_type": "execute_result"
    },
    {
     "data": {
      "text/plain": [
       "[<matplotlib.lines.Line2D at 0x2aaf2b0130d0>]"
      ]
     },
     "execution_count": 14,
     "metadata": {},
     "output_type": "execute_result"
    },
    {
     "data": {
      "text/plain": [
       "[<matplotlib.lines.Line2D at 0x2aaf2b06a160>]"
      ]
     },
     "execution_count": 14,
     "metadata": {},
     "output_type": "execute_result"
    },
    {
     "data": {
      "text/plain": [
       "Text(0.5, 1.0, 'model loss')"
      ]
     },
     "execution_count": 14,
     "metadata": {},
     "output_type": "execute_result"
    },
    {
     "data": {
      "text/plain": [
       "Text(0, 0.5, 'loss')"
      ]
     },
     "execution_count": 14,
     "metadata": {},
     "output_type": "execute_result"
    },
    {
     "data": {
      "text/plain": [
       "Text(0.5, 0, 'epoch')"
      ]
     },
     "execution_count": 14,
     "metadata": {},
     "output_type": "execute_result"
    },
    {
     "data": {
      "text/plain": [
       "<matplotlib.legend.Legend at 0x2aaf2b06adf0>"
      ]
     },
     "execution_count": 14,
     "metadata": {},
     "output_type": "execute_result"
    },
    {
     "data": {
      "image/png": "[encoded data removed]",
      "text/plain": [
       "<Figure size 720x720 with 1 Axes>"
      ]
     },
     "metadata": {
      "needs_background": "light"
     },
     "output_type": "display_data"
    }
   ],
   "source": [
    "plt.figure(figsize=(10, 10))\n",
    "plt.semilogy(model.history.history['loss'])\n",
    "plt.semilogy(model.history.history['val_loss'])\n",
    "plt.title('model loss')\n",
    "plt.ylabel('loss')\n",
    "plt.xlabel('epoch')\n",
    "plt.legend(['train_loss', 'val_loss'], loc='upper right');\n",
    "plt.savefig(\"img.png\", dpi = 100)"
   ]
  },
  {
   "cell_type": "code",
   "execution_count": null,
   "metadata": {},
   "outputs": [],
   "source": []
  },
  {
   "cell_type": "code",
   "execution_count": null,
   "metadata": {},
   "outputs": [],
   "source": []
  },
  {
   "cell_type": "code",
   "execution_count": 15,
   "metadata": {},
   "outputs": [
    {
     "name": "stderr",
     "output_type": "stream",
     "text": [
      "2023-03-10 09:51:21.403263: W tensorflow/core/framework/cpu_allocator_impl.cc:82] Allocation of 1371537408 exceeds 10% of free system memory.\n"
     ]
    },
    {
     "name": "stdout",
     "output_type": "stream",
     "text": [
      "(1744, 65536, 3)\n",
      "Time Per image: 0.013060994450779479\n",
      "Time for 1 year eqv: 4.76726297453451\n"
     ]
    }
   ],
   "source": [
    "import time\n",
    "from sklearn.metrics import classification_report\n",
    "start = time.time()\n",
    "val_gen = plain_net_eddy(batch_size, img_size, val_input, val_target)\n",
    "val_preds = model.predict(val_gen)\n",
    "print(val_preds.shape)\n",
    "\n",
    "end = time.time()\n",
    "time_per_img = (end - start)/1655\n",
    "print(\"Time Per image:\",time_per_img)\n",
    "print(\"Time for 1 year eqv:\",time_per_img*365)"
   ]
  },
  {
   "cell_type": "code",
   "execution_count": 20,
   "metadata": {},
   "outputs": [
    {
     "name": "stdout",
     "output_type": "stream",
     "text": [
      "(1, 256, 256, 1)\n",
      "(1, 65536, 3)\n",
      "              precision    recall  f1-score   support\n",
      "\n",
      "         0.0       0.99      0.97      0.98     60893\n",
      "         1.0       0.69      0.87      0.77      3025\n",
      "         2.0       0.62      0.72      0.67      1618\n",
      "\n",
      "    accuracy                           0.96     65536\n",
      "   macro avg       0.76      0.85      0.80     65536\n",
      "weighted avg       0.96      0.96      0.96     65536\n",
      "\n"
     ]
    }
   ],
   "source": [
    "# val_gen = plain_net_eddy(batch_size, img_size, val_input, val_target)\n",
    "# mask = np.expand_dims(val_preds, axis=-1)\n",
    "val_gen = data_x[10]\n",
    "val_gen = np.reshape(val_gen,(1,img_size[0],img_size[1],1))\n",
    "print(val_gen.shape)\n",
    "val_preds = model.predict(val_gen)\n",
    "print(val_preds.shape)\n",
    "mask = np.argmax(np.reshape(val_preds[0],(1,img_size[1],img_size[0],3)), axis=-1)\n",
    "mask = np.reshape(mask,(img_size[0],img_size[1]))\n",
    "print(classification_report(np.reshape(data_y[10],(65536)),np.reshape(mask,(65536))))"
   ]
  },
  {
   "cell_type": "code",
   "execution_count": 21,
   "metadata": {},
   "outputs": [
    {
     "data": {
      "image/png": "[encoded data removed]",
      "text/plain": [
       "<Figure size 1440x720 with 4 Axes>"
      ]
     },
     "metadata": {
      "needs_background": "light"
     },
     "output_type": "display_data"
    }
   ],
   "source": [
    "#seeing the prediction of one image of the validation set\n",
    "%matplotlib inline\n",
    "\n",
    "plt.figure(figsize=(20, 10))\n",
    "\n",
    "plt.subplot(131)\n",
    "plt.imshow(mask.T, cmap='viridis')\n",
    "plt.colorbar(extend='both', fraction=0.042, pad=0.04)\n",
    "plt.axis('off')\n",
    "plt.title('Result Segmentation');\n",
    "#plt.savefig('prediction.png')\n",
    "\n",
    "plt.subplot(132)\n",
    "plt.imshow(data_y[10].T, cmap='viridis')\n",
    "plt.colorbar(extend='both', fraction=0.042, pad=0.04)\n",
    "plt.axis('off')\n",
    "plt.title('Groundtruth Segmentation');\n",
    "#plt.savefig('groundtruth.png')"
   ]
  },
  {
   "cell_type": "code",
   "execution_count": null,
   "metadata": {},
   "outputs": [],
   "source": []
  },
  {
   "cell_type": "code",
   "execution_count": null,
   "metadata": {},
   "outputs": [],
   "source": []
  }
 ],
 "metadata": {
  "kernelspec": {
   "display_name": "eddy-tracking",
   "language": "python",
   "name": "eddy-tracking"
  },
  "language_info": {
   "codemirror_mode": {
    "name": "ipython",
    "version": 3
   },
   "file_extension": ".py",
   "mimetype": "text/x-python",
   "name": "python",
   "nbconvert_exporter": "python",
   "pygments_lexer": "ipython3",
   "version": "3.8.16"
  }
 },
 "nbformat": 4,
 "nbformat_minor": 2
}
