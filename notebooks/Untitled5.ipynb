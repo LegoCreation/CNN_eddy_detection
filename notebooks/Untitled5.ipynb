{
 "cells": [
  {
   "cell_type": "code",
   "execution_count": 1,
   "metadata": {},
   "outputs": [],
   "source": [
    "import numpy as np\n",
    "import os\n",
    "import xarray as xr\n",
    "from month_to_year import *\n",
    "import yaml"
   ]
  },
  {
   "cell_type": "code",
   "execution_count": 2,
   "metadata": {},
   "outputs": [],
   "source": [
    "parameters = yaml.safe_load(open('/home/ollie/ssunar/pyfiles/interpolator.yaml'))\n",
    "\n",
    "output_path = parameters[\"output_path\"]\n",
    "filename = parameters[\"filename\"]"
   ]
  },
  {
   "cell_type": "code",
   "execution_count": 3,
   "metadata": {},
   "outputs": [
    {
     "name": "stdout",
     "output_type": "stream",
     "text": [
      "['/home/ollie/ssunar/test_data/months/ssh_gridded_1961_001_01.nc', '/home/ollie/ssunar/test_data/months/ssh_gridded_1961_001_02.nc']\n",
      "/home/ollie/ssunar/test_datassh_gridded.nc\n"
     ]
    }
   ],
   "source": [
    "convert(input_dir = output_path + \"/months\", output_dir = output_path, output_file = filename+\".nc\")"
   ]
  },
  {
   "cell_type": "code",
   "execution_count": null,
   "metadata": {},
   "outputs": [],
   "source": []
  }
 ],
 "metadata": {
  "kernelspec": {
   "display_name": "eddy-tracking",
   "language": "python",
   "name": "eddy-tracking"
  },
  "language_info": {
   "codemirror_mode": {
    "name": "ipython",
    "version": 3
   },
   "file_extension": ".py",
   "mimetype": "text/x-python",
   "name": "python",
   "nbconvert_exporter": "python",
   "pygments_lexer": "ipython3",
   "version": "3.8.12"
  }
 },
 "nbformat": 4,
 "nbformat_minor": 4
}
