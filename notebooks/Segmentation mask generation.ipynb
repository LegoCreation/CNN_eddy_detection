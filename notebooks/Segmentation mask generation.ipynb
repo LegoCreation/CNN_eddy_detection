{
 "cells": [
  {
   "cell_type": "code",
   "execution_count": 1,
   "metadata": {},
   "outputs": [],
   "source": [
    "%matplotlib inline"
   ]
  },
  {
   "cell_type": "code",
   "execution_count": 2,
   "metadata": {},
   "outputs": [],
   "source": [
    "import numpy as np\n",
    "from matplotlib import pyplot as plt\n",
    "from matplotlib.path import Path\n",
    "from numpy import arange\n",
    "\n",
    "from py_eddy_tracker import data\n",
    "from py_eddy_tracker.dataset.grid import RegularGridDataset\n",
    "from py_eddy_tracker.poly import create_vertice\n",
    "import re\n",
    "from datetime import datetime, timedelta\n",
    "\n",
    "from matplotlib.animation import FuncAnimation\n",
    "from numpy import arange, isnan, meshgrid, ones\n",
    "\n",
    "from py_eddy_tracker import start_logger\n",
    "from py_eddy_tracker.data import get_demo_path\n",
    "from py_eddy_tracker.dataset.grid import GridCollection, _fit_circle_path\n",
    "from py_eddy_tracker.observations.observation  import EddiesObservations\n",
    "from py_eddy_tracker.gui import GUI_AXES\n",
    "from py_eddy_tracker.generic import uniform_resample, coordinates_to_local\n",
    "from py_eddy_tracker.poly import create_vertice, poly_area, visvalingam\n",
    "\n",
    "from netCDF4 import Dataset\n",
    "import xarray as xr\n",
    "import pandas as pd\n",
    "import numpy as np\n",
    "import matplotlib.cm as cm\n",
    "\n",
    "from typing import List, Tuple"
   ]
  },
  {
   "cell_type": "code",
   "execution_count": 3,
   "metadata": {},
   "outputs": [],
   "source": [
    "\n",
    "class eddy_detection():\n",
    "    def __init__(self, dataset_path: str, lat: list, lon: list):\n",
    "        self.path = dataset_path\n",
    "        self.data: List[Tuple] = self.load_data()\n",
    "        self.hours_since_start_list: list = []\n",
    "        self.grid_list: List[RegularGridDataset] = []\n",
    "        self.days_list: list = [] \n",
    "        self.lat: list = lat\n",
    "        self.lon: list = lon\n",
    "        self.anticyclonic_list: list = []\n",
    "        self.cyclonic_list: list = []\n",
    "        return None\n",
    "    \n",
    "    def start_axes(self, title):\n",
    "        fig = plt.figure(figsize=(13, 5))\n",
    "        ax = fig.add_axes([0.03, 0.03, 0.90, 0.94])\n",
    "        ax.set_xlim(self.lon[0], self.lon[1]), ax.set_ylim(self.lat[0], self.lat[1])\n",
    "        ax.set_aspect(\"equal\")\n",
    "        ax.set_title(title, weight=\"bold\")\n",
    "        return ax\n",
    "\n",
    "\n",
    "    def update_axes(self, ax, mappable=None):\n",
    "        ax.grid()\n",
    "        if mappable:\n",
    "            plt.colorbar(mappable, cax=ax.figure.add_axes([0.94, 0.05, 0.01, 0.9]))\n",
    "\n",
    "    def load_data(self):\n",
    "        grid_collection = GridCollection.from_netcdf_cube(\n",
    "            self.path,\n",
    "            \"LONGITUDE\",\n",
    "            \"LATITUDE\",\n",
    "            \"TIME\",\n",
    "            heigth=\"ssh\")\n",
    "        return grid_collection.datasets\n",
    "    \n",
    "    def create_list_dataset(self, days_list: List):\n",
    "        self.days_list = days_list\n",
    "        for day in self.days_list:\n",
    "            hours, g = self.data[day-1]\n",
    "            g.vars['ssh'] = np.ma.array(g.vars['ssh'], mask=np.isnan(g.vars['ssh']))\n",
    "            g.add_uv(\"ssh\")\n",
    "            self.hours_since_start_list.append(hours)\n",
    "            self.grid_list.append(g)\n",
    "\n",
    "    def plot_graph(self, days:list):\n",
    "        for day in days:\n",
    "            ax = self.start_axes(\"SSH (m)\")\n",
    "            m = self.grid_list[day-1].display(ax, \"ssh\", vmin=-1, vmax=1, cmap=\"RdBu_r\")\n",
    "            self.update_axes(ax, m)\n",
    "        return None\n",
    "    def detect_eddies(self, min_pixel : int = 30):\n",
    "        for day in self.days_list:\n",
    "            date = datetime(1950, 1 , 1) + timedelta(hours=int(self.hours_since_start_list[day-1])) // 1\n",
    "            a, c = self.grid_list[day-1].eddy_identification(\"ssh\", \"u\", \"v\", date, 0.002, pixel_limit=(min_pixel, 2000), shape_error=70)\n",
    "            self.anticyclonic_list.append(a)\n",
    "            self.cyclonic_list.append(c)\n",
    "        return None\n",
    "    def plot_detected_eddies(self, days:list):\n",
    "        for day in days:\n",
    "            ax = self.start_axes(\"Detected Eddies\")\n",
    "            self.anticyclonic_list[day - 1].display(\n",
    "                ax, color=\"r\", linewidth=0.75, label=\"Anticyclonic ({nb_obs} eddies)\", ref=-70\n",
    "            )\n",
    "            self.cyclonic_list[day - 1].display(ax, color=\"b\", linewidth=0.75, label=\"Cyclonic ({nb_obs} eddies)\", ref=-70)\n",
    "            ax.legend()\n",
    "            self.update_axes(ax)\n",
    "        return None\n",
    "            \n",
    "        \n",
    "            \n",
    "            \n",
    "        \n",
    "    "
   ]
  },
  {
   "cell_type": "code",
   "execution_count": 4,
   "metadata": {},
   "outputs": [],
   "source": [
    "def generate_pixel_eddy(eddy_class, day):\n",
    "    g = eddy_class.grid_list[day-1]\n",
    "    a = eddy_class.anticyclonic_list[day-1]\n",
    "    c = eddy_class.cyclonic_list[day-1]\n",
    "    ssh = g.grid(\"ssh\")\n",
    "    mask_a = np.zeros(ssh.shape, dtype=\"bool\")\n",
    "    x_a_name, y_a_name = a.intern(True)\n",
    "    mask_c = np.zeros(ssh.shape, dtype=\"bool\")\n",
    "    x_c_name, y_c_name = c.intern(True)\n",
    "\n",
    "    for eddy in a:\n",
    "        i, j = Path(create_vertice(eddy[x_a_name], eddy[y_a_name])).pixels_in(g)\n",
    "        mask_a[i, j] = True\n",
    "\n",
    "    for eddy in c:\n",
    "        i, j = Path(create_vertice(eddy[x_c_name], eddy[y_c_name])).pixels_in(g)\n",
    "        mask_c[i, j] = True\n",
    "    return mask_a, mask_c\n"
   ]
  },
  {
   "cell_type": "code",
   "execution_count": 5,
   "metadata": {},
   "outputs": [],
   "source": [
    "def masking(eddy_class):\n",
    "    masked_anticylonic = []\n",
    "    masked_cyclonic = []\n",
    "    masked_total = []\n",
    "    for day in days:\n",
    "        mask_a, mask_c = generate_pixel_eddy(eddy_class, day)\n",
    "        masked_anticylonic.append(mask_a)\n",
    "        masked_cyclonic.append(mask_c)\n",
    "        masked_total.append(2 * mask_a + 1 * mask_c)\n",
    "    masked_3d = np.dstack(masked_total)\n",
    "    masked_3d = np.rollaxis(masked_3d,-1)\n",
    "    return masked_3d"
   ]
  },
  {
   "cell_type": "code",
   "execution_count": 6,
   "metadata": {},
   "outputs": [],
   "source": [
    "def filtering(eddy_class, days):\n",
    "    filter_total = []\n",
    "    for day in days:\n",
    "        filter_total.append(eddy_class.grid_list[day-1].grid('ssh'))\n",
    "    filter_3d = np.dstack(filter_total)\n",
    "    filter_3d = np.rollaxis(filter_3d,-1)\n",
    "    return filter_3d"
   ]
  },
  {
   "cell_type": "code",
   "execution_count": 8,
   "metadata": {},
   "outputs": [],
   "source": [
    "from numpy import sinc, pi, sin, cos, arctan2, empty, ma, ceil, errstate\n",
    "from scipy.special import j1\n",
    "from cv2 import filter2D"
   ]
  },
  {
   "cell_type": "code",
   "execution_count": 31,
   "metadata": {},
   "outputs": [],
   "source": [
    "# #Time fix for SSH using SEG data\n",
    "# days_dict = {0:0, 1:31, 2:59 ,3:90, 4:120, 5:151, 6:181, 7:212, 8:243, 9:273, 10:304, 11:334, 12:365}\n",
    "# for j in range(1, 4): #years\n",
    "#     for i in range(1, 13): #months\n",
    "#         data_addr_nn = \"/home/ollie/ssunar/ssh_filtered/ssh_gridded_196\"+str(j)+\"_001_\"+str(i).zfill(2)+\"_new.nc\"\n",
    "#         seg_data_addr_nn = \"/home/ollie/ssunar/segmentation_masks_3_years/segmentation_mask_nn_196\"+str(j)+\"_001_\"+str(i).zfill(2)+\"_new.nc\"\n",
    "#         time = None\n",
    "#         with Dataset(data_addr_nn, \"a\") as true_ds:\n",
    "#             with Dataset(seg_data_addr_nn, \"r\") as seg_ds:\n",
    "#                 time = seg_ds['TIME'][:]\n",
    "#             true_ds['TIME'][:] = time\n",
    "#             #true_ds['TIME'][:] += days_dict[i-1] * 24"
   ]
  },
  {
   "cell_type": "code",
   "execution_count": null,
   "metadata": {},
   "outputs": [],
   "source": []
  },
  {
   "cell_type": "code",
   "execution_count": 32,
   "metadata": {},
   "outputs": [
    {
     "data": {
      "text/html": [
       "<div><svg style=\"position: absolute; width: 0; height: 0; overflow: hidden\">\n",
       "<defs>\n",
       "<symbol id=\"icon-database\" viewBox=\"0 0 32 32\">\n",
       "<path d=\"M16 0c-8.837 0-16 2.239-16 5v4c0 2.761 7.163 5 16 5s16-2.239 16-5v-4c0-2.761-7.163-5-16-5z\"></path>\n",
       "<path d=\"M16 17c-8.837 0-16-2.239-16-5v6c0 2.761 7.163 5 16 5s16-2.239 16-5v-6c0 2.761-7.163 5-16 5z\"></path>\n",
       "<path d=\"M16 26c-8.837 0-16-2.239-16-5v6c0 2.761 7.163 5 16 5s16-2.239 16-5v-6c0 2.761-7.163 5-16 5z\"></path>\n",
       "</symbol>\n",
       "<symbol id=\"icon-file-text2\" viewBox=\"0 0 32 32\">\n",
       "<path d=\"M28.681 7.159c-0.694-0.947-1.662-2.053-2.724-3.116s-2.169-2.030-3.116-2.724c-1.612-1.182-2.393-1.319-2.841-1.319h-15.5c-1.378 0-2.5 1.121-2.5 2.5v27c0 1.378 1.122 2.5 2.5 2.5h23c1.378 0 2.5-1.122 2.5-2.5v-19.5c0-0.448-0.137-1.23-1.319-2.841zM24.543 5.457c0.959 0.959 1.712 1.825 2.268 2.543h-4.811v-4.811c0.718 0.556 1.584 1.309 2.543 2.268zM28 29.5c0 0.271-0.229 0.5-0.5 0.5h-23c-0.271 0-0.5-0.229-0.5-0.5v-27c0-0.271 0.229-0.5 0.5-0.5 0 0 15.499-0 15.5 0v7c0 0.552 0.448 1 1 1h7v19.5z\"></path>\n",
       "<path d=\"M23 26h-14c-0.552 0-1-0.448-1-1s0.448-1 1-1h14c0.552 0 1 0.448 1 1s-0.448 1-1 1z\"></path>\n",
       "<path d=\"M23 22h-14c-0.552 0-1-0.448-1-1s0.448-1 1-1h14c0.552 0 1 0.448 1 1s-0.448 1-1 1z\"></path>\n",
       "<path d=\"M23 18h-14c-0.552 0-1-0.448-1-1s0.448-1 1-1h14c0.552 0 1 0.448 1 1s-0.448 1-1 1z\"></path>\n",
       "</symbol>\n",
       "</defs>\n",
       "</svg>\n",
       "<style>/* CSS stylesheet for displaying xarray objects in jupyterlab.\n",
       " *\n",
       " */\n",
       "\n",
       ":root {\n",
       "  --xr-font-color0: var(--jp-content-font-color0, rgba(0, 0, 0, 1));\n",
       "  --xr-font-color2: var(--jp-content-font-color2, rgba(0, 0, 0, 0.54));\n",
       "  --xr-font-color3: var(--jp-content-font-color3, rgba(0, 0, 0, 0.38));\n",
       "  --xr-border-color: var(--jp-border-color2, #e0e0e0);\n",
       "  --xr-disabled-color: var(--jp-layout-color3, #bdbdbd);\n",
       "  --xr-background-color: var(--jp-layout-color0, white);\n",
       "  --xr-background-color-row-even: var(--jp-layout-color1, white);\n",
       "  --xr-background-color-row-odd: var(--jp-layout-color2, #eeeeee);\n",
       "}\n",
       "\n",
       "html[theme=dark],\n",
       "body.vscode-dark {\n",
       "  --xr-font-color0: rgba(255, 255, 255, 1);\n",
       "  --xr-font-color2: rgba(255, 255, 255, 0.54);\n",
       "  --xr-font-color3: rgba(255, 255, 255, 0.38);\n",
       "  --xr-border-color: #1F1F1F;\n",
       "  --xr-disabled-color: #515151;\n",
       "  --xr-background-color: #111111;\n",
       "  --xr-background-color-row-even: #111111;\n",
       "  --xr-background-color-row-odd: #313131;\n",
       "}\n",
       "\n",
       ".xr-wrap {\n",
       "  display: block;\n",
       "  min-width: 300px;\n",
       "  max-width: 700px;\n",
       "}\n",
       "\n",
       ".xr-text-repr-fallback {\n",
       "  /* fallback to plain text repr when CSS is not injected (untrusted notebook) */\n",
       "  display: none;\n",
       "}\n",
       "\n",
       ".xr-header {\n",
       "  padding-top: 6px;\n",
       "  padding-bottom: 6px;\n",
       "  margin-bottom: 4px;\n",
       "  border-bottom: solid 1px var(--xr-border-color);\n",
       "}\n",
       "\n",
       ".xr-header > div,\n",
       ".xr-header > ul {\n",
       "  display: inline;\n",
       "  margin-top: 0;\n",
       "  margin-bottom: 0;\n",
       "}\n",
       "\n",
       ".xr-obj-type,\n",
       ".xr-array-name {\n",
       "  margin-left: 2px;\n",
       "  margin-right: 10px;\n",
       "}\n",
       "\n",
       ".xr-obj-type {\n",
       "  color: var(--xr-font-color2);\n",
       "}\n",
       "\n",
       ".xr-sections {\n",
       "  padding-left: 0 !important;\n",
       "  display: grid;\n",
       "  grid-template-columns: 150px auto auto 1fr 20px 20px;\n",
       "}\n",
       "\n",
       ".xr-section-item {\n",
       "  display: contents;\n",
       "}\n",
       "\n",
       ".xr-section-item input {\n",
       "  display: none;\n",
       "}\n",
       "\n",
       ".xr-section-item input + label {\n",
       "  color: var(--xr-disabled-color);\n",
       "}\n",
       "\n",
       ".xr-section-item input:enabled + label {\n",
       "  cursor: pointer;\n",
       "  color: var(--xr-font-color2);\n",
       "}\n",
       "\n",
       ".xr-section-item input:enabled + label:hover {\n",
       "  color: var(--xr-font-color0);\n",
       "}\n",
       "\n",
       ".xr-section-summary {\n",
       "  grid-column: 1;\n",
       "  color: var(--xr-font-color2);\n",
       "  font-weight: 500;\n",
       "}\n",
       "\n",
       ".xr-section-summary > span {\n",
       "  display: inline-block;\n",
       "  padding-left: 0.5em;\n",
       "}\n",
       "\n",
       ".xr-section-summary-in:disabled + label {\n",
       "  color: var(--xr-font-color2);\n",
       "}\n",
       "\n",
       ".xr-section-summary-in + label:before {\n",
       "  display: inline-block;\n",
       "  content: '►';\n",
       "  font-size: 11px;\n",
       "  width: 15px;\n",
       "  text-align: center;\n",
       "}\n",
       "\n",
       ".xr-section-summary-in:disabled + label:before {\n",
       "  color: var(--xr-disabled-color);\n",
       "}\n",
       "\n",
       ".xr-section-summary-in:checked + label:before {\n",
       "  content: '▼';\n",
       "}\n",
       "\n",
       ".xr-section-summary-in:checked + label > span {\n",
       "  display: none;\n",
       "}\n",
       "\n",
       ".xr-section-summary,\n",
       ".xr-section-inline-details {\n",
       "  padding-top: 4px;\n",
       "  padding-bottom: 4px;\n",
       "}\n",
       "\n",
       ".xr-section-inline-details {\n",
       "  grid-column: 2 / -1;\n",
       "}\n",
       "\n",
       ".xr-section-details {\n",
       "  display: none;\n",
       "  grid-column: 1 / -1;\n",
       "  margin-bottom: 5px;\n",
       "}\n",
       "\n",
       ".xr-section-summary-in:checked ~ .xr-section-details {\n",
       "  display: contents;\n",
       "}\n",
       "\n",
       ".xr-array-wrap {\n",
       "  grid-column: 1 / -1;\n",
       "  display: grid;\n",
       "  grid-template-columns: 20px auto;\n",
       "}\n",
       "\n",
       ".xr-array-wrap > label {\n",
       "  grid-column: 1;\n",
       "  vertical-align: top;\n",
       "}\n",
       "\n",
       ".xr-preview {\n",
       "  color: var(--xr-font-color3);\n",
       "}\n",
       "\n",
       ".xr-array-preview,\n",
       ".xr-array-data {\n",
       "  padding: 0 5px !important;\n",
       "  grid-column: 2;\n",
       "}\n",
       "\n",
       ".xr-array-data,\n",
       ".xr-array-in:checked ~ .xr-array-preview {\n",
       "  display: none;\n",
       "}\n",
       "\n",
       ".xr-array-in:checked ~ .xr-array-data,\n",
       ".xr-array-preview {\n",
       "  display: inline-block;\n",
       "}\n",
       "\n",
       ".xr-dim-list {\n",
       "  display: inline-block !important;\n",
       "  list-style: none;\n",
       "  padding: 0 !important;\n",
       "  margin: 0;\n",
       "}\n",
       "\n",
       ".xr-dim-list li {\n",
       "  display: inline-block;\n",
       "  padding: 0;\n",
       "  margin: 0;\n",
       "}\n",
       "\n",
       ".xr-dim-list:before {\n",
       "  content: '(';\n",
       "}\n",
       "\n",
       ".xr-dim-list:after {\n",
       "  content: ')';\n",
       "}\n",
       "\n",
       ".xr-dim-list li:not(:last-child):after {\n",
       "  content: ',';\n",
       "  padding-right: 5px;\n",
       "}\n",
       "\n",
       ".xr-has-index {\n",
       "  font-weight: bold;\n",
       "}\n",
       "\n",
       ".xr-var-list,\n",
       ".xr-var-item {\n",
       "  display: contents;\n",
       "}\n",
       "\n",
       ".xr-var-item > div,\n",
       ".xr-var-item label,\n",
       ".xr-var-item > .xr-var-name span {\n",
       "  background-color: var(--xr-background-color-row-even);\n",
       "  margin-bottom: 0;\n",
       "}\n",
       "\n",
       ".xr-var-item > .xr-var-name:hover span {\n",
       "  padding-right: 5px;\n",
       "}\n",
       "\n",
       ".xr-var-list > li:nth-child(odd) > div,\n",
       ".xr-var-list > li:nth-child(odd) > label,\n",
       ".xr-var-list > li:nth-child(odd) > .xr-var-name span {\n",
       "  background-color: var(--xr-background-color-row-odd);\n",
       "}\n",
       "\n",
       ".xr-var-name {\n",
       "  grid-column: 1;\n",
       "}\n",
       "\n",
       ".xr-var-dims {\n",
       "  grid-column: 2;\n",
       "}\n",
       "\n",
       ".xr-var-dtype {\n",
       "  grid-column: 3;\n",
       "  text-align: right;\n",
       "  color: var(--xr-font-color2);\n",
       "}\n",
       "\n",
       ".xr-var-preview {\n",
       "  grid-column: 4;\n",
       "}\n",
       "\n",
       ".xr-var-name,\n",
       ".xr-var-dims,\n",
       ".xr-var-dtype,\n",
       ".xr-preview,\n",
       ".xr-attrs dt {\n",
       "  white-space: nowrap;\n",
       "  overflow: hidden;\n",
       "  text-overflow: ellipsis;\n",
       "  padding-right: 10px;\n",
       "}\n",
       "\n",
       ".xr-var-name:hover,\n",
       ".xr-var-dims:hover,\n",
       ".xr-var-dtype:hover,\n",
       ".xr-attrs dt:hover {\n",
       "  overflow: visible;\n",
       "  width: auto;\n",
       "  z-index: 1;\n",
       "}\n",
       "\n",
       ".xr-var-attrs,\n",
       ".xr-var-data {\n",
       "  display: none;\n",
       "  background-color: var(--xr-background-color) !important;\n",
       "  padding-bottom: 5px !important;\n",
       "}\n",
       "\n",
       ".xr-var-attrs-in:checked ~ .xr-var-attrs,\n",
       ".xr-var-data-in:checked ~ .xr-var-data {\n",
       "  display: block;\n",
       "}\n",
       "\n",
       ".xr-var-data > table {\n",
       "  float: right;\n",
       "}\n",
       "\n",
       ".xr-var-name span,\n",
       ".xr-var-data,\n",
       ".xr-attrs {\n",
       "  padding-left: 25px !important;\n",
       "}\n",
       "\n",
       ".xr-attrs,\n",
       ".xr-var-attrs,\n",
       ".xr-var-data {\n",
       "  grid-column: 1 / -1;\n",
       "}\n",
       "\n",
       "dl.xr-attrs {\n",
       "  padding: 0;\n",
       "  margin: 0;\n",
       "  display: grid;\n",
       "  grid-template-columns: 125px auto;\n",
       "}\n",
       "\n",
       ".xr-attrs dt,\n",
       ".xr-attrs dd {\n",
       "  padding: 0;\n",
       "  margin: 0;\n",
       "  float: left;\n",
       "  padding-right: 10px;\n",
       "  width: auto;\n",
       "}\n",
       "\n",
       ".xr-attrs dt {\n",
       "  font-weight: normal;\n",
       "  grid-column: 1;\n",
       "}\n",
       "\n",
       ".xr-attrs dt:hover span {\n",
       "  display: inline-block;\n",
       "  background: var(--xr-background-color);\n",
       "  padding-right: 10px;\n",
       "}\n",
       "\n",
       ".xr-attrs dd {\n",
       "  grid-column: 2;\n",
       "  white-space: pre-wrap;\n",
       "  word-break: break-all;\n",
       "}\n",
       "\n",
       ".xr-icon-database,\n",
       ".xr-icon-file-text2 {\n",
       "  display: inline-block;\n",
       "  vertical-align: middle;\n",
       "  width: 1em;\n",
       "  height: 1.5em !important;\n",
       "  stroke-width: 0;\n",
       "  stroke: currentColor;\n",
       "  fill: currentColor;\n",
       "}\n",
       "</style><pre class='xr-text-repr-fallback'>&lt;xarray.DataArray &#x27;TIME&#x27; (TIME: 28)&gt;\n",
       "array([97199.93, 97223.93, 97247.93, 97271.93, 97295.93, 97319.93, 97343.93,\n",
       "       97367.93, 97391.93, 97415.93, 97439.93, 97463.93, 97487.93, 97511.93,\n",
       "       97535.93, 97559.93, 97583.93, 97607.93, 97631.93, 97655.93, 97679.93,\n",
       "       97703.93, 97727.93, 97751.93, 97775.93, 97799.93, 97823.93, 97847.93],\n",
       "      dtype=float32)\n",
       "Coordinates:\n",
       "  * TIME     (TIME) float32 9.72e+04 9.722e+04 9.725e+04 ... 9.782e+04 9.785e+04\n",
       "Attributes:\n",
       "    unit:     hours since 1950-01-01 00:00:00</pre><div class='xr-wrap' hidden><div class='xr-header'><div class='xr-obj-type'>xarray.DataArray</div><div class='xr-array-name'>'TIME'</div><ul class='xr-dim-list'><li><span class='xr-has-index'>TIME</span>: 28</li></ul></div><ul class='xr-sections'><li class='xr-section-item'><div class='xr-array-wrap'><input id='section-ceae0c1d-319f-44d6-8aed-1604f1030c07' class='xr-array-in' type='checkbox' checked><label for='section-ceae0c1d-319f-44d6-8aed-1604f1030c07' title='Show/hide data repr'><svg class='icon xr-icon-database'><use xlink:href='#icon-database'></use></svg></label><div class='xr-array-preview xr-preview'><span>9.72e+04 9.722e+04 9.725e+04 ... 9.78e+04 9.782e+04 9.785e+04</span></div><div class='xr-array-data'><pre>array([97199.93, 97223.93, 97247.93, 97271.93, 97295.93, 97319.93, 97343.93,\n",
       "       97367.93, 97391.93, 97415.93, 97439.93, 97463.93, 97487.93, 97511.93,\n",
       "       97535.93, 97559.93, 97583.93, 97607.93, 97631.93, 97655.93, 97679.93,\n",
       "       97703.93, 97727.93, 97751.93, 97775.93, 97799.93, 97823.93, 97847.93],\n",
       "      dtype=float32)</pre></div></div></li><li class='xr-section-item'><input id='section-ba94bc10-abe4-43df-9503-0c4c981069a2' class='xr-section-summary-in' type='checkbox'  checked><label for='section-ba94bc10-abe4-43df-9503-0c4c981069a2' class='xr-section-summary' >Coordinates: <span>(1)</span></label><div class='xr-section-inline-details'></div><div class='xr-section-details'><ul class='xr-var-list'><li class='xr-var-item'><div class='xr-var-name'><span class='xr-has-index'>TIME</span></div><div class='xr-var-dims'>(TIME)</div><div class='xr-var-dtype'>float32</div><div class='xr-var-preview xr-preview'>9.72e+04 9.722e+04 ... 9.785e+04</div><input id='attrs-0693a23d-59c2-41aa-98ad-53522cf2f979' class='xr-var-attrs-in' type='checkbox' ><label for='attrs-0693a23d-59c2-41aa-98ad-53522cf2f979' title='Show/Hide attributes'><svg class='icon xr-icon-file-text2'><use xlink:href='#icon-file-text2'></use></svg></label><input id='data-194bf129-9c9b-4dd2-8361-5dc512dc5f37' class='xr-var-data-in' type='checkbox'><label for='data-194bf129-9c9b-4dd2-8361-5dc512dc5f37' title='Show/Hide data repr'><svg class='icon xr-icon-database'><use xlink:href='#icon-database'></use></svg></label><div class='xr-var-attrs'><dl class='xr-attrs'><dt><span>unit :</span></dt><dd>hours since 1950-01-01 00:00:00</dd></dl></div><div class='xr-var-data'><pre>array([97199.93, 97223.93, 97247.93, 97271.93, 97295.93, 97319.93, 97343.93,\n",
       "       97367.93, 97391.93, 97415.93, 97439.93, 97463.93, 97487.93, 97511.93,\n",
       "       97535.93, 97559.93, 97583.93, 97607.93, 97631.93, 97655.93, 97679.93,\n",
       "       97703.93, 97727.93, 97751.93, 97775.93, 97799.93, 97823.93, 97847.93],\n",
       "      dtype=float32)</pre></div></li></ul></div></li><li class='xr-section-item'><input id='section-4d7de545-8047-4bbe-bff9-cc940549bc43' class='xr-section-summary-in' type='checkbox'  checked><label for='section-4d7de545-8047-4bbe-bff9-cc940549bc43' class='xr-section-summary' >Attributes: <span>(1)</span></label><div class='xr-section-inline-details'></div><div class='xr-section-details'><dl class='xr-attrs'><dt><span>unit :</span></dt><dd>hours since 1950-01-01 00:00:00</dd></dl></div></li></ul></div></div>"
      ],
      "text/plain": [
       "<xarray.DataArray 'TIME' (TIME: 28)>\n",
       "array([97199.93, 97223.93, 97247.93, 97271.93, 97295.93, 97319.93, 97343.93,\n",
       "       97367.93, 97391.93, 97415.93, 97439.93, 97463.93, 97487.93, 97511.93,\n",
       "       97535.93, 97559.93, 97583.93, 97607.93, 97631.93, 97655.93, 97679.93,\n",
       "       97703.93, 97727.93, 97751.93, 97775.93, 97799.93, 97823.93, 97847.93],\n",
       "      dtype=float32)\n",
       "Coordinates:\n",
       "  * TIME     (TIME) float32 9.72e+04 9.722e+04 9.725e+04 ... 9.782e+04 9.785e+04\n",
       "Attributes:\n",
       "    unit:     hours since 1950-01-01 00:00:00"
      ]
     },
     "execution_count": 32,
     "metadata": {},
     "output_type": "execute_result"
    }
   ],
   "source": [
    "dd = \"/home/ollie/ssunar/nn_interpolation_new/ssh_gridded_1961_001_02_new.nc\"\n",
    "true_ds = xr.open_dataset(dd)\n",
    "true_ds['TIME'][:]"
   ]
  },
  {
   "cell_type": "code",
   "execution_count": 7,
   "metadata": {},
   "outputs": [
    {
     "name": "stderr",
     "output_type": "stream",
     "text": [
      "We assume pixel position of grid is centered for /albedo/home/ssunar/ssh_filtered/months/ssh_filtered_gridded_1961_001_01.nc\n",
      "We assume pixel position of grid is centered for /albedo/home/ssunar/ssh_filtered/months/ssh_filtered_gridded_1961_001_01.nc\n",
      "We assume pixel position of grid is centered for /albedo/home/ssunar/ssh_filtered/months/ssh_filtered_gridded_1961_001_01.nc\n",
      "We assume pixel position of grid is centered for /albedo/home/ssunar/ssh_filtered/months/ssh_filtered_gridded_1961_001_01.nc\n",
      "We assume pixel position of grid is centered for /albedo/home/ssunar/ssh_filtered/months/ssh_filtered_gridded_1961_001_01.nc\n",
      "We assume pixel position of grid is centered for /albedo/home/ssunar/ssh_filtered/months/ssh_filtered_gridded_1961_001_01.nc\n",
      "We assume pixel position of grid is centered for /albedo/home/ssunar/ssh_filtered/months/ssh_filtered_gridded_1961_001_01.nc\n",
      "We assume pixel position of grid is centered for /albedo/home/ssunar/ssh_filtered/months/ssh_filtered_gridded_1961_001_01.nc\n",
      "We assume pixel position of grid is centered for /albedo/home/ssunar/ssh_filtered/months/ssh_filtered_gridded_1961_001_01.nc\n",
      "We assume pixel position of grid is centered for /albedo/home/ssunar/ssh_filtered/months/ssh_filtered_gridded_1961_001_01.nc\n",
      "We assume pixel position of grid is centered for /albedo/home/ssunar/ssh_filtered/months/ssh_filtered_gridded_1961_001_01.nc\n",
      "We assume pixel position of grid is centered for /albedo/home/ssunar/ssh_filtered/months/ssh_filtered_gridded_1961_001_01.nc\n",
      "We assume pixel position of grid is centered for /albedo/home/ssunar/ssh_filtered/months/ssh_filtered_gridded_1961_001_01.nc\n",
      "We assume pixel position of grid is centered for /albedo/home/ssunar/ssh_filtered/months/ssh_filtered_gridded_1961_001_01.nc\n",
      "We assume pixel position of grid is centered for /albedo/home/ssunar/ssh_filtered/months/ssh_filtered_gridded_1961_001_01.nc\n",
      "We assume pixel position of grid is centered for /albedo/home/ssunar/ssh_filtered/months/ssh_filtered_gridded_1961_001_01.nc\n",
      "We assume pixel position of grid is centered for /albedo/home/ssunar/ssh_filtered/months/ssh_filtered_gridded_1961_001_01.nc\n",
      "We assume pixel position of grid is centered for /albedo/home/ssunar/ssh_filtered/months/ssh_filtered_gridded_1961_001_01.nc\n",
      "We assume pixel position of grid is centered for /albedo/home/ssunar/ssh_filtered/months/ssh_filtered_gridded_1961_001_01.nc\n",
      "We assume pixel position of grid is centered for /albedo/home/ssunar/ssh_filtered/months/ssh_filtered_gridded_1961_001_01.nc\n",
      "We assume pixel position of grid is centered for /albedo/home/ssunar/ssh_filtered/months/ssh_filtered_gridded_1961_001_01.nc\n",
      "We assume pixel position of grid is centered for /albedo/home/ssunar/ssh_filtered/months/ssh_filtered_gridded_1961_001_01.nc\n",
      "We assume pixel position of grid is centered for /albedo/home/ssunar/ssh_filtered/months/ssh_filtered_gridded_1961_001_01.nc\n",
      "We assume pixel position of grid is centered for /albedo/home/ssunar/ssh_filtered/months/ssh_filtered_gridded_1961_001_01.nc\n",
      "We assume pixel position of grid is centered for /albedo/home/ssunar/ssh_filtered/months/ssh_filtered_gridded_1961_001_01.nc\n",
      "We assume pixel position of grid is centered for /albedo/home/ssunar/ssh_filtered/months/ssh_filtered_gridded_1961_001_01.nc\n",
      "We assume pixel position of grid is centered for /albedo/home/ssunar/ssh_filtered/months/ssh_filtered_gridded_1961_001_01.nc\n",
      "We assume pixel position of grid is centered for /albedo/home/ssunar/ssh_filtered/months/ssh_filtered_gridded_1961_001_01.nc\n",
      "We assume pixel position of grid is centered for /albedo/home/ssunar/ssh_filtered/months/ssh_filtered_gridded_1961_001_01.nc\n",
      "We assume pixel position of grid is centered for /albedo/home/ssunar/ssh_filtered/months/ssh_filtered_gridded_1961_001_01.nc\n",
      "We assume pixel position of grid is centered for /albedo/home/ssunar/ssh_filtered/months/ssh_filtered_gridded_1961_001_01.nc\n"
     ]
    },
    {
     "name": "stdout",
     "output_type": "stream",
     "text": [
      "31\n"
     ]
    },
    {
     "name": "stderr",
     "output_type": "stream",
     "text": [
      "/albedo/home/ssunar/py-eddy-tracker/src/py_eddy_tracker/observations/observation.py:1619: RuntimeWarning: overflow encountered in true_divide\n",
      "  var[:] = data\n"
     ]
    }
   ],
   "source": [
    "#daywise eddy observation object creation and segmask saving monthwise\n",
    "import os\n",
    "for j in range(1, 2): #years\n",
    "        \n",
    "    for i in range(1, 2): #months\n",
    "        data_addr_nn = '/albedo/home/ssunar/ssh_filtered/months/ssh_filtered_gridded_196'+str(j)+'_001_'+str(i).zfill(2)+'.nc'\n",
    "        ds = xr.open_dataset(data_addr_nn)\n",
    "        lon = [ds[\"LONGITUDE\"].values.min(), ds[\"LONGITUDE\"].values.max()] \n",
    "        lat = [ds[\"LATITUDE\"].values.min() , ds[\"LATITUDE\"].values.max()]\n",
    "\n",
    "        last_day = ds[\"TIME\"].size\n",
    "        days = list(range(1, last_day + 1))\n",
    "        eddy_class = eddy_detection(dataset_path=data_addr_nn, lat=lat, lon=lon)\n",
    "        \n",
    "        eddy_class.create_list_dataset(days)\n",
    "#         for day in days:\n",
    "#             lon = eddy_class.grid_list[day-1].x_c\n",
    "#             lon[lon<0] +=360\n",
    "#             eddy_class.grid_list[day-1].x_c =lon\n",
    "        eddy_class.detect_eddies()\n",
    "        print(last_day)\n",
    "        masked_3d_array = masking(eddy_class)\n",
    "        ds_mask = ds.copy(deep = True)\n",
    "        ds_mask[\"seg_mask\"] = (\"TIME\", \"LONGITUDE\", \"LATITUDE\"), masked_3d_array\n",
    "        ds_mask = ds_mask.drop(\"ssh\")\n",
    "\n",
    "        outfile = \"/albedo/home/ssunar/temp/segmentation_mask_nn_196\"+str(j)+\"_001_\"+str(i).zfill(2)+\".nc\"\n",
    "        if os.path.isfile(outfile):\n",
    "            os.remove(outfile)\n",
    "        ds_mask.to_netcdf(outfile)\n",
    "        \n",
    "        for k in range(last_day):\n",
    "            a = eddy_class.anticyclonic_list[k]\n",
    "            c = eddy_class.cyclonic_list[k]\n",
    "            a.time[:] //= 1\n",
    "            c.time[:] //= 1\n",
    "            date = datetime(1960 + j, i, k+1)\n",
    "            with Dataset(date.strftime(\"/albedo/home/ssunar/temp/Anticyclonic_%Y%m%d.nc\"), \"w\") as h:\n",
    "                #file_a_pred_list.append(date.strftime(\"/home/ollie/ssunar/obs_files_days/anticyclonic_true/Anticyclonic_%Y%m%d.nc\"))\n",
    "                a.to_netcdf(h)\n",
    "            with Dataset(date.strftime(\"/albedo/home/ssunar/temp/Cyclonic_%Y%m%d.nc\"), \"w\") as h:\n",
    "                #file_c_pred_list.append(date.strftime(\"/home/ollie/ssunar/obs_files_days/cyclonic_true/Cyclonic_%Y%m%d.nc\"))\n",
    "                c.to_netcdf(h)\n",
    "        "
   ]
  },
  {
   "cell_type": "code",
   "execution_count": null,
   "metadata": {
    "scrolled": true
   },
   "outputs": [
    {
     "name": "stderr",
     "output_type": "stream",
     "text": [
      "We assume pixel position of grid is centered for /home/ollie/ssunar/ssh_filtered/months/ssh_filtered_gridded_1961_001_01.nc\n",
      "We assume pixel position of grid is centered for /home/ollie/ssunar/ssh_filtered/months/ssh_filtered_gridded_1961_001_01.nc\n",
      "We assume pixel position of grid is centered for /home/ollie/ssunar/ssh_filtered/months/ssh_filtered_gridded_1961_001_01.nc\n",
      "We assume pixel position of grid is centered for /home/ollie/ssunar/ssh_filtered/months/ssh_filtered_gridded_1961_001_01.nc\n",
      "We assume pixel position of grid is centered for /home/ollie/ssunar/ssh_filtered/months/ssh_filtered_gridded_1961_001_01.nc\n",
      "We assume pixel position of grid is centered for /home/ollie/ssunar/ssh_filtered/months/ssh_filtered_gridded_1961_001_01.nc\n",
      "We assume pixel position of grid is centered for /home/ollie/ssunar/ssh_filtered/months/ssh_filtered_gridded_1961_001_01.nc\n",
      "We assume pixel position of grid is centered for /home/ollie/ssunar/ssh_filtered/months/ssh_filtered_gridded_1961_001_01.nc\n",
      "We assume pixel position of grid is centered for /home/ollie/ssunar/ssh_filtered/months/ssh_filtered_gridded_1961_001_01.nc\n",
      "We assume pixel position of grid is centered for /home/ollie/ssunar/ssh_filtered/months/ssh_filtered_gridded_1961_001_01.nc\n",
      "We assume pixel position of grid is centered for /home/ollie/ssunar/ssh_filtered/months/ssh_filtered_gridded_1961_001_01.nc\n",
      "We assume pixel position of grid is centered for /home/ollie/ssunar/ssh_filtered/months/ssh_filtered_gridded_1961_001_01.nc\n",
      "We assume pixel position of grid is centered for /home/ollie/ssunar/ssh_filtered/months/ssh_filtered_gridded_1961_001_01.nc\n",
      "We assume pixel position of grid is centered for /home/ollie/ssunar/ssh_filtered/months/ssh_filtered_gridded_1961_001_01.nc\n",
      "We assume pixel position of grid is centered for /home/ollie/ssunar/ssh_filtered/months/ssh_filtered_gridded_1961_001_01.nc\n",
      "We assume pixel position of grid is centered for /home/ollie/ssunar/ssh_filtered/months/ssh_filtered_gridded_1961_001_01.nc\n",
      "We assume pixel position of grid is centered for /home/ollie/ssunar/ssh_filtered/months/ssh_filtered_gridded_1961_001_01.nc\n",
      "We assume pixel position of grid is centered for /home/ollie/ssunar/ssh_filtered/months/ssh_filtered_gridded_1961_001_01.nc\n",
      "We assume pixel position of grid is centered for /home/ollie/ssunar/ssh_filtered/months/ssh_filtered_gridded_1961_001_01.nc\n",
      "We assume pixel position of grid is centered for /home/ollie/ssunar/ssh_filtered/months/ssh_filtered_gridded_1961_001_01.nc\n",
      "We assume pixel position of grid is centered for /home/ollie/ssunar/ssh_filtered/months/ssh_filtered_gridded_1961_001_01.nc\n",
      "We assume pixel position of grid is centered for /home/ollie/ssunar/ssh_filtered/months/ssh_filtered_gridded_1961_001_01.nc\n",
      "We assume pixel position of grid is centered for /home/ollie/ssunar/ssh_filtered/months/ssh_filtered_gridded_1961_001_01.nc\n",
      "We assume pixel position of grid is centered for /home/ollie/ssunar/ssh_filtered/months/ssh_filtered_gridded_1961_001_01.nc\n",
      "We assume pixel position of grid is centered for /home/ollie/ssunar/ssh_filtered/months/ssh_filtered_gridded_1961_001_01.nc\n",
      "We assume pixel position of grid is centered for /home/ollie/ssunar/ssh_filtered/months/ssh_filtered_gridded_1961_001_01.nc\n",
      "We assume pixel position of grid is centered for /home/ollie/ssunar/ssh_filtered/months/ssh_filtered_gridded_1961_001_01.nc\n",
      "We assume pixel position of grid is centered for /home/ollie/ssunar/ssh_filtered/months/ssh_filtered_gridded_1961_001_01.nc\n",
      "We assume pixel position of grid is centered for /home/ollie/ssunar/ssh_filtered/months/ssh_filtered_gridded_1961_001_01.nc\n",
      "We assume pixel position of grid is centered for /home/ollie/ssunar/ssh_filtered/months/ssh_filtered_gridded_1961_001_01.nc\n",
      "We assume pixel position of grid is centered for /home/ollie/ssunar/ssh_filtered/months/ssh_filtered_gridded_1961_001_01.nc\n"
     ]
    },
    {
     "name": "stdout",
     "output_type": "stream",
     "text": [
      "31\n"
     ]
    },
    {
     "name": "stderr",
     "output_type": "stream",
     "text": [
      "/home/ollie/ssunar/py-eddy-tracker/src/py_eddy_tracker/observations/observation.py:1624: RuntimeWarning: overflow encountered in true_divide\n",
      "  var[:] = data\n",
      "We assume pixel position of grid is centered for /home/ollie/ssunar/ssh_filtered/months/ssh_filtered_gridded_1961_001_02.nc\n",
      "We assume pixel position of grid is centered for /home/ollie/ssunar/ssh_filtered/months/ssh_filtered_gridded_1961_001_02.nc\n",
      "We assume pixel position of grid is centered for /home/ollie/ssunar/ssh_filtered/months/ssh_filtered_gridded_1961_001_02.nc\n",
      "We assume pixel position of grid is centered for /home/ollie/ssunar/ssh_filtered/months/ssh_filtered_gridded_1961_001_02.nc\n",
      "We assume pixel position of grid is centered for /home/ollie/ssunar/ssh_filtered/months/ssh_filtered_gridded_1961_001_02.nc\n",
      "We assume pixel position of grid is centered for /home/ollie/ssunar/ssh_filtered/months/ssh_filtered_gridded_1961_001_02.nc\n",
      "We assume pixel position of grid is centered for /home/ollie/ssunar/ssh_filtered/months/ssh_filtered_gridded_1961_001_02.nc\n",
      "We assume pixel position of grid is centered for /home/ollie/ssunar/ssh_filtered/months/ssh_filtered_gridded_1961_001_02.nc\n",
      "We assume pixel position of grid is centered for /home/ollie/ssunar/ssh_filtered/months/ssh_filtered_gridded_1961_001_02.nc\n",
      "We assume pixel position of grid is centered for /home/ollie/ssunar/ssh_filtered/months/ssh_filtered_gridded_1961_001_02.nc\n",
      "We assume pixel position of grid is centered for /home/ollie/ssunar/ssh_filtered/months/ssh_filtered_gridded_1961_001_02.nc\n",
      "We assume pixel position of grid is centered for /home/ollie/ssunar/ssh_filtered/months/ssh_filtered_gridded_1961_001_02.nc\n",
      "We assume pixel position of grid is centered for /home/ollie/ssunar/ssh_filtered/months/ssh_filtered_gridded_1961_001_02.nc\n",
      "We assume pixel position of grid is centered for /home/ollie/ssunar/ssh_filtered/months/ssh_filtered_gridded_1961_001_02.nc\n",
      "We assume pixel position of grid is centered for /home/ollie/ssunar/ssh_filtered/months/ssh_filtered_gridded_1961_001_02.nc\n",
      "We assume pixel position of grid is centered for /home/ollie/ssunar/ssh_filtered/months/ssh_filtered_gridded_1961_001_02.nc\n",
      "We assume pixel position of grid is centered for /home/ollie/ssunar/ssh_filtered/months/ssh_filtered_gridded_1961_001_02.nc\n",
      "We assume pixel position of grid is centered for /home/ollie/ssunar/ssh_filtered/months/ssh_filtered_gridded_1961_001_02.nc\n",
      "We assume pixel position of grid is centered for /home/ollie/ssunar/ssh_filtered/months/ssh_filtered_gridded_1961_001_02.nc\n",
      "We assume pixel position of grid is centered for /home/ollie/ssunar/ssh_filtered/months/ssh_filtered_gridded_1961_001_02.nc\n",
      "We assume pixel position of grid is centered for /home/ollie/ssunar/ssh_filtered/months/ssh_filtered_gridded_1961_001_02.nc\n",
      "We assume pixel position of grid is centered for /home/ollie/ssunar/ssh_filtered/months/ssh_filtered_gridded_1961_001_02.nc\n",
      "We assume pixel position of grid is centered for /home/ollie/ssunar/ssh_filtered/months/ssh_filtered_gridded_1961_001_02.nc\n",
      "We assume pixel position of grid is centered for /home/ollie/ssunar/ssh_filtered/months/ssh_filtered_gridded_1961_001_02.nc\n",
      "We assume pixel position of grid is centered for /home/ollie/ssunar/ssh_filtered/months/ssh_filtered_gridded_1961_001_02.nc\n",
      "We assume pixel position of grid is centered for /home/ollie/ssunar/ssh_filtered/months/ssh_filtered_gridded_1961_001_02.nc\n",
      "We assume pixel position of grid is centered for /home/ollie/ssunar/ssh_filtered/months/ssh_filtered_gridded_1961_001_02.nc\n",
      "We assume pixel position of grid is centered for /home/ollie/ssunar/ssh_filtered/months/ssh_filtered_gridded_1961_001_02.nc\n"
     ]
    },
    {
     "name": "stdout",
     "output_type": "stream",
     "text": [
      "28\n"
     ]
    },
    {
     "name": "stderr",
     "output_type": "stream",
     "text": [
      "We assume pixel position of grid is centered for /home/ollie/ssunar/ssh_filtered/months/ssh_filtered_gridded_1961_001_03.nc\n",
      "We assume pixel position of grid is centered for /home/ollie/ssunar/ssh_filtered/months/ssh_filtered_gridded_1961_001_03.nc\n",
      "We assume pixel position of grid is centered for /home/ollie/ssunar/ssh_filtered/months/ssh_filtered_gridded_1961_001_03.nc\n",
      "We assume pixel position of grid is centered for /home/ollie/ssunar/ssh_filtered/months/ssh_filtered_gridded_1961_001_03.nc\n",
      "We assume pixel position of grid is centered for /home/ollie/ssunar/ssh_filtered/months/ssh_filtered_gridded_1961_001_03.nc\n",
      "We assume pixel position of grid is centered for /home/ollie/ssunar/ssh_filtered/months/ssh_filtered_gridded_1961_001_03.nc\n",
      "We assume pixel position of grid is centered for /home/ollie/ssunar/ssh_filtered/months/ssh_filtered_gridded_1961_001_03.nc\n",
      "We assume pixel position of grid is centered for /home/ollie/ssunar/ssh_filtered/months/ssh_filtered_gridded_1961_001_03.nc\n",
      "We assume pixel position of grid is centered for /home/ollie/ssunar/ssh_filtered/months/ssh_filtered_gridded_1961_001_03.nc\n",
      "We assume pixel position of grid is centered for /home/ollie/ssunar/ssh_filtered/months/ssh_filtered_gridded_1961_001_03.nc\n",
      "We assume pixel position of grid is centered for /home/ollie/ssunar/ssh_filtered/months/ssh_filtered_gridded_1961_001_03.nc\n",
      "We assume pixel position of grid is centered for /home/ollie/ssunar/ssh_filtered/months/ssh_filtered_gridded_1961_001_03.nc\n",
      "We assume pixel position of grid is centered for /home/ollie/ssunar/ssh_filtered/months/ssh_filtered_gridded_1961_001_03.nc\n",
      "We assume pixel position of grid is centered for /home/ollie/ssunar/ssh_filtered/months/ssh_filtered_gridded_1961_001_03.nc\n",
      "We assume pixel position of grid is centered for /home/ollie/ssunar/ssh_filtered/months/ssh_filtered_gridded_1961_001_03.nc\n",
      "We assume pixel position of grid is centered for /home/ollie/ssunar/ssh_filtered/months/ssh_filtered_gridded_1961_001_03.nc\n",
      "We assume pixel position of grid is centered for /home/ollie/ssunar/ssh_filtered/months/ssh_filtered_gridded_1961_001_03.nc\n",
      "We assume pixel position of grid is centered for /home/ollie/ssunar/ssh_filtered/months/ssh_filtered_gridded_1961_001_03.nc\n",
      "We assume pixel position of grid is centered for /home/ollie/ssunar/ssh_filtered/months/ssh_filtered_gridded_1961_001_03.nc\n",
      "We assume pixel position of grid is centered for /home/ollie/ssunar/ssh_filtered/months/ssh_filtered_gridded_1961_001_03.nc\n",
      "We assume pixel position of grid is centered for /home/ollie/ssunar/ssh_filtered/months/ssh_filtered_gridded_1961_001_03.nc\n",
      "We assume pixel position of grid is centered for /home/ollie/ssunar/ssh_filtered/months/ssh_filtered_gridded_1961_001_03.nc\n",
      "We assume pixel position of grid is centered for /home/ollie/ssunar/ssh_filtered/months/ssh_filtered_gridded_1961_001_03.nc\n",
      "We assume pixel position of grid is centered for /home/ollie/ssunar/ssh_filtered/months/ssh_filtered_gridded_1961_001_03.nc\n",
      "We assume pixel position of grid is centered for /home/ollie/ssunar/ssh_filtered/months/ssh_filtered_gridded_1961_001_03.nc\n",
      "We assume pixel position of grid is centered for /home/ollie/ssunar/ssh_filtered/months/ssh_filtered_gridded_1961_001_03.nc\n",
      "We assume pixel position of grid is centered for /home/ollie/ssunar/ssh_filtered/months/ssh_filtered_gridded_1961_001_03.nc\n",
      "We assume pixel position of grid is centered for /home/ollie/ssunar/ssh_filtered/months/ssh_filtered_gridded_1961_001_03.nc\n",
      "We assume pixel position of grid is centered for /home/ollie/ssunar/ssh_filtered/months/ssh_filtered_gridded_1961_001_03.nc\n",
      "We assume pixel position of grid is centered for /home/ollie/ssunar/ssh_filtered/months/ssh_filtered_gridded_1961_001_03.nc\n",
      "We assume pixel position of grid is centered for /home/ollie/ssunar/ssh_filtered/months/ssh_filtered_gridded_1961_001_03.nc\n"
     ]
    },
    {
     "name": "stdout",
     "output_type": "stream",
     "text": [
      "31\n"
     ]
    },
    {
     "name": "stderr",
     "output_type": "stream",
     "text": [
      "We assume pixel position of grid is centered for /home/ollie/ssunar/ssh_filtered/months/ssh_filtered_gridded_1961_001_04.nc\n",
      "We assume pixel position of grid is centered for /home/ollie/ssunar/ssh_filtered/months/ssh_filtered_gridded_1961_001_04.nc\n",
      "We assume pixel position of grid is centered for /home/ollie/ssunar/ssh_filtered/months/ssh_filtered_gridded_1961_001_04.nc\n",
      "We assume pixel position of grid is centered for /home/ollie/ssunar/ssh_filtered/months/ssh_filtered_gridded_1961_001_04.nc\n",
      "We assume pixel position of grid is centered for /home/ollie/ssunar/ssh_filtered/months/ssh_filtered_gridded_1961_001_04.nc\n",
      "We assume pixel position of grid is centered for /home/ollie/ssunar/ssh_filtered/months/ssh_filtered_gridded_1961_001_04.nc\n",
      "We assume pixel position of grid is centered for /home/ollie/ssunar/ssh_filtered/months/ssh_filtered_gridded_1961_001_04.nc\n",
      "We assume pixel position of grid is centered for /home/ollie/ssunar/ssh_filtered/months/ssh_filtered_gridded_1961_001_04.nc\n",
      "We assume pixel position of grid is centered for /home/ollie/ssunar/ssh_filtered/months/ssh_filtered_gridded_1961_001_04.nc\n",
      "We assume pixel position of grid is centered for /home/ollie/ssunar/ssh_filtered/months/ssh_filtered_gridded_1961_001_04.nc\n",
      "We assume pixel position of grid is centered for /home/ollie/ssunar/ssh_filtered/months/ssh_filtered_gridded_1961_001_04.nc\n",
      "We assume pixel position of grid is centered for /home/ollie/ssunar/ssh_filtered/months/ssh_filtered_gridded_1961_001_04.nc\n",
      "We assume pixel position of grid is centered for /home/ollie/ssunar/ssh_filtered/months/ssh_filtered_gridded_1961_001_04.nc\n",
      "We assume pixel position of grid is centered for /home/ollie/ssunar/ssh_filtered/months/ssh_filtered_gridded_1961_001_04.nc\n",
      "We assume pixel position of grid is centered for /home/ollie/ssunar/ssh_filtered/months/ssh_filtered_gridded_1961_001_04.nc\n",
      "We assume pixel position of grid is centered for /home/ollie/ssunar/ssh_filtered/months/ssh_filtered_gridded_1961_001_04.nc\n",
      "We assume pixel position of grid is centered for /home/ollie/ssunar/ssh_filtered/months/ssh_filtered_gridded_1961_001_04.nc\n",
      "We assume pixel position of grid is centered for /home/ollie/ssunar/ssh_filtered/months/ssh_filtered_gridded_1961_001_04.nc\n",
      "We assume pixel position of grid is centered for /home/ollie/ssunar/ssh_filtered/months/ssh_filtered_gridded_1961_001_04.nc\n",
      "We assume pixel position of grid is centered for /home/ollie/ssunar/ssh_filtered/months/ssh_filtered_gridded_1961_001_04.nc\n",
      "We assume pixel position of grid is centered for /home/ollie/ssunar/ssh_filtered/months/ssh_filtered_gridded_1961_001_04.nc\n",
      "We assume pixel position of grid is centered for /home/ollie/ssunar/ssh_filtered/months/ssh_filtered_gridded_1961_001_04.nc\n",
      "We assume pixel position of grid is centered for /home/ollie/ssunar/ssh_filtered/months/ssh_filtered_gridded_1961_001_04.nc\n",
      "We assume pixel position of grid is centered for /home/ollie/ssunar/ssh_filtered/months/ssh_filtered_gridded_1961_001_04.nc\n",
      "We assume pixel position of grid is centered for /home/ollie/ssunar/ssh_filtered/months/ssh_filtered_gridded_1961_001_04.nc\n",
      "We assume pixel position of grid is centered for /home/ollie/ssunar/ssh_filtered/months/ssh_filtered_gridded_1961_001_04.nc\n",
      "We assume pixel position of grid is centered for /home/ollie/ssunar/ssh_filtered/months/ssh_filtered_gridded_1961_001_04.nc\n",
      "We assume pixel position of grid is centered for /home/ollie/ssunar/ssh_filtered/months/ssh_filtered_gridded_1961_001_04.nc\n",
      "We assume pixel position of grid is centered for /home/ollie/ssunar/ssh_filtered/months/ssh_filtered_gridded_1961_001_04.nc\n",
      "We assume pixel position of grid is centered for /home/ollie/ssunar/ssh_filtered/months/ssh_filtered_gridded_1961_001_04.nc\n"
     ]
    },
    {
     "name": "stdout",
     "output_type": "stream",
     "text": [
      "30\n"
     ]
    },
    {
     "name": "stderr",
     "output_type": "stream",
     "text": [
      "We assume pixel position of grid is centered for /home/ollie/ssunar/ssh_filtered/months/ssh_filtered_gridded_1961_001_05.nc\n",
      "We assume pixel position of grid is centered for /home/ollie/ssunar/ssh_filtered/months/ssh_filtered_gridded_1961_001_05.nc\n",
      "We assume pixel position of grid is centered for /home/ollie/ssunar/ssh_filtered/months/ssh_filtered_gridded_1961_001_05.nc\n",
      "We assume pixel position of grid is centered for /home/ollie/ssunar/ssh_filtered/months/ssh_filtered_gridded_1961_001_05.nc\n",
      "We assume pixel position of grid is centered for /home/ollie/ssunar/ssh_filtered/months/ssh_filtered_gridded_1961_001_05.nc\n",
      "We assume pixel position of grid is centered for /home/ollie/ssunar/ssh_filtered/months/ssh_filtered_gridded_1961_001_05.nc\n",
      "We assume pixel position of grid is centered for /home/ollie/ssunar/ssh_filtered/months/ssh_filtered_gridded_1961_001_05.nc\n",
      "We assume pixel position of grid is centered for /home/ollie/ssunar/ssh_filtered/months/ssh_filtered_gridded_1961_001_05.nc\n",
      "We assume pixel position of grid is centered for /home/ollie/ssunar/ssh_filtered/months/ssh_filtered_gridded_1961_001_05.nc\n",
      "We assume pixel position of grid is centered for /home/ollie/ssunar/ssh_filtered/months/ssh_filtered_gridded_1961_001_05.nc\n",
      "We assume pixel position of grid is centered for /home/ollie/ssunar/ssh_filtered/months/ssh_filtered_gridded_1961_001_05.nc\n",
      "We assume pixel position of grid is centered for /home/ollie/ssunar/ssh_filtered/months/ssh_filtered_gridded_1961_001_05.nc\n",
      "We assume pixel position of grid is centered for /home/ollie/ssunar/ssh_filtered/months/ssh_filtered_gridded_1961_001_05.nc\n",
      "We assume pixel position of grid is centered for /home/ollie/ssunar/ssh_filtered/months/ssh_filtered_gridded_1961_001_05.nc\n",
      "We assume pixel position of grid is centered for /home/ollie/ssunar/ssh_filtered/months/ssh_filtered_gridded_1961_001_05.nc\n",
      "We assume pixel position of grid is centered for /home/ollie/ssunar/ssh_filtered/months/ssh_filtered_gridded_1961_001_05.nc\n",
      "We assume pixel position of grid is centered for /home/ollie/ssunar/ssh_filtered/months/ssh_filtered_gridded_1961_001_05.nc\n",
      "We assume pixel position of grid is centered for /home/ollie/ssunar/ssh_filtered/months/ssh_filtered_gridded_1961_001_05.nc\n",
      "We assume pixel position of grid is centered for /home/ollie/ssunar/ssh_filtered/months/ssh_filtered_gridded_1961_001_05.nc\n",
      "We assume pixel position of grid is centered for /home/ollie/ssunar/ssh_filtered/months/ssh_filtered_gridded_1961_001_05.nc\n",
      "We assume pixel position of grid is centered for /home/ollie/ssunar/ssh_filtered/months/ssh_filtered_gridded_1961_001_05.nc\n",
      "We assume pixel position of grid is centered for /home/ollie/ssunar/ssh_filtered/months/ssh_filtered_gridded_1961_001_05.nc\n",
      "We assume pixel position of grid is centered for /home/ollie/ssunar/ssh_filtered/months/ssh_filtered_gridded_1961_001_05.nc\n",
      "We assume pixel position of grid is centered for /home/ollie/ssunar/ssh_filtered/months/ssh_filtered_gridded_1961_001_05.nc\n",
      "We assume pixel position of grid is centered for /home/ollie/ssunar/ssh_filtered/months/ssh_filtered_gridded_1961_001_05.nc\n",
      "We assume pixel position of grid is centered for /home/ollie/ssunar/ssh_filtered/months/ssh_filtered_gridded_1961_001_05.nc\n",
      "We assume pixel position of grid is centered for /home/ollie/ssunar/ssh_filtered/months/ssh_filtered_gridded_1961_001_05.nc\n",
      "We assume pixel position of grid is centered for /home/ollie/ssunar/ssh_filtered/months/ssh_filtered_gridded_1961_001_05.nc\n",
      "We assume pixel position of grid is centered for /home/ollie/ssunar/ssh_filtered/months/ssh_filtered_gridded_1961_001_05.nc\n",
      "We assume pixel position of grid is centered for /home/ollie/ssunar/ssh_filtered/months/ssh_filtered_gridded_1961_001_05.nc\n",
      "We assume pixel position of grid is centered for /home/ollie/ssunar/ssh_filtered/months/ssh_filtered_gridded_1961_001_05.nc\n"
     ]
    },
    {
     "name": "stdout",
     "output_type": "stream",
     "text": [
      "31\n"
     ]
    },
    {
     "name": "stderr",
     "output_type": "stream",
     "text": [
      "We assume pixel position of grid is centered for /home/ollie/ssunar/ssh_filtered/months/ssh_filtered_gridded_1961_001_06.nc\n",
      "We assume pixel position of grid is centered for /home/ollie/ssunar/ssh_filtered/months/ssh_filtered_gridded_1961_001_06.nc\n",
      "We assume pixel position of grid is centered for /home/ollie/ssunar/ssh_filtered/months/ssh_filtered_gridded_1961_001_06.nc\n",
      "We assume pixel position of grid is centered for /home/ollie/ssunar/ssh_filtered/months/ssh_filtered_gridded_1961_001_06.nc\n",
      "We assume pixel position of grid is centered for /home/ollie/ssunar/ssh_filtered/months/ssh_filtered_gridded_1961_001_06.nc\n",
      "We assume pixel position of grid is centered for /home/ollie/ssunar/ssh_filtered/months/ssh_filtered_gridded_1961_001_06.nc\n",
      "We assume pixel position of grid is centered for /home/ollie/ssunar/ssh_filtered/months/ssh_filtered_gridded_1961_001_06.nc\n",
      "We assume pixel position of grid is centered for /home/ollie/ssunar/ssh_filtered/months/ssh_filtered_gridded_1961_001_06.nc\n",
      "We assume pixel position of grid is centered for /home/ollie/ssunar/ssh_filtered/months/ssh_filtered_gridded_1961_001_06.nc\n",
      "We assume pixel position of grid is centered for /home/ollie/ssunar/ssh_filtered/months/ssh_filtered_gridded_1961_001_06.nc\n",
      "We assume pixel position of grid is centered for /home/ollie/ssunar/ssh_filtered/months/ssh_filtered_gridded_1961_001_06.nc\n",
      "We assume pixel position of grid is centered for /home/ollie/ssunar/ssh_filtered/months/ssh_filtered_gridded_1961_001_06.nc\n",
      "We assume pixel position of grid is centered for /home/ollie/ssunar/ssh_filtered/months/ssh_filtered_gridded_1961_001_06.nc\n",
      "We assume pixel position of grid is centered for /home/ollie/ssunar/ssh_filtered/months/ssh_filtered_gridded_1961_001_06.nc\n",
      "We assume pixel position of grid is centered for /home/ollie/ssunar/ssh_filtered/months/ssh_filtered_gridded_1961_001_06.nc\n",
      "We assume pixel position of grid is centered for /home/ollie/ssunar/ssh_filtered/months/ssh_filtered_gridded_1961_001_06.nc\n",
      "We assume pixel position of grid is centered for /home/ollie/ssunar/ssh_filtered/months/ssh_filtered_gridded_1961_001_06.nc\n",
      "We assume pixel position of grid is centered for /home/ollie/ssunar/ssh_filtered/months/ssh_filtered_gridded_1961_001_06.nc\n",
      "We assume pixel position of grid is centered for /home/ollie/ssunar/ssh_filtered/months/ssh_filtered_gridded_1961_001_06.nc\n",
      "We assume pixel position of grid is centered for /home/ollie/ssunar/ssh_filtered/months/ssh_filtered_gridded_1961_001_06.nc\n",
      "We assume pixel position of grid is centered for /home/ollie/ssunar/ssh_filtered/months/ssh_filtered_gridded_1961_001_06.nc\n",
      "We assume pixel position of grid is centered for /home/ollie/ssunar/ssh_filtered/months/ssh_filtered_gridded_1961_001_06.nc\n",
      "We assume pixel position of grid is centered for /home/ollie/ssunar/ssh_filtered/months/ssh_filtered_gridded_1961_001_06.nc\n",
      "We assume pixel position of grid is centered for /home/ollie/ssunar/ssh_filtered/months/ssh_filtered_gridded_1961_001_06.nc\n",
      "We assume pixel position of grid is centered for /home/ollie/ssunar/ssh_filtered/months/ssh_filtered_gridded_1961_001_06.nc\n",
      "We assume pixel position of grid is centered for /home/ollie/ssunar/ssh_filtered/months/ssh_filtered_gridded_1961_001_06.nc\n",
      "We assume pixel position of grid is centered for /home/ollie/ssunar/ssh_filtered/months/ssh_filtered_gridded_1961_001_06.nc\n",
      "We assume pixel position of grid is centered for /home/ollie/ssunar/ssh_filtered/months/ssh_filtered_gridded_1961_001_06.nc\n",
      "We assume pixel position of grid is centered for /home/ollie/ssunar/ssh_filtered/months/ssh_filtered_gridded_1961_001_06.nc\n",
      "We assume pixel position of grid is centered for /home/ollie/ssunar/ssh_filtered/months/ssh_filtered_gridded_1961_001_06.nc\n"
     ]
    },
    {
     "name": "stdout",
     "output_type": "stream",
     "text": [
      "30\n"
     ]
    },
    {
     "name": "stderr",
     "output_type": "stream",
     "text": [
      "We assume pixel position of grid is centered for /home/ollie/ssunar/ssh_filtered/months/ssh_filtered_gridded_1961_001_07.nc\n",
      "We assume pixel position of grid is centered for /home/ollie/ssunar/ssh_filtered/months/ssh_filtered_gridded_1961_001_07.nc\n",
      "We assume pixel position of grid is centered for /home/ollie/ssunar/ssh_filtered/months/ssh_filtered_gridded_1961_001_07.nc\n",
      "We assume pixel position of grid is centered for /home/ollie/ssunar/ssh_filtered/months/ssh_filtered_gridded_1961_001_07.nc\n",
      "We assume pixel position of grid is centered for /home/ollie/ssunar/ssh_filtered/months/ssh_filtered_gridded_1961_001_07.nc\n",
      "We assume pixel position of grid is centered for /home/ollie/ssunar/ssh_filtered/months/ssh_filtered_gridded_1961_001_07.nc\n",
      "We assume pixel position of grid is centered for /home/ollie/ssunar/ssh_filtered/months/ssh_filtered_gridded_1961_001_07.nc\n",
      "We assume pixel position of grid is centered for /home/ollie/ssunar/ssh_filtered/months/ssh_filtered_gridded_1961_001_07.nc\n",
      "We assume pixel position of grid is centered for /home/ollie/ssunar/ssh_filtered/months/ssh_filtered_gridded_1961_001_07.nc\n",
      "We assume pixel position of grid is centered for /home/ollie/ssunar/ssh_filtered/months/ssh_filtered_gridded_1961_001_07.nc\n",
      "We assume pixel position of grid is centered for /home/ollie/ssunar/ssh_filtered/months/ssh_filtered_gridded_1961_001_07.nc\n",
      "We assume pixel position of grid is centered for /home/ollie/ssunar/ssh_filtered/months/ssh_filtered_gridded_1961_001_07.nc\n",
      "We assume pixel position of grid is centered for /home/ollie/ssunar/ssh_filtered/months/ssh_filtered_gridded_1961_001_07.nc\n",
      "We assume pixel position of grid is centered for /home/ollie/ssunar/ssh_filtered/months/ssh_filtered_gridded_1961_001_07.nc\n",
      "We assume pixel position of grid is centered for /home/ollie/ssunar/ssh_filtered/months/ssh_filtered_gridded_1961_001_07.nc\n",
      "We assume pixel position of grid is centered for /home/ollie/ssunar/ssh_filtered/months/ssh_filtered_gridded_1961_001_07.nc\n",
      "We assume pixel position of grid is centered for /home/ollie/ssunar/ssh_filtered/months/ssh_filtered_gridded_1961_001_07.nc\n",
      "We assume pixel position of grid is centered for /home/ollie/ssunar/ssh_filtered/months/ssh_filtered_gridded_1961_001_07.nc\n",
      "We assume pixel position of grid is centered for /home/ollie/ssunar/ssh_filtered/months/ssh_filtered_gridded_1961_001_07.nc\n",
      "We assume pixel position of grid is centered for /home/ollie/ssunar/ssh_filtered/months/ssh_filtered_gridded_1961_001_07.nc\n",
      "We assume pixel position of grid is centered for /home/ollie/ssunar/ssh_filtered/months/ssh_filtered_gridded_1961_001_07.nc\n",
      "We assume pixel position of grid is centered for /home/ollie/ssunar/ssh_filtered/months/ssh_filtered_gridded_1961_001_07.nc\n",
      "We assume pixel position of grid is centered for /home/ollie/ssunar/ssh_filtered/months/ssh_filtered_gridded_1961_001_07.nc\n",
      "We assume pixel position of grid is centered for /home/ollie/ssunar/ssh_filtered/months/ssh_filtered_gridded_1961_001_07.nc\n",
      "We assume pixel position of grid is centered for /home/ollie/ssunar/ssh_filtered/months/ssh_filtered_gridded_1961_001_07.nc\n",
      "We assume pixel position of grid is centered for /home/ollie/ssunar/ssh_filtered/months/ssh_filtered_gridded_1961_001_07.nc\n",
      "We assume pixel position of grid is centered for /home/ollie/ssunar/ssh_filtered/months/ssh_filtered_gridded_1961_001_07.nc\n",
      "We assume pixel position of grid is centered for /home/ollie/ssunar/ssh_filtered/months/ssh_filtered_gridded_1961_001_07.nc\n",
      "We assume pixel position of grid is centered for /home/ollie/ssunar/ssh_filtered/months/ssh_filtered_gridded_1961_001_07.nc\n",
      "We assume pixel position of grid is centered for /home/ollie/ssunar/ssh_filtered/months/ssh_filtered_gridded_1961_001_07.nc\n",
      "We assume pixel position of grid is centered for /home/ollie/ssunar/ssh_filtered/months/ssh_filtered_gridded_1961_001_07.nc\n"
     ]
    },
    {
     "name": "stdout",
     "output_type": "stream",
     "text": [
      "31\n"
     ]
    },
    {
     "name": "stderr",
     "output_type": "stream",
     "text": [
      "We assume pixel position of grid is centered for /home/ollie/ssunar/ssh_filtered/months/ssh_filtered_gridded_1961_001_08.nc\n",
      "We assume pixel position of grid is centered for /home/ollie/ssunar/ssh_filtered/months/ssh_filtered_gridded_1961_001_08.nc\n",
      "We assume pixel position of grid is centered for /home/ollie/ssunar/ssh_filtered/months/ssh_filtered_gridded_1961_001_08.nc\n",
      "We assume pixel position of grid is centered for /home/ollie/ssunar/ssh_filtered/months/ssh_filtered_gridded_1961_001_08.nc\n",
      "We assume pixel position of grid is centered for /home/ollie/ssunar/ssh_filtered/months/ssh_filtered_gridded_1961_001_08.nc\n",
      "We assume pixel position of grid is centered for /home/ollie/ssunar/ssh_filtered/months/ssh_filtered_gridded_1961_001_08.nc\n",
      "We assume pixel position of grid is centered for /home/ollie/ssunar/ssh_filtered/months/ssh_filtered_gridded_1961_001_08.nc\n",
      "We assume pixel position of grid is centered for /home/ollie/ssunar/ssh_filtered/months/ssh_filtered_gridded_1961_001_08.nc\n",
      "We assume pixel position of grid is centered for /home/ollie/ssunar/ssh_filtered/months/ssh_filtered_gridded_1961_001_08.nc\n",
      "We assume pixel position of grid is centered for /home/ollie/ssunar/ssh_filtered/months/ssh_filtered_gridded_1961_001_08.nc\n",
      "We assume pixel position of grid is centered for /home/ollie/ssunar/ssh_filtered/months/ssh_filtered_gridded_1961_001_08.nc\n",
      "We assume pixel position of grid is centered for /home/ollie/ssunar/ssh_filtered/months/ssh_filtered_gridded_1961_001_08.nc\n",
      "We assume pixel position of grid is centered for /home/ollie/ssunar/ssh_filtered/months/ssh_filtered_gridded_1961_001_08.nc\n",
      "We assume pixel position of grid is centered for /home/ollie/ssunar/ssh_filtered/months/ssh_filtered_gridded_1961_001_08.nc\n",
      "We assume pixel position of grid is centered for /home/ollie/ssunar/ssh_filtered/months/ssh_filtered_gridded_1961_001_08.nc\n",
      "We assume pixel position of grid is centered for /home/ollie/ssunar/ssh_filtered/months/ssh_filtered_gridded_1961_001_08.nc\n",
      "We assume pixel position of grid is centered for /home/ollie/ssunar/ssh_filtered/months/ssh_filtered_gridded_1961_001_08.nc\n",
      "We assume pixel position of grid is centered for /home/ollie/ssunar/ssh_filtered/months/ssh_filtered_gridded_1961_001_08.nc\n",
      "We assume pixel position of grid is centered for /home/ollie/ssunar/ssh_filtered/months/ssh_filtered_gridded_1961_001_08.nc\n",
      "We assume pixel position of grid is centered for /home/ollie/ssunar/ssh_filtered/months/ssh_filtered_gridded_1961_001_08.nc\n",
      "We assume pixel position of grid is centered for /home/ollie/ssunar/ssh_filtered/months/ssh_filtered_gridded_1961_001_08.nc\n",
      "We assume pixel position of grid is centered for /home/ollie/ssunar/ssh_filtered/months/ssh_filtered_gridded_1961_001_08.nc\n",
      "We assume pixel position of grid is centered for /home/ollie/ssunar/ssh_filtered/months/ssh_filtered_gridded_1961_001_08.nc\n",
      "We assume pixel position of grid is centered for /home/ollie/ssunar/ssh_filtered/months/ssh_filtered_gridded_1961_001_08.nc\n",
      "We assume pixel position of grid is centered for /home/ollie/ssunar/ssh_filtered/months/ssh_filtered_gridded_1961_001_08.nc\n",
      "We assume pixel position of grid is centered for /home/ollie/ssunar/ssh_filtered/months/ssh_filtered_gridded_1961_001_08.nc\n",
      "We assume pixel position of grid is centered for /home/ollie/ssunar/ssh_filtered/months/ssh_filtered_gridded_1961_001_08.nc\n",
      "We assume pixel position of grid is centered for /home/ollie/ssunar/ssh_filtered/months/ssh_filtered_gridded_1961_001_08.nc\n",
      "We assume pixel position of grid is centered for /home/ollie/ssunar/ssh_filtered/months/ssh_filtered_gridded_1961_001_08.nc\n",
      "We assume pixel position of grid is centered for /home/ollie/ssunar/ssh_filtered/months/ssh_filtered_gridded_1961_001_08.nc\n",
      "We assume pixel position of grid is centered for /home/ollie/ssunar/ssh_filtered/months/ssh_filtered_gridded_1961_001_08.nc\n"
     ]
    },
    {
     "name": "stdout",
     "output_type": "stream",
     "text": [
      "31\n"
     ]
    },
    {
     "name": "stderr",
     "output_type": "stream",
     "text": [
      "We assume pixel position of grid is centered for /home/ollie/ssunar/ssh_filtered/months/ssh_filtered_gridded_1961_001_09.nc\n",
      "We assume pixel position of grid is centered for /home/ollie/ssunar/ssh_filtered/months/ssh_filtered_gridded_1961_001_09.nc\n",
      "We assume pixel position of grid is centered for /home/ollie/ssunar/ssh_filtered/months/ssh_filtered_gridded_1961_001_09.nc\n",
      "We assume pixel position of grid is centered for /home/ollie/ssunar/ssh_filtered/months/ssh_filtered_gridded_1961_001_09.nc\n",
      "We assume pixel position of grid is centered for /home/ollie/ssunar/ssh_filtered/months/ssh_filtered_gridded_1961_001_09.nc\n",
      "We assume pixel position of grid is centered for /home/ollie/ssunar/ssh_filtered/months/ssh_filtered_gridded_1961_001_09.nc\n",
      "We assume pixel position of grid is centered for /home/ollie/ssunar/ssh_filtered/months/ssh_filtered_gridded_1961_001_09.nc\n",
      "We assume pixel position of grid is centered for /home/ollie/ssunar/ssh_filtered/months/ssh_filtered_gridded_1961_001_09.nc\n",
      "We assume pixel position of grid is centered for /home/ollie/ssunar/ssh_filtered/months/ssh_filtered_gridded_1961_001_09.nc\n",
      "We assume pixel position of grid is centered for /home/ollie/ssunar/ssh_filtered/months/ssh_filtered_gridded_1961_001_09.nc\n",
      "We assume pixel position of grid is centered for /home/ollie/ssunar/ssh_filtered/months/ssh_filtered_gridded_1961_001_09.nc\n",
      "We assume pixel position of grid is centered for /home/ollie/ssunar/ssh_filtered/months/ssh_filtered_gridded_1961_001_09.nc\n",
      "We assume pixel position of grid is centered for /home/ollie/ssunar/ssh_filtered/months/ssh_filtered_gridded_1961_001_09.nc\n",
      "We assume pixel position of grid is centered for /home/ollie/ssunar/ssh_filtered/months/ssh_filtered_gridded_1961_001_09.nc\n",
      "We assume pixel position of grid is centered for /home/ollie/ssunar/ssh_filtered/months/ssh_filtered_gridded_1961_001_09.nc\n",
      "We assume pixel position of grid is centered for /home/ollie/ssunar/ssh_filtered/months/ssh_filtered_gridded_1961_001_09.nc\n",
      "We assume pixel position of grid is centered for /home/ollie/ssunar/ssh_filtered/months/ssh_filtered_gridded_1961_001_09.nc\n",
      "We assume pixel position of grid is centered for /home/ollie/ssunar/ssh_filtered/months/ssh_filtered_gridded_1961_001_09.nc\n",
      "We assume pixel position of grid is centered for /home/ollie/ssunar/ssh_filtered/months/ssh_filtered_gridded_1961_001_09.nc\n",
      "We assume pixel position of grid is centered for /home/ollie/ssunar/ssh_filtered/months/ssh_filtered_gridded_1961_001_09.nc\n",
      "We assume pixel position of grid is centered for /home/ollie/ssunar/ssh_filtered/months/ssh_filtered_gridded_1961_001_09.nc\n",
      "We assume pixel position of grid is centered for /home/ollie/ssunar/ssh_filtered/months/ssh_filtered_gridded_1961_001_09.nc\n",
      "We assume pixel position of grid is centered for /home/ollie/ssunar/ssh_filtered/months/ssh_filtered_gridded_1961_001_09.nc\n",
      "We assume pixel position of grid is centered for /home/ollie/ssunar/ssh_filtered/months/ssh_filtered_gridded_1961_001_09.nc\n",
      "We assume pixel position of grid is centered for /home/ollie/ssunar/ssh_filtered/months/ssh_filtered_gridded_1961_001_09.nc\n",
      "We assume pixel position of grid is centered for /home/ollie/ssunar/ssh_filtered/months/ssh_filtered_gridded_1961_001_09.nc\n",
      "We assume pixel position of grid is centered for /home/ollie/ssunar/ssh_filtered/months/ssh_filtered_gridded_1961_001_09.nc\n",
      "We assume pixel position of grid is centered for /home/ollie/ssunar/ssh_filtered/months/ssh_filtered_gridded_1961_001_09.nc\n",
      "We assume pixel position of grid is centered for /home/ollie/ssunar/ssh_filtered/months/ssh_filtered_gridded_1961_001_09.nc\n",
      "We assume pixel position of grid is centered for /home/ollie/ssunar/ssh_filtered/months/ssh_filtered_gridded_1961_001_09.nc\n"
     ]
    },
    {
     "name": "stdout",
     "output_type": "stream",
     "text": [
      "30\n"
     ]
    },
    {
     "name": "stderr",
     "output_type": "stream",
     "text": [
      "We assume pixel position of grid is centered for /home/ollie/ssunar/ssh_filtered/months/ssh_filtered_gridded_1961_001_10.nc\n",
      "We assume pixel position of grid is centered for /home/ollie/ssunar/ssh_filtered/months/ssh_filtered_gridded_1961_001_10.nc\n",
      "We assume pixel position of grid is centered for /home/ollie/ssunar/ssh_filtered/months/ssh_filtered_gridded_1961_001_10.nc\n",
      "We assume pixel position of grid is centered for /home/ollie/ssunar/ssh_filtered/months/ssh_filtered_gridded_1961_001_10.nc\n",
      "We assume pixel position of grid is centered for /home/ollie/ssunar/ssh_filtered/months/ssh_filtered_gridded_1961_001_10.nc\n",
      "We assume pixel position of grid is centered for /home/ollie/ssunar/ssh_filtered/months/ssh_filtered_gridded_1961_001_10.nc\n",
      "We assume pixel position of grid is centered for /home/ollie/ssunar/ssh_filtered/months/ssh_filtered_gridded_1961_001_10.nc\n",
      "We assume pixel position of grid is centered for /home/ollie/ssunar/ssh_filtered/months/ssh_filtered_gridded_1961_001_10.nc\n",
      "We assume pixel position of grid is centered for /home/ollie/ssunar/ssh_filtered/months/ssh_filtered_gridded_1961_001_10.nc\n",
      "We assume pixel position of grid is centered for /home/ollie/ssunar/ssh_filtered/months/ssh_filtered_gridded_1961_001_10.nc\n",
      "We assume pixel position of grid is centered for /home/ollie/ssunar/ssh_filtered/months/ssh_filtered_gridded_1961_001_10.nc\n",
      "We assume pixel position of grid is centered for /home/ollie/ssunar/ssh_filtered/months/ssh_filtered_gridded_1961_001_10.nc\n",
      "We assume pixel position of grid is centered for /home/ollie/ssunar/ssh_filtered/months/ssh_filtered_gridded_1961_001_10.nc\n",
      "We assume pixel position of grid is centered for /home/ollie/ssunar/ssh_filtered/months/ssh_filtered_gridded_1961_001_10.nc\n",
      "We assume pixel position of grid is centered for /home/ollie/ssunar/ssh_filtered/months/ssh_filtered_gridded_1961_001_10.nc\n",
      "We assume pixel position of grid is centered for /home/ollie/ssunar/ssh_filtered/months/ssh_filtered_gridded_1961_001_10.nc\n",
      "We assume pixel position of grid is centered for /home/ollie/ssunar/ssh_filtered/months/ssh_filtered_gridded_1961_001_10.nc\n",
      "We assume pixel position of grid is centered for /home/ollie/ssunar/ssh_filtered/months/ssh_filtered_gridded_1961_001_10.nc\n",
      "We assume pixel position of grid is centered for /home/ollie/ssunar/ssh_filtered/months/ssh_filtered_gridded_1961_001_10.nc\n",
      "We assume pixel position of grid is centered for /home/ollie/ssunar/ssh_filtered/months/ssh_filtered_gridded_1961_001_10.nc\n",
      "We assume pixel position of grid is centered for /home/ollie/ssunar/ssh_filtered/months/ssh_filtered_gridded_1961_001_10.nc\n",
      "We assume pixel position of grid is centered for /home/ollie/ssunar/ssh_filtered/months/ssh_filtered_gridded_1961_001_10.nc\n",
      "We assume pixel position of grid is centered for /home/ollie/ssunar/ssh_filtered/months/ssh_filtered_gridded_1961_001_10.nc\n",
      "We assume pixel position of grid is centered for /home/ollie/ssunar/ssh_filtered/months/ssh_filtered_gridded_1961_001_10.nc\n",
      "We assume pixel position of grid is centered for /home/ollie/ssunar/ssh_filtered/months/ssh_filtered_gridded_1961_001_10.nc\n",
      "We assume pixel position of grid is centered for /home/ollie/ssunar/ssh_filtered/months/ssh_filtered_gridded_1961_001_10.nc\n",
      "We assume pixel position of grid is centered for /home/ollie/ssunar/ssh_filtered/months/ssh_filtered_gridded_1961_001_10.nc\n",
      "We assume pixel position of grid is centered for /home/ollie/ssunar/ssh_filtered/months/ssh_filtered_gridded_1961_001_10.nc\n",
      "We assume pixel position of grid is centered for /home/ollie/ssunar/ssh_filtered/months/ssh_filtered_gridded_1961_001_10.nc\n",
      "We assume pixel position of grid is centered for /home/ollie/ssunar/ssh_filtered/months/ssh_filtered_gridded_1961_001_10.nc\n",
      "We assume pixel position of grid is centered for /home/ollie/ssunar/ssh_filtered/months/ssh_filtered_gridded_1961_001_10.nc\n",
      "/home/ollie/ssunar/.conda/envs/eddy-tracking/lib/python3.8/site-packages/numpy/ma/core.py:6846: RuntimeWarning: overflow encountered in power\n",
      "  result = np.where(m, fa, umath.power(fa, fb)).view(basetype)\n"
     ]
    },
    {
     "name": "stdout",
     "output_type": "stream",
     "text": [
      "31\n"
     ]
    },
    {
     "name": "stderr",
     "output_type": "stream",
     "text": [
      "We assume pixel position of grid is centered for /home/ollie/ssunar/ssh_filtered/months/ssh_filtered_gridded_1961_001_11.nc\n",
      "We assume pixel position of grid is centered for /home/ollie/ssunar/ssh_filtered/months/ssh_filtered_gridded_1961_001_11.nc\n",
      "We assume pixel position of grid is centered for /home/ollie/ssunar/ssh_filtered/months/ssh_filtered_gridded_1961_001_11.nc\n",
      "We assume pixel position of grid is centered for /home/ollie/ssunar/ssh_filtered/months/ssh_filtered_gridded_1961_001_11.nc\n",
      "We assume pixel position of grid is centered for /home/ollie/ssunar/ssh_filtered/months/ssh_filtered_gridded_1961_001_11.nc\n",
      "We assume pixel position of grid is centered for /home/ollie/ssunar/ssh_filtered/months/ssh_filtered_gridded_1961_001_11.nc\n",
      "We assume pixel position of grid is centered for /home/ollie/ssunar/ssh_filtered/months/ssh_filtered_gridded_1961_001_11.nc\n",
      "We assume pixel position of grid is centered for /home/ollie/ssunar/ssh_filtered/months/ssh_filtered_gridded_1961_001_11.nc\n",
      "We assume pixel position of grid is centered for /home/ollie/ssunar/ssh_filtered/months/ssh_filtered_gridded_1961_001_11.nc\n",
      "We assume pixel position of grid is centered for /home/ollie/ssunar/ssh_filtered/months/ssh_filtered_gridded_1961_001_11.nc\n",
      "We assume pixel position of grid is centered for /home/ollie/ssunar/ssh_filtered/months/ssh_filtered_gridded_1961_001_11.nc\n",
      "We assume pixel position of grid is centered for /home/ollie/ssunar/ssh_filtered/months/ssh_filtered_gridded_1961_001_11.nc\n",
      "We assume pixel position of grid is centered for /home/ollie/ssunar/ssh_filtered/months/ssh_filtered_gridded_1961_001_11.nc\n",
      "We assume pixel position of grid is centered for /home/ollie/ssunar/ssh_filtered/months/ssh_filtered_gridded_1961_001_11.nc\n",
      "We assume pixel position of grid is centered for /home/ollie/ssunar/ssh_filtered/months/ssh_filtered_gridded_1961_001_11.nc\n",
      "We assume pixel position of grid is centered for /home/ollie/ssunar/ssh_filtered/months/ssh_filtered_gridded_1961_001_11.nc\n",
      "We assume pixel position of grid is centered for /home/ollie/ssunar/ssh_filtered/months/ssh_filtered_gridded_1961_001_11.nc\n",
      "We assume pixel position of grid is centered for /home/ollie/ssunar/ssh_filtered/months/ssh_filtered_gridded_1961_001_11.nc\n",
      "We assume pixel position of grid is centered for /home/ollie/ssunar/ssh_filtered/months/ssh_filtered_gridded_1961_001_11.nc\n",
      "We assume pixel position of grid is centered for /home/ollie/ssunar/ssh_filtered/months/ssh_filtered_gridded_1961_001_11.nc\n",
      "We assume pixel position of grid is centered for /home/ollie/ssunar/ssh_filtered/months/ssh_filtered_gridded_1961_001_11.nc\n",
      "We assume pixel position of grid is centered for /home/ollie/ssunar/ssh_filtered/months/ssh_filtered_gridded_1961_001_11.nc\n",
      "We assume pixel position of grid is centered for /home/ollie/ssunar/ssh_filtered/months/ssh_filtered_gridded_1961_001_11.nc\n",
      "We assume pixel position of grid is centered for /home/ollie/ssunar/ssh_filtered/months/ssh_filtered_gridded_1961_001_11.nc\n",
      "We assume pixel position of grid is centered for /home/ollie/ssunar/ssh_filtered/months/ssh_filtered_gridded_1961_001_11.nc\n",
      "We assume pixel position of grid is centered for /home/ollie/ssunar/ssh_filtered/months/ssh_filtered_gridded_1961_001_11.nc\n",
      "We assume pixel position of grid is centered for /home/ollie/ssunar/ssh_filtered/months/ssh_filtered_gridded_1961_001_11.nc\n",
      "We assume pixel position of grid is centered for /home/ollie/ssunar/ssh_filtered/months/ssh_filtered_gridded_1961_001_11.nc\n",
      "We assume pixel position of grid is centered for /home/ollie/ssunar/ssh_filtered/months/ssh_filtered_gridded_1961_001_11.nc\n",
      "We assume pixel position of grid is centered for /home/ollie/ssunar/ssh_filtered/months/ssh_filtered_gridded_1961_001_11.nc\n"
     ]
    },
    {
     "name": "stdout",
     "output_type": "stream",
     "text": [
      "30\n"
     ]
    },
    {
     "name": "stderr",
     "output_type": "stream",
     "text": [
      "We assume pixel position of grid is centered for /home/ollie/ssunar/ssh_filtered/months/ssh_filtered_gridded_1961_001_12.nc\n",
      "We assume pixel position of grid is centered for /home/ollie/ssunar/ssh_filtered/months/ssh_filtered_gridded_1961_001_12.nc\n",
      "We assume pixel position of grid is centered for /home/ollie/ssunar/ssh_filtered/months/ssh_filtered_gridded_1961_001_12.nc\n",
      "We assume pixel position of grid is centered for /home/ollie/ssunar/ssh_filtered/months/ssh_filtered_gridded_1961_001_12.nc\n",
      "We assume pixel position of grid is centered for /home/ollie/ssunar/ssh_filtered/months/ssh_filtered_gridded_1961_001_12.nc\n",
      "We assume pixel position of grid is centered for /home/ollie/ssunar/ssh_filtered/months/ssh_filtered_gridded_1961_001_12.nc\n",
      "We assume pixel position of grid is centered for /home/ollie/ssunar/ssh_filtered/months/ssh_filtered_gridded_1961_001_12.nc\n",
      "We assume pixel position of grid is centered for /home/ollie/ssunar/ssh_filtered/months/ssh_filtered_gridded_1961_001_12.nc\n",
      "We assume pixel position of grid is centered for /home/ollie/ssunar/ssh_filtered/months/ssh_filtered_gridded_1961_001_12.nc\n",
      "We assume pixel position of grid is centered for /home/ollie/ssunar/ssh_filtered/months/ssh_filtered_gridded_1961_001_12.nc\n",
      "We assume pixel position of grid is centered for /home/ollie/ssunar/ssh_filtered/months/ssh_filtered_gridded_1961_001_12.nc\n",
      "We assume pixel position of grid is centered for /home/ollie/ssunar/ssh_filtered/months/ssh_filtered_gridded_1961_001_12.nc\n",
      "We assume pixel position of grid is centered for /home/ollie/ssunar/ssh_filtered/months/ssh_filtered_gridded_1961_001_12.nc\n",
      "We assume pixel position of grid is centered for /home/ollie/ssunar/ssh_filtered/months/ssh_filtered_gridded_1961_001_12.nc\n",
      "We assume pixel position of grid is centered for /home/ollie/ssunar/ssh_filtered/months/ssh_filtered_gridded_1961_001_12.nc\n",
      "We assume pixel position of grid is centered for /home/ollie/ssunar/ssh_filtered/months/ssh_filtered_gridded_1961_001_12.nc\n",
      "We assume pixel position of grid is centered for /home/ollie/ssunar/ssh_filtered/months/ssh_filtered_gridded_1961_001_12.nc\n",
      "We assume pixel position of grid is centered for /home/ollie/ssunar/ssh_filtered/months/ssh_filtered_gridded_1961_001_12.nc\n",
      "We assume pixel position of grid is centered for /home/ollie/ssunar/ssh_filtered/months/ssh_filtered_gridded_1961_001_12.nc\n",
      "We assume pixel position of grid is centered for /home/ollie/ssunar/ssh_filtered/months/ssh_filtered_gridded_1961_001_12.nc\n",
      "We assume pixel position of grid is centered for /home/ollie/ssunar/ssh_filtered/months/ssh_filtered_gridded_1961_001_12.nc\n",
      "We assume pixel position of grid is centered for /home/ollie/ssunar/ssh_filtered/months/ssh_filtered_gridded_1961_001_12.nc\n",
      "We assume pixel position of grid is centered for /home/ollie/ssunar/ssh_filtered/months/ssh_filtered_gridded_1961_001_12.nc\n",
      "We assume pixel position of grid is centered for /home/ollie/ssunar/ssh_filtered/months/ssh_filtered_gridded_1961_001_12.nc\n",
      "We assume pixel position of grid is centered for /home/ollie/ssunar/ssh_filtered/months/ssh_filtered_gridded_1961_001_12.nc\n",
      "We assume pixel position of grid is centered for /home/ollie/ssunar/ssh_filtered/months/ssh_filtered_gridded_1961_001_12.nc\n",
      "We assume pixel position of grid is centered for /home/ollie/ssunar/ssh_filtered/months/ssh_filtered_gridded_1961_001_12.nc\n",
      "We assume pixel position of grid is centered for /home/ollie/ssunar/ssh_filtered/months/ssh_filtered_gridded_1961_001_12.nc\n",
      "We assume pixel position of grid is centered for /home/ollie/ssunar/ssh_filtered/months/ssh_filtered_gridded_1961_001_12.nc\n",
      "We assume pixel position of grid is centered for /home/ollie/ssunar/ssh_filtered/months/ssh_filtered_gridded_1961_001_12.nc\n",
      "We assume pixel position of grid is centered for /home/ollie/ssunar/ssh_filtered/months/ssh_filtered_gridded_1961_001_12.nc\n"
     ]
    },
    {
     "name": "stdout",
     "output_type": "stream",
     "text": [
      "31\n"
     ]
    },
    {
     "name": "stderr",
     "output_type": "stream",
     "text": [
      "We assume pixel position of grid is centered for /home/ollie/ssunar/ssh_filtered/months/ssh_filtered_gridded_1962_001_01.nc\n",
      "We assume pixel position of grid is centered for /home/ollie/ssunar/ssh_filtered/months/ssh_filtered_gridded_1962_001_01.nc\n",
      "We assume pixel position of grid is centered for /home/ollie/ssunar/ssh_filtered/months/ssh_filtered_gridded_1962_001_01.nc\n",
      "We assume pixel position of grid is centered for /home/ollie/ssunar/ssh_filtered/months/ssh_filtered_gridded_1962_001_01.nc\n",
      "We assume pixel position of grid is centered for /home/ollie/ssunar/ssh_filtered/months/ssh_filtered_gridded_1962_001_01.nc\n",
      "We assume pixel position of grid is centered for /home/ollie/ssunar/ssh_filtered/months/ssh_filtered_gridded_1962_001_01.nc\n",
      "We assume pixel position of grid is centered for /home/ollie/ssunar/ssh_filtered/months/ssh_filtered_gridded_1962_001_01.nc\n",
      "We assume pixel position of grid is centered for /home/ollie/ssunar/ssh_filtered/months/ssh_filtered_gridded_1962_001_01.nc\n",
      "We assume pixel position of grid is centered for /home/ollie/ssunar/ssh_filtered/months/ssh_filtered_gridded_1962_001_01.nc\n",
      "We assume pixel position of grid is centered for /home/ollie/ssunar/ssh_filtered/months/ssh_filtered_gridded_1962_001_01.nc\n",
      "We assume pixel position of grid is centered for /home/ollie/ssunar/ssh_filtered/months/ssh_filtered_gridded_1962_001_01.nc\n",
      "We assume pixel position of grid is centered for /home/ollie/ssunar/ssh_filtered/months/ssh_filtered_gridded_1962_001_01.nc\n",
      "We assume pixel position of grid is centered for /home/ollie/ssunar/ssh_filtered/months/ssh_filtered_gridded_1962_001_01.nc\n",
      "We assume pixel position of grid is centered for /home/ollie/ssunar/ssh_filtered/months/ssh_filtered_gridded_1962_001_01.nc\n",
      "We assume pixel position of grid is centered for /home/ollie/ssunar/ssh_filtered/months/ssh_filtered_gridded_1962_001_01.nc\n",
      "We assume pixel position of grid is centered for /home/ollie/ssunar/ssh_filtered/months/ssh_filtered_gridded_1962_001_01.nc\n",
      "We assume pixel position of grid is centered for /home/ollie/ssunar/ssh_filtered/months/ssh_filtered_gridded_1962_001_01.nc\n",
      "We assume pixel position of grid is centered for /home/ollie/ssunar/ssh_filtered/months/ssh_filtered_gridded_1962_001_01.nc\n",
      "We assume pixel position of grid is centered for /home/ollie/ssunar/ssh_filtered/months/ssh_filtered_gridded_1962_001_01.nc\n",
      "We assume pixel position of grid is centered for /home/ollie/ssunar/ssh_filtered/months/ssh_filtered_gridded_1962_001_01.nc\n",
      "We assume pixel position of grid is centered for /home/ollie/ssunar/ssh_filtered/months/ssh_filtered_gridded_1962_001_01.nc\n",
      "We assume pixel position of grid is centered for /home/ollie/ssunar/ssh_filtered/months/ssh_filtered_gridded_1962_001_01.nc\n",
      "We assume pixel position of grid is centered for /home/ollie/ssunar/ssh_filtered/months/ssh_filtered_gridded_1962_001_01.nc\n",
      "We assume pixel position of grid is centered for /home/ollie/ssunar/ssh_filtered/months/ssh_filtered_gridded_1962_001_01.nc\n",
      "We assume pixel position of grid is centered for /home/ollie/ssunar/ssh_filtered/months/ssh_filtered_gridded_1962_001_01.nc\n",
      "We assume pixel position of grid is centered for /home/ollie/ssunar/ssh_filtered/months/ssh_filtered_gridded_1962_001_01.nc\n",
      "We assume pixel position of grid is centered for /home/ollie/ssunar/ssh_filtered/months/ssh_filtered_gridded_1962_001_01.nc\n",
      "We assume pixel position of grid is centered for /home/ollie/ssunar/ssh_filtered/months/ssh_filtered_gridded_1962_001_01.nc\n",
      "We assume pixel position of grid is centered for /home/ollie/ssunar/ssh_filtered/months/ssh_filtered_gridded_1962_001_01.nc\n",
      "We assume pixel position of grid is centered for /home/ollie/ssunar/ssh_filtered/months/ssh_filtered_gridded_1962_001_01.nc\n",
      "We assume pixel position of grid is centered for /home/ollie/ssunar/ssh_filtered/months/ssh_filtered_gridded_1962_001_01.nc\n"
     ]
    },
    {
     "name": "stdout",
     "output_type": "stream",
     "text": [
      "31\n"
     ]
    },
    {
     "name": "stderr",
     "output_type": "stream",
     "text": [
      "We assume pixel position of grid is centered for /home/ollie/ssunar/ssh_filtered/months/ssh_filtered_gridded_1962_001_02.nc\n",
      "We assume pixel position of grid is centered for /home/ollie/ssunar/ssh_filtered/months/ssh_filtered_gridded_1962_001_02.nc\n",
      "We assume pixel position of grid is centered for /home/ollie/ssunar/ssh_filtered/months/ssh_filtered_gridded_1962_001_02.nc\n",
      "We assume pixel position of grid is centered for /home/ollie/ssunar/ssh_filtered/months/ssh_filtered_gridded_1962_001_02.nc\n",
      "We assume pixel position of grid is centered for /home/ollie/ssunar/ssh_filtered/months/ssh_filtered_gridded_1962_001_02.nc\n",
      "We assume pixel position of grid is centered for /home/ollie/ssunar/ssh_filtered/months/ssh_filtered_gridded_1962_001_02.nc\n",
      "We assume pixel position of grid is centered for /home/ollie/ssunar/ssh_filtered/months/ssh_filtered_gridded_1962_001_02.nc\n",
      "We assume pixel position of grid is centered for /home/ollie/ssunar/ssh_filtered/months/ssh_filtered_gridded_1962_001_02.nc\n",
      "We assume pixel position of grid is centered for /home/ollie/ssunar/ssh_filtered/months/ssh_filtered_gridded_1962_001_02.nc\n",
      "We assume pixel position of grid is centered for /home/ollie/ssunar/ssh_filtered/months/ssh_filtered_gridded_1962_001_02.nc\n",
      "We assume pixel position of grid is centered for /home/ollie/ssunar/ssh_filtered/months/ssh_filtered_gridded_1962_001_02.nc\n",
      "We assume pixel position of grid is centered for /home/ollie/ssunar/ssh_filtered/months/ssh_filtered_gridded_1962_001_02.nc\n",
      "We assume pixel position of grid is centered for /home/ollie/ssunar/ssh_filtered/months/ssh_filtered_gridded_1962_001_02.nc\n",
      "We assume pixel position of grid is centered for /home/ollie/ssunar/ssh_filtered/months/ssh_filtered_gridded_1962_001_02.nc\n",
      "We assume pixel position of grid is centered for /home/ollie/ssunar/ssh_filtered/months/ssh_filtered_gridded_1962_001_02.nc\n",
      "We assume pixel position of grid is centered for /home/ollie/ssunar/ssh_filtered/months/ssh_filtered_gridded_1962_001_02.nc\n",
      "We assume pixel position of grid is centered for /home/ollie/ssunar/ssh_filtered/months/ssh_filtered_gridded_1962_001_02.nc\n",
      "We assume pixel position of grid is centered for /home/ollie/ssunar/ssh_filtered/months/ssh_filtered_gridded_1962_001_02.nc\n",
      "We assume pixel position of grid is centered for /home/ollie/ssunar/ssh_filtered/months/ssh_filtered_gridded_1962_001_02.nc\n",
      "We assume pixel position of grid is centered for /home/ollie/ssunar/ssh_filtered/months/ssh_filtered_gridded_1962_001_02.nc\n",
      "We assume pixel position of grid is centered for /home/ollie/ssunar/ssh_filtered/months/ssh_filtered_gridded_1962_001_02.nc\n",
      "We assume pixel position of grid is centered for /home/ollie/ssunar/ssh_filtered/months/ssh_filtered_gridded_1962_001_02.nc\n",
      "We assume pixel position of grid is centered for /home/ollie/ssunar/ssh_filtered/months/ssh_filtered_gridded_1962_001_02.nc\n",
      "We assume pixel position of grid is centered for /home/ollie/ssunar/ssh_filtered/months/ssh_filtered_gridded_1962_001_02.nc\n",
      "We assume pixel position of grid is centered for /home/ollie/ssunar/ssh_filtered/months/ssh_filtered_gridded_1962_001_02.nc\n",
      "We assume pixel position of grid is centered for /home/ollie/ssunar/ssh_filtered/months/ssh_filtered_gridded_1962_001_02.nc\n",
      "We assume pixel position of grid is centered for /home/ollie/ssunar/ssh_filtered/months/ssh_filtered_gridded_1962_001_02.nc\n",
      "We assume pixel position of grid is centered for /home/ollie/ssunar/ssh_filtered/months/ssh_filtered_gridded_1962_001_02.nc\n"
     ]
    },
    {
     "name": "stdout",
     "output_type": "stream",
     "text": [
      "28\n"
     ]
    },
    {
     "name": "stderr",
     "output_type": "stream",
     "text": [
      "We assume pixel position of grid is centered for /home/ollie/ssunar/ssh_filtered/months/ssh_filtered_gridded_1962_001_03.nc\n",
      "We assume pixel position of grid is centered for /home/ollie/ssunar/ssh_filtered/months/ssh_filtered_gridded_1962_001_03.nc\n",
      "We assume pixel position of grid is centered for /home/ollie/ssunar/ssh_filtered/months/ssh_filtered_gridded_1962_001_03.nc\n",
      "We assume pixel position of grid is centered for /home/ollie/ssunar/ssh_filtered/months/ssh_filtered_gridded_1962_001_03.nc\n",
      "We assume pixel position of grid is centered for /home/ollie/ssunar/ssh_filtered/months/ssh_filtered_gridded_1962_001_03.nc\n",
      "We assume pixel position of grid is centered for /home/ollie/ssunar/ssh_filtered/months/ssh_filtered_gridded_1962_001_03.nc\n",
      "We assume pixel position of grid is centered for /home/ollie/ssunar/ssh_filtered/months/ssh_filtered_gridded_1962_001_03.nc\n",
      "We assume pixel position of grid is centered for /home/ollie/ssunar/ssh_filtered/months/ssh_filtered_gridded_1962_001_03.nc\n",
      "We assume pixel position of grid is centered for /home/ollie/ssunar/ssh_filtered/months/ssh_filtered_gridded_1962_001_03.nc\n",
      "We assume pixel position of grid is centered for /home/ollie/ssunar/ssh_filtered/months/ssh_filtered_gridded_1962_001_03.nc\n",
      "We assume pixel position of grid is centered for /home/ollie/ssunar/ssh_filtered/months/ssh_filtered_gridded_1962_001_03.nc\n",
      "We assume pixel position of grid is centered for /home/ollie/ssunar/ssh_filtered/months/ssh_filtered_gridded_1962_001_03.nc\n",
      "We assume pixel position of grid is centered for /home/ollie/ssunar/ssh_filtered/months/ssh_filtered_gridded_1962_001_03.nc\n",
      "We assume pixel position of grid is centered for /home/ollie/ssunar/ssh_filtered/months/ssh_filtered_gridded_1962_001_03.nc\n",
      "We assume pixel position of grid is centered for /home/ollie/ssunar/ssh_filtered/months/ssh_filtered_gridded_1962_001_03.nc\n",
      "We assume pixel position of grid is centered for /home/ollie/ssunar/ssh_filtered/months/ssh_filtered_gridded_1962_001_03.nc\n",
      "We assume pixel position of grid is centered for /home/ollie/ssunar/ssh_filtered/months/ssh_filtered_gridded_1962_001_03.nc\n",
      "We assume pixel position of grid is centered for /home/ollie/ssunar/ssh_filtered/months/ssh_filtered_gridded_1962_001_03.nc\n",
      "We assume pixel position of grid is centered for /home/ollie/ssunar/ssh_filtered/months/ssh_filtered_gridded_1962_001_03.nc\n",
      "We assume pixel position of grid is centered for /home/ollie/ssunar/ssh_filtered/months/ssh_filtered_gridded_1962_001_03.nc\n",
      "We assume pixel position of grid is centered for /home/ollie/ssunar/ssh_filtered/months/ssh_filtered_gridded_1962_001_03.nc\n",
      "We assume pixel position of grid is centered for /home/ollie/ssunar/ssh_filtered/months/ssh_filtered_gridded_1962_001_03.nc\n",
      "We assume pixel position of grid is centered for /home/ollie/ssunar/ssh_filtered/months/ssh_filtered_gridded_1962_001_03.nc\n",
      "We assume pixel position of grid is centered for /home/ollie/ssunar/ssh_filtered/months/ssh_filtered_gridded_1962_001_03.nc\n",
      "We assume pixel position of grid is centered for /home/ollie/ssunar/ssh_filtered/months/ssh_filtered_gridded_1962_001_03.nc\n",
      "We assume pixel position of grid is centered for /home/ollie/ssunar/ssh_filtered/months/ssh_filtered_gridded_1962_001_03.nc\n",
      "We assume pixel position of grid is centered for /home/ollie/ssunar/ssh_filtered/months/ssh_filtered_gridded_1962_001_03.nc\n",
      "We assume pixel position of grid is centered for /home/ollie/ssunar/ssh_filtered/months/ssh_filtered_gridded_1962_001_03.nc\n",
      "We assume pixel position of grid is centered for /home/ollie/ssunar/ssh_filtered/months/ssh_filtered_gridded_1962_001_03.nc\n",
      "We assume pixel position of grid is centered for /home/ollie/ssunar/ssh_filtered/months/ssh_filtered_gridded_1962_001_03.nc\n",
      "We assume pixel position of grid is centered for /home/ollie/ssunar/ssh_filtered/months/ssh_filtered_gridded_1962_001_03.nc\n",
      "/home/ollie/ssunar/.conda/envs/eddy-tracking/lib/python3.8/site-packages/numpy/ma/core.py:1015: RuntimeWarning: overflow encountered in multiply\n",
      "  result = self.f(da, db, *args, **kwargs)\n"
     ]
    },
    {
     "name": "stdout",
     "output_type": "stream",
     "text": [
      "31\n"
     ]
    },
    {
     "name": "stderr",
     "output_type": "stream",
     "text": [
      "We assume pixel position of grid is centered for /home/ollie/ssunar/ssh_filtered/months/ssh_filtered_gridded_1962_001_04.nc\n",
      "We assume pixel position of grid is centered for /home/ollie/ssunar/ssh_filtered/months/ssh_filtered_gridded_1962_001_04.nc\n",
      "We assume pixel position of grid is centered for /home/ollie/ssunar/ssh_filtered/months/ssh_filtered_gridded_1962_001_04.nc\n",
      "We assume pixel position of grid is centered for /home/ollie/ssunar/ssh_filtered/months/ssh_filtered_gridded_1962_001_04.nc\n",
      "We assume pixel position of grid is centered for /home/ollie/ssunar/ssh_filtered/months/ssh_filtered_gridded_1962_001_04.nc\n",
      "We assume pixel position of grid is centered for /home/ollie/ssunar/ssh_filtered/months/ssh_filtered_gridded_1962_001_04.nc\n",
      "We assume pixel position of grid is centered for /home/ollie/ssunar/ssh_filtered/months/ssh_filtered_gridded_1962_001_04.nc\n",
      "We assume pixel position of grid is centered for /home/ollie/ssunar/ssh_filtered/months/ssh_filtered_gridded_1962_001_04.nc\n",
      "We assume pixel position of grid is centered for /home/ollie/ssunar/ssh_filtered/months/ssh_filtered_gridded_1962_001_04.nc\n",
      "We assume pixel position of grid is centered for /home/ollie/ssunar/ssh_filtered/months/ssh_filtered_gridded_1962_001_04.nc\n",
      "We assume pixel position of grid is centered for /home/ollie/ssunar/ssh_filtered/months/ssh_filtered_gridded_1962_001_04.nc\n",
      "We assume pixel position of grid is centered for /home/ollie/ssunar/ssh_filtered/months/ssh_filtered_gridded_1962_001_04.nc\n",
      "We assume pixel position of grid is centered for /home/ollie/ssunar/ssh_filtered/months/ssh_filtered_gridded_1962_001_04.nc\n",
      "We assume pixel position of grid is centered for /home/ollie/ssunar/ssh_filtered/months/ssh_filtered_gridded_1962_001_04.nc\n",
      "We assume pixel position of grid is centered for /home/ollie/ssunar/ssh_filtered/months/ssh_filtered_gridded_1962_001_04.nc\n",
      "We assume pixel position of grid is centered for /home/ollie/ssunar/ssh_filtered/months/ssh_filtered_gridded_1962_001_04.nc\n",
      "We assume pixel position of grid is centered for /home/ollie/ssunar/ssh_filtered/months/ssh_filtered_gridded_1962_001_04.nc\n",
      "We assume pixel position of grid is centered for /home/ollie/ssunar/ssh_filtered/months/ssh_filtered_gridded_1962_001_04.nc\n",
      "We assume pixel position of grid is centered for /home/ollie/ssunar/ssh_filtered/months/ssh_filtered_gridded_1962_001_04.nc\n",
      "We assume pixel position of grid is centered for /home/ollie/ssunar/ssh_filtered/months/ssh_filtered_gridded_1962_001_04.nc\n",
      "We assume pixel position of grid is centered for /home/ollie/ssunar/ssh_filtered/months/ssh_filtered_gridded_1962_001_04.nc\n",
      "We assume pixel position of grid is centered for /home/ollie/ssunar/ssh_filtered/months/ssh_filtered_gridded_1962_001_04.nc\n",
      "We assume pixel position of grid is centered for /home/ollie/ssunar/ssh_filtered/months/ssh_filtered_gridded_1962_001_04.nc\n",
      "We assume pixel position of grid is centered for /home/ollie/ssunar/ssh_filtered/months/ssh_filtered_gridded_1962_001_04.nc\n",
      "We assume pixel position of grid is centered for /home/ollie/ssunar/ssh_filtered/months/ssh_filtered_gridded_1962_001_04.nc\n",
      "We assume pixel position of grid is centered for /home/ollie/ssunar/ssh_filtered/months/ssh_filtered_gridded_1962_001_04.nc\n",
      "We assume pixel position of grid is centered for /home/ollie/ssunar/ssh_filtered/months/ssh_filtered_gridded_1962_001_04.nc\n",
      "We assume pixel position of grid is centered for /home/ollie/ssunar/ssh_filtered/months/ssh_filtered_gridded_1962_001_04.nc\n",
      "We assume pixel position of grid is centered for /home/ollie/ssunar/ssh_filtered/months/ssh_filtered_gridded_1962_001_04.nc\n",
      "We assume pixel position of grid is centered for /home/ollie/ssunar/ssh_filtered/months/ssh_filtered_gridded_1962_001_04.nc\n"
     ]
    },
    {
     "name": "stdout",
     "output_type": "stream",
     "text": [
      "30\n"
     ]
    },
    {
     "name": "stderr",
     "output_type": "stream",
     "text": [
      "We assume pixel position of grid is centered for /home/ollie/ssunar/ssh_filtered/months/ssh_filtered_gridded_1962_001_05.nc\n",
      "We assume pixel position of grid is centered for /home/ollie/ssunar/ssh_filtered/months/ssh_filtered_gridded_1962_001_05.nc\n",
      "We assume pixel position of grid is centered for /home/ollie/ssunar/ssh_filtered/months/ssh_filtered_gridded_1962_001_05.nc\n",
      "We assume pixel position of grid is centered for /home/ollie/ssunar/ssh_filtered/months/ssh_filtered_gridded_1962_001_05.nc\n",
      "We assume pixel position of grid is centered for /home/ollie/ssunar/ssh_filtered/months/ssh_filtered_gridded_1962_001_05.nc\n",
      "We assume pixel position of grid is centered for /home/ollie/ssunar/ssh_filtered/months/ssh_filtered_gridded_1962_001_05.nc\n",
      "We assume pixel position of grid is centered for /home/ollie/ssunar/ssh_filtered/months/ssh_filtered_gridded_1962_001_05.nc\n",
      "We assume pixel position of grid is centered for /home/ollie/ssunar/ssh_filtered/months/ssh_filtered_gridded_1962_001_05.nc\n",
      "We assume pixel position of grid is centered for /home/ollie/ssunar/ssh_filtered/months/ssh_filtered_gridded_1962_001_05.nc\n",
      "We assume pixel position of grid is centered for /home/ollie/ssunar/ssh_filtered/months/ssh_filtered_gridded_1962_001_05.nc\n",
      "We assume pixel position of grid is centered for /home/ollie/ssunar/ssh_filtered/months/ssh_filtered_gridded_1962_001_05.nc\n",
      "We assume pixel position of grid is centered for /home/ollie/ssunar/ssh_filtered/months/ssh_filtered_gridded_1962_001_05.nc\n",
      "We assume pixel position of grid is centered for /home/ollie/ssunar/ssh_filtered/months/ssh_filtered_gridded_1962_001_05.nc\n",
      "We assume pixel position of grid is centered for /home/ollie/ssunar/ssh_filtered/months/ssh_filtered_gridded_1962_001_05.nc\n",
      "We assume pixel position of grid is centered for /home/ollie/ssunar/ssh_filtered/months/ssh_filtered_gridded_1962_001_05.nc\n",
      "We assume pixel position of grid is centered for /home/ollie/ssunar/ssh_filtered/months/ssh_filtered_gridded_1962_001_05.nc\n",
      "We assume pixel position of grid is centered for /home/ollie/ssunar/ssh_filtered/months/ssh_filtered_gridded_1962_001_05.nc\n",
      "We assume pixel position of grid is centered for /home/ollie/ssunar/ssh_filtered/months/ssh_filtered_gridded_1962_001_05.nc\n",
      "We assume pixel position of grid is centered for /home/ollie/ssunar/ssh_filtered/months/ssh_filtered_gridded_1962_001_05.nc\n",
      "We assume pixel position of grid is centered for /home/ollie/ssunar/ssh_filtered/months/ssh_filtered_gridded_1962_001_05.nc\n",
      "We assume pixel position of grid is centered for /home/ollie/ssunar/ssh_filtered/months/ssh_filtered_gridded_1962_001_05.nc\n",
      "We assume pixel position of grid is centered for /home/ollie/ssunar/ssh_filtered/months/ssh_filtered_gridded_1962_001_05.nc\n",
      "We assume pixel position of grid is centered for /home/ollie/ssunar/ssh_filtered/months/ssh_filtered_gridded_1962_001_05.nc\n",
      "We assume pixel position of grid is centered for /home/ollie/ssunar/ssh_filtered/months/ssh_filtered_gridded_1962_001_05.nc\n",
      "We assume pixel position of grid is centered for /home/ollie/ssunar/ssh_filtered/months/ssh_filtered_gridded_1962_001_05.nc\n",
      "We assume pixel position of grid is centered for /home/ollie/ssunar/ssh_filtered/months/ssh_filtered_gridded_1962_001_05.nc\n",
      "We assume pixel position of grid is centered for /home/ollie/ssunar/ssh_filtered/months/ssh_filtered_gridded_1962_001_05.nc\n",
      "We assume pixel position of grid is centered for /home/ollie/ssunar/ssh_filtered/months/ssh_filtered_gridded_1962_001_05.nc\n",
      "We assume pixel position of grid is centered for /home/ollie/ssunar/ssh_filtered/months/ssh_filtered_gridded_1962_001_05.nc\n",
      "We assume pixel position of grid is centered for /home/ollie/ssunar/ssh_filtered/months/ssh_filtered_gridded_1962_001_05.nc\n",
      "We assume pixel position of grid is centered for /home/ollie/ssunar/ssh_filtered/months/ssh_filtered_gridded_1962_001_05.nc\n"
     ]
    },
    {
     "name": "stdout",
     "output_type": "stream",
     "text": [
      "31\n"
     ]
    },
    {
     "name": "stderr",
     "output_type": "stream",
     "text": [
      "We assume pixel position of grid is centered for /home/ollie/ssunar/ssh_filtered/months/ssh_filtered_gridded_1962_001_06.nc\n",
      "We assume pixel position of grid is centered for /home/ollie/ssunar/ssh_filtered/months/ssh_filtered_gridded_1962_001_06.nc\n",
      "We assume pixel position of grid is centered for /home/ollie/ssunar/ssh_filtered/months/ssh_filtered_gridded_1962_001_06.nc\n",
      "We assume pixel position of grid is centered for /home/ollie/ssunar/ssh_filtered/months/ssh_filtered_gridded_1962_001_06.nc\n",
      "We assume pixel position of grid is centered for /home/ollie/ssunar/ssh_filtered/months/ssh_filtered_gridded_1962_001_06.nc\n",
      "We assume pixel position of grid is centered for /home/ollie/ssunar/ssh_filtered/months/ssh_filtered_gridded_1962_001_06.nc\n",
      "We assume pixel position of grid is centered for /home/ollie/ssunar/ssh_filtered/months/ssh_filtered_gridded_1962_001_06.nc\n",
      "We assume pixel position of grid is centered for /home/ollie/ssunar/ssh_filtered/months/ssh_filtered_gridded_1962_001_06.nc\n",
      "We assume pixel position of grid is centered for /home/ollie/ssunar/ssh_filtered/months/ssh_filtered_gridded_1962_001_06.nc\n",
      "We assume pixel position of grid is centered for /home/ollie/ssunar/ssh_filtered/months/ssh_filtered_gridded_1962_001_06.nc\n",
      "We assume pixel position of grid is centered for /home/ollie/ssunar/ssh_filtered/months/ssh_filtered_gridded_1962_001_06.nc\n",
      "We assume pixel position of grid is centered for /home/ollie/ssunar/ssh_filtered/months/ssh_filtered_gridded_1962_001_06.nc\n",
      "We assume pixel position of grid is centered for /home/ollie/ssunar/ssh_filtered/months/ssh_filtered_gridded_1962_001_06.nc\n",
      "We assume pixel position of grid is centered for /home/ollie/ssunar/ssh_filtered/months/ssh_filtered_gridded_1962_001_06.nc\n",
      "We assume pixel position of grid is centered for /home/ollie/ssunar/ssh_filtered/months/ssh_filtered_gridded_1962_001_06.nc\n",
      "We assume pixel position of grid is centered for /home/ollie/ssunar/ssh_filtered/months/ssh_filtered_gridded_1962_001_06.nc\n",
      "We assume pixel position of grid is centered for /home/ollie/ssunar/ssh_filtered/months/ssh_filtered_gridded_1962_001_06.nc\n",
      "We assume pixel position of grid is centered for /home/ollie/ssunar/ssh_filtered/months/ssh_filtered_gridded_1962_001_06.nc\n",
      "We assume pixel position of grid is centered for /home/ollie/ssunar/ssh_filtered/months/ssh_filtered_gridded_1962_001_06.nc\n",
      "We assume pixel position of grid is centered for /home/ollie/ssunar/ssh_filtered/months/ssh_filtered_gridded_1962_001_06.nc\n",
      "We assume pixel position of grid is centered for /home/ollie/ssunar/ssh_filtered/months/ssh_filtered_gridded_1962_001_06.nc\n",
      "We assume pixel position of grid is centered for /home/ollie/ssunar/ssh_filtered/months/ssh_filtered_gridded_1962_001_06.nc\n",
      "We assume pixel position of grid is centered for /home/ollie/ssunar/ssh_filtered/months/ssh_filtered_gridded_1962_001_06.nc\n",
      "We assume pixel position of grid is centered for /home/ollie/ssunar/ssh_filtered/months/ssh_filtered_gridded_1962_001_06.nc\n",
      "We assume pixel position of grid is centered for /home/ollie/ssunar/ssh_filtered/months/ssh_filtered_gridded_1962_001_06.nc\n",
      "We assume pixel position of grid is centered for /home/ollie/ssunar/ssh_filtered/months/ssh_filtered_gridded_1962_001_06.nc\n",
      "We assume pixel position of grid is centered for /home/ollie/ssunar/ssh_filtered/months/ssh_filtered_gridded_1962_001_06.nc\n",
      "We assume pixel position of grid is centered for /home/ollie/ssunar/ssh_filtered/months/ssh_filtered_gridded_1962_001_06.nc\n",
      "We assume pixel position of grid is centered for /home/ollie/ssunar/ssh_filtered/months/ssh_filtered_gridded_1962_001_06.nc\n",
      "We assume pixel position of grid is centered for /home/ollie/ssunar/ssh_filtered/months/ssh_filtered_gridded_1962_001_06.nc\n"
     ]
    },
    {
     "name": "stdout",
     "output_type": "stream",
     "text": [
      "30\n"
     ]
    },
    {
     "name": "stderr",
     "output_type": "stream",
     "text": [
      "We assume pixel position of grid is centered for /home/ollie/ssunar/ssh_filtered/months/ssh_filtered_gridded_1962_001_07.nc\n",
      "We assume pixel position of grid is centered for /home/ollie/ssunar/ssh_filtered/months/ssh_filtered_gridded_1962_001_07.nc\n",
      "We assume pixel position of grid is centered for /home/ollie/ssunar/ssh_filtered/months/ssh_filtered_gridded_1962_001_07.nc\n",
      "We assume pixel position of grid is centered for /home/ollie/ssunar/ssh_filtered/months/ssh_filtered_gridded_1962_001_07.nc\n",
      "We assume pixel position of grid is centered for /home/ollie/ssunar/ssh_filtered/months/ssh_filtered_gridded_1962_001_07.nc\n",
      "We assume pixel position of grid is centered for /home/ollie/ssunar/ssh_filtered/months/ssh_filtered_gridded_1962_001_07.nc\n",
      "We assume pixel position of grid is centered for /home/ollie/ssunar/ssh_filtered/months/ssh_filtered_gridded_1962_001_07.nc\n",
      "We assume pixel position of grid is centered for /home/ollie/ssunar/ssh_filtered/months/ssh_filtered_gridded_1962_001_07.nc\n",
      "We assume pixel position of grid is centered for /home/ollie/ssunar/ssh_filtered/months/ssh_filtered_gridded_1962_001_07.nc\n",
      "We assume pixel position of grid is centered for /home/ollie/ssunar/ssh_filtered/months/ssh_filtered_gridded_1962_001_07.nc\n",
      "We assume pixel position of grid is centered for /home/ollie/ssunar/ssh_filtered/months/ssh_filtered_gridded_1962_001_07.nc\n",
      "We assume pixel position of grid is centered for /home/ollie/ssunar/ssh_filtered/months/ssh_filtered_gridded_1962_001_07.nc\n",
      "We assume pixel position of grid is centered for /home/ollie/ssunar/ssh_filtered/months/ssh_filtered_gridded_1962_001_07.nc\n",
      "We assume pixel position of grid is centered for /home/ollie/ssunar/ssh_filtered/months/ssh_filtered_gridded_1962_001_07.nc\n",
      "We assume pixel position of grid is centered for /home/ollie/ssunar/ssh_filtered/months/ssh_filtered_gridded_1962_001_07.nc\n",
      "We assume pixel position of grid is centered for /home/ollie/ssunar/ssh_filtered/months/ssh_filtered_gridded_1962_001_07.nc\n",
      "We assume pixel position of grid is centered for /home/ollie/ssunar/ssh_filtered/months/ssh_filtered_gridded_1962_001_07.nc\n",
      "We assume pixel position of grid is centered for /home/ollie/ssunar/ssh_filtered/months/ssh_filtered_gridded_1962_001_07.nc\n",
      "We assume pixel position of grid is centered for /home/ollie/ssunar/ssh_filtered/months/ssh_filtered_gridded_1962_001_07.nc\n",
      "We assume pixel position of grid is centered for /home/ollie/ssunar/ssh_filtered/months/ssh_filtered_gridded_1962_001_07.nc\n",
      "We assume pixel position of grid is centered for /home/ollie/ssunar/ssh_filtered/months/ssh_filtered_gridded_1962_001_07.nc\n",
      "We assume pixel position of grid is centered for /home/ollie/ssunar/ssh_filtered/months/ssh_filtered_gridded_1962_001_07.nc\n",
      "We assume pixel position of grid is centered for /home/ollie/ssunar/ssh_filtered/months/ssh_filtered_gridded_1962_001_07.nc\n",
      "We assume pixel position of grid is centered for /home/ollie/ssunar/ssh_filtered/months/ssh_filtered_gridded_1962_001_07.nc\n",
      "We assume pixel position of grid is centered for /home/ollie/ssunar/ssh_filtered/months/ssh_filtered_gridded_1962_001_07.nc\n",
      "We assume pixel position of grid is centered for /home/ollie/ssunar/ssh_filtered/months/ssh_filtered_gridded_1962_001_07.nc\n",
      "We assume pixel position of grid is centered for /home/ollie/ssunar/ssh_filtered/months/ssh_filtered_gridded_1962_001_07.nc\n",
      "We assume pixel position of grid is centered for /home/ollie/ssunar/ssh_filtered/months/ssh_filtered_gridded_1962_001_07.nc\n",
      "We assume pixel position of grid is centered for /home/ollie/ssunar/ssh_filtered/months/ssh_filtered_gridded_1962_001_07.nc\n",
      "We assume pixel position of grid is centered for /home/ollie/ssunar/ssh_filtered/months/ssh_filtered_gridded_1962_001_07.nc\n",
      "We assume pixel position of grid is centered for /home/ollie/ssunar/ssh_filtered/months/ssh_filtered_gridded_1962_001_07.nc\n"
     ]
    },
    {
     "name": "stdout",
     "output_type": "stream",
     "text": [
      "31\n"
     ]
    },
    {
     "name": "stderr",
     "output_type": "stream",
     "text": [
      "We assume pixel position of grid is centered for /home/ollie/ssunar/ssh_filtered/months/ssh_filtered_gridded_1962_001_08.nc\n",
      "We assume pixel position of grid is centered for /home/ollie/ssunar/ssh_filtered/months/ssh_filtered_gridded_1962_001_08.nc\n",
      "We assume pixel position of grid is centered for /home/ollie/ssunar/ssh_filtered/months/ssh_filtered_gridded_1962_001_08.nc\n",
      "We assume pixel position of grid is centered for /home/ollie/ssunar/ssh_filtered/months/ssh_filtered_gridded_1962_001_08.nc\n",
      "We assume pixel position of grid is centered for /home/ollie/ssunar/ssh_filtered/months/ssh_filtered_gridded_1962_001_08.nc\n",
      "We assume pixel position of grid is centered for /home/ollie/ssunar/ssh_filtered/months/ssh_filtered_gridded_1962_001_08.nc\n",
      "We assume pixel position of grid is centered for /home/ollie/ssunar/ssh_filtered/months/ssh_filtered_gridded_1962_001_08.nc\n",
      "We assume pixel position of grid is centered for /home/ollie/ssunar/ssh_filtered/months/ssh_filtered_gridded_1962_001_08.nc\n",
      "We assume pixel position of grid is centered for /home/ollie/ssunar/ssh_filtered/months/ssh_filtered_gridded_1962_001_08.nc\n",
      "We assume pixel position of grid is centered for /home/ollie/ssunar/ssh_filtered/months/ssh_filtered_gridded_1962_001_08.nc\n",
      "We assume pixel position of grid is centered for /home/ollie/ssunar/ssh_filtered/months/ssh_filtered_gridded_1962_001_08.nc\n",
      "We assume pixel position of grid is centered for /home/ollie/ssunar/ssh_filtered/months/ssh_filtered_gridded_1962_001_08.nc\n",
      "We assume pixel position of grid is centered for /home/ollie/ssunar/ssh_filtered/months/ssh_filtered_gridded_1962_001_08.nc\n",
      "We assume pixel position of grid is centered for /home/ollie/ssunar/ssh_filtered/months/ssh_filtered_gridded_1962_001_08.nc\n",
      "We assume pixel position of grid is centered for /home/ollie/ssunar/ssh_filtered/months/ssh_filtered_gridded_1962_001_08.nc\n",
      "We assume pixel position of grid is centered for /home/ollie/ssunar/ssh_filtered/months/ssh_filtered_gridded_1962_001_08.nc\n",
      "We assume pixel position of grid is centered for /home/ollie/ssunar/ssh_filtered/months/ssh_filtered_gridded_1962_001_08.nc\n",
      "We assume pixel position of grid is centered for /home/ollie/ssunar/ssh_filtered/months/ssh_filtered_gridded_1962_001_08.nc\n",
      "We assume pixel position of grid is centered for /home/ollie/ssunar/ssh_filtered/months/ssh_filtered_gridded_1962_001_08.nc\n",
      "We assume pixel position of grid is centered for /home/ollie/ssunar/ssh_filtered/months/ssh_filtered_gridded_1962_001_08.nc\n",
      "We assume pixel position of grid is centered for /home/ollie/ssunar/ssh_filtered/months/ssh_filtered_gridded_1962_001_08.nc\n",
      "We assume pixel position of grid is centered for /home/ollie/ssunar/ssh_filtered/months/ssh_filtered_gridded_1962_001_08.nc\n",
      "We assume pixel position of grid is centered for /home/ollie/ssunar/ssh_filtered/months/ssh_filtered_gridded_1962_001_08.nc\n",
      "We assume pixel position of grid is centered for /home/ollie/ssunar/ssh_filtered/months/ssh_filtered_gridded_1962_001_08.nc\n",
      "We assume pixel position of grid is centered for /home/ollie/ssunar/ssh_filtered/months/ssh_filtered_gridded_1962_001_08.nc\n",
      "We assume pixel position of grid is centered for /home/ollie/ssunar/ssh_filtered/months/ssh_filtered_gridded_1962_001_08.nc\n",
      "We assume pixel position of grid is centered for /home/ollie/ssunar/ssh_filtered/months/ssh_filtered_gridded_1962_001_08.nc\n",
      "We assume pixel position of grid is centered for /home/ollie/ssunar/ssh_filtered/months/ssh_filtered_gridded_1962_001_08.nc\n",
      "We assume pixel position of grid is centered for /home/ollie/ssunar/ssh_filtered/months/ssh_filtered_gridded_1962_001_08.nc\n",
      "We assume pixel position of grid is centered for /home/ollie/ssunar/ssh_filtered/months/ssh_filtered_gridded_1962_001_08.nc\n",
      "We assume pixel position of grid is centered for /home/ollie/ssunar/ssh_filtered/months/ssh_filtered_gridded_1962_001_08.nc\n"
     ]
    },
    {
     "name": "stdout",
     "output_type": "stream",
     "text": [
      "31\n"
     ]
    },
    {
     "name": "stderr",
     "output_type": "stream",
     "text": [
      "We assume pixel position of grid is centered for /home/ollie/ssunar/ssh_filtered/months/ssh_filtered_gridded_1962_001_09.nc\n",
      "We assume pixel position of grid is centered for /home/ollie/ssunar/ssh_filtered/months/ssh_filtered_gridded_1962_001_09.nc\n",
      "We assume pixel position of grid is centered for /home/ollie/ssunar/ssh_filtered/months/ssh_filtered_gridded_1962_001_09.nc\n",
      "We assume pixel position of grid is centered for /home/ollie/ssunar/ssh_filtered/months/ssh_filtered_gridded_1962_001_09.nc\n",
      "We assume pixel position of grid is centered for /home/ollie/ssunar/ssh_filtered/months/ssh_filtered_gridded_1962_001_09.nc\n",
      "We assume pixel position of grid is centered for /home/ollie/ssunar/ssh_filtered/months/ssh_filtered_gridded_1962_001_09.nc\n",
      "We assume pixel position of grid is centered for /home/ollie/ssunar/ssh_filtered/months/ssh_filtered_gridded_1962_001_09.nc\n",
      "We assume pixel position of grid is centered for /home/ollie/ssunar/ssh_filtered/months/ssh_filtered_gridded_1962_001_09.nc\n",
      "We assume pixel position of grid is centered for /home/ollie/ssunar/ssh_filtered/months/ssh_filtered_gridded_1962_001_09.nc\n",
      "We assume pixel position of grid is centered for /home/ollie/ssunar/ssh_filtered/months/ssh_filtered_gridded_1962_001_09.nc\n",
      "We assume pixel position of grid is centered for /home/ollie/ssunar/ssh_filtered/months/ssh_filtered_gridded_1962_001_09.nc\n",
      "We assume pixel position of grid is centered for /home/ollie/ssunar/ssh_filtered/months/ssh_filtered_gridded_1962_001_09.nc\n",
      "We assume pixel position of grid is centered for /home/ollie/ssunar/ssh_filtered/months/ssh_filtered_gridded_1962_001_09.nc\n",
      "We assume pixel position of grid is centered for /home/ollie/ssunar/ssh_filtered/months/ssh_filtered_gridded_1962_001_09.nc\n",
      "We assume pixel position of grid is centered for /home/ollie/ssunar/ssh_filtered/months/ssh_filtered_gridded_1962_001_09.nc\n",
      "We assume pixel position of grid is centered for /home/ollie/ssunar/ssh_filtered/months/ssh_filtered_gridded_1962_001_09.nc\n",
      "We assume pixel position of grid is centered for /home/ollie/ssunar/ssh_filtered/months/ssh_filtered_gridded_1962_001_09.nc\n",
      "We assume pixel position of grid is centered for /home/ollie/ssunar/ssh_filtered/months/ssh_filtered_gridded_1962_001_09.nc\n",
      "We assume pixel position of grid is centered for /home/ollie/ssunar/ssh_filtered/months/ssh_filtered_gridded_1962_001_09.nc\n",
      "We assume pixel position of grid is centered for /home/ollie/ssunar/ssh_filtered/months/ssh_filtered_gridded_1962_001_09.nc\n",
      "We assume pixel position of grid is centered for /home/ollie/ssunar/ssh_filtered/months/ssh_filtered_gridded_1962_001_09.nc\n",
      "We assume pixel position of grid is centered for /home/ollie/ssunar/ssh_filtered/months/ssh_filtered_gridded_1962_001_09.nc\n",
      "We assume pixel position of grid is centered for /home/ollie/ssunar/ssh_filtered/months/ssh_filtered_gridded_1962_001_09.nc\n",
      "We assume pixel position of grid is centered for /home/ollie/ssunar/ssh_filtered/months/ssh_filtered_gridded_1962_001_09.nc\n",
      "We assume pixel position of grid is centered for /home/ollie/ssunar/ssh_filtered/months/ssh_filtered_gridded_1962_001_09.nc\n",
      "We assume pixel position of grid is centered for /home/ollie/ssunar/ssh_filtered/months/ssh_filtered_gridded_1962_001_09.nc\n",
      "We assume pixel position of grid is centered for /home/ollie/ssunar/ssh_filtered/months/ssh_filtered_gridded_1962_001_09.nc\n",
      "We assume pixel position of grid is centered for /home/ollie/ssunar/ssh_filtered/months/ssh_filtered_gridded_1962_001_09.nc\n",
      "We assume pixel position of grid is centered for /home/ollie/ssunar/ssh_filtered/months/ssh_filtered_gridded_1962_001_09.nc\n",
      "We assume pixel position of grid is centered for /home/ollie/ssunar/ssh_filtered/months/ssh_filtered_gridded_1962_001_09.nc\n"
     ]
    },
    {
     "name": "stdout",
     "output_type": "stream",
     "text": [
      "30\n"
     ]
    },
    {
     "name": "stderr",
     "output_type": "stream",
     "text": [
      "We assume pixel position of grid is centered for /home/ollie/ssunar/ssh_filtered/months/ssh_filtered_gridded_1962_001_10.nc\n",
      "We assume pixel position of grid is centered for /home/ollie/ssunar/ssh_filtered/months/ssh_filtered_gridded_1962_001_10.nc\n",
      "We assume pixel position of grid is centered for /home/ollie/ssunar/ssh_filtered/months/ssh_filtered_gridded_1962_001_10.nc\n",
      "We assume pixel position of grid is centered for /home/ollie/ssunar/ssh_filtered/months/ssh_filtered_gridded_1962_001_10.nc\n",
      "We assume pixel position of grid is centered for /home/ollie/ssunar/ssh_filtered/months/ssh_filtered_gridded_1962_001_10.nc\n",
      "We assume pixel position of grid is centered for /home/ollie/ssunar/ssh_filtered/months/ssh_filtered_gridded_1962_001_10.nc\n",
      "We assume pixel position of grid is centered for /home/ollie/ssunar/ssh_filtered/months/ssh_filtered_gridded_1962_001_10.nc\n",
      "We assume pixel position of grid is centered for /home/ollie/ssunar/ssh_filtered/months/ssh_filtered_gridded_1962_001_10.nc\n",
      "We assume pixel position of grid is centered for /home/ollie/ssunar/ssh_filtered/months/ssh_filtered_gridded_1962_001_10.nc\n",
      "We assume pixel position of grid is centered for /home/ollie/ssunar/ssh_filtered/months/ssh_filtered_gridded_1962_001_10.nc\n",
      "We assume pixel position of grid is centered for /home/ollie/ssunar/ssh_filtered/months/ssh_filtered_gridded_1962_001_10.nc\n",
      "We assume pixel position of grid is centered for /home/ollie/ssunar/ssh_filtered/months/ssh_filtered_gridded_1962_001_10.nc\n",
      "We assume pixel position of grid is centered for /home/ollie/ssunar/ssh_filtered/months/ssh_filtered_gridded_1962_001_10.nc\n",
      "We assume pixel position of grid is centered for /home/ollie/ssunar/ssh_filtered/months/ssh_filtered_gridded_1962_001_10.nc\n",
      "We assume pixel position of grid is centered for /home/ollie/ssunar/ssh_filtered/months/ssh_filtered_gridded_1962_001_10.nc\n",
      "We assume pixel position of grid is centered for /home/ollie/ssunar/ssh_filtered/months/ssh_filtered_gridded_1962_001_10.nc\n",
      "We assume pixel position of grid is centered for /home/ollie/ssunar/ssh_filtered/months/ssh_filtered_gridded_1962_001_10.nc\n",
      "We assume pixel position of grid is centered for /home/ollie/ssunar/ssh_filtered/months/ssh_filtered_gridded_1962_001_10.nc\n",
      "We assume pixel position of grid is centered for /home/ollie/ssunar/ssh_filtered/months/ssh_filtered_gridded_1962_001_10.nc\n",
      "We assume pixel position of grid is centered for /home/ollie/ssunar/ssh_filtered/months/ssh_filtered_gridded_1962_001_10.nc\n",
      "We assume pixel position of grid is centered for /home/ollie/ssunar/ssh_filtered/months/ssh_filtered_gridded_1962_001_10.nc\n",
      "We assume pixel position of grid is centered for /home/ollie/ssunar/ssh_filtered/months/ssh_filtered_gridded_1962_001_10.nc\n",
      "We assume pixel position of grid is centered for /home/ollie/ssunar/ssh_filtered/months/ssh_filtered_gridded_1962_001_10.nc\n",
      "We assume pixel position of grid is centered for /home/ollie/ssunar/ssh_filtered/months/ssh_filtered_gridded_1962_001_10.nc\n",
      "We assume pixel position of grid is centered for /home/ollie/ssunar/ssh_filtered/months/ssh_filtered_gridded_1962_001_10.nc\n",
      "We assume pixel position of grid is centered for /home/ollie/ssunar/ssh_filtered/months/ssh_filtered_gridded_1962_001_10.nc\n",
      "We assume pixel position of grid is centered for /home/ollie/ssunar/ssh_filtered/months/ssh_filtered_gridded_1962_001_10.nc\n",
      "We assume pixel position of grid is centered for /home/ollie/ssunar/ssh_filtered/months/ssh_filtered_gridded_1962_001_10.nc\n",
      "We assume pixel position of grid is centered for /home/ollie/ssunar/ssh_filtered/months/ssh_filtered_gridded_1962_001_10.nc\n",
      "We assume pixel position of grid is centered for /home/ollie/ssunar/ssh_filtered/months/ssh_filtered_gridded_1962_001_10.nc\n",
      "We assume pixel position of grid is centered for /home/ollie/ssunar/ssh_filtered/months/ssh_filtered_gridded_1962_001_10.nc\n"
     ]
    }
   ],
   "source": [
    "#daywise eddy observation object creation and segmask saving monthwise\n",
    "import os\n",
    "for j in range(1, 2): #years\n",
    "        \n",
    "    for i in range(1, 2): #months\n",
    "        data_addr_nn = '/home/ollie/ssunar/ssh_filtered/months/ssh_filtered_gridded_196'+str(j)+'_001_'+str(i).zfill(2)+'.nc'\n",
    "        ds = xr.open_dataset(data_addr_nn)\n",
    "        lon = [ds[\"LONGITUDE\"].values.min(), ds[\"LONGITUDE\"].values.max()]\n",
    "        lat = [ds[\"LATITUDE\"].values.min(), ds[\"LATITUDE\"].values.max()]\n",
    "\n",
    "        last_day = ds[\"TIME\"].size\n",
    "        days = list(range(1, last_day + 1))\n",
    "        eddy_class = eddy_detection(dataset_path=data_addr_nn, lat=lat, lon=lon)\n",
    "        eddy_class.create_list_dataset(days)\n",
    "        eddy_class.detect_eddies()\n",
    "        print(last_day)\n",
    "        masked_3d_array = masking(eddy_class)\n",
    "        ds_mask = ds.copy(deep = True)\n",
    "        ds_mask[\"seg_mask\"] = (\"TIME\", \"LONGITUDE\", \"LATITUDE\"), masked_3d_array\n",
    "        ds_mask = ds_mask.drop(\"ssh\")\n",
    "\n",
    "        outfile = \"/home/ollie/ssunar/segmentation_masks_3_years/segmentation_mask_nn_196\"+str(j)+\"_001_\"+str(i).zfill(2)+\".nc\"\n",
    "        if os.path.isfile(outfile):\n",
    "            os.remove(outfile)\n",
    "        ds_mask.to_netcdf(outfile)\n",
    "        \n",
    "        for k in range(last_day):\n",
    "            a = eddy_class.anticyclonic_list[k]\n",
    "            c = eddy_class.cyclonic_list[k]\n",
    "            a.time[:] //= 1\n",
    "            c.time[:] //= 1\n",
    "            date = datetime(1960 + j, i, k+1)\n",
    "            with Dataset(date.strftime(\"/home/ollie/ssunar/obs_files_days/anticyclonic_true/Anticyclonic_%Y%m%d.nc\"), \"w\") as h:\n",
    "                #file_a_pred_list.append(date.strftime(\"/home/ollie/ssunar/obs_files_days/anticyclonic_true/Anticyclonic_%Y%m%d.nc\"))\n",
    "                a.to_netcdf(h)\n",
    "            with Dataset(date.strftime(\"/home/ollie/ssunar/obs_files_days/cyclonic_true/Cyclonic_%Y%m%d.nc\"), \"w\") as h:\n",
    "                #file_c_pred_list.append(date.strftime(\"/home/ollie/ssunar/obs_files_days/cyclonic_true/Cyclonic_%Y%m%d.nc\"))\n",
    "                c.to_netcdf(h)\n",
    "        "
   ]
  },
  {
   "cell_type": "code",
   "execution_count": 41,
   "metadata": {},
   "outputs": [
    {
     "data": {
      "text/plain": [
       "[-70.0, 29.916666]"
      ]
     },
     "execution_count": 41,
     "metadata": {},
     "output_type": "execute_result"
    }
   ],
   "source": [
    "lon"
   ]
  },
  {
   "cell_type": "code",
   "execution_count": 2,
   "metadata": {},
   "outputs": [
    {
     "ename": "NameError",
     "evalue": "name 'xr' is not defined",
     "output_type": "error",
     "traceback": [
      "\u001b[0;31m---------------------------------------------------------------------------\u001b[0m",
      "\u001b[0;31mNameError\u001b[0m                                 Traceback (most recent call last)",
      "\u001b[0;32m/work/ollie/tmp/ipykernel_599/478245358.py\u001b[0m in \u001b[0;36m<module>\u001b[0;34m\u001b[0m\n\u001b[1;32m      4\u001b[0m     \u001b[0;32mfor\u001b[0m \u001b[0mi\u001b[0m \u001b[0;32min\u001b[0m \u001b[0mrange\u001b[0m\u001b[0;34m(\u001b[0m\u001b[0;36m1\u001b[0m\u001b[0;34m,\u001b[0m \u001b[0;36m13\u001b[0m\u001b[0;34m)\u001b[0m\u001b[0;34m:\u001b[0m\u001b[0;34m\u001b[0m\u001b[0;34m\u001b[0m\u001b[0m\n\u001b[1;32m      5\u001b[0m         \u001b[0mdata_addr_nn\u001b[0m \u001b[0;34m=\u001b[0m \u001b[0;34m'/work/ollie/bpanthi/nn_interpolation_new/ssh_gridded_196'\u001b[0m\u001b[0;34m+\u001b[0m\u001b[0mstr\u001b[0m\u001b[0;34m(\u001b[0m\u001b[0mj\u001b[0m\u001b[0;34m)\u001b[0m\u001b[0;34m+\u001b[0m\u001b[0;34m'_001_'\u001b[0m\u001b[0;34m+\u001b[0m\u001b[0mstr\u001b[0m\u001b[0;34m(\u001b[0m\u001b[0mi\u001b[0m\u001b[0;34m)\u001b[0m\u001b[0;34m.\u001b[0m\u001b[0mzfill\u001b[0m\u001b[0;34m(\u001b[0m\u001b[0;36m2\u001b[0m\u001b[0;34m)\u001b[0m\u001b[0;34m+\u001b[0m\u001b[0;34m'_new.nc'\u001b[0m\u001b[0;34m\u001b[0m\u001b[0;34m\u001b[0m\u001b[0m\n\u001b[0;32m----> 6\u001b[0;31m         \u001b[0mds\u001b[0m \u001b[0;34m=\u001b[0m \u001b[0mxr\u001b[0m\u001b[0;34m.\u001b[0m\u001b[0mopen_dataset\u001b[0m\u001b[0;34m(\u001b[0m\u001b[0mdata_addr_nn\u001b[0m\u001b[0;34m)\u001b[0m\u001b[0;34m\u001b[0m\u001b[0;34m\u001b[0m\u001b[0m\n\u001b[0m\u001b[1;32m      7\u001b[0m         \u001b[0mlon\u001b[0m \u001b[0;34m=\u001b[0m \u001b[0;34m[\u001b[0m\u001b[0mds\u001b[0m\u001b[0;34m[\u001b[0m\u001b[0;34m\"LONGITUDE\"\u001b[0m\u001b[0;34m]\u001b[0m\u001b[0;34m.\u001b[0m\u001b[0mvalues\u001b[0m\u001b[0;34m.\u001b[0m\u001b[0mmin\u001b[0m\u001b[0;34m(\u001b[0m\u001b[0;34m)\u001b[0m\u001b[0;34m,\u001b[0m \u001b[0mds\u001b[0m\u001b[0;34m[\u001b[0m\u001b[0;34m\"LONGITUDE\"\u001b[0m\u001b[0;34m]\u001b[0m\u001b[0;34m.\u001b[0m\u001b[0mvalues\u001b[0m\u001b[0;34m.\u001b[0m\u001b[0mmax\u001b[0m\u001b[0;34m(\u001b[0m\u001b[0;34m)\u001b[0m\u001b[0;34m]\u001b[0m\u001b[0;34m\u001b[0m\u001b[0;34m\u001b[0m\u001b[0m\n\u001b[1;32m      8\u001b[0m         \u001b[0mlat\u001b[0m \u001b[0;34m=\u001b[0m \u001b[0;34m[\u001b[0m\u001b[0mds\u001b[0m\u001b[0;34m[\u001b[0m\u001b[0;34m\"LATITUDE\"\u001b[0m\u001b[0;34m]\u001b[0m\u001b[0;34m.\u001b[0m\u001b[0mvalues\u001b[0m\u001b[0;34m.\u001b[0m\u001b[0mmin\u001b[0m\u001b[0;34m(\u001b[0m\u001b[0;34m)\u001b[0m\u001b[0;34m,\u001b[0m \u001b[0mds\u001b[0m\u001b[0;34m[\u001b[0m\u001b[0;34m\"LATITUDE\"\u001b[0m\u001b[0;34m]\u001b[0m\u001b[0;34m.\u001b[0m\u001b[0mvalues\u001b[0m\u001b[0;34m.\u001b[0m\u001b[0mmax\u001b[0m\u001b[0;34m(\u001b[0m\u001b[0;34m)\u001b[0m\u001b[0;34m]\u001b[0m\u001b[0;34m\u001b[0m\u001b[0;34m\u001b[0m\u001b[0m\n",
      "\u001b[0;31mNameError\u001b[0m: name 'xr' is not defined"
     ]
    }
   ],
   "source": [
    "#filtering\n",
    "import os\n",
    "for j in range(1, 2):\n",
    "    for i in range(1, 2):\n",
    "        data_addr_nn = '/home/ollie/ssunar/nn_interpolation_new/ssh_gridded_196'+str(j)+'_001_'+str(i).zfill(2)+'_new.nc'\n",
    "        ds = xr.open_dataset(data_addr_nn)\n",
    "        lon = [ds[\"LONGITUDE\"].values.min(), ds[\"LONGITUDE\"].values.max()]\n",
    "        lat = [ds[\"LATITUDE\"].values.min(), ds[\"LATITUDE\"].values.max()]\n",
    "\n",
    "        last_day = ds[\"TIME\"].size\n",
    "        days = list(range(1, last_day + 1))\n",
    "        eddy_class = eddy_detection(dataset_path=data_addr_nn, lat=lat, lon=lon)\n",
    "        eddy_class.create_list_dataset(days)\n",
    "        print(last_day)\n",
    "        ssh_filtered_3d_array = filtering(eddy_class, days)\n",
    "\n",
    "        ds_mask = ds.copy(deep = True)\n",
    "        ds_mask = ds_mask.drop(\"ssh\")\n",
    "        ds_mask[\"ssh\"] = (\"TIME\", \"LONGITUDE\", \"LATITUDE\"), ssh_filtered_3d_array\n",
    "\n",
    "        outfile = '/home/ollie/ssunar/ssh_filtered/ssh_gridded_196'+str(j)+'_001_'+str(i).zfill(2)+\"_new.nc\"\n",
    "        if os.path.isfile(outfile):\n",
    "            os.remove(outfile)\n",
    "        ds_mask.to_netcdf(outfile)\n",
    "        print(i)"
   ]
  },
  {
   "cell_type": "code",
   "execution_count": null,
   "metadata": {},
   "outputs": [],
   "source": [
    "#filtering\n",
    "import os\n",
    "for j in range(1, 2):\n",
    "    for i in range(1, 2):\n",
    "        data_addr_nn = '/home/ollie/ssunar/nn_interpolation_new/ssh_gridded_196'+str(j)+'_001_'+str(i).zfill(2)+'_new.nc'\n",
    "        ds = xr.open_dataset(data_addr_nn)\n",
    "        lon = [ds[\"LONGITUDE\"].values.min(), ds[\"LONGITUDE\"].values.max()]\n",
    "        lat = [ds[\"LATITUDE\"].values.min(), ds[\"LATITUDE\"].values.max()]\n",
    "\n",
    "        last_day = ds[\"TIME\"].size\n",
    "        days = list(range(1, 1 + 1))\n",
    "        eddy_class = eddy_detection(dataset_path=data_addr_nn, lat=lat, lon=lon)\n",
    "        eddy_class.create_list_dataset(days)\n",
    "        "
   ]
  },
  {
   "cell_type": "code",
   "execution_count": null,
   "metadata": {},
   "outputs": [],
   "source": []
  },
  {
   "cell_type": "code",
   "execution_count": 11,
   "metadata": {},
   "outputs": [
    {
     "data": {
      "text/plain": [
       "'\\nimport os\\n\\ndata_addr_nn = \\'/work/ollie/bpanthi/test_NN/ssh_gridded_1961_001_1_new.nc\\'\\nds = xr.open_dataset(data_addr_nn)\\nlon = [ds[\"LONGITUDE\"].values.min(), ds[\"LONGITUDE\"].values.max()]\\nlat = [ds[\"LATITUDE\"].values.min(), ds[\"LATITUDE\"].values.max()]\\n\\nlast_day = ds[\"TIME\"].size\\ndays = list(range(1, last_day + 1))\\neddy_class = eddy_detection(dataset_path=data_addr_nn, lat=lat, lon=lon)\\neddy_class.create_list_dataset(days)\\neddy_class.detect_eddies()\\nmasked_3d_array = masking(eddy_class)\\n\\nds_mask = ds.copy(deep = True)\\nds_mask[\"seg_mask\"] = (\"TIME\", \"LONGITUDE\", \"LATITUDE\"), masked_3d_array\\nds_mask = ds_mask.drop(\"ssh\")\\n\\noutfile = \"/home/ollie/ssunar/segmentation_masks_test/segmentation_mask_nn_1961_001_test.nc\"\\nif os.path.isfile(outfile):\\n    os.remove(outfile)\\nds_mask.to_netcdf(outfile)\\n'"
      ]
     },
     "execution_count": 11,
     "metadata": {},
     "output_type": "execute_result"
    }
   ],
   "source": [
    "'''\n",
    "import os\n",
    "\n",
    "data_addr_nn = '/work/ollie/bpanthi/test_NN/ssh_gridded_1961_001_1_new.nc'\n",
    "ds = xr.open_dataset(data_addr_nn)\n",
    "lon = [ds[\"LONGITUDE\"].values.min(), ds[\"LONGITUDE\"].values.max()]\n",
    "lat = [ds[\"LATITUDE\"].values.min(), ds[\"LATITUDE\"].values.max()]\n",
    "\n",
    "last_day = ds[\"TIME\"].size\n",
    "days = list(range(1, last_day + 1))\n",
    "eddy_class = eddy_detection(dataset_path=data_addr_nn, lat=lat, lon=lon)\n",
    "eddy_class.create_list_dataset(days)\n",
    "eddy_class.detect_eddies()\n",
    "masked_3d_array = masking(eddy_class)\n",
    "\n",
    "ds_mask = ds.copy(deep = True)\n",
    "ds_mask[\"seg_mask\"] = (\"TIME\", \"LONGITUDE\", \"LATITUDE\"), masked_3d_array\n",
    "ds_mask = ds_mask.drop(\"ssh\")\n",
    "\n",
    "outfile = \"/home/ollie/ssunar/segmentation_masks_test/segmentation_mask_nn_1961_001_test.nc\"\n",
    "if os.path.isfile(outfile):\n",
    "    os.remove(outfile)\n",
    "ds_mask.to_netcdf(outfile)\n",
    "'''"
   ]
  },
  {
   "cell_type": "code",
   "execution_count": 33,
   "metadata": {},
   "outputs": [
    {
     "name": "stderr",
     "output_type": "stream",
     "text": [
      "We assume pixel position of grid is centered for /work/ollie/ssunar/nn_interpolation_new/ssh_gridded_1961_001_01_new.nc\n",
      "We assume pixel position of grid is centered for /work/ollie/ssunar/nn_interpolation_new/ssh_gridded_1961_001_01_new.nc\n",
      "We assume pixel position of grid is centered for /work/ollie/ssunar/nn_interpolation_new/ssh_gridded_1961_001_01_new.nc\n",
      "We assume pixel position of grid is centered for /work/ollie/ssunar/nn_interpolation_new/ssh_gridded_1961_001_01_new.nc\n",
      "We assume pixel position of grid is centered for /work/ollie/ssunar/nn_interpolation_new/ssh_gridded_1961_001_01_new.nc\n",
      "We assume pixel position of grid is centered for /work/ollie/ssunar/nn_interpolation_new/ssh_gridded_1961_001_01_new.nc\n",
      "We assume pixel position of grid is centered for /work/ollie/ssunar/nn_interpolation_new/ssh_gridded_1961_001_01_new.nc\n",
      "We assume pixel position of grid is centered for /work/ollie/ssunar/nn_interpolation_new/ssh_gridded_1961_001_01_new.nc\n",
      "We assume pixel position of grid is centered for /work/ollie/ssunar/nn_interpolation_new/ssh_gridded_1961_001_01_new.nc\n",
      "We assume pixel position of grid is centered for /work/ollie/ssunar/nn_interpolation_new/ssh_gridded_1961_001_01_new.nc\n",
      "We assume pixel position of grid is centered for /work/ollie/ssunar/nn_interpolation_new/ssh_gridded_1961_001_01_new.nc\n",
      "We assume pixel position of grid is centered for /work/ollie/ssunar/nn_interpolation_new/ssh_gridded_1961_001_01_new.nc\n",
      "We assume pixel position of grid is centered for /work/ollie/ssunar/nn_interpolation_new/ssh_gridded_1961_001_01_new.nc\n",
      "We assume pixel position of grid is centered for /work/ollie/ssunar/nn_interpolation_new/ssh_gridded_1961_001_01_new.nc\n",
      "We assume pixel position of grid is centered for /work/ollie/ssunar/nn_interpolation_new/ssh_gridded_1961_001_01_new.nc\n",
      "We assume pixel position of grid is centered for /work/ollie/ssunar/nn_interpolation_new/ssh_gridded_1961_001_01_new.nc\n",
      "We assume pixel position of grid is centered for /work/ollie/ssunar/nn_interpolation_new/ssh_gridded_1961_001_01_new.nc\n",
      "We assume pixel position of grid is centered for /work/ollie/ssunar/nn_interpolation_new/ssh_gridded_1961_001_01_new.nc\n",
      "We assume pixel position of grid is centered for /work/ollie/ssunar/nn_interpolation_new/ssh_gridded_1961_001_01_new.nc\n",
      "We assume pixel position of grid is centered for /work/ollie/ssunar/nn_interpolation_new/ssh_gridded_1961_001_01_new.nc\n",
      "We assume pixel position of grid is centered for /work/ollie/ssunar/nn_interpolation_new/ssh_gridded_1961_001_01_new.nc\n",
      "We assume pixel position of grid is centered for /work/ollie/ssunar/nn_interpolation_new/ssh_gridded_1961_001_01_new.nc\n",
      "We assume pixel position of grid is centered for /work/ollie/ssunar/nn_interpolation_new/ssh_gridded_1961_001_01_new.nc\n",
      "We assume pixel position of grid is centered for /work/ollie/ssunar/nn_interpolation_new/ssh_gridded_1961_001_01_new.nc\n",
      "We assume pixel position of grid is centered for /work/ollie/ssunar/nn_interpolation_new/ssh_gridded_1961_001_01_new.nc\n",
      "We assume pixel position of grid is centered for /work/ollie/ssunar/nn_interpolation_new/ssh_gridded_1961_001_01_new.nc\n",
      "We assume pixel position of grid is centered for /work/ollie/ssunar/nn_interpolation_new/ssh_gridded_1961_001_01_new.nc\n",
      "We assume pixel position of grid is centered for /work/ollie/ssunar/nn_interpolation_new/ssh_gridded_1961_001_01_new.nc\n",
      "We assume pixel position of grid is centered for /work/ollie/ssunar/nn_interpolation_new/ssh_gridded_1961_001_01_new.nc\n",
      "We assume pixel position of grid is centered for /work/ollie/ssunar/nn_interpolation_new/ssh_gridded_1961_001_01_new.nc\n",
      "We assume pixel position of grid is centered for /work/ollie/ssunar/nn_interpolation_new/ssh_gridded_1961_001_01_new.nc\n"
     ]
    },
    {
     "name": "stdout",
     "output_type": "stream",
     "text": [
      "31\n",
      "1\n"
     ]
    }
   ],
   "source": [
    "import os\n",
    "for i in range(1,2):\n",
    "    data_addr_nn = '/work/ollie/ssunar/nn_interpolation_new/ssh_gridded_1961_001_'+str(i).zfill(2)+'_new.nc'\n",
    "    ds = xr.open_dataset(data_addr_nn)\n",
    "    lon = [ds[\"LONGITUDE\"].values.min(), ds[\"LONGITUDE\"].values.max()]\n",
    "    lat = [ds[\"LATITUDE\"].values.min(), ds[\"LATITUDE\"].values.max()]\n",
    "\n",
    "    last_day = ds[\"TIME\"].size\n",
    "    days = list(range(1, last_day + 1))\n",
    "    eddy_class = eddy_detection(dataset_path=data_addr_nn, lat=lat, lon=lon)\n",
    "    eddy_class.create_list_dataset(days)\n",
    "    print(last_day)\n",
    "    eddy_class.detect_eddies()\n",
    "    masked_3d_array = masking(eddy_class)\n",
    "\n",
    "    ds_mask = ds.copy(deep = True)\n",
    "    ds_mask[\"seg_mask\"] = (\"TIME\", \"LONGITUDE\", \"LATITUDE\"), masked_3d_array\n",
    "    ds_mask = ds_mask.drop(\"ssh\")\n",
    "\n",
    "    outfile = \"/home/ollie/ssunar/segmentation_masks_3_years/segmentation_mask_nn_1961_001_\"+str(i).zfill(2)+\"_new.nc\"\n",
    "    if os.path.isfile(outfile):\n",
    "        os.remove(outfile)\n",
    "    ds_mask.to_netcdf(outfile)\n",
    "    print(i)"
   ]
  },
  {
   "cell_type": "code",
   "execution_count": null,
   "metadata": {},
   "outputs": [],
   "source": []
  },
  {
   "cell_type": "code",
   "execution_count": 13,
   "metadata": {
    "scrolled": true
   },
   "outputs": [
    {
     "name": "stderr",
     "output_type": "stream",
     "text": [
      "We assume pixel position of grid is centered for /work/ollie/bpanthi/NN_kursaal/ssh_gridded_1961_001_01_new.nc\n",
      "We assume pixel position of grid is centered for /work/ollie/bpanthi/NN_kursaal/ssh_gridded_1961_001_01_new.nc\n",
      "We assume pixel position of grid is centered for /work/ollie/bpanthi/NN_kursaal/ssh_gridded_1961_001_01_new.nc\n",
      "We assume pixel position of grid is centered for /work/ollie/bpanthi/NN_kursaal/ssh_gridded_1961_001_01_new.nc\n",
      "We assume pixel position of grid is centered for /work/ollie/bpanthi/NN_kursaal/ssh_gridded_1961_001_01_new.nc\n",
      "We assume pixel position of grid is centered for /work/ollie/bpanthi/NN_kursaal/ssh_gridded_1961_001_01_new.nc\n",
      "We assume pixel position of grid is centered for /work/ollie/bpanthi/NN_kursaal/ssh_gridded_1961_001_01_new.nc\n",
      "We assume pixel position of grid is centered for /work/ollie/bpanthi/NN_kursaal/ssh_gridded_1961_001_01_new.nc\n",
      "We assume pixel position of grid is centered for /work/ollie/bpanthi/NN_kursaal/ssh_gridded_1961_001_01_new.nc\n",
      "We assume pixel position of grid is centered for /work/ollie/bpanthi/NN_kursaal/ssh_gridded_1961_001_01_new.nc\n",
      "We assume pixel position of grid is centered for /work/ollie/bpanthi/NN_kursaal/ssh_gridded_1961_001_01_new.nc\n",
      "We assume pixel position of grid is centered for /work/ollie/bpanthi/NN_kursaal/ssh_gridded_1961_001_01_new.nc\n",
      "We assume pixel position of grid is centered for /work/ollie/bpanthi/NN_kursaal/ssh_gridded_1961_001_01_new.nc\n",
      "We assume pixel position of grid is centered for /work/ollie/bpanthi/NN_kursaal/ssh_gridded_1961_001_01_new.nc\n",
      "We assume pixel position of grid is centered for /work/ollie/bpanthi/NN_kursaal/ssh_gridded_1961_001_01_new.nc\n",
      "We assume pixel position of grid is centered for /work/ollie/bpanthi/NN_kursaal/ssh_gridded_1961_001_01_new.nc\n",
      "We assume pixel position of grid is centered for /work/ollie/bpanthi/NN_kursaal/ssh_gridded_1961_001_01_new.nc\n",
      "We assume pixel position of grid is centered for /work/ollie/bpanthi/NN_kursaal/ssh_gridded_1961_001_01_new.nc\n",
      "We assume pixel position of grid is centered for /work/ollie/bpanthi/NN_kursaal/ssh_gridded_1961_001_01_new.nc\n",
      "We assume pixel position of grid is centered for /work/ollie/bpanthi/NN_kursaal/ssh_gridded_1961_001_01_new.nc\n",
      "We assume pixel position of grid is centered for /work/ollie/bpanthi/NN_kursaal/ssh_gridded_1961_001_01_new.nc\n",
      "We assume pixel position of grid is centered for /work/ollie/bpanthi/NN_kursaal/ssh_gridded_1961_001_01_new.nc\n",
      "We assume pixel position of grid is centered for /work/ollie/bpanthi/NN_kursaal/ssh_gridded_1961_001_01_new.nc\n",
      "We assume pixel position of grid is centered for /work/ollie/bpanthi/NN_kursaal/ssh_gridded_1961_001_01_new.nc\n",
      "We assume pixel position of grid is centered for /work/ollie/bpanthi/NN_kursaal/ssh_gridded_1961_001_01_new.nc\n",
      "We assume pixel position of grid is centered for /work/ollie/bpanthi/NN_kursaal/ssh_gridded_1961_001_01_new.nc\n",
      "We assume pixel position of grid is centered for /work/ollie/bpanthi/NN_kursaal/ssh_gridded_1961_001_01_new.nc\n",
      "We assume pixel position of grid is centered for /work/ollie/bpanthi/NN_kursaal/ssh_gridded_1961_001_01_new.nc\n",
      "We assume pixel position of grid is centered for /work/ollie/bpanthi/NN_kursaal/ssh_gridded_1961_001_01_new.nc\n",
      "We assume pixel position of grid is centered for /work/ollie/bpanthi/NN_kursaal/ssh_gridded_1961_001_01_new.nc\n",
      "We assume pixel position of grid is centered for /work/ollie/bpanthi/NN_kursaal/ssh_gridded_1961_001_01_new.nc\n",
      "We assume pixel position of grid is centered for /work/ollie/bpanthi/NN_kursaal/ssh_gridded_1961_001_02_new.nc\n",
      "We assume pixel position of grid is centered for /work/ollie/bpanthi/NN_kursaal/ssh_gridded_1961_001_02_new.nc\n"
     ]
    },
    {
     "name": "stdout",
     "output_type": "stream",
     "text": [
      "1\n"
     ]
    },
    {
     "name": "stderr",
     "output_type": "stream",
     "text": [
      "We assume pixel position of grid is centered for /work/ollie/bpanthi/NN_kursaal/ssh_gridded_1961_001_02_new.nc\n",
      "We assume pixel position of grid is centered for /work/ollie/bpanthi/NN_kursaal/ssh_gridded_1961_001_02_new.nc\n",
      "We assume pixel position of grid is centered for /work/ollie/bpanthi/NN_kursaal/ssh_gridded_1961_001_02_new.nc\n",
      "We assume pixel position of grid is centered for /work/ollie/bpanthi/NN_kursaal/ssh_gridded_1961_001_02_new.nc\n",
      "We assume pixel position of grid is centered for /work/ollie/bpanthi/NN_kursaal/ssh_gridded_1961_001_02_new.nc\n",
      "We assume pixel position of grid is centered for /work/ollie/bpanthi/NN_kursaal/ssh_gridded_1961_001_02_new.nc\n",
      "We assume pixel position of grid is centered for /work/ollie/bpanthi/NN_kursaal/ssh_gridded_1961_001_02_new.nc\n",
      "We assume pixel position of grid is centered for /work/ollie/bpanthi/NN_kursaal/ssh_gridded_1961_001_02_new.nc\n",
      "We assume pixel position of grid is centered for /work/ollie/bpanthi/NN_kursaal/ssh_gridded_1961_001_02_new.nc\n",
      "We assume pixel position of grid is centered for /work/ollie/bpanthi/NN_kursaal/ssh_gridded_1961_001_02_new.nc\n",
      "We assume pixel position of grid is centered for /work/ollie/bpanthi/NN_kursaal/ssh_gridded_1961_001_02_new.nc\n",
      "We assume pixel position of grid is centered for /work/ollie/bpanthi/NN_kursaal/ssh_gridded_1961_001_02_new.nc\n",
      "We assume pixel position of grid is centered for /work/ollie/bpanthi/NN_kursaal/ssh_gridded_1961_001_02_new.nc\n",
      "We assume pixel position of grid is centered for /work/ollie/bpanthi/NN_kursaal/ssh_gridded_1961_001_02_new.nc\n",
      "We assume pixel position of grid is centered for /work/ollie/bpanthi/NN_kursaal/ssh_gridded_1961_001_02_new.nc\n",
      "We assume pixel position of grid is centered for /work/ollie/bpanthi/NN_kursaal/ssh_gridded_1961_001_02_new.nc\n",
      "We assume pixel position of grid is centered for /work/ollie/bpanthi/NN_kursaal/ssh_gridded_1961_001_02_new.nc\n",
      "We assume pixel position of grid is centered for /work/ollie/bpanthi/NN_kursaal/ssh_gridded_1961_001_02_new.nc\n",
      "We assume pixel position of grid is centered for /work/ollie/bpanthi/NN_kursaal/ssh_gridded_1961_001_02_new.nc\n",
      "We assume pixel position of grid is centered for /work/ollie/bpanthi/NN_kursaal/ssh_gridded_1961_001_02_new.nc\n",
      "We assume pixel position of grid is centered for /work/ollie/bpanthi/NN_kursaal/ssh_gridded_1961_001_02_new.nc\n",
      "We assume pixel position of grid is centered for /work/ollie/bpanthi/NN_kursaal/ssh_gridded_1961_001_02_new.nc\n",
      "We assume pixel position of grid is centered for /work/ollie/bpanthi/NN_kursaal/ssh_gridded_1961_001_02_new.nc\n",
      "We assume pixel position of grid is centered for /work/ollie/bpanthi/NN_kursaal/ssh_gridded_1961_001_02_new.nc\n",
      "We assume pixel position of grid is centered for /work/ollie/bpanthi/NN_kursaal/ssh_gridded_1961_001_02_new.nc\n",
      "We assume pixel position of grid is centered for /work/ollie/bpanthi/NN_kursaal/ssh_gridded_1961_001_02_new.nc\n",
      "We assume pixel position of grid is centered for /work/ollie/bpanthi/NN_kursaal/ssh_gridded_1961_001_03_new.nc\n",
      "We assume pixel position of grid is centered for /work/ollie/bpanthi/NN_kursaal/ssh_gridded_1961_001_03_new.nc\n"
     ]
    },
    {
     "name": "stdout",
     "output_type": "stream",
     "text": [
      "2\n"
     ]
    },
    {
     "name": "stderr",
     "output_type": "stream",
     "text": [
      "We assume pixel position of grid is centered for /work/ollie/bpanthi/NN_kursaal/ssh_gridded_1961_001_03_new.nc\n",
      "We assume pixel position of grid is centered for /work/ollie/bpanthi/NN_kursaal/ssh_gridded_1961_001_03_new.nc\n",
      "We assume pixel position of grid is centered for /work/ollie/bpanthi/NN_kursaal/ssh_gridded_1961_001_03_new.nc\n",
      "We assume pixel position of grid is centered for /work/ollie/bpanthi/NN_kursaal/ssh_gridded_1961_001_03_new.nc\n",
      "We assume pixel position of grid is centered for /work/ollie/bpanthi/NN_kursaal/ssh_gridded_1961_001_03_new.nc\n",
      "We assume pixel position of grid is centered for /work/ollie/bpanthi/NN_kursaal/ssh_gridded_1961_001_03_new.nc\n",
      "We assume pixel position of grid is centered for /work/ollie/bpanthi/NN_kursaal/ssh_gridded_1961_001_03_new.nc\n",
      "We assume pixel position of grid is centered for /work/ollie/bpanthi/NN_kursaal/ssh_gridded_1961_001_03_new.nc\n",
      "We assume pixel position of grid is centered for /work/ollie/bpanthi/NN_kursaal/ssh_gridded_1961_001_03_new.nc\n",
      "We assume pixel position of grid is centered for /work/ollie/bpanthi/NN_kursaal/ssh_gridded_1961_001_03_new.nc\n",
      "We assume pixel position of grid is centered for /work/ollie/bpanthi/NN_kursaal/ssh_gridded_1961_001_03_new.nc\n",
      "We assume pixel position of grid is centered for /work/ollie/bpanthi/NN_kursaal/ssh_gridded_1961_001_03_new.nc\n",
      "We assume pixel position of grid is centered for /work/ollie/bpanthi/NN_kursaal/ssh_gridded_1961_001_03_new.nc\n",
      "We assume pixel position of grid is centered for /work/ollie/bpanthi/NN_kursaal/ssh_gridded_1961_001_03_new.nc\n",
      "We assume pixel position of grid is centered for /work/ollie/bpanthi/NN_kursaal/ssh_gridded_1961_001_03_new.nc\n",
      "We assume pixel position of grid is centered for /work/ollie/bpanthi/NN_kursaal/ssh_gridded_1961_001_03_new.nc\n",
      "We assume pixel position of grid is centered for /work/ollie/bpanthi/NN_kursaal/ssh_gridded_1961_001_03_new.nc\n",
      "We assume pixel position of grid is centered for /work/ollie/bpanthi/NN_kursaal/ssh_gridded_1961_001_03_new.nc\n",
      "We assume pixel position of grid is centered for /work/ollie/bpanthi/NN_kursaal/ssh_gridded_1961_001_03_new.nc\n",
      "We assume pixel position of grid is centered for /work/ollie/bpanthi/NN_kursaal/ssh_gridded_1961_001_03_new.nc\n",
      "We assume pixel position of grid is centered for /work/ollie/bpanthi/NN_kursaal/ssh_gridded_1961_001_03_new.nc\n",
      "We assume pixel position of grid is centered for /work/ollie/bpanthi/NN_kursaal/ssh_gridded_1961_001_03_new.nc\n",
      "We assume pixel position of grid is centered for /work/ollie/bpanthi/NN_kursaal/ssh_gridded_1961_001_03_new.nc\n",
      "We assume pixel position of grid is centered for /work/ollie/bpanthi/NN_kursaal/ssh_gridded_1961_001_03_new.nc\n",
      "We assume pixel position of grid is centered for /work/ollie/bpanthi/NN_kursaal/ssh_gridded_1961_001_03_new.nc\n",
      "We assume pixel position of grid is centered for /work/ollie/bpanthi/NN_kursaal/ssh_gridded_1961_001_03_new.nc\n",
      "We assume pixel position of grid is centered for /work/ollie/bpanthi/NN_kursaal/ssh_gridded_1961_001_03_new.nc\n",
      "We assume pixel position of grid is centered for /work/ollie/bpanthi/NN_kursaal/ssh_gridded_1961_001_03_new.nc\n",
      "We assume pixel position of grid is centered for /work/ollie/bpanthi/NN_kursaal/ssh_gridded_1961_001_03_new.nc\n",
      "We assume pixel position of grid is centered for /work/ollie/bpanthi/NN_kursaal/ssh_gridded_1961_001_04_new.nc\n"
     ]
    },
    {
     "name": "stdout",
     "output_type": "stream",
     "text": [
      "3\n"
     ]
    },
    {
     "name": "stderr",
     "output_type": "stream",
     "text": [
      "We assume pixel position of grid is centered for /work/ollie/bpanthi/NN_kursaal/ssh_gridded_1961_001_04_new.nc\n",
      "We assume pixel position of grid is centered for /work/ollie/bpanthi/NN_kursaal/ssh_gridded_1961_001_04_new.nc\n",
      "We assume pixel position of grid is centered for /work/ollie/bpanthi/NN_kursaal/ssh_gridded_1961_001_04_new.nc\n",
      "We assume pixel position of grid is centered for /work/ollie/bpanthi/NN_kursaal/ssh_gridded_1961_001_04_new.nc\n",
      "We assume pixel position of grid is centered for /work/ollie/bpanthi/NN_kursaal/ssh_gridded_1961_001_04_new.nc\n",
      "We assume pixel position of grid is centered for /work/ollie/bpanthi/NN_kursaal/ssh_gridded_1961_001_04_new.nc\n",
      "We assume pixel position of grid is centered for /work/ollie/bpanthi/NN_kursaal/ssh_gridded_1961_001_04_new.nc\n",
      "We assume pixel position of grid is centered for /work/ollie/bpanthi/NN_kursaal/ssh_gridded_1961_001_04_new.nc\n",
      "We assume pixel position of grid is centered for /work/ollie/bpanthi/NN_kursaal/ssh_gridded_1961_001_04_new.nc\n",
      "We assume pixel position of grid is centered for /work/ollie/bpanthi/NN_kursaal/ssh_gridded_1961_001_04_new.nc\n",
      "We assume pixel position of grid is centered for /work/ollie/bpanthi/NN_kursaal/ssh_gridded_1961_001_04_new.nc\n",
      "We assume pixel position of grid is centered for /work/ollie/bpanthi/NN_kursaal/ssh_gridded_1961_001_04_new.nc\n",
      "We assume pixel position of grid is centered for /work/ollie/bpanthi/NN_kursaal/ssh_gridded_1961_001_04_new.nc\n",
      "We assume pixel position of grid is centered for /work/ollie/bpanthi/NN_kursaal/ssh_gridded_1961_001_04_new.nc\n",
      "We assume pixel position of grid is centered for /work/ollie/bpanthi/NN_kursaal/ssh_gridded_1961_001_04_new.nc\n",
      "We assume pixel position of grid is centered for /work/ollie/bpanthi/NN_kursaal/ssh_gridded_1961_001_04_new.nc\n",
      "We assume pixel position of grid is centered for /work/ollie/bpanthi/NN_kursaal/ssh_gridded_1961_001_04_new.nc\n",
      "We assume pixel position of grid is centered for /work/ollie/bpanthi/NN_kursaal/ssh_gridded_1961_001_04_new.nc\n",
      "We assume pixel position of grid is centered for /work/ollie/bpanthi/NN_kursaal/ssh_gridded_1961_001_04_new.nc\n",
      "We assume pixel position of grid is centered for /work/ollie/bpanthi/NN_kursaal/ssh_gridded_1961_001_04_new.nc\n",
      "We assume pixel position of grid is centered for /work/ollie/bpanthi/NN_kursaal/ssh_gridded_1961_001_04_new.nc\n",
      "We assume pixel position of grid is centered for /work/ollie/bpanthi/NN_kursaal/ssh_gridded_1961_001_04_new.nc\n",
      "We assume pixel position of grid is centered for /work/ollie/bpanthi/NN_kursaal/ssh_gridded_1961_001_04_new.nc\n",
      "We assume pixel position of grid is centered for /work/ollie/bpanthi/NN_kursaal/ssh_gridded_1961_001_04_new.nc\n",
      "We assume pixel position of grid is centered for /work/ollie/bpanthi/NN_kursaal/ssh_gridded_1961_001_04_new.nc\n",
      "We assume pixel position of grid is centered for /work/ollie/bpanthi/NN_kursaal/ssh_gridded_1961_001_04_new.nc\n",
      "We assume pixel position of grid is centered for /work/ollie/bpanthi/NN_kursaal/ssh_gridded_1961_001_04_new.nc\n",
      "We assume pixel position of grid is centered for /work/ollie/bpanthi/NN_kursaal/ssh_gridded_1961_001_04_new.nc\n",
      "We assume pixel position of grid is centered for /work/ollie/bpanthi/NN_kursaal/ssh_gridded_1961_001_04_new.nc\n",
      "We assume pixel position of grid is centered for /work/ollie/bpanthi/NN_kursaal/ssh_gridded_1961_001_05_new.nc\n",
      "We assume pixel position of grid is centered for /work/ollie/bpanthi/NN_kursaal/ssh_gridded_1961_001_05_new.nc\n"
     ]
    },
    {
     "name": "stdout",
     "output_type": "stream",
     "text": [
      "4\n"
     ]
    },
    {
     "name": "stderr",
     "output_type": "stream",
     "text": [
      "We assume pixel position of grid is centered for /work/ollie/bpanthi/NN_kursaal/ssh_gridded_1961_001_05_new.nc\n",
      "We assume pixel position of grid is centered for /work/ollie/bpanthi/NN_kursaal/ssh_gridded_1961_001_05_new.nc\n",
      "We assume pixel position of grid is centered for /work/ollie/bpanthi/NN_kursaal/ssh_gridded_1961_001_05_new.nc\n",
      "We assume pixel position of grid is centered for /work/ollie/bpanthi/NN_kursaal/ssh_gridded_1961_001_05_new.nc\n",
      "We assume pixel position of grid is centered for /work/ollie/bpanthi/NN_kursaal/ssh_gridded_1961_001_05_new.nc\n",
      "We assume pixel position of grid is centered for /work/ollie/bpanthi/NN_kursaal/ssh_gridded_1961_001_05_new.nc\n",
      "We assume pixel position of grid is centered for /work/ollie/bpanthi/NN_kursaal/ssh_gridded_1961_001_05_new.nc\n",
      "We assume pixel position of grid is centered for /work/ollie/bpanthi/NN_kursaal/ssh_gridded_1961_001_05_new.nc\n",
      "We assume pixel position of grid is centered for /work/ollie/bpanthi/NN_kursaal/ssh_gridded_1961_001_05_new.nc\n",
      "We assume pixel position of grid is centered for /work/ollie/bpanthi/NN_kursaal/ssh_gridded_1961_001_05_new.nc\n",
      "We assume pixel position of grid is centered for /work/ollie/bpanthi/NN_kursaal/ssh_gridded_1961_001_05_new.nc\n",
      "We assume pixel position of grid is centered for /work/ollie/bpanthi/NN_kursaal/ssh_gridded_1961_001_05_new.nc\n",
      "We assume pixel position of grid is centered for /work/ollie/bpanthi/NN_kursaal/ssh_gridded_1961_001_05_new.nc\n",
      "We assume pixel position of grid is centered for /work/ollie/bpanthi/NN_kursaal/ssh_gridded_1961_001_05_new.nc\n",
      "We assume pixel position of grid is centered for /work/ollie/bpanthi/NN_kursaal/ssh_gridded_1961_001_05_new.nc\n",
      "We assume pixel position of grid is centered for /work/ollie/bpanthi/NN_kursaal/ssh_gridded_1961_001_05_new.nc\n",
      "We assume pixel position of grid is centered for /work/ollie/bpanthi/NN_kursaal/ssh_gridded_1961_001_05_new.nc\n",
      "We assume pixel position of grid is centered for /work/ollie/bpanthi/NN_kursaal/ssh_gridded_1961_001_05_new.nc\n",
      "We assume pixel position of grid is centered for /work/ollie/bpanthi/NN_kursaal/ssh_gridded_1961_001_05_new.nc\n",
      "We assume pixel position of grid is centered for /work/ollie/bpanthi/NN_kursaal/ssh_gridded_1961_001_05_new.nc\n",
      "We assume pixel position of grid is centered for /work/ollie/bpanthi/NN_kursaal/ssh_gridded_1961_001_05_new.nc\n",
      "We assume pixel position of grid is centered for /work/ollie/bpanthi/NN_kursaal/ssh_gridded_1961_001_05_new.nc\n",
      "We assume pixel position of grid is centered for /work/ollie/bpanthi/NN_kursaal/ssh_gridded_1961_001_05_new.nc\n",
      "We assume pixel position of grid is centered for /work/ollie/bpanthi/NN_kursaal/ssh_gridded_1961_001_05_new.nc\n",
      "We assume pixel position of grid is centered for /work/ollie/bpanthi/NN_kursaal/ssh_gridded_1961_001_05_new.nc\n",
      "We assume pixel position of grid is centered for /work/ollie/bpanthi/NN_kursaal/ssh_gridded_1961_001_05_new.nc\n",
      "We assume pixel position of grid is centered for /work/ollie/bpanthi/NN_kursaal/ssh_gridded_1961_001_05_new.nc\n",
      "We assume pixel position of grid is centered for /work/ollie/bpanthi/NN_kursaal/ssh_gridded_1961_001_05_new.nc\n",
      "We assume pixel position of grid is centered for /work/ollie/bpanthi/NN_kursaal/ssh_gridded_1961_001_05_new.nc\n",
      "We assume pixel position of grid is centered for /work/ollie/bpanthi/NN_kursaal/ssh_gridded_1961_001_06_new.nc\n",
      "We assume pixel position of grid is centered for /work/ollie/bpanthi/NN_kursaal/ssh_gridded_1961_001_06_new.nc\n"
     ]
    },
    {
     "name": "stdout",
     "output_type": "stream",
     "text": [
      "5\n"
     ]
    },
    {
     "name": "stderr",
     "output_type": "stream",
     "text": [
      "We assume pixel position of grid is centered for /work/ollie/bpanthi/NN_kursaal/ssh_gridded_1961_001_06_new.nc\n",
      "We assume pixel position of grid is centered for /work/ollie/bpanthi/NN_kursaal/ssh_gridded_1961_001_06_new.nc\n",
      "We assume pixel position of grid is centered for /work/ollie/bpanthi/NN_kursaal/ssh_gridded_1961_001_06_new.nc\n",
      "We assume pixel position of grid is centered for /work/ollie/bpanthi/NN_kursaal/ssh_gridded_1961_001_06_new.nc\n",
      "We assume pixel position of grid is centered for /work/ollie/bpanthi/NN_kursaal/ssh_gridded_1961_001_06_new.nc\n",
      "We assume pixel position of grid is centered for /work/ollie/bpanthi/NN_kursaal/ssh_gridded_1961_001_06_new.nc\n",
      "We assume pixel position of grid is centered for /work/ollie/bpanthi/NN_kursaal/ssh_gridded_1961_001_06_new.nc\n",
      "We assume pixel position of grid is centered for /work/ollie/bpanthi/NN_kursaal/ssh_gridded_1961_001_06_new.nc\n",
      "We assume pixel position of grid is centered for /work/ollie/bpanthi/NN_kursaal/ssh_gridded_1961_001_06_new.nc\n",
      "We assume pixel position of grid is centered for /work/ollie/bpanthi/NN_kursaal/ssh_gridded_1961_001_06_new.nc\n",
      "We assume pixel position of grid is centered for /work/ollie/bpanthi/NN_kursaal/ssh_gridded_1961_001_06_new.nc\n",
      "We assume pixel position of grid is centered for /work/ollie/bpanthi/NN_kursaal/ssh_gridded_1961_001_06_new.nc\n",
      "We assume pixel position of grid is centered for /work/ollie/bpanthi/NN_kursaal/ssh_gridded_1961_001_06_new.nc\n",
      "We assume pixel position of grid is centered for /work/ollie/bpanthi/NN_kursaal/ssh_gridded_1961_001_06_new.nc\n",
      "We assume pixel position of grid is centered for /work/ollie/bpanthi/NN_kursaal/ssh_gridded_1961_001_06_new.nc\n",
      "We assume pixel position of grid is centered for /work/ollie/bpanthi/NN_kursaal/ssh_gridded_1961_001_06_new.nc\n",
      "We assume pixel position of grid is centered for /work/ollie/bpanthi/NN_kursaal/ssh_gridded_1961_001_06_new.nc\n",
      "We assume pixel position of grid is centered for /work/ollie/bpanthi/NN_kursaal/ssh_gridded_1961_001_06_new.nc\n",
      "We assume pixel position of grid is centered for /work/ollie/bpanthi/NN_kursaal/ssh_gridded_1961_001_06_new.nc\n",
      "We assume pixel position of grid is centered for /work/ollie/bpanthi/NN_kursaal/ssh_gridded_1961_001_06_new.nc\n",
      "We assume pixel position of grid is centered for /work/ollie/bpanthi/NN_kursaal/ssh_gridded_1961_001_06_new.nc\n",
      "We assume pixel position of grid is centered for /work/ollie/bpanthi/NN_kursaal/ssh_gridded_1961_001_06_new.nc\n",
      "We assume pixel position of grid is centered for /work/ollie/bpanthi/NN_kursaal/ssh_gridded_1961_001_06_new.nc\n",
      "We assume pixel position of grid is centered for /work/ollie/bpanthi/NN_kursaal/ssh_gridded_1961_001_06_new.nc\n",
      "We assume pixel position of grid is centered for /work/ollie/bpanthi/NN_kursaal/ssh_gridded_1961_001_06_new.nc\n",
      "We assume pixel position of grid is centered for /work/ollie/bpanthi/NN_kursaal/ssh_gridded_1961_001_06_new.nc\n",
      "We assume pixel position of grid is centered for /work/ollie/bpanthi/NN_kursaal/ssh_gridded_1961_001_06_new.nc\n",
      "We assume pixel position of grid is centered for /work/ollie/bpanthi/NN_kursaal/ssh_gridded_1961_001_06_new.nc\n",
      "We assume pixel position of grid is centered for /work/ollie/bpanthi/NN_kursaal/ssh_gridded_1961_001_07_new.nc\n",
      "We assume pixel position of grid is centered for /work/ollie/bpanthi/NN_kursaal/ssh_gridded_1961_001_07_new.nc\n"
     ]
    },
    {
     "name": "stdout",
     "output_type": "stream",
     "text": [
      "6\n"
     ]
    },
    {
     "name": "stderr",
     "output_type": "stream",
     "text": [
      "We assume pixel position of grid is centered for /work/ollie/bpanthi/NN_kursaal/ssh_gridded_1961_001_07_new.nc\n",
      "We assume pixel position of grid is centered for /work/ollie/bpanthi/NN_kursaal/ssh_gridded_1961_001_07_new.nc\n",
      "We assume pixel position of grid is centered for /work/ollie/bpanthi/NN_kursaal/ssh_gridded_1961_001_07_new.nc\n",
      "We assume pixel position of grid is centered for /work/ollie/bpanthi/NN_kursaal/ssh_gridded_1961_001_07_new.nc\n",
      "We assume pixel position of grid is centered for /work/ollie/bpanthi/NN_kursaal/ssh_gridded_1961_001_07_new.nc\n",
      "We assume pixel position of grid is centered for /work/ollie/bpanthi/NN_kursaal/ssh_gridded_1961_001_07_new.nc\n",
      "We assume pixel position of grid is centered for /work/ollie/bpanthi/NN_kursaal/ssh_gridded_1961_001_07_new.nc\n",
      "We assume pixel position of grid is centered for /work/ollie/bpanthi/NN_kursaal/ssh_gridded_1961_001_07_new.nc\n",
      "We assume pixel position of grid is centered for /work/ollie/bpanthi/NN_kursaal/ssh_gridded_1961_001_07_new.nc\n",
      "We assume pixel position of grid is centered for /work/ollie/bpanthi/NN_kursaal/ssh_gridded_1961_001_07_new.nc\n",
      "We assume pixel position of grid is centered for /work/ollie/bpanthi/NN_kursaal/ssh_gridded_1961_001_07_new.nc\n",
      "We assume pixel position of grid is centered for /work/ollie/bpanthi/NN_kursaal/ssh_gridded_1961_001_07_new.nc\n",
      "We assume pixel position of grid is centered for /work/ollie/bpanthi/NN_kursaal/ssh_gridded_1961_001_07_new.nc\n",
      "We assume pixel position of grid is centered for /work/ollie/bpanthi/NN_kursaal/ssh_gridded_1961_001_07_new.nc\n",
      "We assume pixel position of grid is centered for /work/ollie/bpanthi/NN_kursaal/ssh_gridded_1961_001_07_new.nc\n",
      "We assume pixel position of grid is centered for /work/ollie/bpanthi/NN_kursaal/ssh_gridded_1961_001_07_new.nc\n",
      "We assume pixel position of grid is centered for /work/ollie/bpanthi/NN_kursaal/ssh_gridded_1961_001_07_new.nc\n",
      "We assume pixel position of grid is centered for /work/ollie/bpanthi/NN_kursaal/ssh_gridded_1961_001_07_new.nc\n",
      "We assume pixel position of grid is centered for /work/ollie/bpanthi/NN_kursaal/ssh_gridded_1961_001_07_new.nc\n",
      "We assume pixel position of grid is centered for /work/ollie/bpanthi/NN_kursaal/ssh_gridded_1961_001_07_new.nc\n",
      "We assume pixel position of grid is centered for /work/ollie/bpanthi/NN_kursaal/ssh_gridded_1961_001_07_new.nc\n",
      "We assume pixel position of grid is centered for /work/ollie/bpanthi/NN_kursaal/ssh_gridded_1961_001_07_new.nc\n",
      "We assume pixel position of grid is centered for /work/ollie/bpanthi/NN_kursaal/ssh_gridded_1961_001_07_new.nc\n",
      "We assume pixel position of grid is centered for /work/ollie/bpanthi/NN_kursaal/ssh_gridded_1961_001_07_new.nc\n",
      "We assume pixel position of grid is centered for /work/ollie/bpanthi/NN_kursaal/ssh_gridded_1961_001_07_new.nc\n",
      "We assume pixel position of grid is centered for /work/ollie/bpanthi/NN_kursaal/ssh_gridded_1961_001_07_new.nc\n",
      "We assume pixel position of grid is centered for /work/ollie/bpanthi/NN_kursaal/ssh_gridded_1961_001_07_new.nc\n",
      "We assume pixel position of grid is centered for /work/ollie/bpanthi/NN_kursaal/ssh_gridded_1961_001_07_new.nc\n",
      "We assume pixel position of grid is centered for /work/ollie/bpanthi/NN_kursaal/ssh_gridded_1961_001_07_new.nc\n",
      "We assume pixel position of grid is centered for /work/ollie/bpanthi/NN_kursaal/ssh_gridded_1961_001_08_new.nc\n",
      "We assume pixel position of grid is centered for /work/ollie/bpanthi/NN_kursaal/ssh_gridded_1961_001_08_new.nc\n"
     ]
    },
    {
     "name": "stdout",
     "output_type": "stream",
     "text": [
      "7\n"
     ]
    },
    {
     "name": "stderr",
     "output_type": "stream",
     "text": [
      "We assume pixel position of grid is centered for /work/ollie/bpanthi/NN_kursaal/ssh_gridded_1961_001_08_new.nc\n",
      "We assume pixel position of grid is centered for /work/ollie/bpanthi/NN_kursaal/ssh_gridded_1961_001_08_new.nc\n",
      "We assume pixel position of grid is centered for /work/ollie/bpanthi/NN_kursaal/ssh_gridded_1961_001_08_new.nc\n",
      "We assume pixel position of grid is centered for /work/ollie/bpanthi/NN_kursaal/ssh_gridded_1961_001_08_new.nc\n",
      "We assume pixel position of grid is centered for /work/ollie/bpanthi/NN_kursaal/ssh_gridded_1961_001_08_new.nc\n",
      "We assume pixel position of grid is centered for /work/ollie/bpanthi/NN_kursaal/ssh_gridded_1961_001_08_new.nc\n",
      "We assume pixel position of grid is centered for /work/ollie/bpanthi/NN_kursaal/ssh_gridded_1961_001_08_new.nc\n",
      "We assume pixel position of grid is centered for /work/ollie/bpanthi/NN_kursaal/ssh_gridded_1961_001_08_new.nc\n",
      "We assume pixel position of grid is centered for /work/ollie/bpanthi/NN_kursaal/ssh_gridded_1961_001_08_new.nc\n",
      "We assume pixel position of grid is centered for /work/ollie/bpanthi/NN_kursaal/ssh_gridded_1961_001_08_new.nc\n",
      "We assume pixel position of grid is centered for /work/ollie/bpanthi/NN_kursaal/ssh_gridded_1961_001_08_new.nc\n",
      "We assume pixel position of grid is centered for /work/ollie/bpanthi/NN_kursaal/ssh_gridded_1961_001_08_new.nc\n",
      "We assume pixel position of grid is centered for /work/ollie/bpanthi/NN_kursaal/ssh_gridded_1961_001_08_new.nc\n",
      "We assume pixel position of grid is centered for /work/ollie/bpanthi/NN_kursaal/ssh_gridded_1961_001_08_new.nc\n",
      "We assume pixel position of grid is centered for /work/ollie/bpanthi/NN_kursaal/ssh_gridded_1961_001_08_new.nc\n",
      "We assume pixel position of grid is centered for /work/ollie/bpanthi/NN_kursaal/ssh_gridded_1961_001_08_new.nc\n",
      "We assume pixel position of grid is centered for /work/ollie/bpanthi/NN_kursaal/ssh_gridded_1961_001_08_new.nc\n",
      "We assume pixel position of grid is centered for /work/ollie/bpanthi/NN_kursaal/ssh_gridded_1961_001_08_new.nc\n",
      "We assume pixel position of grid is centered for /work/ollie/bpanthi/NN_kursaal/ssh_gridded_1961_001_08_new.nc\n",
      "We assume pixel position of grid is centered for /work/ollie/bpanthi/NN_kursaal/ssh_gridded_1961_001_08_new.nc\n",
      "We assume pixel position of grid is centered for /work/ollie/bpanthi/NN_kursaal/ssh_gridded_1961_001_08_new.nc\n",
      "We assume pixel position of grid is centered for /work/ollie/bpanthi/NN_kursaal/ssh_gridded_1961_001_08_new.nc\n",
      "We assume pixel position of grid is centered for /work/ollie/bpanthi/NN_kursaal/ssh_gridded_1961_001_08_new.nc\n",
      "We assume pixel position of grid is centered for /work/ollie/bpanthi/NN_kursaal/ssh_gridded_1961_001_08_new.nc\n",
      "We assume pixel position of grid is centered for /work/ollie/bpanthi/NN_kursaal/ssh_gridded_1961_001_08_new.nc\n",
      "We assume pixel position of grid is centered for /work/ollie/bpanthi/NN_kursaal/ssh_gridded_1961_001_08_new.nc\n",
      "We assume pixel position of grid is centered for /work/ollie/bpanthi/NN_kursaal/ssh_gridded_1961_001_08_new.nc\n",
      "We assume pixel position of grid is centered for /work/ollie/bpanthi/NN_kursaal/ssh_gridded_1961_001_08_new.nc\n",
      "We assume pixel position of grid is centered for /work/ollie/bpanthi/NN_kursaal/ssh_gridded_1961_001_08_new.nc\n",
      "We assume pixel position of grid is centered for /work/ollie/bpanthi/NN_kursaal/ssh_gridded_1961_001_09_new.nc\n"
     ]
    },
    {
     "name": "stdout",
     "output_type": "stream",
     "text": [
      "8\n"
     ]
    },
    {
     "name": "stderr",
     "output_type": "stream",
     "text": [
      "We assume pixel position of grid is centered for /work/ollie/bpanthi/NN_kursaal/ssh_gridded_1961_001_09_new.nc\n",
      "We assume pixel position of grid is centered for /work/ollie/bpanthi/NN_kursaal/ssh_gridded_1961_001_09_new.nc\n",
      "We assume pixel position of grid is centered for /work/ollie/bpanthi/NN_kursaal/ssh_gridded_1961_001_09_new.nc\n",
      "We assume pixel position of grid is centered for /work/ollie/bpanthi/NN_kursaal/ssh_gridded_1961_001_09_new.nc\n",
      "We assume pixel position of grid is centered for /work/ollie/bpanthi/NN_kursaal/ssh_gridded_1961_001_09_new.nc\n",
      "We assume pixel position of grid is centered for /work/ollie/bpanthi/NN_kursaal/ssh_gridded_1961_001_09_new.nc\n",
      "We assume pixel position of grid is centered for /work/ollie/bpanthi/NN_kursaal/ssh_gridded_1961_001_09_new.nc\n",
      "We assume pixel position of grid is centered for /work/ollie/bpanthi/NN_kursaal/ssh_gridded_1961_001_09_new.nc\n",
      "We assume pixel position of grid is centered for /work/ollie/bpanthi/NN_kursaal/ssh_gridded_1961_001_09_new.nc\n",
      "We assume pixel position of grid is centered for /work/ollie/bpanthi/NN_kursaal/ssh_gridded_1961_001_09_new.nc\n",
      "We assume pixel position of grid is centered for /work/ollie/bpanthi/NN_kursaal/ssh_gridded_1961_001_09_new.nc\n",
      "We assume pixel position of grid is centered for /work/ollie/bpanthi/NN_kursaal/ssh_gridded_1961_001_09_new.nc\n",
      "We assume pixel position of grid is centered for /work/ollie/bpanthi/NN_kursaal/ssh_gridded_1961_001_09_new.nc\n",
      "We assume pixel position of grid is centered for /work/ollie/bpanthi/NN_kursaal/ssh_gridded_1961_001_09_new.nc\n",
      "We assume pixel position of grid is centered for /work/ollie/bpanthi/NN_kursaal/ssh_gridded_1961_001_09_new.nc\n",
      "We assume pixel position of grid is centered for /work/ollie/bpanthi/NN_kursaal/ssh_gridded_1961_001_09_new.nc\n",
      "We assume pixel position of grid is centered for /work/ollie/bpanthi/NN_kursaal/ssh_gridded_1961_001_09_new.nc\n",
      "We assume pixel position of grid is centered for /work/ollie/bpanthi/NN_kursaal/ssh_gridded_1961_001_09_new.nc\n",
      "We assume pixel position of grid is centered for /work/ollie/bpanthi/NN_kursaal/ssh_gridded_1961_001_09_new.nc\n",
      "We assume pixel position of grid is centered for /work/ollie/bpanthi/NN_kursaal/ssh_gridded_1961_001_09_new.nc\n",
      "We assume pixel position of grid is centered for /work/ollie/bpanthi/NN_kursaal/ssh_gridded_1961_001_09_new.nc\n",
      "We assume pixel position of grid is centered for /work/ollie/bpanthi/NN_kursaal/ssh_gridded_1961_001_09_new.nc\n",
      "We assume pixel position of grid is centered for /work/ollie/bpanthi/NN_kursaal/ssh_gridded_1961_001_09_new.nc\n",
      "We assume pixel position of grid is centered for /work/ollie/bpanthi/NN_kursaal/ssh_gridded_1961_001_09_new.nc\n",
      "We assume pixel position of grid is centered for /work/ollie/bpanthi/NN_kursaal/ssh_gridded_1961_001_09_new.nc\n",
      "We assume pixel position of grid is centered for /work/ollie/bpanthi/NN_kursaal/ssh_gridded_1961_001_09_new.nc\n",
      "We assume pixel position of grid is centered for /work/ollie/bpanthi/NN_kursaal/ssh_gridded_1961_001_09_new.nc\n",
      "We assume pixel position of grid is centered for /work/ollie/bpanthi/NN_kursaal/ssh_gridded_1961_001_09_new.nc\n",
      "We assume pixel position of grid is centered for /work/ollie/bpanthi/NN_kursaal/ssh_gridded_1961_001_09_new.nc\n",
      "We assume pixel position of grid is centered for /work/ollie/bpanthi/NN_kursaal/ssh_gridded_1961_001_10_new.nc\n",
      "We assume pixel position of grid is centered for /work/ollie/bpanthi/NN_kursaal/ssh_gridded_1961_001_10_new.nc\n",
      "We assume pixel position of grid is centered for /work/ollie/bpanthi/NN_kursaal/ssh_gridded_1961_001_10_new.nc\n",
      "We assume pixel position of grid is centered for /work/ollie/bpanthi/NN_kursaal/ssh_gridded_1961_001_10_new.nc\n",
      "We assume pixel position of grid is centered for /work/ollie/bpanthi/NN_kursaal/ssh_gridded_1961_001_10_new.nc\n",
      "We assume pixel position of grid is centered for /work/ollie/bpanthi/NN_kursaal/ssh_gridded_1961_001_10_new.nc\n"
     ]
    },
    {
     "name": "stdout",
     "output_type": "stream",
     "text": [
      "9\n"
     ]
    },
    {
     "name": "stderr",
     "output_type": "stream",
     "text": [
      "We assume pixel position of grid is centered for /work/ollie/bpanthi/NN_kursaal/ssh_gridded_1961_001_10_new.nc\n",
      "We assume pixel position of grid is centered for /work/ollie/bpanthi/NN_kursaal/ssh_gridded_1961_001_10_new.nc\n",
      "We assume pixel position of grid is centered for /work/ollie/bpanthi/NN_kursaal/ssh_gridded_1961_001_10_new.nc\n",
      "We assume pixel position of grid is centered for /work/ollie/bpanthi/NN_kursaal/ssh_gridded_1961_001_10_new.nc\n",
      "We assume pixel position of grid is centered for /work/ollie/bpanthi/NN_kursaal/ssh_gridded_1961_001_10_new.nc\n",
      "We assume pixel position of grid is centered for /work/ollie/bpanthi/NN_kursaal/ssh_gridded_1961_001_10_new.nc\n",
      "We assume pixel position of grid is centered for /work/ollie/bpanthi/NN_kursaal/ssh_gridded_1961_001_10_new.nc\n",
      "We assume pixel position of grid is centered for /work/ollie/bpanthi/NN_kursaal/ssh_gridded_1961_001_10_new.nc\n",
      "We assume pixel position of grid is centered for /work/ollie/bpanthi/NN_kursaal/ssh_gridded_1961_001_10_new.nc\n",
      "We assume pixel position of grid is centered for /work/ollie/bpanthi/NN_kursaal/ssh_gridded_1961_001_10_new.nc\n",
      "We assume pixel position of grid is centered for /work/ollie/bpanthi/NN_kursaal/ssh_gridded_1961_001_10_new.nc\n",
      "We assume pixel position of grid is centered for /work/ollie/bpanthi/NN_kursaal/ssh_gridded_1961_001_10_new.nc\n",
      "We assume pixel position of grid is centered for /work/ollie/bpanthi/NN_kursaal/ssh_gridded_1961_001_10_new.nc\n",
      "We assume pixel position of grid is centered for /work/ollie/bpanthi/NN_kursaal/ssh_gridded_1961_001_10_new.nc\n",
      "We assume pixel position of grid is centered for /work/ollie/bpanthi/NN_kursaal/ssh_gridded_1961_001_10_new.nc\n",
      "We assume pixel position of grid is centered for /work/ollie/bpanthi/NN_kursaal/ssh_gridded_1961_001_10_new.nc\n",
      "We assume pixel position of grid is centered for /work/ollie/bpanthi/NN_kursaal/ssh_gridded_1961_001_10_new.nc\n",
      "We assume pixel position of grid is centered for /work/ollie/bpanthi/NN_kursaal/ssh_gridded_1961_001_10_new.nc\n",
      "We assume pixel position of grid is centered for /work/ollie/bpanthi/NN_kursaal/ssh_gridded_1961_001_10_new.nc\n",
      "We assume pixel position of grid is centered for /work/ollie/bpanthi/NN_kursaal/ssh_gridded_1961_001_10_new.nc\n",
      "We assume pixel position of grid is centered for /work/ollie/bpanthi/NN_kursaal/ssh_gridded_1961_001_10_new.nc\n",
      "We assume pixel position of grid is centered for /work/ollie/bpanthi/NN_kursaal/ssh_gridded_1961_001_10_new.nc\n",
      "We assume pixel position of grid is centered for /work/ollie/bpanthi/NN_kursaal/ssh_gridded_1961_001_10_new.nc\n",
      "We assume pixel position of grid is centered for /work/ollie/bpanthi/NN_kursaal/ssh_gridded_1961_001_10_new.nc\n",
      "We assume pixel position of grid is centered for /work/ollie/bpanthi/NN_kursaal/ssh_gridded_1961_001_10_new.nc\n"
     ]
    },
    {
     "name": "stdout",
     "output_type": "stream",
     "text": [
      "10\n"
     ]
    },
    {
     "name": "stderr",
     "output_type": "stream",
     "text": [
      "We assume pixel position of grid is centered for /work/ollie/bpanthi/NN_kursaal/ssh_gridded_1961_001_11_new.nc\n",
      "We assume pixel position of grid is centered for /work/ollie/bpanthi/NN_kursaal/ssh_gridded_1961_001_11_new.nc\n",
      "We assume pixel position of grid is centered for /work/ollie/bpanthi/NN_kursaal/ssh_gridded_1961_001_11_new.nc\n",
      "We assume pixel position of grid is centered for /work/ollie/bpanthi/NN_kursaal/ssh_gridded_1961_001_11_new.nc\n",
      "We assume pixel position of grid is centered for /work/ollie/bpanthi/NN_kursaal/ssh_gridded_1961_001_11_new.nc\n",
      "We assume pixel position of grid is centered for /work/ollie/bpanthi/NN_kursaal/ssh_gridded_1961_001_11_new.nc\n",
      "We assume pixel position of grid is centered for /work/ollie/bpanthi/NN_kursaal/ssh_gridded_1961_001_11_new.nc\n",
      "We assume pixel position of grid is centered for /work/ollie/bpanthi/NN_kursaal/ssh_gridded_1961_001_11_new.nc\n",
      "We assume pixel position of grid is centered for /work/ollie/bpanthi/NN_kursaal/ssh_gridded_1961_001_11_new.nc\n",
      "We assume pixel position of grid is centered for /work/ollie/bpanthi/NN_kursaal/ssh_gridded_1961_001_11_new.nc\n",
      "We assume pixel position of grid is centered for /work/ollie/bpanthi/NN_kursaal/ssh_gridded_1961_001_11_new.nc\n",
      "We assume pixel position of grid is centered for /work/ollie/bpanthi/NN_kursaal/ssh_gridded_1961_001_11_new.nc\n",
      "We assume pixel position of grid is centered for /work/ollie/bpanthi/NN_kursaal/ssh_gridded_1961_001_11_new.nc\n",
      "We assume pixel position of grid is centered for /work/ollie/bpanthi/NN_kursaal/ssh_gridded_1961_001_11_new.nc\n",
      "We assume pixel position of grid is centered for /work/ollie/bpanthi/NN_kursaal/ssh_gridded_1961_001_11_new.nc\n",
      "We assume pixel position of grid is centered for /work/ollie/bpanthi/NN_kursaal/ssh_gridded_1961_001_11_new.nc\n",
      "We assume pixel position of grid is centered for /work/ollie/bpanthi/NN_kursaal/ssh_gridded_1961_001_11_new.nc\n",
      "We assume pixel position of grid is centered for /work/ollie/bpanthi/NN_kursaal/ssh_gridded_1961_001_11_new.nc\n",
      "We assume pixel position of grid is centered for /work/ollie/bpanthi/NN_kursaal/ssh_gridded_1961_001_11_new.nc\n",
      "We assume pixel position of grid is centered for /work/ollie/bpanthi/NN_kursaal/ssh_gridded_1961_001_11_new.nc\n",
      "We assume pixel position of grid is centered for /work/ollie/bpanthi/NN_kursaal/ssh_gridded_1961_001_11_new.nc\n",
      "We assume pixel position of grid is centered for /work/ollie/bpanthi/NN_kursaal/ssh_gridded_1961_001_11_new.nc\n",
      "We assume pixel position of grid is centered for /work/ollie/bpanthi/NN_kursaal/ssh_gridded_1961_001_11_new.nc\n",
      "We assume pixel position of grid is centered for /work/ollie/bpanthi/NN_kursaal/ssh_gridded_1961_001_11_new.nc\n",
      "We assume pixel position of grid is centered for /work/ollie/bpanthi/NN_kursaal/ssh_gridded_1961_001_11_new.nc\n",
      "We assume pixel position of grid is centered for /work/ollie/bpanthi/NN_kursaal/ssh_gridded_1961_001_11_new.nc\n",
      "We assume pixel position of grid is centered for /work/ollie/bpanthi/NN_kursaal/ssh_gridded_1961_001_11_new.nc\n",
      "We assume pixel position of grid is centered for /work/ollie/bpanthi/NN_kursaal/ssh_gridded_1961_001_11_new.nc\n",
      "We assume pixel position of grid is centered for /work/ollie/bpanthi/NN_kursaal/ssh_gridded_1961_001_11_new.nc\n",
      "We assume pixel position of grid is centered for /work/ollie/bpanthi/NN_kursaal/ssh_gridded_1961_001_11_new.nc\n",
      "We assume pixel position of grid is centered for /work/ollie/bpanthi/NN_kursaal/ssh_gridded_1961_001_12_new.nc\n",
      "We assume pixel position of grid is centered for /work/ollie/bpanthi/NN_kursaal/ssh_gridded_1961_001_12_new.nc\n"
     ]
    },
    {
     "name": "stdout",
     "output_type": "stream",
     "text": [
      "11\n"
     ]
    },
    {
     "name": "stderr",
     "output_type": "stream",
     "text": [
      "We assume pixel position of grid is centered for /work/ollie/bpanthi/NN_kursaal/ssh_gridded_1961_001_12_new.nc\n",
      "We assume pixel position of grid is centered for /work/ollie/bpanthi/NN_kursaal/ssh_gridded_1961_001_12_new.nc\n",
      "We assume pixel position of grid is centered for /work/ollie/bpanthi/NN_kursaal/ssh_gridded_1961_001_12_new.nc\n",
      "We assume pixel position of grid is centered for /work/ollie/bpanthi/NN_kursaal/ssh_gridded_1961_001_12_new.nc\n",
      "We assume pixel position of grid is centered for /work/ollie/bpanthi/NN_kursaal/ssh_gridded_1961_001_12_new.nc\n",
      "We assume pixel position of grid is centered for /work/ollie/bpanthi/NN_kursaal/ssh_gridded_1961_001_12_new.nc\n",
      "We assume pixel position of grid is centered for /work/ollie/bpanthi/NN_kursaal/ssh_gridded_1961_001_12_new.nc\n",
      "We assume pixel position of grid is centered for /work/ollie/bpanthi/NN_kursaal/ssh_gridded_1961_001_12_new.nc\n",
      "We assume pixel position of grid is centered for /work/ollie/bpanthi/NN_kursaal/ssh_gridded_1961_001_12_new.nc\n",
      "We assume pixel position of grid is centered for /work/ollie/bpanthi/NN_kursaal/ssh_gridded_1961_001_12_new.nc\n",
      "We assume pixel position of grid is centered for /work/ollie/bpanthi/NN_kursaal/ssh_gridded_1961_001_12_new.nc\n",
      "We assume pixel position of grid is centered for /work/ollie/bpanthi/NN_kursaal/ssh_gridded_1961_001_12_new.nc\n",
      "We assume pixel position of grid is centered for /work/ollie/bpanthi/NN_kursaal/ssh_gridded_1961_001_12_new.nc\n",
      "We assume pixel position of grid is centered for /work/ollie/bpanthi/NN_kursaal/ssh_gridded_1961_001_12_new.nc\n",
      "We assume pixel position of grid is centered for /work/ollie/bpanthi/NN_kursaal/ssh_gridded_1961_001_12_new.nc\n",
      "We assume pixel position of grid is centered for /work/ollie/bpanthi/NN_kursaal/ssh_gridded_1961_001_12_new.nc\n",
      "We assume pixel position of grid is centered for /work/ollie/bpanthi/NN_kursaal/ssh_gridded_1961_001_12_new.nc\n",
      "We assume pixel position of grid is centered for /work/ollie/bpanthi/NN_kursaal/ssh_gridded_1961_001_12_new.nc\n",
      "We assume pixel position of grid is centered for /work/ollie/bpanthi/NN_kursaal/ssh_gridded_1961_001_12_new.nc\n",
      "We assume pixel position of grid is centered for /work/ollie/bpanthi/NN_kursaal/ssh_gridded_1961_001_12_new.nc\n",
      "We assume pixel position of grid is centered for /work/ollie/bpanthi/NN_kursaal/ssh_gridded_1961_001_12_new.nc\n",
      "We assume pixel position of grid is centered for /work/ollie/bpanthi/NN_kursaal/ssh_gridded_1961_001_12_new.nc\n",
      "We assume pixel position of grid is centered for /work/ollie/bpanthi/NN_kursaal/ssh_gridded_1961_001_12_new.nc\n",
      "We assume pixel position of grid is centered for /work/ollie/bpanthi/NN_kursaal/ssh_gridded_1961_001_12_new.nc\n",
      "We assume pixel position of grid is centered for /work/ollie/bpanthi/NN_kursaal/ssh_gridded_1961_001_12_new.nc\n",
      "We assume pixel position of grid is centered for /work/ollie/bpanthi/NN_kursaal/ssh_gridded_1961_001_12_new.nc\n",
      "We assume pixel position of grid is centered for /work/ollie/bpanthi/NN_kursaal/ssh_gridded_1961_001_12_new.nc\n",
      "We assume pixel position of grid is centered for /work/ollie/bpanthi/NN_kursaal/ssh_gridded_1961_001_12_new.nc\n",
      "We assume pixel position of grid is centered for /work/ollie/bpanthi/NN_kursaal/ssh_gridded_1961_001_12_new.nc\n"
     ]
    },
    {
     "name": "stdout",
     "output_type": "stream",
     "text": [
      "12\n"
     ]
    }
   ],
   "source": [
    "import os\n",
    "#lat = [-60, -20]\n",
    "#lon = [-70, 30]\n",
    "for i in range(1,13):\n",
    "    data_addr_nn = '/work/ollie/bpanthi/NN_kursaal/ssh_gridded_1961_001_'+str(i).zfill(2)+'_new.nc'\n",
    "    ds = xr.open_dataset(data_addr_nn)\n",
    "    lon = [ds[\"LONGITUDE\"].values.min(), ds[\"LONGITUDE\"].values.max()]\n",
    "    lat = [ds[\"LATITUDE\"].values.min(), ds[\"LATITUDE\"].values.max()]\n",
    "    last_day = ds[\"TIME\"].size\n",
    "    days = list(range(1, last_day + 1))\n",
    "    eddy_class = eddy_detection(dataset_path=data_addr_nn, lat=lat, lon=lon)\n",
    "    eddy_class.create_list_dataset(days)\n",
    "    eddy_class.detect_eddies()\n",
    "    masked_3d_array = masking(eddy_class)\n",
    "    \n",
    "    ds_mask = ds.copy(deep = True)\n",
    "    ds_mask[\"seg_mask\"] = (\"TIME\", \"LONGITUDE\", \"LATITUDE\"), masked_3d_array\n",
    "    ds_mask = ds_mask.drop(\"ssh\")\n",
    "\n",
    "    outfile = \"/home/ollie/ssunar/segmentation_masks_NN_kursaal_70_err/segmentation_mask_nn_1961_001_\"+str(i).zfill(2)+\"_new.nc\"\n",
    "    if os.path.isfile(outfile):\n",
    "        os.remove(outfile)\n",
    "    ds_mask.to_netcdf(outfile)\n",
    "    print(i)\n",
    "    "
   ]
  },
  {
   "cell_type": "code",
   "execution_count": 5,
   "metadata": {
    "scrolled": true
   },
   "outputs": [],
   "source": [
    "for m in range(1, 12):\n",
    "    days = list(range(1, 29))\n",
    "    eddy_class_list[m-1].create_list_dataset(days)"
   ]
  },
  {
   "cell_type": "code",
   "execution_count": 10,
   "metadata": {},
   "outputs": [],
   "source": []
  },
  {
   "cell_type": "code",
   "execution_count": 11,
   "metadata": {},
   "outputs": [
    {
     "data": {
      "text/plain": [
       "[1,\n",
       " 2,\n",
       " 3,\n",
       " 4,\n",
       " 5,\n",
       " 6,\n",
       " 7,\n",
       " 8,\n",
       " 9,\n",
       " 10,\n",
       " 11,\n",
       " 12,\n",
       " 13,\n",
       " 14,\n",
       " 15,\n",
       " 16,\n",
       " 17,\n",
       " 18,\n",
       " 19,\n",
       " 20,\n",
       " 21,\n",
       " 22,\n",
       " 23,\n",
       " 24,\n",
       " 25,\n",
       " 26,\n",
       " 27,\n",
       " 28]"
      ]
     },
     "execution_count": 11,
     "metadata": {},
     "output_type": "execute_result"
    }
   ],
   "source": [
    "days"
   ]
  },
  {
   "cell_type": "code",
   "execution_count": null,
   "metadata": {
    "scrolled": true
   },
   "outputs": [
    {
     "name": "stdout",
     "output_type": "stream",
     "text": [
      "1961-01-01 23:00:00\n",
      "1961-01-02 23:00:00\n"
     ]
    },
    {
     "name": "stderr",
     "output_type": "stream",
     "text": [
      "No extrema found in contour of 4 pixels in level 0.026000\n"
     ]
    },
    {
     "name": "stdout",
     "output_type": "stream",
     "text": [
      "1961-01-03 23:00:00\n",
      "1961-01-04 23:00:00\n"
     ]
    },
    {
     "name": "stderr",
     "output_type": "stream",
     "text": [
      "No extrema found in contour of 4 pixels in level 0.212000\n"
     ]
    },
    {
     "name": "stdout",
     "output_type": "stream",
     "text": [
      "1961-01-05 23:00:00\n"
     ]
    },
    {
     "name": "stderr",
     "output_type": "stream",
     "text": [
      "No extrema found in contour of 5 pixels in level -0.216000\n"
     ]
    },
    {
     "name": "stdout",
     "output_type": "stream",
     "text": [
      "1961-01-06 23:00:00\n",
      "1961-01-07 23:00:00\n",
      "1961-01-08 23:00:00\n",
      "1961-01-09 23:00:00\n",
      "1961-01-10 23:00:00\n",
      "1961-01-11 23:00:00\n",
      "1961-01-12 23:00:00\n",
      "1961-01-13 23:00:00\n"
     ]
    },
    {
     "name": "stderr",
     "output_type": "stream",
     "text": [
      "No extrema found in contour of 4 pixels in level 0.170000\n"
     ]
    },
    {
     "name": "stdout",
     "output_type": "stream",
     "text": [
      "1961-01-14 23:00:00\n",
      "1961-01-15 23:00:00\n",
      "1961-01-16 23:00:00\n",
      "1961-01-17 23:00:00\n"
     ]
    },
    {
     "name": "stderr",
     "output_type": "stream",
     "text": [
      "No extrema found in contour of 5 pixels in level 0.002000\n"
     ]
    },
    {
     "name": "stdout",
     "output_type": "stream",
     "text": [
      "1961-01-18 23:00:00\n",
      "1961-01-19 23:00:00\n",
      "1961-01-20 23:00:00\n"
     ]
    },
    {
     "name": "stderr",
     "output_type": "stream",
     "text": [
      "No extrema found in contour of 5 pixels in level 0.002000\n"
     ]
    },
    {
     "name": "stdout",
     "output_type": "stream",
     "text": [
      "1961-01-21 23:00:00\n",
      "1961-01-22 23:00:00\n",
      "1961-01-23 23:00:00\n",
      "1961-01-24 23:00:00\n",
      "1961-01-25 23:00:00\n"
     ]
    },
    {
     "name": "stderr",
     "output_type": "stream",
     "text": [
      "No extrema found in contour of 4 pixels in level -0.034000\n"
     ]
    },
    {
     "name": "stdout",
     "output_type": "stream",
     "text": [
      "1961-01-26 23:00:00\n",
      "1961-01-27 23:00:00\n",
      "1961-01-28 23:00:00\n",
      "1961-01-01 23:00:00\n",
      "1961-01-02 23:00:00\n",
      "1961-01-03 23:00:00\n",
      "1961-01-04 23:00:00\n",
      "1961-01-05 23:00:00\n",
      "1961-01-06 23:00:00\n",
      "1961-01-07 23:00:00\n",
      "1961-01-08 23:00:00\n"
     ]
    },
    {
     "name": "stderr",
     "output_type": "stream",
     "text": [
      "No extrema found in contour of 4 pixels in level -0.168000\n"
     ]
    },
    {
     "name": "stdout",
     "output_type": "stream",
     "text": [
      "1961-01-09 23:00:00\n",
      "1961-01-10 23:00:00\n",
      "1961-01-11 23:00:00\n",
      "1961-01-12 23:00:00\n",
      "1961-01-13 23:00:00\n",
      "1961-01-14 23:00:00\n",
      "1961-01-15 23:00:00\n",
      "1961-01-16 23:00:00\n",
      "1961-01-17 23:00:00\n"
     ]
    },
    {
     "name": "stderr",
     "output_type": "stream",
     "text": [
      "No extrema found in contour of 4 pixels in level -0.092000\n"
     ]
    },
    {
     "name": "stdout",
     "output_type": "stream",
     "text": [
      "1961-01-18 23:00:00\n"
     ]
    },
    {
     "name": "stderr",
     "output_type": "stream",
     "text": [
      "No extrema found in contour of 4 pixels in level -0.316000\n"
     ]
    },
    {
     "name": "stdout",
     "output_type": "stream",
     "text": [
      "1961-01-19 23:00:00\n",
      "1961-01-20 23:00:00\n",
      "1961-01-21 23:00:00\n",
      "1961-01-22 23:00:00\n",
      "1961-01-23 23:00:00\n",
      "1961-01-24 23:00:00\n",
      "1961-01-25 23:00:00\n",
      "1961-01-26 23:00:00\n"
     ]
    },
    {
     "name": "stderr",
     "output_type": "stream",
     "text": [
      "No extrema found in contour of 4 pixels in level -0.020000\n"
     ]
    },
    {
     "name": "stdout",
     "output_type": "stream",
     "text": [
      "1961-01-27 23:00:00\n",
      "1961-01-28 23:00:00\n",
      "1961-01-01 23:00:00\n",
      "1961-01-02 23:00:00\n",
      "1961-01-03 23:00:00\n"
     ]
    },
    {
     "name": "stderr",
     "output_type": "stream",
     "text": [
      "No extrema found in contour of 4 pixels in level -0.020000\n",
      "No extrema found in contour of 7 pixels in level 0.014000\n"
     ]
    },
    {
     "name": "stdout",
     "output_type": "stream",
     "text": [
      "1961-01-04 23:00:00\n"
     ]
    },
    {
     "name": "stderr",
     "output_type": "stream",
     "text": [
      "No extrema found in contour of 4 pixels in level -0.274000\n"
     ]
    },
    {
     "name": "stdout",
     "output_type": "stream",
     "text": [
      "1961-01-05 23:00:00\n",
      "1961-01-06 23:00:00\n",
      "1961-01-07 23:00:00\n",
      "1961-01-08 23:00:00\n"
     ]
    },
    {
     "name": "stderr",
     "output_type": "stream",
     "text": [
      "No extrema found in contour of 4 pixels in level 0.002000\n"
     ]
    },
    {
     "name": "stdout",
     "output_type": "stream",
     "text": [
      "1961-01-09 23:00:00\n",
      "1961-01-10 23:00:00\n",
      "1961-01-11 23:00:00\n",
      "1961-01-12 23:00:00\n"
     ]
    },
    {
     "name": "stderr",
     "output_type": "stream",
     "text": [
      "No extrema found in contour of 4 pixels in level 0.094000\n"
     ]
    },
    {
     "name": "stdout",
     "output_type": "stream",
     "text": [
      "1961-01-13 23:00:00\n",
      "1961-01-14 23:00:00\n"
     ]
    },
    {
     "name": "stderr",
     "output_type": "stream",
     "text": [
      "No extrema found in contour of 4 pixels in level 0.006000\n"
     ]
    },
    {
     "name": "stdout",
     "output_type": "stream",
     "text": [
      "1961-01-15 23:00:00\n",
      "1961-01-16 23:00:00\n",
      "1961-01-17 23:00:00\n",
      "1961-01-18 23:00:00\n"
     ]
    },
    {
     "name": "stderr",
     "output_type": "stream",
     "text": [
      "No extrema found in contour of 4 pixels in level 0.000000\n"
     ]
    },
    {
     "name": "stdout",
     "output_type": "stream",
     "text": [
      "1961-01-19 23:00:00\n",
      "1961-01-20 23:00:00\n",
      "1961-01-21 23:00:00\n"
     ]
    },
    {
     "name": "stderr",
     "output_type": "stream",
     "text": [
      "No extrema found in contour of 4 pixels in level -0.010000\n",
      "No extrema found in contour of 5 pixels in level -0.068000\n"
     ]
    },
    {
     "name": "stdout",
     "output_type": "stream",
     "text": [
      "1961-01-22 23:00:00\n",
      "1961-01-23 23:00:00\n",
      "1961-01-24 23:00:00\n",
      "1961-01-25 23:00:00\n",
      "1961-01-26 23:00:00\n",
      "1961-01-27 23:00:00\n",
      "1961-01-28 23:00:00\n",
      "1961-01-01 23:00:00\n",
      "1961-01-02 23:00:00\n"
     ]
    },
    {
     "name": "stderr",
     "output_type": "stream",
     "text": [
      "No extrema found in contour of 4 pixels in level 0.032000\n"
     ]
    },
    {
     "name": "stdout",
     "output_type": "stream",
     "text": [
      "1961-01-03 23:00:00\n",
      "1961-01-04 23:00:00\n",
      "1961-01-05 23:00:00\n",
      "1961-01-06 23:00:00\n",
      "1961-01-07 23:00:00\n",
      "1961-01-08 23:00:00\n",
      "1961-01-09 23:00:00\n",
      "1961-01-10 23:00:00\n"
     ]
    },
    {
     "name": "stderr",
     "output_type": "stream",
     "text": [
      "No extrema found in contour of 4 pixels in level 0.048000\n"
     ]
    },
    {
     "name": "stdout",
     "output_type": "stream",
     "text": [
      "1961-01-11 23:00:00\n",
      "1961-01-12 23:00:00\n"
     ]
    },
    {
     "name": "stderr",
     "output_type": "stream",
     "text": [
      "No extrema found in contour of 4 pixels in level -0.078000\n"
     ]
    },
    {
     "name": "stdout",
     "output_type": "stream",
     "text": [
      "1961-01-13 23:00:00\n",
      "1961-01-14 23:00:00\n",
      "1961-01-15 23:00:00\n",
      "1961-01-16 23:00:00\n"
     ]
    },
    {
     "name": "stderr",
     "output_type": "stream",
     "text": [
      "No extrema found in contour of 8 pixels in level 0.182000\n",
      "No extrema found in contour of 7 pixels in level 0.184000\n",
      "No extrema found in contour of 7 pixels in level 0.186000\n"
     ]
    },
    {
     "name": "stdout",
     "output_type": "stream",
     "text": [
      "1961-01-17 23:00:00\n"
     ]
    },
    {
     "name": "stderr",
     "output_type": "stream",
     "text": [
      "No extrema found in contour of 4 pixels in level -0.050000\n"
     ]
    },
    {
     "name": "stdout",
     "output_type": "stream",
     "text": [
      "1961-01-18 23:00:00\n",
      "1961-01-19 23:00:00\n",
      "1961-01-20 23:00:00\n",
      "1961-01-21 23:00:00\n",
      "1961-01-22 23:00:00\n"
     ]
    },
    {
     "name": "stderr",
     "output_type": "stream",
     "text": [
      "No extrema found in contour of 5 pixels in level -0.130000\n"
     ]
    },
    {
     "name": "stdout",
     "output_type": "stream",
     "text": [
      "1961-01-23 23:00:00\n"
     ]
    },
    {
     "name": "stderr",
     "output_type": "stream",
     "text": [
      "No extrema found in contour of 4 pixels in level -0.008000\n"
     ]
    },
    {
     "name": "stdout",
     "output_type": "stream",
     "text": [
      "1961-01-24 23:00:00\n",
      "1961-01-25 23:00:00\n",
      "1961-01-26 23:00:00\n",
      "1961-01-27 23:00:00\n"
     ]
    },
    {
     "name": "stderr",
     "output_type": "stream",
     "text": [
      "No extrema found in contour of 4 pixels in level -0.026000\n"
     ]
    },
    {
     "name": "stdout",
     "output_type": "stream",
     "text": [
      "1961-01-28 23:00:00\n"
     ]
    },
    {
     "name": "stderr",
     "output_type": "stream",
     "text": [
      "No extrema found in contour of 5 pixels in level 0.014000\n",
      "No extrema found in contour of 5 pixels in level -0.008000\n"
     ]
    },
    {
     "name": "stdout",
     "output_type": "stream",
     "text": [
      "1961-01-01 23:00:00\n",
      "1961-01-02 23:00:00\n",
      "1961-01-03 23:00:00\n",
      "1961-01-04 23:00:00\n"
     ]
    },
    {
     "name": "stderr",
     "output_type": "stream",
     "text": [
      "No extrema found in contour of 4 pixels in level 0.044000\n"
     ]
    },
    {
     "name": "stdout",
     "output_type": "stream",
     "text": [
      "1961-01-05 23:00:00\n",
      "1961-01-06 23:00:00\n"
     ]
    },
    {
     "name": "stderr",
     "output_type": "stream",
     "text": [
      "No extrema found in contour of 4 pixels in level 0.000000\n"
     ]
    },
    {
     "name": "stdout",
     "output_type": "stream",
     "text": [
      "1961-01-07 23:00:00\n",
      "1961-01-08 23:00:00\n",
      "1961-01-09 23:00:00\n",
      "1961-01-10 23:00:00\n",
      "1961-01-11 23:00:00\n",
      "1961-01-12 23:00:00\n"
     ]
    },
    {
     "name": "stderr",
     "output_type": "stream",
     "text": [
      "No extrema found in contour of 4 pixels in level -0.032000\n"
     ]
    },
    {
     "name": "stdout",
     "output_type": "stream",
     "text": [
      "1961-01-13 23:00:00\n",
      "1961-01-14 23:00:00\n",
      "1961-01-15 23:00:00\n",
      "1961-01-16 23:00:00\n"
     ]
    },
    {
     "name": "stderr",
     "output_type": "stream",
     "text": [
      "No extrema found in contour of 4 pixels in level 0.034000\n"
     ]
    },
    {
     "name": "stdout",
     "output_type": "stream",
     "text": [
      "1961-01-17 23:00:00\n",
      "1961-01-18 23:00:00\n",
      "1961-01-19 23:00:00\n",
      "1961-01-20 23:00:00\n",
      "1961-01-21 23:00:00\n",
      "1961-01-22 23:00:00\n"
     ]
    },
    {
     "name": "stderr",
     "output_type": "stream",
     "text": [
      "No extrema found in contour of 4 pixels in level -0.004000\n"
     ]
    },
    {
     "name": "stdout",
     "output_type": "stream",
     "text": [
      "1961-01-23 23:00:00\n"
     ]
    },
    {
     "name": "stderr",
     "output_type": "stream",
     "text": [
      "No extrema found in contour of 5 pixels in level -0.020000\n"
     ]
    },
    {
     "name": "stdout",
     "output_type": "stream",
     "text": [
      "1961-01-24 23:00:00\n",
      "1961-01-25 23:00:00\n",
      "1961-01-26 23:00:00\n",
      "1961-01-27 23:00:00\n",
      "1961-01-28 23:00:00\n",
      "1961-01-01 23:00:00\n",
      "1961-01-02 23:00:00\n",
      "1961-01-03 23:00:00\n",
      "1961-01-04 23:00:00\n",
      "1961-01-05 23:00:00\n",
      "1961-01-06 23:00:00\n",
      "1961-01-07 23:00:00\n",
      "1961-01-08 23:00:00\n",
      "1961-01-09 23:00:00\n",
      "1961-01-10 23:00:00\n",
      "1961-01-11 23:00:00\n",
      "1961-01-12 23:00:00\n"
     ]
    },
    {
     "name": "stderr",
     "output_type": "stream",
     "text": [
      "No extrema found in contour of 6 pixels in level 0.028000\n"
     ]
    },
    {
     "name": "stdout",
     "output_type": "stream",
     "text": [
      "1961-01-13 23:00:00\n",
      "1961-01-14 23:00:00\n",
      "1961-01-15 23:00:00\n"
     ]
    },
    {
     "name": "stderr",
     "output_type": "stream",
     "text": [
      "No extrema found in contour of 4 pixels in level 0.004000\n",
      "No extrema found in contour of 4 pixels in level -0.088000\n"
     ]
    },
    {
     "name": "stdout",
     "output_type": "stream",
     "text": [
      "1961-01-16 23:00:00\n",
      "1961-01-17 23:00:00\n",
      "1961-01-18 23:00:00\n",
      "1961-01-19 23:00:00\n",
      "1961-01-20 23:00:00\n",
      "1961-01-21 23:00:00\n"
     ]
    },
    {
     "name": "stderr",
     "output_type": "stream",
     "text": [
      "No extrema found in contour of 4 pixels in level -0.002000\n"
     ]
    },
    {
     "name": "stdout",
     "output_type": "stream",
     "text": [
      "1961-01-22 23:00:00\n",
      "1961-01-23 23:00:00\n",
      "1961-01-24 23:00:00\n",
      "1961-01-25 23:00:00\n",
      "1961-01-26 23:00:00\n",
      "1961-01-27 23:00:00\n",
      "1961-01-28 23:00:00\n",
      "1961-01-01 23:00:00\n",
      "1961-01-02 23:00:00\n",
      "1961-01-03 23:00:00\n",
      "1961-01-04 23:00:00\n",
      "1961-01-05 23:00:00\n",
      "1961-01-06 23:00:00\n",
      "1961-01-07 23:00:00\n"
     ]
    },
    {
     "name": "stderr",
     "output_type": "stream",
     "text": [
      "No extrema found in contour of 4 pixels in level 0.170000\n"
     ]
    },
    {
     "name": "stdout",
     "output_type": "stream",
     "text": [
      "1961-01-08 23:00:00\n"
     ]
    },
    {
     "name": "stderr",
     "output_type": "stream",
     "text": [
      "No extrema found in contour of 5 pixels in level 0.066000\n",
      "No extrema found in contour of 4 pixels in level -0.016000\n"
     ]
    },
    {
     "name": "stdout",
     "output_type": "stream",
     "text": [
      "1961-01-09 23:00:00\n",
      "1961-01-10 23:00:00\n"
     ]
    },
    {
     "name": "stderr",
     "output_type": "stream",
     "text": [
      "No extrema found in contour of 4 pixels in level -0.356000\n"
     ]
    },
    {
     "name": "stdout",
     "output_type": "stream",
     "text": [
      "1961-01-11 23:00:00\n",
      "1961-01-12 23:00:00\n",
      "1961-01-13 23:00:00\n",
      "1961-01-14 23:00:00\n",
      "1961-01-15 23:00:00\n",
      "1961-01-16 23:00:00\n",
      "1961-01-17 23:00:00\n",
      "1961-01-18 23:00:00\n",
      "1961-01-19 23:00:00\n",
      "1961-01-20 23:00:00\n",
      "1961-01-21 23:00:00\n",
      "1961-01-22 23:00:00\n",
      "1961-01-23 23:00:00\n",
      "1961-01-24 23:00:00\n",
      "1961-01-25 23:00:00\n",
      "1961-01-26 23:00:00\n"
     ]
    },
    {
     "name": "stderr",
     "output_type": "stream",
     "text": [
      "No extrema found in contour of 6 pixels in level 0.014000\n"
     ]
    },
    {
     "name": "stdout",
     "output_type": "stream",
     "text": [
      "1961-01-27 23:00:00\n",
      "1961-01-28 23:00:00\n"
     ]
    },
    {
     "name": "stderr",
     "output_type": "stream",
     "text": [
      "No extrema found in contour of 6 pixels in level -0.058000\n"
     ]
    },
    {
     "name": "stdout",
     "output_type": "stream",
     "text": [
      "1961-01-01 23:00:00\n"
     ]
    },
    {
     "name": "stderr",
     "output_type": "stream",
     "text": [
      "No extrema found in contour of 4 pixels in level -0.046000\n",
      "No extrema found in contour of 4 pixels in level -0.072000\n",
      "No extrema found in contour of 5 pixels in level -0.296000\n"
     ]
    },
    {
     "name": "stdout",
     "output_type": "stream",
     "text": [
      "1961-01-02 23:00:00\n"
     ]
    },
    {
     "name": "stderr",
     "output_type": "stream",
     "text": [
      "No extrema found in contour of 4 pixels in level -0.056000\n"
     ]
    },
    {
     "name": "stdout",
     "output_type": "stream",
     "text": [
      "1961-01-03 23:00:00\n",
      "1961-01-04 23:00:00\n",
      "1961-01-05 23:00:00\n"
     ]
    },
    {
     "name": "stderr",
     "output_type": "stream",
     "text": [
      "No extrema found in contour of 4 pixels in level -0.038000\n"
     ]
    },
    {
     "name": "stdout",
     "output_type": "stream",
     "text": [
      "1961-01-06 23:00:00\n"
     ]
    },
    {
     "name": "stderr",
     "output_type": "stream",
     "text": [
      "No extrema found in contour of 4 pixels in level -0.038000\n"
     ]
    },
    {
     "name": "stdout",
     "output_type": "stream",
     "text": [
      "1961-01-07 23:00:00\n"
     ]
    },
    {
     "name": "stderr",
     "output_type": "stream",
     "text": [
      "No extrema found in contour of 4 pixels in level -0.008000\n"
     ]
    },
    {
     "name": "stdout",
     "output_type": "stream",
     "text": [
      "1961-01-08 23:00:00\n",
      "1961-01-09 23:00:00\n",
      "1961-01-10 23:00:00\n"
     ]
    },
    {
     "name": "stderr",
     "output_type": "stream",
     "text": [
      "No extrema found in contour of 4 pixels in level -0.012000\n"
     ]
    },
    {
     "name": "stdout",
     "output_type": "stream",
     "text": [
      "1961-01-11 23:00:00\n",
      "1961-01-12 23:00:00\n"
     ]
    },
    {
     "name": "stderr",
     "output_type": "stream",
     "text": [
      "No extrema found in contour of 4 pixels in level 0.230000\n"
     ]
    },
    {
     "name": "stdout",
     "output_type": "stream",
     "text": [
      "1961-01-13 23:00:00\n"
     ]
    },
    {
     "name": "stderr",
     "output_type": "stream",
     "text": [
      "No extrema found in contour of 4 pixels in level 0.158000\n"
     ]
    },
    {
     "name": "stdout",
     "output_type": "stream",
     "text": [
      "1961-01-14 23:00:00\n",
      "1961-01-15 23:00:00\n",
      "1961-01-16 23:00:00\n",
      "1961-01-17 23:00:00\n",
      "1961-01-18 23:00:00\n",
      "1961-01-19 23:00:00\n",
      "1961-01-20 23:00:00\n",
      "1961-01-21 23:00:00\n",
      "1961-01-22 23:00:00\n",
      "1961-01-23 23:00:00\n"
     ]
    },
    {
     "name": "stderr",
     "output_type": "stream",
     "text": [
      "No extrema found in contour of 4 pixels in level 0.008000\n"
     ]
    },
    {
     "name": "stdout",
     "output_type": "stream",
     "text": [
      "1961-01-24 23:00:00\n",
      "1961-01-25 23:00:00\n",
      "1961-01-26 23:00:00\n"
     ]
    },
    {
     "name": "stderr",
     "output_type": "stream",
     "text": [
      "No extrema found in contour of 5 pixels in level 0.012000\n"
     ]
    },
    {
     "name": "stdout",
     "output_type": "stream",
     "text": [
      "1961-01-27 23:00:00\n",
      "1961-01-28 23:00:00\n",
      "1961-01-01 23:00:00\n",
      "1961-01-02 23:00:00\n",
      "1961-01-03 23:00:00\n"
     ]
    },
    {
     "name": "stderr",
     "output_type": "stream",
     "text": [
      "No extrema found in contour of 5 pixels in level 0.012000\n"
     ]
    },
    {
     "name": "stdout",
     "output_type": "stream",
     "text": [
      "1961-01-04 23:00:00\n",
      "1961-01-05 23:00:00\n",
      "1961-01-06 23:00:00\n"
     ]
    },
    {
     "name": "stderr",
     "output_type": "stream",
     "text": [
      "No extrema found in contour of 4 pixels in level 0.000000\n"
     ]
    },
    {
     "name": "stdout",
     "output_type": "stream",
     "text": [
      "1961-01-07 23:00:00\n"
     ]
    },
    {
     "name": "stderr",
     "output_type": "stream",
     "text": [
      "No extrema found in contour of 5 pixels in level 0.094000\n"
     ]
    },
    {
     "name": "stdout",
     "output_type": "stream",
     "text": [
      "1961-01-08 23:00:00\n",
      "1961-01-09 23:00:00\n",
      "1961-01-10 23:00:00\n",
      "1961-01-11 23:00:00\n",
      "1961-01-12 23:00:00\n",
      "1961-01-13 23:00:00\n",
      "1961-01-14 23:00:00\n"
     ]
    },
    {
     "name": "stderr",
     "output_type": "stream",
     "text": [
      "No extrema found in contour of 4 pixels in level 0.060000\n"
     ]
    },
    {
     "name": "stdout",
     "output_type": "stream",
     "text": [
      "1961-01-15 23:00:00\n",
      "1961-01-16 23:00:00\n"
     ]
    },
    {
     "name": "stderr",
     "output_type": "stream",
     "text": [
      "No extrema found in contour of 4 pixels in level -0.010000\n"
     ]
    },
    {
     "name": "stdout",
     "output_type": "stream",
     "text": [
      "1961-01-17 23:00:00\n",
      "1961-01-18 23:00:00\n"
     ]
    },
    {
     "name": "stderr",
     "output_type": "stream",
     "text": [
      "No extrema found in contour of 4 pixels in level -0.024000\n"
     ]
    },
    {
     "name": "stdout",
     "output_type": "stream",
     "text": [
      "1961-01-19 23:00:00\n"
     ]
    },
    {
     "name": "stderr",
     "output_type": "stream",
     "text": [
      "No extrema found in contour of 4 pixels in level 0.046000\n"
     ]
    },
    {
     "name": "stdout",
     "output_type": "stream",
     "text": [
      "1961-01-20 23:00:00\n"
     ]
    },
    {
     "name": "stderr",
     "output_type": "stream",
     "text": [
      "No extrema found in contour of 6 pixels in level 0.000000\n",
      "No extrema found in contour of 4 pixels in level -0.174000\n"
     ]
    },
    {
     "name": "stdout",
     "output_type": "stream",
     "text": [
      "1961-01-21 23:00:00\n",
      "1961-01-22 23:00:00\n",
      "1961-01-23 23:00:00\n"
     ]
    },
    {
     "name": "stderr",
     "output_type": "stream",
     "text": [
      "No extrema found in contour of 4 pixels in level -0.036000\n"
     ]
    },
    {
     "name": "stdout",
     "output_type": "stream",
     "text": [
      "1961-01-24 23:00:00\n",
      "1961-01-25 23:00:00\n",
      "1961-01-26 23:00:00\n"
     ]
    },
    {
     "name": "stderr",
     "output_type": "stream",
     "text": [
      "No extrema found in contour of 4 pixels in level 0.012000\n"
     ]
    },
    {
     "name": "stdout",
     "output_type": "stream",
     "text": [
      "1961-01-27 23:00:00\n",
      "1961-01-28 23:00:00\n"
     ]
    },
    {
     "name": "stderr",
     "output_type": "stream",
     "text": [
      "No extrema found in contour of 4 pixels in level 0.014000\n"
     ]
    },
    {
     "name": "stdout",
     "output_type": "stream",
     "text": [
      "1961-01-01 23:00:00\n"
     ]
    },
    {
     "name": "stderr",
     "output_type": "stream",
     "text": [
      "No extrema found in contour of 4 pixels in level 0.058000\n"
     ]
    },
    {
     "name": "stdout",
     "output_type": "stream",
     "text": [
      "1961-01-02 23:00:00\n",
      "1961-01-03 23:00:00\n",
      "1961-01-04 23:00:00\n",
      "1961-01-05 23:00:00\n",
      "1961-01-06 23:00:00\n"
     ]
    },
    {
     "name": "stderr",
     "output_type": "stream",
     "text": [
      "No extrema found in contour of 4 pixels in level -0.318000\n"
     ]
    },
    {
     "name": "stdout",
     "output_type": "stream",
     "text": [
      "1961-01-07 23:00:00\n",
      "1961-01-08 23:00:00\n",
      "1961-01-09 23:00:00\n",
      "1961-01-10 23:00:00\n",
      "1961-01-11 23:00:00\n",
      "1961-01-12 23:00:00\n",
      "1961-01-13 23:00:00\n",
      "1961-01-14 23:00:00\n"
     ]
    },
    {
     "name": "stderr",
     "output_type": "stream",
     "text": [
      "No extrema found in contour of 4 pixels in level -0.038000\n"
     ]
    },
    {
     "name": "stdout",
     "output_type": "stream",
     "text": [
      "1961-01-15 23:00:00\n"
     ]
    },
    {
     "name": "stderr",
     "output_type": "stream",
     "text": [
      "No extrema found in contour of 4 pixels in level -0.184000\n"
     ]
    },
    {
     "name": "stdout",
     "output_type": "stream",
     "text": [
      "1961-01-16 23:00:00\n",
      "1961-01-17 23:00:00\n"
     ]
    },
    {
     "name": "stderr",
     "output_type": "stream",
     "text": [
      "No extrema found in contour of 5 pixels in level 0.002000\n"
     ]
    },
    {
     "name": "stdout",
     "output_type": "stream",
     "text": [
      "1961-01-18 23:00:00\n"
     ]
    },
    {
     "name": "stderr",
     "output_type": "stream",
     "text": [
      "No extrema found in contour of 4 pixels in level 0.184000\n",
      "No extrema found in contour of 5 pixels in level -0.012000\n"
     ]
    },
    {
     "name": "stdout",
     "output_type": "stream",
     "text": [
      "1961-01-19 23:00:00\n"
     ]
    },
    {
     "name": "stderr",
     "output_type": "stream",
     "text": [
      "No extrema found in contour of 4 pixels in level -0.002000\n"
     ]
    },
    {
     "name": "stdout",
     "output_type": "stream",
     "text": [
      "1961-01-20 23:00:00\n",
      "1961-01-21 23:00:00\n"
     ]
    },
    {
     "name": "stderr",
     "output_type": "stream",
     "text": [
      "No extrema found in contour of 4 pixels in level 0.062000\n"
     ]
    },
    {
     "name": "stdout",
     "output_type": "stream",
     "text": [
      "1961-01-22 23:00:00\n",
      "1961-01-23 23:00:00\n",
      "1961-01-24 23:00:00\n",
      "1961-01-25 23:00:00\n"
     ]
    },
    {
     "name": "stderr",
     "output_type": "stream",
     "text": [
      "No extrema found in contour of 5 pixels in level 0.006000\n"
     ]
    },
    {
     "name": "stdout",
     "output_type": "stream",
     "text": [
      "1961-01-26 23:00:00\n"
     ]
    },
    {
     "name": "stderr",
     "output_type": "stream",
     "text": [
      "No extrema found in contour of 5 pixels in level 0.006000\n"
     ]
    },
    {
     "name": "stdout",
     "output_type": "stream",
     "text": [
      "1961-01-27 23:00:00\n"
     ]
    }
   ],
   "source": [
    "for m in range(1, 12):\n",
    "    eddy_class_list[m-1].detect_eddies()"
   ]
  },
  {
   "cell_type": "code",
   "execution_count": 36,
   "metadata": {},
   "outputs": [
    {
     "name": "stdout",
     "output_type": "stream",
     "text": [
      "[-70.       -69.916664 -69.833336 ...  29.75      29.833334  29.916666]\n"
     ]
    }
   ],
   "source": [
    "'''\n",
    "day = 0\n",
    "eddy_class = eddy_linear\n",
    "g = eddy_class.grid_list[day]\n",
    "a = eddy_class.anticyclonic_list[day]\n",
    "c = eddy_class.cyclonic_list[day]\n",
    "ssh = g.grid(\"ssh\")\n",
    "print(g.vars[\"LONGITUDE\"])\n",
    "'''\n"
   ]
  },
  {
   "cell_type": "code",
   "execution_count": 37,
   "metadata": {},
   "outputs": [
    {
     "name": "stdout",
     "output_type": "stream",
     "text": [
      "[290.         290.08333588 290.16666412 ...  29.75        29.83333397\n",
      "  29.91666603]\n",
      "[[295.66666  -56.835236]\n",
      " [295.7035   -56.838856]\n",
      " [295.7477   -56.8432  ]\n",
      " [295.75516  -56.843388]\n",
      " [295.83002  -56.8428  ]\n",
      " [295.83746  -56.842438]\n",
      " [295.89667  -56.837547]\n",
      " [295.91147  -56.836327]\n",
      " [295.91882  -56.835564]\n",
      " [295.93323  -56.83334 ]\n",
      " [295.93927  -56.830925]\n",
      " [295.95734  -56.823643]\n",
      " [295.9995   -56.806656]\n",
      " [296.00546  -56.804176]\n",
      " [296.02924  -56.794235]\n",
      " [296.0827   -56.77187 ]\n",
      " [296.08887  -56.76957 ]\n",
      " [296.13852  -56.75133 ]\n",
      " [296.14038  -56.748592]\n",
      " [296.0982   -56.714806]\n",
      " [296.08557  -56.704674]\n",
      " [296.08188  -56.70113 ]\n",
      " [296.0539   -56.667633]\n",
      " [296.0481   -56.6654  ]\n",
      " [296.0007   -56.653435]\n",
      " [295.99356  -56.652306]\n",
      " [295.92163  -56.641663]\n",
      " [295.91437  -56.64107 ]\n",
      " [295.90698  -56.64154 ]\n",
      " [295.8404   -56.64576 ]\n",
      " [295.833    -56.646267]\n",
      " [295.75574  -56.66121 ]\n",
      " [295.74884  -56.662724]\n",
      " [295.74255  -56.664917]\n",
      " [295.73654  -56.667297]\n",
      " [295.72192  -56.6766  ]\n",
      " [295.70734  -56.685905]\n",
      " [295.6976   -56.692112]\n",
      " [295.683    -56.701416]\n",
      " [295.6684   -56.71072 ]\n",
      " [295.6634   -56.713753]\n",
      " [295.64304  -56.72573 ]\n",
      " [295.6023   -56.74968 ]\n",
      " [295.6041   -56.753426]\n",
      " [295.6198   -56.776436]\n",
      " [295.62244  -56.78027 ]\n",
      " [295.65387  -56.826286]\n",
      " [295.6565   -56.83012 ]\n",
      " [295.6598   -56.8336  ]\n",
      " [295.66666  -56.835236]]\n",
      "351\n"
     ]
    }
   ],
   "source": [
    "'''\n",
    "mask_a = np.zeros(ssh.shape, dtype=\"bool\")\n",
    "x_a_name, y_a_name = a.intern(False)\n",
    "mask_c = np.zeros(ssh.shape, dtype=\"bool\")\n",
    "x_c_name, y_c_name = c.intern(False)\n",
    "lon = g.x_c\n",
    "lon[lon<0] +=360\n",
    "g.x_c =lon\n",
    "print(g.x_c)\n",
    "counter = 0\n",
    "for eddy in a:\n",
    "    counter += 1\n",
    "    i, j = Path(create_vertice(eddy[x_a_name], eddy[y_a_name])).pixels_in(g)\n",
    "    if counter ==1 :\n",
    "        print(create_vertice(eddy[x_a_name], eddy[y_a_name]))\n",
    "    mask_a[i, j] = True\n",
    "print(counter)\n",
    "    \n",
    "for eddy in c:\n",
    "    i, j = Path(create_vertice(eddy[x_c_name], eddy[y_c_name])).pixels_in(g)\n",
    "    mask_c[i, j] = True\n",
    "\n",
    "ssh.mask = ~mask_c\n",
    "'''"
   ]
  },
  {
   "cell_type": "code",
   "execution_count": 13,
   "metadata": {},
   "outputs": [],
   "source": [
    "eddy_list = [eddy for eddy in a]"
   ]
  },
  {
   "cell_type": "code",
   "execution_count": 14,
   "metadata": {},
   "outputs": [
    {
     "data": {
      "text/plain": [
       "(-56.74466697, 295.84665904, 3.672538e+08, 13146.685, 5, 4018.95833333, -0.126, 25.06, [-56.834557, -56.834084, -56.83399 , -56.833515, -56.83341 , -56.832073, -56.82338 , -56.82193 , -56.81613 , -56.81461 , -56.80538 , -56.80077 , -56.782314, -56.780006, -56.77758 , -56.750908, -56.74783 , -56.73396 , -56.69234 , -56.67153 , -56.668163, -56.66609 , -56.659637, -56.657486, -56.65426 , -56.653866, -56.65508 , -56.65599 , -56.657204, -56.657887, -56.66386 , -56.66625 , -56.668064, -56.67666 , -56.678825, -56.704052, -56.706852, -56.72647 , -56.72927 , -56.737625, -56.748764, -56.751976, -56.79106 , -56.801723, -56.804222, -56.809006, -56.82097 , -56.83293 , -56.83389 , -56.834557], 17, [295.75   , 295.7848 , 295.79175, 295.82654, 295.8335 , 295.84   , 295.8786 , 295.88504, 295.91077, 295.91714, 295.93927, 295.95035, 295.9946 , 296.00012, 296.0055 , 296.06442, 296.06464, 296.05316, 296.0188 , 296.0016 , 295.99838, 295.99313, 295.95325, 295.93997, 295.92   , 295.91324, 295.88562, 295.8649 , 295.83728, 295.8305 , 295.7976 , 295.78445, 295.77844, 295.75555, 295.74985, 295.70758, 295.70288, 295.67004, 295.6653 , 295.65112, 295.63217, 295.63147, 295.65894, 295.66644, 295.67157, 295.6824 , 295.70947, 295.73654, 295.74316, 295.75   ], 0.20460843, [-56.835236, -56.838856, -56.8432  , -56.843388, -56.8428  , -56.842438, -56.837547, -56.836327, -56.835564, -56.83334 , -56.830925, -56.823643, -56.806656, -56.804176, -56.794235, -56.77187 , -56.76957 , -56.75133 , -56.748592, -56.714806, -56.704674, -56.70113 , -56.667633, -56.6654  , -56.653435, -56.652306, -56.641663, -56.64107 , -56.64154 , -56.64576 , -56.646267, -56.66121 , -56.662724, -56.664917, -56.667297, -56.6766  , -56.685905, -56.692112, -56.701416, -56.71072 , -56.713753, -56.72573 , -56.74968 , -56.753426, -56.776436, -56.78027 , -56.826286, -56.83012 , -56.8336  , -56.835236], 22.73, 19, -0.118, -56.75085493, [0.20252104, 0.20269145, 0.20286185, 0.20303224, 0.20320264, 0.20337304, 0.20354344, 0.20371383, 0.20388423, 0.20405462, 0.20422503, 0.20439543, 0.20456582, 0.20450276, 0.20436186, 0.20422097, 0.20408008, 0.20393917, 0.20379828, 0.20365739, 0.2035165 , 0.2033756 , 0.2032347 , 0.20309381, 0.20295292, 0.20303667, 0.20334505, 0.20365344, 0.20396182, 0.20427021, 0.2045786 , 0.20488699, 0.20519537, 0.20550376, 0.20581214, 0.20612054, 0.20642892, 0.20663857, 0.20655206, 0.20646554, 0.20637903, 0.20629251, 0.20620601, 0.2061195 , 0.20603298, 0.20594646, 0.20585994, 0.20577343, 0.20568691, 0.2056004 ], 5.1399923e+08, 295.80801908, [295.66666, 295.7035 , 295.7477 , 295.75516, 295.83002, 295.83746, 295.89667, 295.91147, 295.91882, 295.93323, 295.93927, 295.95734, 295.9995 , 296.00546, 296.02924, 296.0827 , 296.08887, 296.13852, 296.14038, 296.0982 , 296.08557, 296.08188, 296.0539 , 296.0481 , 296.0007 , 295.99356, 295.92163, 295.91437, 295.90698, 295.8404 , 295.833  , 295.75574, 295.74884, 295.74255, 295.73654, 295.72192, 295.70734, 295.6976 , 295.683  , 295.6684 , 295.6634 , 295.64304, 295.6023 , 295.6041 , 295.6198 , 295.62244, 295.65387, 295.6565 , 295.6598 , 295.66666], 0.0086068, 11023.373, -0.124)"
      ]
     },
     "execution_count": 14,
     "metadata": {},
     "output_type": "execute_result"
    }
   ],
   "source": [
    "eddy_list[0]"
   ]
  },
  {
   "cell_type": "code",
   "execution_count": null,
   "metadata": {},
   "outputs": [],
   "source": [
    "np.savetxt(\"./segmentation_masks/linear_masked_anticyclonic_\"+str(day)+\".txt\", mask_a)\n",
    "np.savetxt(\"./segmentation_masks/linear_masked_cyclonic_\"+str(day)+\".txt\", mask_c)"
   ]
  },
  {
   "cell_type": "code",
   "execution_count": null,
   "metadata": {},
   "outputs": [],
   "source": []
  },
  {
   "cell_type": "code",
   "execution_count": 43,
   "metadata": {
    "scrolled": true
   },
   "outputs": [
    {
     "name": "stderr",
     "output_type": "stream",
     "text": [
      "We assume pixel position of grid is centered for /work/ollie/bpanthi/nn_interpolation_new/ssh_gridded_1961_001_01_new.nc\n",
      "We assume pixel position of grid is centered for /work/ollie/bpanthi/nn_interpolation_new/ssh_gridded_1961_001_01_new.nc\n",
      "We assume pixel position of grid is centered for /work/ollie/bpanthi/nn_interpolation_new/ssh_gridded_1961_001_01_new.nc\n",
      "We assume pixel position of grid is centered for /work/ollie/bpanthi/nn_interpolation_new/ssh_gridded_1961_001_01_new.nc\n",
      "We assume pixel position of grid is centered for /work/ollie/bpanthi/nn_interpolation_new/ssh_gridded_1961_001_01_new.nc\n",
      "We assume pixel position of grid is centered for /work/ollie/bpanthi/nn_interpolation_new/ssh_gridded_1961_001_01_new.nc\n",
      "We assume pixel position of grid is centered for /work/ollie/bpanthi/nn_interpolation_new/ssh_gridded_1961_001_01_new.nc\n",
      "We assume pixel position of grid is centered for /work/ollie/bpanthi/nn_interpolation_new/ssh_gridded_1961_001_01_new.nc\n",
      "We assume pixel position of grid is centered for /work/ollie/bpanthi/nn_interpolation_new/ssh_gridded_1961_001_01_new.nc\n",
      "We assume pixel position of grid is centered for /work/ollie/bpanthi/nn_interpolation_new/ssh_gridded_1961_001_01_new.nc\n",
      "We assume pixel position of grid is centered for /work/ollie/bpanthi/nn_interpolation_new/ssh_gridded_1961_001_01_new.nc\n",
      "We assume pixel position of grid is centered for /work/ollie/bpanthi/nn_interpolation_new/ssh_gridded_1961_001_01_new.nc\n",
      "We assume pixel position of grid is centered for /work/ollie/bpanthi/nn_interpolation_new/ssh_gridded_1961_001_01_new.nc\n",
      "We assume pixel position of grid is centered for /work/ollie/bpanthi/nn_interpolation_new/ssh_gridded_1961_001_01_new.nc\n",
      "We assume pixel position of grid is centered for /work/ollie/bpanthi/nn_interpolation_new/ssh_gridded_1961_001_01_new.nc\n",
      "We assume pixel position of grid is centered for /work/ollie/bpanthi/nn_interpolation_new/ssh_gridded_1961_001_01_new.nc\n",
      "We assume pixel position of grid is centered for /work/ollie/bpanthi/nn_interpolation_new/ssh_gridded_1961_001_01_new.nc\n",
      "We assume pixel position of grid is centered for /work/ollie/bpanthi/nn_interpolation_new/ssh_gridded_1961_001_01_new.nc\n",
      "We assume pixel position of grid is centered for /work/ollie/bpanthi/nn_interpolation_new/ssh_gridded_1961_001_01_new.nc\n",
      "We assume pixel position of grid is centered for /work/ollie/bpanthi/nn_interpolation_new/ssh_gridded_1961_001_01_new.nc\n",
      "We assume pixel position of grid is centered for /work/ollie/bpanthi/nn_interpolation_new/ssh_gridded_1961_001_01_new.nc\n",
      "We assume pixel position of grid is centered for /work/ollie/bpanthi/nn_interpolation_new/ssh_gridded_1961_001_01_new.nc\n",
      "We assume pixel position of grid is centered for /work/ollie/bpanthi/nn_interpolation_new/ssh_gridded_1961_001_01_new.nc\n",
      "We assume pixel position of grid is centered for /work/ollie/bpanthi/nn_interpolation_new/ssh_gridded_1961_001_01_new.nc\n",
      "We assume pixel position of grid is centered for /work/ollie/bpanthi/nn_interpolation_new/ssh_gridded_1961_001_01_new.nc\n",
      "We assume pixel position of grid is centered for /work/ollie/bpanthi/nn_interpolation_new/ssh_gridded_1961_001_01_new.nc\n",
      "We assume pixel position of grid is centered for /work/ollie/bpanthi/nn_interpolation_new/ssh_gridded_1961_001_01_new.nc\n",
      "We assume pixel position of grid is centered for /work/ollie/bpanthi/nn_interpolation_new/ssh_gridded_1961_001_01_new.nc\n",
      "We assume pixel position of grid is centered for /work/ollie/bpanthi/nn_interpolation_new/ssh_gridded_1961_001_01_new.nc\n",
      "We assume pixel position of grid is centered for /work/ollie/bpanthi/nn_interpolation_new/ssh_gridded_1961_001_01_new.nc\n",
      "We assume pixel position of grid is centered for /work/ollie/bpanthi/nn_interpolation_new/ssh_gridded_1961_001_01_new.nc\n"
     ]
    },
    {
     "name": "stdout",
     "output_type": "stream",
     "text": [
      "1\n",
      "1\n"
     ]
    },
    {
     "data": {
      "image/png": "[encoded data removed]",
      "text/plain": [
       "<Figure size 936x360 with 1 Axes>"
      ]
     },
     "metadata": {
      "needs_background": "light"
     },
     "output_type": "display_data"
    }
   ],
   "source": [
    "i = 1\n",
    "lat = [-60, -20]\n",
    "lon = [-70, 30]\n",
    "data_addr_nn = '/work/ollie/bpanthi/nn_interpolation_new/ssh_gridded_1961_001_'+str(i).zfill(2)+'_new.nc'\n",
    "ds = xr.open_dataset(data_addr_nn)\n",
    "last_day = ds[\"TIME\"].size\n",
    "days = list(range(1, 2))\n",
    "\n",
    "eddy_class = eddy_detection(dataset_path=data_addr_nn, lat=lat, lon=lon)\n",
    "\n",
    "eddy_class.create_list_dataset(days)\n",
    "print(i)\n",
    "eddy_class.detect_eddies(30)\n",
    "print(i)\n",
    "eddy_class.plot_detected_eddies(days)\n",
    "#masked_3d_array = masking(eddy_class)\n"
   ]
  },
  {
   "cell_type": "code",
   "execution_count": 41,
   "metadata": {},
   "outputs": [
    {
     "data": {
      "image/png": "[encoded data removed]",
      "text/plain": [
       "<Figure size 936x360 with 1 Axes>"
      ]
     },
     "metadata": {
      "needs_background": "light"
     },
     "output_type": "display_data"
    }
   ],
   "source": [
    "eddy_class.detect_eddies(50)\n",
    "eddy_class.plot_detected_eddies(days)"
   ]
  },
  {
   "cell_type": "code",
   "execution_count": 39,
   "metadata": {
    "scrolled": true
   },
   "outputs": [
    {
     "data": {
      "text/plain": [
       "<matplotlib.colorbar.Colorbar at 0x2aac22c8ffd0>"
      ]
     },
     "execution_count": 39,
     "metadata": {},
     "output_type": "execute_result"
    },
    {
     "data": {
      "image/png": "[encoded data removed]",
      "text/plain": [
       "<Figure size 720x720 with 2 Axes>"
      ]
     },
     "metadata": {
      "needs_background": "light"
     },
     "output_type": "display_data"
    }
   ],
   "source": [
    "plt.figure(figsize=(10,10))\n",
    "plt.imshow(np.flipud((-1 * mask_a.T)+mask_c.T), cmap=cm.seismic, vmin=-1, vmax=1)\n",
    "plt.colorbar(orientation='horizontal', pad=0.04)"
   ]
  },
  {
   "cell_type": "code",
   "execution_count": 40,
   "metadata": {},
   "outputs": [
    {
     "name": "stdout",
     "output_type": "stream",
     "text": [
      "0\n"
     ]
    }
   ],
   "source": [
    "counter = 0\n",
    "for i in (-10 * mask_a.T+mask_c.T).flatten():\n",
    "    if i == -9:\n",
    "        counter +=1\n",
    "print(counter)"
   ]
  },
  {
   "cell_type": "code",
   "execution_count": 24,
   "metadata": {},
   "outputs": [],
   "source": [
    "def generate_pixel_eddy(eddy_class, day):\n",
    "    g = eddy_class.grid_list[day-1]\n",
    "    a = eddy_class.anticyclonic_list[day-1]\n",
    "    c = eddy_class.cyclonic_list[day-1]\n",
    "    ssh = g.grid(\"ssh\")\n",
    "    mask_a = np.zeros(ssh.shape, dtype=\"bool\")\n",
    "    x_a_name, y_a_name = a.intern(False)\n",
    "    mask_c = np.zeros(ssh.shape, dtype=\"bool\")\n",
    "    x_c_name, y_c_name = c.intern(False)\n",
    "    lon = g.x_c\n",
    "    lon[lon<0] +=360\n",
    "    g.x_c =lon\n",
    "    for eddy in a:\n",
    "        i, j = Path(create_vertice(eddy[x_a_name], eddy[y_a_name])).pixels_in(g)\n",
    "        mask_a[i, j] = True\n",
    "\n",
    "    for eddy in c:\n",
    "        i, j = Path(create_vertice(eddy[x_c_name], eddy[y_c_name])).pixels_in(g)\n",
    "        mask_c[i, j] = True\n",
    "    return mask_a, mask_c\n"
   ]
  },
  {
   "cell_type": "code",
   "execution_count": 84,
   "metadata": {},
   "outputs": [],
   "source": [
    "def masking(eddy_class):\n",
    "    masked_anticylonic = []\n",
    "    masked_cyclonic = []\n",
    "    masked_total = []\n",
    "    for day in days:\n",
    "        mask_a, mask_c = generate_pixel_eddy(eddy_class, day)\n",
    "        masked_anticylonic.append(mask_a)\n",
    "        masked_cyclonic.append(mask_c)\n",
    "        masked_total.append(2 * mask_a + 1 * mask_c)\n",
    "    masked_3d = np.dstack(masked_total)\n",
    "    masked_3d = np.rollaxis(masked_3d,-1)\n",
    "    return masked_3d\n",
    "\n",
    "masked_3d_array = []\n",
    "for i in range(1,12):\n",
    "    masked_3d_array.append(masking(eddy_class_list[i - 1]))\n",
    "\n"
   ]
  },
  {
   "cell_type": "code",
   "execution_count": 87,
   "metadata": {
    "scrolled": true
   },
   "outputs": [
    {
     "data": {
      "text/plain": [
       "<matplotlib.colorbar.Colorbar at 0x2aacc7721ee0>"
      ]
     },
     "execution_count": 87,
     "metadata": {},
     "output_type": "execute_result"
    },
    {
     "data": {
      "image/png": "[encoded data removed]",
      "text/plain": [
       "<Figure size 720x720 with 2 Axes>"
      ]
     },
     "metadata": {
      "needs_background": "light"
     },
     "output_type": "display_data"
    }
   ],
   "source": [
    "plt.figure(figsize=(10,10))\n",
    "plt.imshow(np.flipud(masked_3d[:,:,0].T), cmap=cm.seismic, vmin=-1, vmax=1)\n",
    "plt.colorbar(orientation='horizontal', pad=0.04)"
   ]
  },
  {
   "cell_type": "code",
   "execution_count": 97,
   "metadata": {},
   "outputs": [
    {
     "data": {
      "text/html": [
       "<div><svg style=\"position: absolute; width: 0; height: 0; overflow: hidden\">\n",
       "<defs>\n",
       "<symbol id=\"icon-database\" viewBox=\"0 0 32 32\">\n",
       "<path d=\"M16 0c-8.837 0-16 2.239-16 5v4c0 2.761 7.163 5 16 5s16-2.239 16-5v-4c0-2.761-7.163-5-16-5z\"></path>\n",
       "<path d=\"M16 17c-8.837 0-16-2.239-16-5v6c0 2.761 7.163 5 16 5s16-2.239 16-5v-6c0 2.761-7.163 5-16 5z\"></path>\n",
       "<path d=\"M16 26c-8.837 0-16-2.239-16-5v6c0 2.761 7.163 5 16 5s16-2.239 16-5v-6c0 2.761-7.163 5-16 5z\"></path>\n",
       "</symbol>\n",
       "<symbol id=\"icon-file-text2\" viewBox=\"0 0 32 32\">\n",
       "<path d=\"M28.681 7.159c-0.694-0.947-1.662-2.053-2.724-3.116s-2.169-2.030-3.116-2.724c-1.612-1.182-2.393-1.319-2.841-1.319h-15.5c-1.378 0-2.5 1.121-2.5 2.5v27c0 1.378 1.122 2.5 2.5 2.5h23c1.378 0 2.5-1.122 2.5-2.5v-19.5c0-0.448-0.137-1.23-1.319-2.841zM24.543 5.457c0.959 0.959 1.712 1.825 2.268 2.543h-4.811v-4.811c0.718 0.556 1.584 1.309 2.543 2.268zM28 29.5c0 0.271-0.229 0.5-0.5 0.5h-23c-0.271 0-0.5-0.229-0.5-0.5v-27c0-0.271 0.229-0.5 0.5-0.5 0 0 15.499-0 15.5 0v7c0 0.552 0.448 1 1 1h7v19.5z\"></path>\n",
       "<path d=\"M23 26h-14c-0.552 0-1-0.448-1-1s0.448-1 1-1h14c0.552 0 1 0.448 1 1s-0.448 1-1 1z\"></path>\n",
       "<path d=\"M23 22h-14c-0.552 0-1-0.448-1-1s0.448-1 1-1h14c0.552 0 1 0.448 1 1s-0.448 1-1 1z\"></path>\n",
       "<path d=\"M23 18h-14c-0.552 0-1-0.448-1-1s0.448-1 1-1h14c0.552 0 1 0.448 1 1s-0.448 1-1 1z\"></path>\n",
       "</symbol>\n",
       "</defs>\n",
       "</svg>\n",
       "<style>/* CSS stylesheet for displaying xarray objects in jupyterlab.\n",
       " *\n",
       " */\n",
       "\n",
       ":root {\n",
       "  --xr-font-color0: var(--jp-content-font-color0, rgba(0, 0, 0, 1));\n",
       "  --xr-font-color2: var(--jp-content-font-color2, rgba(0, 0, 0, 0.54));\n",
       "  --xr-font-color3: var(--jp-content-font-color3, rgba(0, 0, 0, 0.38));\n",
       "  --xr-border-color: var(--jp-border-color2, #e0e0e0);\n",
       "  --xr-disabled-color: var(--jp-layout-color3, #bdbdbd);\n",
       "  --xr-background-color: var(--jp-layout-color0, white);\n",
       "  --xr-background-color-row-even: var(--jp-layout-color1, white);\n",
       "  --xr-background-color-row-odd: var(--jp-layout-color2, #eeeeee);\n",
       "}\n",
       "\n",
       "html[theme=dark],\n",
       "body.vscode-dark {\n",
       "  --xr-font-color0: rgba(255, 255, 255, 1);\n",
       "  --xr-font-color2: rgba(255, 255, 255, 0.54);\n",
       "  --xr-font-color3: rgba(255, 255, 255, 0.38);\n",
       "  --xr-border-color: #1F1F1F;\n",
       "  --xr-disabled-color: #515151;\n",
       "  --xr-background-color: #111111;\n",
       "  --xr-background-color-row-even: #111111;\n",
       "  --xr-background-color-row-odd: #313131;\n",
       "}\n",
       "\n",
       ".xr-wrap {\n",
       "  display: block;\n",
       "  min-width: 300px;\n",
       "  max-width: 700px;\n",
       "}\n",
       "\n",
       ".xr-text-repr-fallback {\n",
       "  /* fallback to plain text repr when CSS is not injected (untrusted notebook) */\n",
       "  display: none;\n",
       "}\n",
       "\n",
       ".xr-header {\n",
       "  padding-top: 6px;\n",
       "  padding-bottom: 6px;\n",
       "  margin-bottom: 4px;\n",
       "  border-bottom: solid 1px var(--xr-border-color);\n",
       "}\n",
       "\n",
       ".xr-header > div,\n",
       ".xr-header > ul {\n",
       "  display: inline;\n",
       "  margin-top: 0;\n",
       "  margin-bottom: 0;\n",
       "}\n",
       "\n",
       ".xr-obj-type,\n",
       ".xr-array-name {\n",
       "  margin-left: 2px;\n",
       "  margin-right: 10px;\n",
       "}\n",
       "\n",
       ".xr-obj-type {\n",
       "  color: var(--xr-font-color2);\n",
       "}\n",
       "\n",
       ".xr-sections {\n",
       "  padding-left: 0 !important;\n",
       "  display: grid;\n",
       "  grid-template-columns: 150px auto auto 1fr 20px 20px;\n",
       "}\n",
       "\n",
       ".xr-section-item {\n",
       "  display: contents;\n",
       "}\n",
       "\n",
       ".xr-section-item input {\n",
       "  display: none;\n",
       "}\n",
       "\n",
       ".xr-section-item input + label {\n",
       "  color: var(--xr-disabled-color);\n",
       "}\n",
       "\n",
       ".xr-section-item input:enabled + label {\n",
       "  cursor: pointer;\n",
       "  color: var(--xr-font-color2);\n",
       "}\n",
       "\n",
       ".xr-section-item input:enabled + label:hover {\n",
       "  color: var(--xr-font-color0);\n",
       "}\n",
       "\n",
       ".xr-section-summary {\n",
       "  grid-column: 1;\n",
       "  color: var(--xr-font-color2);\n",
       "  font-weight: 500;\n",
       "}\n",
       "\n",
       ".xr-section-summary > span {\n",
       "  display: inline-block;\n",
       "  padding-left: 0.5em;\n",
       "}\n",
       "\n",
       ".xr-section-summary-in:disabled + label {\n",
       "  color: var(--xr-font-color2);\n",
       "}\n",
       "\n",
       ".xr-section-summary-in + label:before {\n",
       "  display: inline-block;\n",
       "  content: '►';\n",
       "  font-size: 11px;\n",
       "  width: 15px;\n",
       "  text-align: center;\n",
       "}\n",
       "\n",
       ".xr-section-summary-in:disabled + label:before {\n",
       "  color: var(--xr-disabled-color);\n",
       "}\n",
       "\n",
       ".xr-section-summary-in:checked + label:before {\n",
       "  content: '▼';\n",
       "}\n",
       "\n",
       ".xr-section-summary-in:checked + label > span {\n",
       "  display: none;\n",
       "}\n",
       "\n",
       ".xr-section-summary,\n",
       ".xr-section-inline-details {\n",
       "  padding-top: 4px;\n",
       "  padding-bottom: 4px;\n",
       "}\n",
       "\n",
       ".xr-section-inline-details {\n",
       "  grid-column: 2 / -1;\n",
       "}\n",
       "\n",
       ".xr-section-details {\n",
       "  display: none;\n",
       "  grid-column: 1 / -1;\n",
       "  margin-bottom: 5px;\n",
       "}\n",
       "\n",
       ".xr-section-summary-in:checked ~ .xr-section-details {\n",
       "  display: contents;\n",
       "}\n",
       "\n",
       ".xr-array-wrap {\n",
       "  grid-column: 1 / -1;\n",
       "  display: grid;\n",
       "  grid-template-columns: 20px auto;\n",
       "}\n",
       "\n",
       ".xr-array-wrap > label {\n",
       "  grid-column: 1;\n",
       "  vertical-align: top;\n",
       "}\n",
       "\n",
       ".xr-preview {\n",
       "  color: var(--xr-font-color3);\n",
       "}\n",
       "\n",
       ".xr-array-preview,\n",
       ".xr-array-data {\n",
       "  padding: 0 5px !important;\n",
       "  grid-column: 2;\n",
       "}\n",
       "\n",
       ".xr-array-data,\n",
       ".xr-array-in:checked ~ .xr-array-preview {\n",
       "  display: none;\n",
       "}\n",
       "\n",
       ".xr-array-in:checked ~ .xr-array-data,\n",
       ".xr-array-preview {\n",
       "  display: inline-block;\n",
       "}\n",
       "\n",
       ".xr-dim-list {\n",
       "  display: inline-block !important;\n",
       "  list-style: none;\n",
       "  padding: 0 !important;\n",
       "  margin: 0;\n",
       "}\n",
       "\n",
       ".xr-dim-list li {\n",
       "  display: inline-block;\n",
       "  padding: 0;\n",
       "  margin: 0;\n",
       "}\n",
       "\n",
       ".xr-dim-list:before {\n",
       "  content: '(';\n",
       "}\n",
       "\n",
       ".xr-dim-list:after {\n",
       "  content: ')';\n",
       "}\n",
       "\n",
       ".xr-dim-list li:not(:last-child):after {\n",
       "  content: ',';\n",
       "  padding-right: 5px;\n",
       "}\n",
       "\n",
       ".xr-has-index {\n",
       "  font-weight: bold;\n",
       "}\n",
       "\n",
       ".xr-var-list,\n",
       ".xr-var-item {\n",
       "  display: contents;\n",
       "}\n",
       "\n",
       ".xr-var-item > div,\n",
       ".xr-var-item label,\n",
       ".xr-var-item > .xr-var-name span {\n",
       "  background-color: var(--xr-background-color-row-even);\n",
       "  margin-bottom: 0;\n",
       "}\n",
       "\n",
       ".xr-var-item > .xr-var-name:hover span {\n",
       "  padding-right: 5px;\n",
       "}\n",
       "\n",
       ".xr-var-list > li:nth-child(odd) > div,\n",
       ".xr-var-list > li:nth-child(odd) > label,\n",
       ".xr-var-list > li:nth-child(odd) > .xr-var-name span {\n",
       "  background-color: var(--xr-background-color-row-odd);\n",
       "}\n",
       "\n",
       ".xr-var-name {\n",
       "  grid-column: 1;\n",
       "}\n",
       "\n",
       ".xr-var-dims {\n",
       "  grid-column: 2;\n",
       "}\n",
       "\n",
       ".xr-var-dtype {\n",
       "  grid-column: 3;\n",
       "  text-align: right;\n",
       "  color: var(--xr-font-color2);\n",
       "}\n",
       "\n",
       ".xr-var-preview {\n",
       "  grid-column: 4;\n",
       "}\n",
       "\n",
       ".xr-var-name,\n",
       ".xr-var-dims,\n",
       ".xr-var-dtype,\n",
       ".xr-preview,\n",
       ".xr-attrs dt {\n",
       "  white-space: nowrap;\n",
       "  overflow: hidden;\n",
       "  text-overflow: ellipsis;\n",
       "  padding-right: 10px;\n",
       "}\n",
       "\n",
       ".xr-var-name:hover,\n",
       ".xr-var-dims:hover,\n",
       ".xr-var-dtype:hover,\n",
       ".xr-attrs dt:hover {\n",
       "  overflow: visible;\n",
       "  width: auto;\n",
       "  z-index: 1;\n",
       "}\n",
       "\n",
       ".xr-var-attrs,\n",
       ".xr-var-data {\n",
       "  display: none;\n",
       "  background-color: var(--xr-background-color) !important;\n",
       "  padding-bottom: 5px !important;\n",
       "}\n",
       "\n",
       ".xr-var-attrs-in:checked ~ .xr-var-attrs,\n",
       ".xr-var-data-in:checked ~ .xr-var-data {\n",
       "  display: block;\n",
       "}\n",
       "\n",
       ".xr-var-data > table {\n",
       "  float: right;\n",
       "}\n",
       "\n",
       ".xr-var-name span,\n",
       ".xr-var-data,\n",
       ".xr-attrs {\n",
       "  padding-left: 25px !important;\n",
       "}\n",
       "\n",
       ".xr-attrs,\n",
       ".xr-var-attrs,\n",
       ".xr-var-data {\n",
       "  grid-column: 1 / -1;\n",
       "}\n",
       "\n",
       "dl.xr-attrs {\n",
       "  padding: 0;\n",
       "  margin: 0;\n",
       "  display: grid;\n",
       "  grid-template-columns: 125px auto;\n",
       "}\n",
       "\n",
       ".xr-attrs dt,\n",
       ".xr-attrs dd {\n",
       "  padding: 0;\n",
       "  margin: 0;\n",
       "  float: left;\n",
       "  padding-right: 10px;\n",
       "  width: auto;\n",
       "}\n",
       "\n",
       ".xr-attrs dt {\n",
       "  font-weight: normal;\n",
       "  grid-column: 1;\n",
       "}\n",
       "\n",
       ".xr-attrs dt:hover span {\n",
       "  display: inline-block;\n",
       "  background: var(--xr-background-color);\n",
       "  padding-right: 10px;\n",
       "}\n",
       "\n",
       ".xr-attrs dd {\n",
       "  grid-column: 2;\n",
       "  white-space: pre-wrap;\n",
       "  word-break: break-all;\n",
       "}\n",
       "\n",
       ".xr-icon-database,\n",
       ".xr-icon-file-text2 {\n",
       "  display: inline-block;\n",
       "  vertical-align: middle;\n",
       "  width: 1em;\n",
       "  height: 1.5em !important;\n",
       "  stroke-width: 0;\n",
       "  stroke: currentColor;\n",
       "  fill: currentColor;\n",
       "}\n",
       "</style><pre class='xr-text-repr-fallback'>&lt;xarray.Dataset&gt;\n",
       "Dimensions:    (LONGITUDE: 1200, LATITUDE: 480, TIME: 29)\n",
       "Coordinates:\n",
       "  * LONGITUDE  (LONGITUDE) float32 -70.0 -69.92 -69.83 ... 29.75 29.83 29.92\n",
       "  * LATITUDE   (LATITUDE) float32 -60.0 -59.92 -59.83 ... -20.25 -20.17 -20.08\n",
       "  * TIME       (TIME) float32 9.646e+04 9.648e+04 ... 9.71e+04 9.713e+04\n",
       "Data variables:\n",
       "    seg_mask   (TIME, LONGITUDE, LATITUDE) int64 0 0 0 0 0 0 0 ... 0 0 0 0 0 0 0</pre><div class='xr-wrap' hidden><div class='xr-header'><div class='xr-obj-type'>xarray.Dataset</div></div><ul class='xr-sections'><li class='xr-section-item'><input id='section-52035774-162f-496a-ac4c-af3c788262cf' class='xr-section-summary-in' type='checkbox' disabled ><label for='section-52035774-162f-496a-ac4c-af3c788262cf' class='xr-section-summary'  title='Expand/collapse section'>Dimensions:</label><div class='xr-section-inline-details'><ul class='xr-dim-list'><li><span class='xr-has-index'>LONGITUDE</span>: 1200</li><li><span class='xr-has-index'>LATITUDE</span>: 480</li><li><span class='xr-has-index'>TIME</span>: 29</li></ul></div><div class='xr-section-details'></div></li><li class='xr-section-item'><input id='section-9472e18a-d0bd-407b-b56c-72eb0de3ec10' class='xr-section-summary-in' type='checkbox'  checked><label for='section-9472e18a-d0bd-407b-b56c-72eb0de3ec10' class='xr-section-summary' >Coordinates: <span>(3)</span></label><div class='xr-section-inline-details'></div><div class='xr-section-details'><ul class='xr-var-list'><li class='xr-var-item'><div class='xr-var-name'><span class='xr-has-index'>LONGITUDE</span></div><div class='xr-var-dims'>(LONGITUDE)</div><div class='xr-var-dtype'>float32</div><div class='xr-var-preview xr-preview'>-70.0 -69.92 -69.83 ... 29.83 29.92</div><input id='attrs-03b95817-ddaa-4332-854d-84fcfa94991e' class='xr-var-attrs-in' type='checkbox' ><label for='attrs-03b95817-ddaa-4332-854d-84fcfa94991e' title='Show/Hide attributes'><svg class='icon xr-icon-file-text2'><use xlink:href='#icon-file-text2'></use></svg></label><input id='data-967a4a61-1887-485e-863a-5391ec82d61c' class='xr-var-data-in' type='checkbox'><label for='data-967a4a61-1887-485e-863a-5391ec82d61c' title='Show/Hide data repr'><svg class='icon xr-icon-database'><use xlink:href='#icon-database'></use></svg></label><div class='xr-var-attrs'><dl class='xr-attrs'><dt><span>units :</span></dt><dd>degrees_east</dd><dt><span>long_name :</span></dt><dd>longitude</dd></dl></div><div class='xr-var-data'><pre>array([-70.      , -69.916664, -69.833336, ...,  29.75    ,  29.833334,\n",
       "        29.916666], dtype=float32)</pre></div></li><li class='xr-var-item'><div class='xr-var-name'><span class='xr-has-index'>LATITUDE</span></div><div class='xr-var-dims'>(LATITUDE)</div><div class='xr-var-dtype'>float32</div><div class='xr-var-preview xr-preview'>-60.0 -59.92 ... -20.17 -20.08</div><input id='attrs-b132310a-9a20-4549-a4f7-f90c291e93fe' class='xr-var-attrs-in' type='checkbox' ><label for='attrs-b132310a-9a20-4549-a4f7-f90c291e93fe' title='Show/Hide attributes'><svg class='icon xr-icon-file-text2'><use xlink:href='#icon-file-text2'></use></svg></label><input id='data-e01688de-0fe9-4e47-bc26-a0591c2111be' class='xr-var-data-in' type='checkbox'><label for='data-e01688de-0fe9-4e47-bc26-a0591c2111be' title='Show/Hide data repr'><svg class='icon xr-icon-database'><use xlink:href='#icon-database'></use></svg></label><div class='xr-var-attrs'><dl class='xr-attrs'><dt><span>units :</span></dt><dd>degrees_north</dd><dt><span>long_name :</span></dt><dd>latitude</dd></dl></div><div class='xr-var-data'><pre>array([-60.      , -59.916668, -59.833332, ..., -20.25    , -20.166666,\n",
       "       -20.083334], dtype=float32)</pre></div></li><li class='xr-var-item'><div class='xr-var-name'><span class='xr-has-index'>TIME</span></div><div class='xr-var-dims'>(TIME)</div><div class='xr-var-dtype'>float32</div><div class='xr-var-preview xr-preview'>9.646e+04 9.648e+04 ... 9.713e+04</div><input id='attrs-cfb6fc82-b3b9-4886-8f56-ee6d46e814b1' class='xr-var-attrs-in' type='checkbox' ><label for='attrs-cfb6fc82-b3b9-4886-8f56-ee6d46e814b1' title='Show/Hide attributes'><svg class='icon xr-icon-file-text2'><use xlink:href='#icon-file-text2'></use></svg></label><input id='data-f489a88b-a13f-499c-9713-23d1a20e266a' class='xr-var-data-in' type='checkbox'><label for='data-f489a88b-a13f-499c-9713-23d1a20e266a' title='Show/Hide data repr'><svg class='icon xr-icon-database'><use xlink:href='#icon-database'></use></svg></label><div class='xr-var-attrs'><dl class='xr-attrs'><dt><span>unit :</span></dt><dd>hours since 1950-01-01 00:00:00</dd></dl></div><div class='xr-var-data'><pre>array([96455.93, 96479.93, 96503.93, 96527.93, 96551.93, 96575.93, 96599.93,\n",
       "       96623.93, 96647.93, 96671.93, 96695.93, 96719.93, 96743.93, 96767.93,\n",
       "       96791.93, 96815.93, 96839.93, 96863.93, 96887.93, 96911.93, 96935.93,\n",
       "       96959.93, 96983.93, 97007.93, 97031.93, 97055.93, 97079.93, 97103.93,\n",
       "       97127.93], dtype=float32)</pre></div></li></ul></div></li><li class='xr-section-item'><input id='section-492ab551-abd1-4130-88a9-f1a10a19592b' class='xr-section-summary-in' type='checkbox'  checked><label for='section-492ab551-abd1-4130-88a9-f1a10a19592b' class='xr-section-summary' >Data variables: <span>(1)</span></label><div class='xr-section-inline-details'></div><div class='xr-section-details'><ul class='xr-var-list'><li class='xr-var-item'><div class='xr-var-name'><span>seg_mask</span></div><div class='xr-var-dims'>(TIME, LONGITUDE, LATITUDE)</div><div class='xr-var-dtype'>int64</div><div class='xr-var-preview xr-preview'>0 0 0 0 0 0 0 0 ... 0 0 0 0 0 0 0 0</div><input id='attrs-9be77b9b-c460-48bd-a4bd-131790183bfd' class='xr-var-attrs-in' type='checkbox' disabled><label for='attrs-9be77b9b-c460-48bd-a4bd-131790183bfd' title='Show/Hide attributes'><svg class='icon xr-icon-file-text2'><use xlink:href='#icon-file-text2'></use></svg></label><input id='data-2970b1ba-69ba-45ee-8b4a-a07f64912238' class='xr-var-data-in' type='checkbox'><label for='data-2970b1ba-69ba-45ee-8b4a-a07f64912238' title='Show/Hide data repr'><svg class='icon xr-icon-database'><use xlink:href='#icon-database'></use></svg></label><div class='xr-var-attrs'><dl class='xr-attrs'></dl></div><div class='xr-var-data'><pre>array([[[0, 0, 0, ..., 0, 0, 0],\n",
       "        [0, 0, 0, ..., 0, 0, 0],\n",
       "        [0, 0, 0, ..., 0, 0, 0],\n",
       "        ...,\n",
       "        [0, 0, 0, ..., 0, 0, 0],\n",
       "        [0, 0, 0, ..., 0, 0, 0],\n",
       "        [0, 0, 0, ..., 0, 0, 0]],\n",
       "\n",
       "       [[0, 0, 0, ..., 0, 0, 0],\n",
       "        [0, 0, 0, ..., 0, 0, 0],\n",
       "        [0, 0, 0, ..., 0, 0, 0],\n",
       "        ...,\n",
       "        [0, 0, 0, ..., 0, 0, 0],\n",
       "        [0, 0, 0, ..., 0, 0, 0],\n",
       "        [0, 0, 0, ..., 0, 0, 0]],\n",
       "\n",
       "       [[0, 0, 0, ..., 0, 0, 0],\n",
       "        [0, 0, 0, ..., 0, 0, 0],\n",
       "        [0, 0, 0, ..., 0, 0, 0],\n",
       "        ...,\n",
       "...\n",
       "        ...,\n",
       "        [0, 0, 0, ..., 0, 0, 0],\n",
       "        [0, 0, 0, ..., 0, 0, 0],\n",
       "        [0, 0, 0, ..., 0, 0, 0]],\n",
       "\n",
       "       [[0, 0, 0, ..., 0, 0, 0],\n",
       "        [0, 0, 0, ..., 0, 0, 0],\n",
       "        [0, 0, 0, ..., 0, 0, 0],\n",
       "        ...,\n",
       "        [0, 0, 0, ..., 0, 0, 0],\n",
       "        [0, 0, 0, ..., 0, 0, 0],\n",
       "        [0, 0, 0, ..., 0, 0, 0]],\n",
       "\n",
       "       [[0, 0, 0, ..., 0, 0, 0],\n",
       "        [0, 0, 0, ..., 0, 0, 0],\n",
       "        [0, 0, 0, ..., 0, 0, 0],\n",
       "        ...,\n",
       "        [0, 0, 0, ..., 0, 0, 0],\n",
       "        [0, 0, 0, ..., 0, 0, 0],\n",
       "        [0, 0, 0, ..., 0, 0, 0]]])</pre></div></li></ul></div></li><li class='xr-section-item'><input id='section-1bd40d40-6eac-40b8-a26c-1a529ba45a00' class='xr-section-summary-in' type='checkbox' disabled ><label for='section-1bd40d40-6eac-40b8-a26c-1a529ba45a00' class='xr-section-summary'  title='Expand/collapse section'>Attributes: <span>(0)</span></label><div class='xr-section-inline-details'></div><div class='xr-section-details'><dl class='xr-attrs'></dl></div></li></ul></div></div>"
      ],
      "text/plain": [
       "<xarray.Dataset>\n",
       "Dimensions:    (LONGITUDE: 1200, LATITUDE: 480, TIME: 29)\n",
       "Coordinates:\n",
       "  * LONGITUDE  (LONGITUDE) float32 -70.0 -69.92 -69.83 ... 29.75 29.83 29.92\n",
       "  * LATITUDE   (LATITUDE) float32 -60.0 -59.92 -59.83 ... -20.25 -20.17 -20.08\n",
       "  * TIME       (TIME) float32 9.646e+04 9.648e+04 ... 9.71e+04 9.713e+04\n",
       "Data variables:\n",
       "    seg_mask   (TIME, LONGITUDE, LATITUDE) int64 0 0 0 0 0 0 0 ... 0 0 0 0 0 0 0"
      ]
     },
     "execution_count": 97,
     "metadata": {},
     "output_type": "execute_result"
    }
   ],
   "source": [
    "import os\n",
    "for i in range(1,12):\n",
    "    ds = xr.open_dataset('/work/ollie/bpanthi/nn_interpolation/ssh_gridded_1961_001_'+str(i)+'_new.nc')\n",
    "    ds_mask = ds.copy(deep = True)\n",
    "    ds_mask[\"seg_mask\"] = (\"TIME\", \"LONGITUDE\", \"LATITUDE\"), masked_3d_array[i-1]\n",
    "    ds_mask = ds_mask.drop(\"ssh\")\n",
    "\n",
    "    outfile = \"/home/ollie/ssunar/segmentation_masks/segmentation_mask_nn_1961_001_\"+str(i)+\"_new.nc\"\n",
    "    if os.path.isfile(outfile):\n",
    "        os.remove(outfile)\n",
    "    ds_mask.to_netcdf(outfile)"
   ]
  },
  {
   "cell_type": "code",
   "execution_count": 100,
   "metadata": {},
   "outputs": [],
   "source": [
    "arr = ds_mask.seg_mask[0].to_numpy()"
   ]
  },
  {
   "cell_type": "code",
   "execution_count": 101,
   "metadata": {},
   "outputs": [
    {
     "data": {
      "text/plain": [
       "<matplotlib.colorbar.Colorbar at 0x2aacbf8647f0>"
      ]
     },
     "execution_count": 101,
     "metadata": {},
     "output_type": "execute_result"
    },
    {
     "data": {
      "image/png": "[encoded data removed]",
      "text/plain": [
       "<Figure size 720x720 with 2 Axes>"
      ]
     },
     "metadata": {
      "needs_background": "light"
     },
     "output_type": "display_data"
    }
   ],
   "source": [
    "plt.figure(figsize=(10,10))\n",
    "plt.imshow(np.flipud(arr.T), cmap=cm.seismic, vmin=-1, vmax=1)\n",
    "plt.colorbar(orientation='horizontal', pad=0.04)"
   ]
  },
  {
   "cell_type": "code",
   "execution_count": 102,
   "metadata": {},
   "outputs": [],
   "source": [
    "import os\n",
    "outfile = \"/home/ollie/ssunar/segmentation_masks/segmentation_mask_nn_1961_001_1_m.nc\"\n",
    "if os.path.isfile(outfile):\n",
    "    os.remove(outfile)\n",
    "ds_mask.to_netcdf(outfile)"
   ]
  },
  {
   "cell_type": "code",
   "execution_count": null,
   "metadata": {},
   "outputs": [],
   "source": []
  }
 ],
 "metadata": {
  "kernelspec": {
   "display_name": "eddy-tracking",
   "language": "python",
   "name": "eddy-tracking"
  },
  "language_info": {
   "codemirror_mode": {
    "name": "ipython",
    "version": 3
   },
   "file_extension": ".py",
   "mimetype": "text/x-python",
   "name": "python",
   "nbconvert_exporter": "python",
   "pygments_lexer": "ipython3",
   "version": "3.8.16"
  }
 },
 "nbformat": 4,
 "nbformat_minor": 4
}
