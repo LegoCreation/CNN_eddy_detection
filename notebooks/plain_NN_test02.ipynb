{
 "cells": [
  {
   "cell_type": "code",
   "execution_count": 1,
   "metadata": {},
   "outputs": [
    {
     "name": "stderr",
     "output_type": "stream",
     "text": [
      "2022-07-02 09:08:09.605731: W tensorflow/stream_executor/platform/default/dso_loader.cc:64] Could not load dynamic library 'libcudart.so.11.0'; dlerror: libcudart.so.11.0: cannot open shared object file: No such file or directory\n",
      "2022-07-02 09:08:09.605764: I tensorflow/stream_executor/cuda/cudart_stub.cc:29] Ignore above cudart dlerror if you do not have a GPU set up on your machine.\n"
     ]
    }
   ],
   "source": [
    "from IPython.core.interactiveshell import InteractiveShell\n",
    "InteractiveShell.ast_node_interactivity = \"all\"\n",
    "\n",
    "# standard imports\n",
    "from tensorflow import keras\n",
    "import numpy as np\n",
    "from tensorflow.keras.preprocessing.image import load_img\n",
    "from tensorflow.keras import layers\n",
    "import random\n",
    "from sklearn import preprocessing\n",
    "from keras.callbacks import History\n",
    "import matplotlib.pyplot as plt\n",
    "from keras.utils import np_utils\n",
    "import os\n",
    "from tensorflow.keras.optimizers import Adam\n",
    "from plain_neural_network import*\n",
    "from keras import backend as K\n",
    "\n",
    "%matplotlib inline"
   ]
  },
  {
   "cell_type": "code",
   "execution_count": 2,
   "metadata": {},
   "outputs": [
    {
     "data": {
      "text/plain": [
       "'/home/ollie/ssunar/ssh_filtered/ssh_gridded_1963_001_06_new.nc'"
      ]
     },
     "execution_count": 2,
     "metadata": {},
     "output_type": "execute_result"
    },
    {
     "data": {
      "text/plain": [
       "'/home/ollie/ssunar/ssh_filtered/ssh_gridded_1961_001_12_new.nc'"
      ]
     },
     "execution_count": 2,
     "metadata": {},
     "output_type": "execute_result"
    },
    {
     "name": "stdout",
     "output_type": "stream",
     "text": [
      "(1034, 1200, 480)\n"
     ]
    }
   ],
   "source": [
    "input_dir = \"/home/ollie/ssunar/ssh_filtered\"\n",
    "input_file_paths = sorted(\n",
    "    [\n",
    "        os.path.join(input_dir, fname)\n",
    "        for fname in os.listdir(input_dir)\n",
    "    ])\n",
    "input_file_paths.pop(29)\n",
    "input_file_paths.pop(11)\n",
    "\n",
    "data_x = xr.open_mfdataset(input_file_paths,combine = 'nested', concat_dim=\"TIME\")\n",
    "data_x = data_x.ssh.to_numpy()\n",
    "X = np.float32(data_x)\n",
    "                            \n",
    "X[X>1000] = 0\n",
    "print(X.shape)"
   ]
  },
  {
   "cell_type": "code",
   "execution_count": null,
   "metadata": {},
   "outputs": [],
   "source": []
  },
  {
   "cell_type": "code",
   "execution_count": 3,
   "metadata": {},
   "outputs": [
    {
     "data": {
      "text/plain": [
       "'/home/ollie/ssunar/segmentation_masks_3_years/segmentation_mask_nn_1963_001_06_new.nc'"
      ]
     },
     "execution_count": 3,
     "metadata": {},
     "output_type": "execute_result"
    },
    {
     "data": {
      "text/plain": [
       "'/home/ollie/ssunar/segmentation_masks_3_years/segmentation_mask_nn_1961_001_12_new.nc'"
      ]
     },
     "execution_count": 3,
     "metadata": {},
     "output_type": "execute_result"
    },
    {
     "name": "stdout",
     "output_type": "stream",
     "text": [
      "(1034, 1200, 480)\n"
     ]
    }
   ],
   "source": [
    "input_dir = \"/home/ollie/ssunar/segmentation_masks_3_years\"\n",
    "input_file_paths = sorted(\n",
    "    [\n",
    "        os.path.join(input_dir, fname)\n",
    "        for fname in os.listdir(input_dir)\n",
    "    ])\n",
    "input_file_paths.pop(29)\n",
    "input_file_paths.pop(11)\n",
    "\n",
    "data_y = xr.open_mfdataset(input_file_paths,combine = 'nested', concat_dim=\"TIME\")\n",
    "data_y = data_y.seg_mask.to_numpy()\n",
    "Y = np.float32(data_y)\n",
    "print(Y.shape)"
   ]
  },
  {
   "cell_type": "code",
   "execution_count": 4,
   "metadata": {},
   "outputs": [],
   "source": [
    "X = X[0:365]\n",
    "Y = Y[0:365]"
   ]
  },
  {
   "cell_type": "code",
   "execution_count": 5,
   "metadata": {},
   "outputs": [
    {
     "name": "stdout",
     "output_type": "stream",
     "text": [
      "Shape of data X: (2920, 256, 256)\n",
      "Shape of data Y: (2920, 256, 256)\n"
     ]
    }
   ],
   "source": [
    "temp_x_1 = X[:,0:256, 0:256]\n",
    "temp_x_2 = X[:,0:256, 224:480]\n",
    "temp_y_1 = Y[:,0:256, 0:256]\n",
    "temp_y_2 = Y[:,0:256, 224:480]\n",
    "data_x = np.concatenate((temp_x_1,temp_x_2), axis=0)\n",
    "data_y = np.concatenate((temp_y_1,temp_y_2), axis=0)\n",
    "\n",
    "for i in range(1,4):\n",
    "    temp_x_1 = X[:,256*i:256*(i+1), 0:256]\n",
    "    temp_x_2 = X[:,256*i:256*(i+1), 224:480]\n",
    "    temp_y_1 = Y[:,256*i:256*(i+1), 0:256]\n",
    "    temp_y_2 = Y[:,256*i:256*(i+1), 224:480]\n",
    "    data_x = np.concatenate((data_x, np.concatenate((temp_x_1,temp_x_2), axis=0)), axis=0)\n",
    "    data_y = np.concatenate((data_y, np.concatenate((temp_y_1,temp_y_2), axis=0)), axis=0)\n",
    "    \n",
    "print(\"Shape of data X:\", data_x.shape)  \n",
    "print(\"Shape of data Y:\",data_y.shape)"
   ]
  },
  {
   "cell_type": "code",
   "execution_count": 6,
   "metadata": {},
   "outputs": [
    {
     "data": {
      "text/plain": [
       "'\\ndata_x_1 = data_x\\ndata_y_1 = data_y\\n\\n#only using a portion of data from this region\\nused_split = 0.4\\nused_samples = int(used_split*len(data_x))\\n#same seed must be used\\nrandom.Random(0).shuffle(data_x)\\nrandom.Random(0).shuffle(data_y)\\ndata_x_1 = data_x[0:used_samples]\\ndata_y_1 = data_y[0:used_samples]\\n'"
      ]
     },
     "execution_count": 6,
     "metadata": {},
     "output_type": "execute_result"
    }
   ],
   "source": [
    "\"\"\"\n",
    "data_x_1 = data_x\n",
    "data_y_1 = data_y\n",
    "\n",
    "#only using a portion of data from this region\n",
    "used_split = 0.4\n",
    "used_samples = int(used_split*len(data_x))\n",
    "#same seed must be used\n",
    "random.Random(0).shuffle(data_x)\n",
    "random.Random(0).shuffle(data_y)\n",
    "data_x_1 = data_x[0:used_samples]\n",
    "data_y_1 = data_y[0:used_samples]\n",
    "\"\"\""
   ]
  },
  {
   "cell_type": "code",
   "execution_count": null,
   "metadata": {},
   "outputs": [],
   "source": []
  },
  {
   "cell_type": "code",
   "execution_count": 7,
   "metadata": {},
   "outputs": [
    {
     "data": {
      "text/plain": [
       "'\\ninput_dir = \"/work/ollie/bpanthi/NN_gulf/\"\\ninput_file_paths = sorted(\\n    [\\n        os.path.join(input_dir, fname)\\n        for fname in os.listdir(input_dir)\\n    ])\\ninput_file_paths.pop(6)\\ndata_x_2 = xr.open_mfdataset(input_file_paths,combine = \\'nested\\', concat_dim=\"TIME\")\\ndata_x_2 = data_x_2.ssh.to_numpy()\\ndata_x_2 = np.float32(data_x_2)\\n                            \\ndata_x_2[data_x_2>1000] = 0\\ndata_x_2 = data_x_2[:,52:308, 52:308]\\nprint(data_x_2.shape)\\n\\ninput_dir = \"/home/ollie/ssunar/segmentation_masks_NN_gulf\"\\ninput_file_paths = sorted(\\n    [\\n        os.path.join(input_dir, fname)\\n        for fname in os.listdir(input_dir)\\n    ])\\ninput_file_paths.pop(6)\\ndata_y_2 = xr.open_mfdataset(input_file_paths,combine = \\'nested\\', concat_dim=\"TIME\")\\ndata_y_2 = data_y_2.seg_mask.to_numpy()\\ndata_y_2 = np.float32(data_y_2)\\ndata_y_2 = data_y_2[:,52:308, 52:308]\\nprint(data_y_2.shape)\\n'"
      ]
     },
     "execution_count": 7,
     "metadata": {},
     "output_type": "execute_result"
    }
   ],
   "source": [
    "\"\"\"\n",
    "input_dir = \"/work/ollie/bpanthi/NN_gulf/\"\n",
    "input_file_paths = sorted(\n",
    "    [\n",
    "        os.path.join(input_dir, fname)\n",
    "        for fname in os.listdir(input_dir)\n",
    "    ])\n",
    "input_file_paths.pop(6)\n",
    "data_x_2 = xr.open_mfdataset(input_file_paths,combine = 'nested', concat_dim=\"TIME\")\n",
    "data_x_2 = data_x_2.ssh.to_numpy()\n",
    "data_x_2 = np.float32(data_x_2)\n",
    "                            \n",
    "data_x_2[data_x_2>1000] = 0\n",
    "data_x_2 = data_x_2[:,52:308, 52:308]\n",
    "print(data_x_2.shape)\n",
    "\n",
    "input_dir = \"/home/ollie/ssunar/segmentation_masks_NN_gulf\"\n",
    "input_file_paths = sorted(\n",
    "    [\n",
    "        os.path.join(input_dir, fname)\n",
    "        for fname in os.listdir(input_dir)\n",
    "    ])\n",
    "input_file_paths.pop(6)\n",
    "data_y_2 = xr.open_mfdataset(input_file_paths,combine = 'nested', concat_dim=\"TIME\")\n",
    "data_y_2 = data_y_2.seg_mask.to_numpy()\n",
    "data_y_2 = np.float32(data_y_2)\n",
    "data_y_2 = data_y_2[:,52:308, 52:308]\n",
    "print(data_y_2.shape)\n",
    "\"\"\""
   ]
  },
  {
   "cell_type": "code",
   "execution_count": 8,
   "metadata": {},
   "outputs": [
    {
     "data": {
      "text/plain": [
       "'\\ninput_dir = \"/work/ollie/bpanthi/NN_kursaal/\"\\ninput_file_paths = sorted(\\n    [\\n        os.path.join(input_dir, fname)\\n        for fname in os.listdir(input_dir)\\n    ])\\n\\ndata_x_3 = xr.open_mfdataset(input_file_paths,combine = \\'nested\\', concat_dim=\"TIME\")\\ndata_x_3 = data_x_3.ssh.to_numpy()\\ndata_x_3 = np.float32(data_x_3)\\n                            \\ndata_x_3[data_x_3>1000] = 0\\ndata_x_3 = data_x_3[:,52:308, 52:308]\\nprint(data_x_3.shape)\\n\\ninput_dir = \"/home/ollie/ssunar/segmentation_masks_NN_kursaal\"\\ninput_file_paths = sorted(\\n    [\\n        os.path.join(input_dir, fname)\\n        for fname in os.listdir(input_dir)\\n    ])\\ndata_y_3 = xr.open_mfdataset(input_file_paths,combine = \\'nested\\', concat_dim=\"TIME\")\\ndata_y_3 = data_y_3.seg_mask.to_numpy()\\ndata_y_3 = np.float32(data_y_3)\\ndata_y_3 = data_y_3[:,52:308, 52:308]\\nprint(data_y_3.shape)\\n'"
      ]
     },
     "execution_count": 8,
     "metadata": {},
     "output_type": "execute_result"
    }
   ],
   "source": [
    "\"\"\"\n",
    "input_dir = \"/work/ollie/bpanthi/NN_kursaal/\"\n",
    "input_file_paths = sorted(\n",
    "    [\n",
    "        os.path.join(input_dir, fname)\n",
    "        for fname in os.listdir(input_dir)\n",
    "    ])\n",
    "\n",
    "data_x_3 = xr.open_mfdataset(input_file_paths,combine = 'nested', concat_dim=\"TIME\")\n",
    "data_x_3 = data_x_3.ssh.to_numpy()\n",
    "data_x_3 = np.float32(data_x_3)\n",
    "                            \n",
    "data_x_3[data_x_3>1000] = 0\n",
    "data_x_3 = data_x_3[:,52:308, 52:308]\n",
    "print(data_x_3.shape)\n",
    "\n",
    "input_dir = \"/home/ollie/ssunar/segmentation_masks_NN_kursaal\"\n",
    "input_file_paths = sorted(\n",
    "    [\n",
    "        os.path.join(input_dir, fname)\n",
    "        for fname in os.listdir(input_dir)\n",
    "    ])\n",
    "data_y_3 = xr.open_mfdataset(input_file_paths,combine = 'nested', concat_dim=\"TIME\")\n",
    "data_y_3 = data_y_3.seg_mask.to_numpy()\n",
    "data_y_3 = np.float32(data_y_3)\n",
    "data_y_3 = data_y_3[:,52:308, 52:308]\n",
    "print(data_y_3.shape)\n",
    "\"\"\""
   ]
  },
  {
   "cell_type": "code",
   "execution_count": 9,
   "metadata": {},
   "outputs": [
    {
     "data": {
      "text/plain": [
       "'\\ndata_x = np.concatenate((data_x_1, np.concatenate((data_x_2,data_x_3), axis=0)), axis=0)\\ndata_y = np.concatenate((data_y_1, np.concatenate((data_y_2,data_y_3), axis=0)), axis=0)\\nprint(data_x.shape)\\nprint(data_y.shape)\\n'"
      ]
     },
     "execution_count": 9,
     "metadata": {},
     "output_type": "execute_result"
    }
   ],
   "source": [
    "\"\"\"\n",
    "data_x = np.concatenate((data_x_1, np.concatenate((data_x_2,data_x_3), axis=0)), axis=0)\n",
    "data_y = np.concatenate((data_y_1, np.concatenate((data_y_2,data_y_3), axis=0)), axis=0)\n",
    "print(data_x.shape)\n",
    "print(data_y.shape)\n",
    "\"\"\""
   ]
  },
  {
   "cell_type": "code",
   "execution_count": null,
   "metadata": {},
   "outputs": [],
   "source": []
  },
  {
   "cell_type": "code",
   "execution_count": 10,
   "metadata": {},
   "outputs": [
    {
     "name": "stdout",
     "output_type": "stream",
     "text": [
      "2920\n"
     ]
    }
   ],
   "source": [
    "img_size = (256, 256)\n",
    "num_classes = 3\n",
    "batch_size = 16\n",
    "epochs = 60\n",
    "total_samples = len(data_x)\n",
    "print(total_samples)"
   ]
  },
  {
   "cell_type": "code",
   "execution_count": 11,
   "metadata": {},
   "outputs": [
    {
     "name": "stderr",
     "output_type": "stream",
     "text": [
      "2022-07-02 09:08:33.031243: W tensorflow/stream_executor/platform/default/dso_loader.cc:64] Could not load dynamic library 'libcuda.so.1'; dlerror: libcuda.so.1: cannot open shared object file: No such file or directory\n",
      "2022-07-02 09:08:33.031292: W tensorflow/stream_executor/cuda/cuda_driver.cc:269] failed call to cuInit: UNKNOWN ERROR (303)\n",
      "2022-07-02 09:08:33.031337: I tensorflow/stream_executor/cuda/cuda_diagnostics.cc:156] kernel driver does not appear to be running on this host (prod-0285): /proc/driver/nvidia/version does not exist\n",
      "2022-07-02 09:08:33.031585: I tensorflow/core/platform/cpu_feature_guard.cc:151] This TensorFlow binary is optimized with oneAPI Deep Neural Network Library (oneDNN) to use the following CPU instructions in performance-critical operations:  AVX2 FMA\n",
      "To enable them in other operations, rebuild TensorFlow with the appropriate compiler flags.\n"
     ]
    },
    {
     "name": "stdout",
     "output_type": "stream",
     "text": [
      "Model: \"model\"\n",
      "__________________________________________________________________________________________________\n",
      " Layer (type)                   Output Shape         Param #     Connected to                     \n",
      "==================================================================================================\n",
      " input_1 (InputLayer)           [(None, 256, 256, 1  0           []                               \n",
      "                                )]                                                                \n",
      "                                                                                                  \n",
      " separable_conv2d (SeparableCon  (None, 256, 256, 16  25         ['input_1[0][0]']                \n",
      " v2D)                           )                                                                 \n",
      "                                                                                                  \n",
      " batch_normalization (BatchNorm  (None, 256, 256, 16  64         ['separable_conv2d[0][0]']       \n",
      " alization)                     )                                                                 \n",
      "                                                                                                  \n",
      " activation (Activation)        (None, 256, 256, 16  0           ['batch_normalization[0][0]']    \n",
      "                                )                                                                 \n",
      "                                                                                                  \n",
      " separable_conv2d_1 (SeparableC  (None, 256, 256, 16  400        ['activation[0][0]']             \n",
      " onv2D)                         )                                                                 \n",
      "                                                                                                  \n",
      " batch_normalization_1 (BatchNo  (None, 256, 256, 16  64         ['separable_conv2d_1[0][0]']     \n",
      " rmalization)                   )                                                                 \n",
      "                                                                                                  \n",
      " activation_1 (Activation)      (None, 256, 256, 16  0           ['batch_normalization_1[0][0]']  \n",
      "                                )                                                                 \n",
      "                                                                                                  \n",
      " dropout (Dropout)              (None, 256, 256, 16  0           ['activation_1[0][0]']           \n",
      "                                )                                                                 \n",
      "                                                                                                  \n",
      " max_pooling2d (MaxPooling2D)   (None, 128, 128, 16  0           ['dropout[0][0]']                \n",
      "                                )                                                                 \n",
      "                                                                                                  \n",
      " separable_conv2d_2 (SeparableC  (None, 128, 128, 16  400        ['max_pooling2d[0][0]']          \n",
      " onv2D)                         )                                                                 \n",
      "                                                                                                  \n",
      " batch_normalization_2 (BatchNo  (None, 128, 128, 16  64         ['separable_conv2d_2[0][0]']     \n",
      " rmalization)                   )                                                                 \n",
      "                                                                                                  \n",
      " activation_2 (Activation)      (None, 128, 128, 16  0           ['batch_normalization_2[0][0]']  \n",
      "                                )                                                                 \n",
      "                                                                                                  \n",
      " separable_conv2d_3 (SeparableC  (None, 128, 128, 16  400        ['activation_2[0][0]']           \n",
      " onv2D)                         )                                                                 \n",
      "                                                                                                  \n",
      " batch_normalization_3 (BatchNo  (None, 128, 128, 16  64         ['separable_conv2d_3[0][0]']     \n",
      " rmalization)                   )                                                                 \n",
      "                                                                                                  \n",
      " activation_3 (Activation)      (None, 128, 128, 16  0           ['batch_normalization_3[0][0]']  \n",
      "                                )                                                                 \n",
      "                                                                                                  \n",
      " dropout_1 (Dropout)            (None, 128, 128, 16  0           ['activation_3[0][0]']           \n",
      "                                )                                                                 \n",
      "                                                                                                  \n",
      " max_pooling2d_1 (MaxPooling2D)  (None, 64, 64, 16)  0           ['dropout_1[0][0]']              \n",
      "                                                                                                  \n",
      " separable_conv2d_4 (SeparableC  (None, 64, 64, 32)  656         ['max_pooling2d_1[0][0]']        \n",
      " onv2D)                                                                                           \n",
      "                                                                                                  \n",
      " batch_normalization_4 (BatchNo  (None, 64, 64, 32)  128         ['separable_conv2d_4[0][0]']     \n",
      " rmalization)                                                                                     \n",
      "                                                                                                  \n",
      " activation_4 (Activation)      (None, 64, 64, 32)   0           ['batch_normalization_4[0][0]']  \n",
      "                                                                                                  \n",
      " separable_conv2d_5 (SeparableC  (None, 64, 64, 32)  1312        ['activation_4[0][0]']           \n",
      " onv2D)                                                                                           \n",
      "                                                                                                  \n",
      " batch_normalization_5 (BatchNo  (None, 64, 64, 32)  128         ['separable_conv2d_5[0][0]']     \n",
      " rmalization)                                                                                     \n",
      "                                                                                                  \n",
      " activation_5 (Activation)      (None, 64, 64, 32)   0           ['batch_normalization_5[0][0]']  \n",
      "                                                                                                  \n",
      " dropout_2 (Dropout)            (None, 64, 64, 32)   0           ['activation_5[0][0]']           \n",
      "                                                                                                  \n",
      " max_pooling2d_2 (MaxPooling2D)  (None, 32, 32, 32)  0           ['dropout_2[0][0]']              \n",
      "                                                                                                  \n",
      " separable_conv2d_6 (SeparableC  (None, 32, 32, 32)  1312        ['max_pooling2d_2[0][0]']        \n",
      " onv2D)                                                                                           \n",
      "                                                                                                  \n",
      " batch_normalization_6 (BatchNo  (None, 32, 32, 32)  128         ['separable_conv2d_6[0][0]']     \n",
      " rmalization)                                                                                     \n",
      "                                                                                                  \n",
      " activation_6 (Activation)      (None, 32, 32, 32)   0           ['batch_normalization_6[0][0]']  \n",
      "                                                                                                  \n",
      " separable_conv2d_7 (SeparableC  (None, 32, 32, 32)  1312        ['activation_6[0][0]']           \n",
      " onv2D)                                                                                           \n"
     ]
    },
    {
     "name": "stdout",
     "output_type": "stream",
     "text": [
      "                                                                                                  \n",
      " batch_normalization_7 (BatchNo  (None, 32, 32, 32)  128         ['separable_conv2d_7[0][0]']     \n",
      " rmalization)                                                                                     \n",
      "                                                                                                  \n",
      " activation_7 (Activation)      (None, 32, 32, 32)   0           ['batch_normalization_7[0][0]']  \n",
      "                                                                                                  \n",
      " dropout_3 (Dropout)            (None, 32, 32, 32)   0           ['activation_7[0][0]']           \n",
      "                                                                                                  \n",
      " up_sampling2d (UpSampling2D)   (None, 64, 64, 32)   0           ['dropout_3[0][0]']              \n",
      "                                                                                                  \n",
      " concatenate (Concatenate)      (None, 64, 64, 64)   0           ['up_sampling2d[0][0]',          \n",
      "                                                                  'dropout_2[0][0]']              \n",
      "                                                                                                  \n",
      " separable_conv2d_8 (SeparableC  (None, 64, 64, 32)  2624        ['concatenate[0][0]']            \n",
      " onv2D)                                                                                           \n",
      "                                                                                                  \n",
      " batch_normalization_8 (BatchNo  (None, 64, 64, 32)  128         ['separable_conv2d_8[0][0]']     \n",
      " rmalization)                                                                                     \n",
      "                                                                                                  \n",
      " activation_8 (Activation)      (None, 64, 64, 32)   0           ['batch_normalization_8[0][0]']  \n",
      "                                                                                                  \n",
      " separable_conv2d_9 (SeparableC  (None, 64, 64, 32)  1312        ['activation_8[0][0]']           \n",
      " onv2D)                                                                                           \n",
      "                                                                                                  \n",
      " batch_normalization_9 (BatchNo  (None, 64, 64, 32)  128         ['separable_conv2d_9[0][0]']     \n",
      " rmalization)                                                                                     \n",
      "                                                                                                  \n",
      " activation_9 (Activation)      (None, 64, 64, 32)   0           ['batch_normalization_9[0][0]']  \n",
      "                                                                                                  \n",
      " dropout_4 (Dropout)            (None, 64, 64, 32)   0           ['activation_9[0][0]']           \n",
      "                                                                                                  \n",
      " up_sampling2d_1 (UpSampling2D)  (None, 128, 128, 32  0          ['dropout_4[0][0]']              \n",
      "                                )                                                                 \n",
      "                                                                                                  \n",
      " concatenate_1 (Concatenate)    (None, 128, 128, 48  0           ['up_sampling2d_1[0][0]',        \n",
      "                                )                                 'dropout_1[0][0]']              \n",
      "                                                                                                  \n",
      " separable_conv2d_10 (Separable  (None, 128, 128, 16  1200       ['concatenate_1[0][0]']          \n",
      " Conv2D)                        )                                                                 \n",
      "                                                                                                  \n",
      " batch_normalization_10 (BatchN  (None, 128, 128, 16  64         ['separable_conv2d_10[0][0]']    \n",
      " ormalization)                  )                                                                 \n",
      "                                                                                                  \n",
      " activation_10 (Activation)     (None, 128, 128, 16  0           ['batch_normalization_10[0][0]'] \n",
      "                                )                                                                 \n",
      "                                                                                                  \n",
      " separable_conv2d_11 (Separable  (None, 128, 128, 16  400        ['activation_10[0][0]']          \n",
      " Conv2D)                        )                                                                 \n",
      "                                                                                                  \n",
      " batch_normalization_11 (BatchN  (None, 128, 128, 16  64         ['separable_conv2d_11[0][0]']    \n",
      " ormalization)                  )                                                                 \n",
      "                                                                                                  \n",
      " activation_11 (Activation)     (None, 128, 128, 16  0           ['batch_normalization_11[0][0]'] \n",
      "                                )                                                                 \n",
      "                                                                                                  \n",
      " dropout_5 (Dropout)            (None, 128, 128, 16  0           ['activation_11[0][0]']          \n",
      "                                )                                                                 \n",
      "                                                                                                  \n",
      " up_sampling2d_2 (UpSampling2D)  (None, 256, 256, 16  0          ['dropout_5[0][0]']              \n",
      "                                )                                                                 \n",
      "                                                                                                  \n",
      " concatenate_2 (Concatenate)    (None, 256, 256, 32  0           ['up_sampling2d_2[0][0]',        \n",
      "                                )                                 'dropout[0][0]']                \n",
      "                                                                                                  \n",
      " separable_conv2d_12 (Separable  (None, 256, 256, 16  800        ['concatenate_2[0][0]']          \n",
      " Conv2D)                        )                                                                 \n",
      "                                                                                                  \n",
      " batch_normalization_12 (BatchN  (None, 256, 256, 16  64         ['separable_conv2d_12[0][0]']    \n",
      " ormalization)                  )                                                                 \n",
      "                                                                                                  \n",
      " activation_12 (Activation)     (None, 256, 256, 16  0           ['batch_normalization_12[0][0]'] \n",
      "                                )                                                                 \n",
      "                                                                                                  \n",
      " separable_conv2d_13 (Separable  (None, 256, 256, 16  400        ['activation_12[0][0]']          \n",
      " Conv2D)                        )                                                                 \n",
      "                                                                                                  \n",
      " batch_normalization_13 (BatchN  (None, 256, 256, 16  64         ['separable_conv2d_13[0][0]']    \n",
      " ormalization)                  )                                                                 \n",
      "                                                                                                  \n",
      " activation_13 (Activation)     (None, 256, 256, 16  0           ['batch_normalization_13[0][0]'] \n",
      "                                )                                                                 \n",
      "                                                                                                  \n",
      " dropout_6 (Dropout)            (None, 256, 256, 16  0           ['activation_13[0][0]']          \n"
     ]
    },
    {
     "name": "stdout",
     "output_type": "stream",
     "text": [
      "                                )                                                                 \n",
      "                                                                                                  \n",
      " separable_conv2d_14 (Separable  (None, 256, 256, 3)  64         ['dropout_6[0][0]']              \n",
      " Conv2D)                                                                                          \n",
      "                                                                                                  \n",
      " reshape (Reshape)              (None, 65536, 3)     0           ['separable_conv2d_14[0][0]']    \n",
      "                                                                                                  \n",
      " activation_14 (Activation)     (None, 65536, 3)     0           ['reshape[0][0]']                \n",
      "                                                                                                  \n",
      "==================================================================================================\n",
      "Total params: 13,897\n",
      "Trainable params: 13,257\n",
      "Non-trainable params: 640\n",
      "__________________________________________________________________________________________________\n"
     ]
    }
   ],
   "source": [
    "model = get_model(img_size, num_classes)\n",
    "model.summary()"
   ]
  },
  {
   "cell_type": "code",
   "execution_count": 12,
   "metadata": {},
   "outputs": [
    {
     "data": {
      "text/plain": [
       "{0.0: 173491229, 1.0: 9002024, 2.0: 8871867}"
      ]
     },
     "execution_count": 12,
     "metadata": {},
     "output_type": "execute_result"
    },
    {
     "name": "stdout",
     "output_type": "stream",
     "text": [
      "[0.025108166095129312, 0.4838963541732521, 0.49099547973161856]\n"
     ]
    }
   ],
   "source": [
    "#Loss function \n",
    "#defined from the paper:\n",
    "#Santana et al._2020_Neural network training for the detection and classification of oceanic mesoscale eddies\n",
    "\n",
    "unique, counts = np.unique(data_y, return_counts=True)\n",
    "dict(zip(unique, counts))\n",
    "\n",
    "freq = [np.sum(counts)/j for j in counts]\n",
    "weightsSeg = [f/np.sum(freq) for f in freq]\n",
    "print(weightsSeg)\n",
    "\n",
    "def dice_coef_anti(y_true, y_pred):\n",
    "    smooth = 1.  # to avoid zero division\n",
    "    y_true_anti = y_true[:,:,1]\n",
    "    y_pred_anti = y_pred[:,:,1]\n",
    "    intersection_anti = K.sum(y_true_anti * y_pred_anti)\n",
    "    return (2 * intersection_anti + smooth) / (K.sum(y_true_anti)+ K.sum(y_pred_anti) + smooth)\n",
    "\n",
    "def dice_coef_cyc(y_true, y_pred):\n",
    "    smooth = 1.  # to avoid zero division\n",
    "    y_true_cyc = y_true[:,:,2]\n",
    "    y_pred_cyc = y_pred[:,:,2]\n",
    "    intersection_cyc = K.sum(y_true_cyc * y_pred_cyc)\n",
    "    return (2 * intersection_cyc + smooth) / (K.sum(y_true_cyc) + K.sum(y_pred_cyc) + smooth)\n",
    "\n",
    "def dice_coef_nn(y_true, y_pred):\n",
    "    smooth = 1.  # to avoid zero division\n",
    "    y_true_nn = y_true[:,:,0]\n",
    "    y_pred_nn = y_pred[:,:,0]\n",
    "    intersection_nn = K.sum(y_true_nn * y_pred_nn)\n",
    "    return (2 * intersection_nn + smooth) / (K.sum(y_true_nn) + K.sum(y_pred_nn) + smooth)\n",
    "    \n",
    "def mean_dice_coef(y_true, y_pred):\n",
    "    return (dice_coef_anti(y_true, y_pred) + dice_coef_cyc(y_true, y_pred) + dice_coef_nn(y_true, y_pred))/3.\n",
    "\n",
    "def weighted_mean_dice_coef(y_true, y_pred):\n",
    "    #return (weightsSeg[2]*dice_coef_anti(y_true, y_pred) + weightsSeg[1]*dice_coef_cyc(y_true, y_pred) + weightsSeg[0]*dice_coef_nn(y_true, y_pred))\n",
    "    return (weightsSeg[2]*dice_coef_anti(y_true, y_pred) + weightsSeg[1]*dice_coef_cyc(y_true, y_pred) + weightsSeg[0]*dice_coef_nn(y_true, y_pred))\n",
    "      \n",
    "def dice_coef_loss(y_true, y_pred):\n",
    "    return 1 - weighted_mean_dice_coef(y_true, y_pred)"
   ]
  },
  {
   "cell_type": "code",
   "execution_count": 13,
   "metadata": {},
   "outputs": [
    {
     "name": "stdout",
     "output_type": "stream",
     "text": [
      "train_input: (2336, 256, 256)\n",
      "val_input: (584, 256, 256)\n",
      "Size of each batch:  (16, 256, 256, 1)\n"
     ]
    }
   ],
   "source": [
    "# Split our img paths into a training and a validation set\n",
    "split = 0.2\n",
    "train_samples = int((1-split)*total_samples)\n",
    "#same seed must be used\n",
    "random.Random(0).shuffle(data_x)\n",
    "random.Random(0).shuffle(data_y)\n",
    "train_input = data_x[0:train_samples]\n",
    "train_target = data_y[0:train_samples]\n",
    "val_input = data_x[train_samples:total_samples]\n",
    "val_target = data_y[train_samples:total_samples]\n",
    "\n",
    "print(\"train_input:\", train_input.shape)\n",
    "print(\"val_input:\", val_input.shape)\n",
    "\n",
    "# Instantiate data Sequences for each split\n",
    "train_gen = plain_net_eddy(batch_size, img_size, train_input, train_target)\n",
    "val_gen = plain_net_eddy(batch_size, img_size, val_input, val_target)\n",
    "print(\"Size of each batch: \",train_gen[1][0].shape)"
   ]
  },
  {
   "cell_type": "code",
   "execution_count": 14,
   "metadata": {},
   "outputs": [
    {
     "name": "stdout",
     "output_type": "stream",
     "text": [
      "Epoch 1/60\n"
     ]
    },
    {
     "name": "stderr",
     "output_type": "stream",
     "text": [
      "/home/ollie/ssunar/.conda/envs/eddy-tracking/lib/python3.8/site-packages/keras/optimizer_v2/adam.py:105: UserWarning: The `lr` argument is deprecated, use `learning_rate` instead.\n",
      "  super(Adam, self).__init__(name, **kwargs)\n"
     ]
    },
    {
     "name": "stdout",
     "output_type": "stream",
     "text": [
      "146/146 [==============================] - 127s 856ms/step - loss: 0.8448 - categorical_accuracy: 0.5298 - mean_dice_coef: 0.2820 - weighted_mean_dice_coef: 0.1552 - val_loss: 0.9090 - val_categorical_accuracy: 0.9112 - val_mean_dice_coef: 0.2908 - val_weighted_mean_dice_coef: 0.0910 - lr: 0.0010\n",
      "Epoch 2/60\n",
      "146/146 [==============================] - 122s 836ms/step - loss: 0.6981 - categorical_accuracy: 0.7467 - mean_dice_coef: 0.4570 - weighted_mean_dice_coef: 0.3019 - val_loss: 0.9441 - val_categorical_accuracy: 0.9090 - val_mean_dice_coef: 0.3372 - val_weighted_mean_dice_coef: 0.0559 - lr: 0.0010\n",
      "Epoch 3/60\n",
      "146/146 [==============================] - 122s 838ms/step - loss: 0.5429 - categorical_accuracy: 0.8932 - mean_dice_coef: 0.6071 - weighted_mean_dice_coef: 0.4571 - val_loss: 0.8330 - val_categorical_accuracy: 0.7678 - val_mean_dice_coef: 0.3868 - val_weighted_mean_dice_coef: 0.1670 - lr: 0.0010\n",
      "Epoch 4/60\n",
      "146/146 [==============================] - 123s 843ms/step - loss: 0.4855 - categorical_accuracy: 0.9133 - mean_dice_coef: 0.6521 - weighted_mean_dice_coef: 0.5145 - val_loss: 0.6904 - val_categorical_accuracy: 0.9047 - val_mean_dice_coef: 0.5120 - val_weighted_mean_dice_coef: 0.3096 - lr: 0.0010\n",
      "Epoch 5/60\n",
      "146/146 [==============================] - 123s 841ms/step - loss: 0.4631 - categorical_accuracy: 0.9184 - mean_dice_coef: 0.6687 - weighted_mean_dice_coef: 0.5369 - val_loss: 0.5705 - val_categorical_accuracy: 0.9033 - val_mean_dice_coef: 0.5930 - val_weighted_mean_dice_coef: 0.4295 - lr: 0.0010\n",
      "Epoch 6/60\n",
      "146/146 [==============================] - 123s 843ms/step - loss: 0.4493 - categorical_accuracy: 0.9212 - mean_dice_coef: 0.6787 - weighted_mean_dice_coef: 0.5507 - val_loss: 0.5586 - val_categorical_accuracy: 0.9110 - val_mean_dice_coef: 0.6027 - val_weighted_mean_dice_coef: 0.4414 - lr: 0.0010\n",
      "Epoch 7/60\n",
      "146/146 [==============================] - 123s 843ms/step - loss: 0.4385 - categorical_accuracy: 0.9234 - mean_dice_coef: 0.6866 - weighted_mean_dice_coef: 0.5615 - val_loss: 0.5565 - val_categorical_accuracy: 0.9151 - val_mean_dice_coef: 0.6050 - val_weighted_mean_dice_coef: 0.4435 - lr: 0.0010\n",
      "Epoch 8/60\n",
      "146/146 [==============================] - 123s 842ms/step - loss: 0.4314 - categorical_accuracy: 0.9247 - mean_dice_coef: 0.6917 - weighted_mean_dice_coef: 0.5686 - val_loss: 0.5666 - val_categorical_accuracy: 0.9186 - val_mean_dice_coef: 0.5986 - val_weighted_mean_dice_coef: 0.4334 - lr: 0.0010\n",
      "Epoch 9/60\n",
      "146/146 [==============================] - 123s 842ms/step - loss: 0.4251 - categorical_accuracy: 0.9261 - mean_dice_coef: 0.6963 - weighted_mean_dice_coef: 0.5749 - val_loss: 0.4940 - val_categorical_accuracy: 0.9000 - val_mean_dice_coef: 0.6445 - val_weighted_mean_dice_coef: 0.5060 - lr: 0.0010\n",
      "Epoch 10/60\n",
      "146/146 [==============================] - 124s 848ms/step - loss: 0.4187 - categorical_accuracy: 0.9274 - mean_dice_coef: 0.7009 - weighted_mean_dice_coef: 0.5813 - val_loss: 0.5049 - val_categorical_accuracy: 0.9050 - val_mean_dice_coef: 0.6381 - val_weighted_mean_dice_coef: 0.4951 - lr: 0.0010\n",
      "Epoch 11/60\n",
      "146/146 [==============================] - 124s 850ms/step - loss: 0.4129 - categorical_accuracy: 0.9285 - mean_dice_coef: 0.7051 - weighted_mean_dice_coef: 0.5871 - val_loss: 0.4941 - val_categorical_accuracy: 0.9097 - val_mean_dice_coef: 0.6464 - val_weighted_mean_dice_coef: 0.5059 - lr: 0.0010\n",
      "Epoch 12/60\n",
      "146/146 [==============================] - 124s 850ms/step - loss: 0.4085 - categorical_accuracy: 0.9292 - mean_dice_coef: 0.7082 - weighted_mean_dice_coef: 0.5915 - val_loss: 0.5171 - val_categorical_accuracy: 0.9209 - val_mean_dice_coef: 0.6327 - val_weighted_mean_dice_coef: 0.4829 - lr: 0.0010\n",
      "Epoch 13/60\n",
      "146/146 [==============================] - 124s 850ms/step - loss: 0.4052 - categorical_accuracy: 0.9298 - mean_dice_coef: 0.7106 - weighted_mean_dice_coef: 0.5948 - val_loss: 0.4868 - val_categorical_accuracy: 0.8912 - val_mean_dice_coef: 0.6476 - val_weighted_mean_dice_coef: 0.5132 - lr: 0.0010\n",
      "Epoch 14/60\n",
      "146/146 [==============================] - 123s 843ms/step - loss: 0.3997 - categorical_accuracy: 0.9309 - mean_dice_coef: 0.7146 - weighted_mean_dice_coef: 0.6003 - val_loss: 0.4855 - val_categorical_accuracy: 0.9130 - val_mean_dice_coef: 0.6528 - val_weighted_mean_dice_coef: 0.5145 - lr: 0.0010\n",
      "Epoch 15/60\n",
      "146/146 [==============================] - 124s 848ms/step - loss: 0.3958 - categorical_accuracy: 0.9317 - mean_dice_coef: 0.7174 - weighted_mean_dice_coef: 0.6042 - val_loss: 0.4896 - val_categorical_accuracy: 0.9163 - val_mean_dice_coef: 0.6507 - val_weighted_mean_dice_coef: 0.5104 - lr: 0.0010\n",
      "Epoch 16/60\n",
      "146/146 [==============================] - 124s 850ms/step - loss: 0.3935 - categorical_accuracy: 0.9325 - mean_dice_coef: 0.7191 - weighted_mean_dice_coef: 0.6065 - val_loss: 0.4804 - val_categorical_accuracy: 0.9090 - val_mean_dice_coef: 0.6556 - val_weighted_mean_dice_coef: 0.5196 - lr: 0.0010\n",
      "Epoch 17/60\n",
      "146/146 [==============================] - 124s 851ms/step - loss: 0.3895 - categorical_accuracy: 0.9328 - mean_dice_coef: 0.7219 - weighted_mean_dice_coef: 0.6105 - val_loss: 0.4796 - val_categorical_accuracy: 0.9184 - val_mean_dice_coef: 0.6579 - val_weighted_mean_dice_coef: 0.5204 - lr: 0.0010\n",
      "Epoch 18/60\n",
      "146/146 [==============================] - 124s 850ms/step - loss: 0.3887 - categorical_accuracy: 0.9331 - mean_dice_coef: 0.7225 - weighted_mean_dice_coef: 0.6113 - val_loss: 0.5075 - val_categorical_accuracy: 0.9218 - val_mean_dice_coef: 0.6395 - val_weighted_mean_dice_coef: 0.4925 - lr: 0.0010\n",
      "Epoch 19/60\n",
      "146/146 [==============================] - 123s 845ms/step - loss: 0.3849 - categorical_accuracy: 0.9337 - mean_dice_coef: 0.7252 - weighted_mean_dice_coef: 0.6151 - val_loss: 0.4635 - val_categorical_accuracy: 0.9185 - val_mean_dice_coef: 0.6688 - val_weighted_mean_dice_coef: 0.5365 - lr: 0.0010\n",
      "Epoch 20/60\n",
      "146/146 [==============================] - 123s 843ms/step - loss: 0.3838 - categorical_accuracy: 0.9342 - mean_dice_coef: 0.7260 - weighted_mean_dice_coef: 0.6162 - val_loss: 0.4777 - val_categorical_accuracy: 0.9200 - val_mean_dice_coef: 0.6593 - val_weighted_mean_dice_coef: 0.5223 - lr: 0.0010\n",
      "Epoch 21/60\n",
      "146/146 [==============================] - 124s 851ms/step - loss: 0.3814 - categorical_accuracy: 0.9344 - mean_dice_coef: 0.7277 - weighted_mean_dice_coef: 0.6186 - val_loss: 0.4699 - val_categorical_accuracy: 0.9207 - val_mean_dice_coef: 0.6648 - val_weighted_mean_dice_coef: 0.5301 - lr: 0.0010\n",
      "Epoch 22/60\n",
      "146/146 [==============================] - 123s 846ms/step - loss: 0.3802 - categorical_accuracy: 0.9346 - mean_dice_coef: 0.7286 - weighted_mean_dice_coef: 0.6198 - val_loss: 0.4694 - val_categorical_accuracy: 0.9196 - val_mean_dice_coef: 0.6650 - val_weighted_mean_dice_coef: 0.5306 - lr: 0.0010\n",
      "Epoch 23/60\n",
      "146/146 [==============================] - 124s 848ms/step - loss: 0.3780 - categorical_accuracy: 0.9349 - mean_dice_coef: 0.7302 - weighted_mean_dice_coef: 0.6220 - val_loss: 0.4480 - val_categorical_accuracy: 0.9080 - val_mean_dice_coef: 0.6773 - val_weighted_mean_dice_coef: 0.5520 - lr: 0.0010\n",
      "Epoch 24/60\n",
      "146/146 [==============================] - 124s 847ms/step - loss: 0.3754 - categorical_accuracy: 0.9355 - mean_dice_coef: 0.7321 - weighted_mean_dice_coef: 0.6246 - val_loss: 0.4590 - val_categorical_accuracy: 0.9127 - val_mean_dice_coef: 0.6708 - val_weighted_mean_dice_coef: 0.5410 - lr: 0.0010\n",
      "Epoch 25/60\n",
      "146/146 [==============================] - 125s 854ms/step - loss: 0.3736 - categorical_accuracy: 0.9360 - mean_dice_coef: 0.7334 - weighted_mean_dice_coef: 0.6264 - val_loss: 0.4686 - val_categorical_accuracy: 0.9206 - val_mean_dice_coef: 0.6658 - val_weighted_mean_dice_coef: 0.5314 - lr: 0.0010\n",
      "Epoch 26/60\n",
      "146/146 [==============================] - 124s 851ms/step - loss: 0.3712 - categorical_accuracy: 0.9362 - mean_dice_coef: 0.7350 - weighted_mean_dice_coef: 0.6288 - val_loss: 0.4751 - val_categorical_accuracy: 0.9160 - val_mean_dice_coef: 0.6605 - val_weighted_mean_dice_coef: 0.5249 - lr: 0.0010\n",
      "Epoch 27/60\n"
     ]
    },
    {
     "name": "stdout",
     "output_type": "stream",
     "text": [
      "146/146 [==============================] - 124s 849ms/step - loss: 0.3700 - categorical_accuracy: 0.9366 - mean_dice_coef: 0.7360 - weighted_mean_dice_coef: 0.6300 - val_loss: 0.4900 - val_categorical_accuracy: 0.9199 - val_mean_dice_coef: 0.6512 - val_weighted_mean_dice_coef: 0.5100 - lr: 0.0010\n",
      "Epoch 28/60\n",
      "146/146 [==============================] - 124s 850ms/step - loss: 0.3705 - categorical_accuracy: 0.9364 - mean_dice_coef: 0.7356 - weighted_mean_dice_coef: 0.6295 - val_loss: 0.4741 - val_categorical_accuracy: 0.9198 - val_mean_dice_coef: 0.6618 - val_weighted_mean_dice_coef: 0.5259 - lr: 0.0010\n",
      "Epoch 29/60\n",
      "146/146 [==============================] - 125s 856ms/step - loss: 0.3683 - categorical_accuracy: 0.9370 - mean_dice_coef: 0.7371 - weighted_mean_dice_coef: 0.6317 - val_loss: 0.4764 - val_categorical_accuracy: 0.9225 - val_mean_dice_coef: 0.6608 - val_weighted_mean_dice_coef: 0.5236 - lr: 0.0010\n",
      "Epoch 30/60\n",
      "146/146 [==============================] - 125s 856ms/step - loss: 0.3681 - categorical_accuracy: 0.9369 - mean_dice_coef: 0.7373 - weighted_mean_dice_coef: 0.6319 - val_loss: 0.4464 - val_categorical_accuracy: 0.9156 - val_mean_dice_coef: 0.6799 - val_weighted_mean_dice_coef: 0.5536 - lr: 0.0010\n",
      "Epoch 31/60\n",
      "146/146 [==============================] - 125s 857ms/step - loss: 0.3659 - categorical_accuracy: 0.9375 - mean_dice_coef: 0.7389 - weighted_mean_dice_coef: 0.6341 - val_loss: 0.4645 - val_categorical_accuracy: 0.9160 - val_mean_dice_coef: 0.6677 - val_weighted_mean_dice_coef: 0.5355 - lr: 0.0010\n",
      "Epoch 32/60\n",
      "146/146 [==============================] - 125s 856ms/step - loss: 0.3644 - categorical_accuracy: 0.9379 - mean_dice_coef: 0.7400 - weighted_mean_dice_coef: 0.6356 - val_loss: 0.4701 - val_categorical_accuracy: 0.9222 - val_mean_dice_coef: 0.6651 - val_weighted_mean_dice_coef: 0.5299 - lr: 0.0010\n",
      "Epoch 33/60\n",
      "146/146 [==============================] - 125s 858ms/step - loss: 0.3632 - categorical_accuracy: 0.9379 - mean_dice_coef: 0.7408 - weighted_mean_dice_coef: 0.6368 - val_loss: 0.4786 - val_categorical_accuracy: 0.9199 - val_mean_dice_coef: 0.6589 - val_weighted_mean_dice_coef: 0.5214 - lr: 0.0010\n",
      "Epoch 34/60\n",
      "146/146 [==============================] - 126s 862ms/step - loss: 0.3626 - categorical_accuracy: 0.9378 - mean_dice_coef: 0.7412 - weighted_mean_dice_coef: 0.6374 - val_loss: 0.4750 - val_categorical_accuracy: 0.9218 - val_mean_dice_coef: 0.6617 - val_weighted_mean_dice_coef: 0.5250 - lr: 0.0010\n",
      "Epoch 35/60\n",
      "146/146 [==============================] - 126s 860ms/step - loss: 0.3608 - categorical_accuracy: 0.9384 - mean_dice_coef: 0.7426 - weighted_mean_dice_coef: 0.6392 - val_loss: 0.4548 - val_categorical_accuracy: 0.9139 - val_mean_dice_coef: 0.6739 - val_weighted_mean_dice_coef: 0.5452 - lr: 0.0010\n",
      "Epoch 36/60\n",
      "146/146 [==============================] - 124s 850ms/step - loss: 0.3607 - categorical_accuracy: 0.9384 - mean_dice_coef: 0.7426 - weighted_mean_dice_coef: 0.6393 - val_loss: 0.4794 - val_categorical_accuracy: 0.9240 - val_mean_dice_coef: 0.6591 - val_weighted_mean_dice_coef: 0.5206 - lr: 0.0010\n",
      "Epoch 37/60\n",
      "146/146 [==============================] - 125s 853ms/step - loss: 0.3578 - categorical_accuracy: 0.9389 - mean_dice_coef: 0.7447 - weighted_mean_dice_coef: 0.6422 - val_loss: 0.4561 - val_categorical_accuracy: 0.9195 - val_mean_dice_coef: 0.6741 - val_weighted_mean_dice_coef: 0.5439 - lr: 0.0010\n",
      "Epoch 38/60\n",
      "146/146 [==============================] - 125s 854ms/step - loss: 0.3578 - categorical_accuracy: 0.9389 - mean_dice_coef: 0.7447 - weighted_mean_dice_coef: 0.6422 - val_loss: 0.4620 - val_categorical_accuracy: 0.9192 - val_mean_dice_coef: 0.6700 - val_weighted_mean_dice_coef: 0.5380 - lr: 0.0010\n",
      "Epoch 39/60\n",
      "146/146 [==============================] - 125s 856ms/step - loss: 0.3571 - categorical_accuracy: 0.9391 - mean_dice_coef: 0.7452 - weighted_mean_dice_coef: 0.6429 - val_loss: 0.4608 - val_categorical_accuracy: 0.9155 - val_mean_dice_coef: 0.6701 - val_weighted_mean_dice_coef: 0.5392 - lr: 0.0010\n",
      "Epoch 40/60\n",
      "146/146 [==============================] - ETA: 0s - loss: 0.3568 - categorical_accuracy: 0.9392 - mean_dice_coef: 0.7455 - weighted_mean_dice_coef: 0.6432\n",
      "Epoch 40: ReduceLROnPlateau reducing learning rate to 0.0005000000237487257.\n",
      "146/146 [==============================] - 124s 849ms/step - loss: 0.3568 - categorical_accuracy: 0.9392 - mean_dice_coef: 0.7455 - weighted_mean_dice_coef: 0.6432 - val_loss: 0.4561 - val_categorical_accuracy: 0.9165 - val_mean_dice_coef: 0.6736 - val_weighted_mean_dice_coef: 0.5439 - lr: 0.0010\n",
      "Epoch 41/60\n",
      "146/146 [==============================] - 124s 849ms/step - loss: 0.3520 - categorical_accuracy: 0.9400 - mean_dice_coef: 0.7489 - weighted_mean_dice_coef: 0.6480 - val_loss: 0.4484 - val_categorical_accuracy: 0.9104 - val_mean_dice_coef: 0.6775 - val_weighted_mean_dice_coef: 0.5516 - lr: 5.0000e-04\n",
      "Epoch 42/60\n",
      "146/146 [==============================] - 126s 863ms/step - loss: 0.3502 - categorical_accuracy: 0.9403 - mean_dice_coef: 0.7502 - weighted_mean_dice_coef: 0.6498 - val_loss: 0.4476 - val_categorical_accuracy: 0.9187 - val_mean_dice_coef: 0.6798 - val_weighted_mean_dice_coef: 0.5524 - lr: 5.0000e-04\n",
      "Epoch 43/60\n",
      "146/146 [==============================] - 125s 855ms/step - loss: 0.3502 - categorical_accuracy: 0.9404 - mean_dice_coef: 0.7502 - weighted_mean_dice_coef: 0.6498 - val_loss: 0.4517 - val_categorical_accuracy: 0.9189 - val_mean_dice_coef: 0.6770 - val_weighted_mean_dice_coef: 0.5483 - lr: 5.0000e-04\n",
      "Epoch 44/60\n",
      "146/146 [==============================] - 124s 851ms/step - loss: 0.3491 - categorical_accuracy: 0.9404 - mean_dice_coef: 0.7509 - weighted_mean_dice_coef: 0.6509 - val_loss: 0.4464 - val_categorical_accuracy: 0.9224 - val_mean_dice_coef: 0.6812 - val_weighted_mean_dice_coef: 0.5536 - lr: 5.0000e-04\n",
      "Epoch 45/60\n",
      "146/146 [==============================] - 124s 852ms/step - loss: 0.3488 - categorical_accuracy: 0.9405 - mean_dice_coef: 0.7512 - weighted_mean_dice_coef: 0.6512 - val_loss: 0.4587 - val_categorical_accuracy: 0.9220 - val_mean_dice_coef: 0.6729 - val_weighted_mean_dice_coef: 0.5413 - lr: 5.0000e-04\n",
      "Epoch 46/60\n",
      "146/146 [==============================] - 125s 853ms/step - loss: 0.3486 - categorical_accuracy: 0.9408 - mean_dice_coef: 0.7513 - weighted_mean_dice_coef: 0.6514 - val_loss: 0.4401 - val_categorical_accuracy: 0.9182 - val_mean_dice_coef: 0.6847 - val_weighted_mean_dice_coef: 0.5599 - lr: 5.0000e-04\n",
      "Epoch 47/60\n",
      "146/146 [==============================] - 126s 863ms/step - loss: 0.3480 - categorical_accuracy: 0.9407 - mean_dice_coef: 0.7517 - weighted_mean_dice_coef: 0.6520 - val_loss: 0.4530 - val_categorical_accuracy: 0.9207 - val_mean_dice_coef: 0.6765 - val_weighted_mean_dice_coef: 0.5470 - lr: 5.0000e-04\n",
      "Epoch 48/60\n",
      "146/146 [==============================] - 124s 849ms/step - loss: 0.3473 - categorical_accuracy: 0.9410 - mean_dice_coef: 0.7523 - weighted_mean_dice_coef: 0.6527 - val_loss: 0.4477 - val_categorical_accuracy: 0.9175 - val_mean_dice_coef: 0.6794 - val_weighted_mean_dice_coef: 0.5523 - lr: 5.0000e-04\n",
      "Epoch 49/60\n",
      "146/146 [==============================] - 125s 854ms/step - loss: 0.3481 - categorical_accuracy: 0.9407 - mean_dice_coef: 0.7516 - weighted_mean_dice_coef: 0.6519 - val_loss: 0.4399 - val_categorical_accuracy: 0.9152 - val_mean_dice_coef: 0.6843 - val_weighted_mean_dice_coef: 0.5601 - lr: 5.0000e-04\n",
      "Epoch 50/60\n",
      "146/146 [==============================] - 125s 856ms/step - loss: 0.3469 - categorical_accuracy: 0.9411 - mean_dice_coef: 0.7526 - weighted_mean_dice_coef: 0.6531 - val_loss: 0.4505 - val_categorical_accuracy: 0.9191 - val_mean_dice_coef: 0.6778 - val_weighted_mean_dice_coef: 0.5495 - lr: 5.0000e-04\n",
      "Epoch 51/60\n",
      "146/146 [==============================] - 125s 855ms/step - loss: 0.3472 - categorical_accuracy: 0.9409 - mean_dice_coef: 0.7523 - weighted_mean_dice_coef: 0.6528 - val_loss: 0.4451 - val_categorical_accuracy: 0.9060 - val_mean_dice_coef: 0.6789 - val_weighted_mean_dice_coef: 0.5549 - lr: 5.0000e-04\n",
      "Epoch 52/60\n",
      "146/146 [==============================] - 126s 861ms/step - loss: 0.3455 - categorical_accuracy: 0.9412 - mean_dice_coef: 0.7535 - weighted_mean_dice_coef: 0.6545 - val_loss: 0.4425 - val_categorical_accuracy: 0.9219 - val_mean_dice_coef: 0.6838 - val_weighted_mean_dice_coef: 0.5575 - lr: 5.0000e-04\n"
     ]
    },
    {
     "name": "stdout",
     "output_type": "stream",
     "text": [
      "Epoch 53/60\n",
      "146/146 [==============================] - 126s 860ms/step - loss: 0.3466 - categorical_accuracy: 0.9410 - mean_dice_coef: 0.7527 - weighted_mean_dice_coef: 0.6534 - val_loss: 0.4416 - val_categorical_accuracy: 0.9199 - val_mean_dice_coef: 0.6840 - val_weighted_mean_dice_coef: 0.5584 - lr: 5.0000e-04\n",
      "Epoch 54/60\n",
      "146/146 [==============================] - 125s 855ms/step - loss: 0.3449 - categorical_accuracy: 0.9413 - mean_dice_coef: 0.7540 - weighted_mean_dice_coef: 0.6551 - val_loss: 0.4437 - val_categorical_accuracy: 0.9167 - val_mean_dice_coef: 0.6820 - val_weighted_mean_dice_coef: 0.5563 - lr: 5.0000e-04\n",
      "Epoch 55/60\n",
      "146/146 [==============================] - 126s 863ms/step - loss: 0.3451 - categorical_accuracy: 0.9413 - mean_dice_coef: 0.7538 - weighted_mean_dice_coef: 0.6549 - val_loss: 0.4663 - val_categorical_accuracy: 0.9247 - val_mean_dice_coef: 0.6682 - val_weighted_mean_dice_coef: 0.5337 - lr: 5.0000e-04\n",
      "Epoch 56/60\n",
      "146/146 [==============================] - 125s 857ms/step - loss: 0.3444 - categorical_accuracy: 0.9414 - mean_dice_coef: 0.7543 - weighted_mean_dice_coef: 0.6556 - val_loss: 0.4450 - val_categorical_accuracy: 0.9242 - val_mean_dice_coef: 0.6826 - val_weighted_mean_dice_coef: 0.5550 - lr: 5.0000e-04\n",
      "Epoch 57/60\n",
      "146/146 [==============================] - 129s 881ms/step - loss: 0.3445 - categorical_accuracy: 0.9415 - mean_dice_coef: 0.7542 - weighted_mean_dice_coef: 0.6555 - val_loss: 0.4614 - val_categorical_accuracy: 0.9215 - val_mean_dice_coef: 0.6709 - val_weighted_mean_dice_coef: 0.5386 - lr: 5.0000e-04\n",
      "Epoch 58/60\n",
      "146/146 [==============================] - 132s 903ms/step - loss: 0.3437 - categorical_accuracy: 0.9415 - mean_dice_coef: 0.7548 - weighted_mean_dice_coef: 0.6563 - val_loss: 0.4563 - val_categorical_accuracy: 0.9219 - val_mean_dice_coef: 0.6745 - val_weighted_mean_dice_coef: 0.5437 - lr: 5.0000e-04\n",
      "Epoch 59/60\n",
      "146/146 [==============================] - ETA: 0s - loss: 0.3437 - categorical_accuracy: 0.9415 - mean_dice_coef: 0.7548 - weighted_mean_dice_coef: 0.6563\n",
      "Epoch 59: ReduceLROnPlateau reducing learning rate to 0.0002500000118743628.\n",
      "146/146 [==============================] - 126s 863ms/step - loss: 0.3437 - categorical_accuracy: 0.9415 - mean_dice_coef: 0.7548 - weighted_mean_dice_coef: 0.6563 - val_loss: 0.4476 - val_categorical_accuracy: 0.9235 - val_mean_dice_coef: 0.6807 - val_weighted_mean_dice_coef: 0.5524 - lr: 5.0000e-04\n",
      "Epoch 60/60\n",
      "146/146 [==============================] - 126s 860ms/step - loss: 0.3407 - categorical_accuracy: 0.9422 - mean_dice_coef: 0.7570 - weighted_mean_dice_coef: 0.6593 - val_loss: 0.4384 - val_categorical_accuracy: 0.9201 - val_mean_dice_coef: 0.6863 - val_weighted_mean_dice_coef: 0.5616 - lr: 2.5000e-04\n"
     ]
    }
   ],
   "source": [
    "file_path_save = \"/home/ollie/ssunar/weights_filter_new/weights\"\n",
    "model.compile(optimizer=Adam(lr=1e-3), loss=dice_coef_loss, metrics=['categorical_accuracy', mean_dice_coef, weighted_mean_dice_coef])\n",
    "\n",
    "callbacks = [keras.callbacks.ModelCheckpoint(file_path_save, save_best_only=True , monitor='val_loss',save_weights_only=True),\n",
    "            keras.callbacks.ReduceLROnPlateau(monitor='val_loss', factor=0.5, patience=10, verbose=1, mode='auto', min_delta=1e-30, min_lr=1e-30)]\n",
    "\n",
    "# Train the model, doing validation at the end of each epoch.\n",
    "history = model.fit(train_gen, epochs=epochs, validation_data=val_gen, callbacks=callbacks, shuffle=True,verbose=1)"
   ]
  },
  {
   "cell_type": "code",
   "execution_count": 15,
   "metadata": {
    "scrolled": false
   },
   "outputs": [
    {
     "data": {
      "image/png": "[encoded data removed]",
      "text/plain": [
       "<Figure size 720x720 with 1 Axes>"
      ]
     },
     "metadata": {
      "needs_background": "light"
     },
     "output_type": "display_data"
    }
   ],
   "source": [
    "plt.figure(figsize=(10, 10))\n",
    "plt.semilogy(model.history.history['loss'])\n",
    "plt.semilogy(model.history.history['val_loss'])\n",
    "plt.title('model loss')\n",
    "plt.ylabel('loss')\n",
    "plt.xlabel('epoch')\n",
    "plt.legend(['train_loss', 'val_loss'], loc='upper right');"
   ]
  },
  {
   "cell_type": "code",
   "execution_count": null,
   "metadata": {},
   "outputs": [],
   "source": []
  },
  {
   "cell_type": "code",
   "execution_count": null,
   "metadata": {},
   "outputs": [],
   "source": []
  },
  {
   "cell_type": "code",
   "execution_count": 16,
   "metadata": {},
   "outputs": [
    {
     "name": "stdout",
     "output_type": "stream",
     "text": [
      "(576, 65536, 3)\n",
      "Time Per image: 0.0034774614604938425\n",
      "Time for 1 year eqv: 1.2692734330802524\n"
     ]
    }
   ],
   "source": [
    "import time\n",
    "from sklearn.metrics import classification_report\n",
    "start = time.time()\n",
    "val_gen = plain_net_eddy(batch_size, img_size, val_input, val_target)\n",
    "val_preds = model.predict(val_gen)\n",
    "print(val_preds.shape)\n",
    "\n",
    "end = time.time()\n",
    "time_per_img = (end - start)/1655\n",
    "print(\"Time Per image:\",time_per_img)\n",
    "print(\"Time for 1 year eqv:\",time_per_img*365)"
   ]
  },
  {
   "cell_type": "code",
   "execution_count": 17,
   "metadata": {},
   "outputs": [
    {
     "name": "stdout",
     "output_type": "stream",
     "text": [
      "(1, 256, 256, 1)\n",
      "(1, 65536, 3)\n",
      "              precision    recall  f1-score   support\n",
      "\n",
      "         0.0       0.93      0.94      0.93     60136\n",
      "         1.0       0.17      0.14      0.16      3040\n",
      "         2.0       0.25      0.24      0.24      2360\n",
      "\n",
      "    accuracy                           0.88     65536\n",
      "   macro avg       0.45      0.44      0.44     65536\n",
      "weighted avg       0.87      0.88      0.87     65536\n",
      "\n"
     ]
    }
   ],
   "source": [
    "# val_gen = plain_net_eddy(batch_size, img_size, val_input, val_target)\n",
    "# mask = np.expand_dims(val_preds, axis=-1)\n",
    "val_gen = data_x[0]\n",
    "val_gen = np.reshape(val_gen,(1,img_size[0],img_size[1],1))\n",
    "print(val_gen.shape)\n",
    "val_preds = model.predict(val_gen)\n",
    "print(val_preds.shape)\n",
    "mask = np.argmax(np.reshape(val_preds[0],(1,img_size[1],img_size[0],3)), axis=-1)\n",
    "mask = np.reshape(mask,(img_size[0],img_size[1]))\n",
    "print(classification_report(np.reshape(data_y[80],(65536)),np.reshape(mask,(65536))))"
   ]
  },
  {
   "cell_type": "code",
   "execution_count": 18,
   "metadata": {},
   "outputs": [
    {
     "data": {
      "text/plain": [
       "<Figure size 1440x720 with 0 Axes>"
      ]
     },
     "execution_count": 18,
     "metadata": {},
     "output_type": "execute_result"
    },
    {
     "data": {
      "text/plain": [
       "<AxesSubplot:>"
      ]
     },
     "execution_count": 18,
     "metadata": {},
     "output_type": "execute_result"
    },
    {
     "data": {
      "text/plain": [
       "<matplotlib.image.AxesImage at 0x2aadc2053a90>"
      ]
     },
     "execution_count": 18,
     "metadata": {},
     "output_type": "execute_result"
    },
    {
     "data": {
      "text/plain": [
       "<matplotlib.colorbar.Colorbar at 0x2aadc214b100>"
      ]
     },
     "execution_count": 18,
     "metadata": {},
     "output_type": "execute_result"
    },
    {
     "data": {
      "text/plain": [
       "(-0.5, 255.5, 255.5, -0.5)"
      ]
     },
     "execution_count": 18,
     "metadata": {},
     "output_type": "execute_result"
    },
    {
     "data": {
      "text/plain": [
       "Text(0.5, 1.0, 'Result Segmentation')"
      ]
     },
     "execution_count": 18,
     "metadata": {},
     "output_type": "execute_result"
    },
    {
     "data": {
      "text/plain": [
       "<AxesSubplot:>"
      ]
     },
     "execution_count": 18,
     "metadata": {},
     "output_type": "execute_result"
    },
    {
     "data": {
      "text/plain": [
       "<matplotlib.image.AxesImage at 0x2aadc20deee0>"
      ]
     },
     "execution_count": 18,
     "metadata": {},
     "output_type": "execute_result"
    },
    {
     "data": {
      "text/plain": [
       "<matplotlib.colorbar.Colorbar at 0x2aadc21ee2b0>"
      ]
     },
     "execution_count": 18,
     "metadata": {},
     "output_type": "execute_result"
    },
    {
     "data": {
      "text/plain": [
       "(-0.5, 255.5, 255.5, -0.5)"
      ]
     },
     "execution_count": 18,
     "metadata": {},
     "output_type": "execute_result"
    },
    {
     "data": {
      "text/plain": [
       "Text(0.5, 1.0, 'Groundtruth Segmentation')"
      ]
     },
     "execution_count": 18,
     "metadata": {},
     "output_type": "execute_result"
    },
    {
     "data": {
      "image/png": "[encoded data removed]",
      "text/plain": [
       "<Figure size 1440x720 with 4 Axes>"
      ]
     },
     "metadata": {
      "needs_background": "light"
     },
     "output_type": "display_data"
    }
   ],
   "source": [
    "#seeing the prediction of one image of the validation set\n",
    "%matplotlib inline\n",
    "\n",
    "plt.figure(figsize=(20, 10))\n",
    "\n",
    "plt.subplot(131)\n",
    "plt.imshow(mask.T, cmap='viridis')\n",
    "plt.colorbar(extend='both', fraction=0.042, pad=0.04)\n",
    "plt.axis('off')\n",
    "plt.title('Result Segmentation');\n",
    "plt.savefig('prediction.png')\n",
    "\n",
    "plt.subplot(132)\n",
    "plt.imshow(data_y[80].T, cmap='viridis')\n",
    "plt.colorbar(extend='both', fraction=0.042, pad=0.04)\n",
    "plt.axis('off')\n",
    "plt.title('Groundtruth Segmentation');\n",
    "plt.savefig('groundtruth.png')"
   ]
  },
  {
   "cell_type": "code",
   "execution_count": null,
   "metadata": {},
   "outputs": [],
   "source": []
  },
  {
   "cell_type": "code",
   "execution_count": null,
   "metadata": {},
   "outputs": [],
   "source": []
  }
 ],
 "metadata": {
  "kernelspec": {
   "display_name": "eddy-tracking",
   "language": "python",
   "name": "eddy-tracking"
  },
  "language_info": {
   "codemirror_mode": {
    "name": "ipython",
    "version": 3
   },
   "file_extension": ".py",
   "mimetype": "text/x-python",
   "name": "python",
   "nbconvert_exporter": "python",
   "pygments_lexer": "ipython3",
   "version": "3.8.12"
  }
 },
 "nbformat": 4,
 "nbformat_minor": 2
}
