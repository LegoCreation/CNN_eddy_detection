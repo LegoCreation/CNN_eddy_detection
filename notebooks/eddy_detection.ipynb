{
 "cells": [
  {
   "cell_type": "code",
   "execution_count": 1,
   "metadata": {
    "scrolled": false
   },
   "outputs": [],
   "source": [
    "import xarray as xr\n",
    "import dask\n",
    "import matplotlib.pyplot as plt\n",
    "import numpy as np\n",
    "from scipy.interpolate import CloughTocher2DInterpolator, LinearNDInterpolator, NearestNDInterpolator\n",
    "import scipy.spatial.qhull as qhull\n",
    "import matplotlib.tri as mtri\n",
    "import matplotlib.cm as cm\n",
    "import os\n",
    "from netCDF4 import Dataset, date2num\n",
    "from datetime import datetime, timedelta\n",
    "import pandas as pd\n",
    "from pandas import Timestamp, to_datetime\n",
    "\n",
    "#import dask.dataframe as dd\n",
    "xr.set_options(display_style=\"text\")\n",
    "from function_02 import*"
   ]
  },
  {
   "cell_type": "code",
   "execution_count": 2,
   "metadata": {
    "scrolled": false
   },
   "outputs": [
    {
     "data": {
      "text/html": [
       "<div>\n",
       "    <div style=\"width: 24px; height: 24px; background-color: #e1e1e1; border: 3px solid #9D9D9D; border-radius: 5px; position: absolute;\"> </div>\n",
       "    <div style=\"margin-left: 48px;\">\n",
       "        <h3 style=\"margin-bottom: 0px;\">Client</h3>\n",
       "        <p style=\"color: #9D9D9D; margin-bottom: 0px;\">Client-936fada8-f2de-11ec-83c1-8df25ea44048</p>\n",
       "        <table style=\"width: 100%; text-align: left;\">\n",
       "\n",
       "        <tr>\n",
       "        \n",
       "            <td style=\"text-align: left;\"><strong>Connection method:</strong> Cluster object</td>\n",
       "            <td style=\"text-align: left;\"><strong>Cluster type:</strong> distributed.LocalCluster</td>\n",
       "        \n",
       "        </tr>\n",
       "\n",
       "        \n",
       "            <tr>\n",
       "                <td style=\"text-align: left;\">\n",
       "                    <strong>Dashboard: </strong> <a href=\"http://127.0.0.1:8787/status\" target=\"_blank\">http://127.0.0.1:8787/status</a>\n",
       "                </td>\n",
       "                <td style=\"text-align: left;\"></td>\n",
       "            </tr>\n",
       "        \n",
       "\n",
       "        </table>\n",
       "\n",
       "        \n",
       "            <details>\n",
       "            <summary style=\"margin-bottom: 20px;\"><h3 style=\"display: inline;\">Cluster Info</h3></summary>\n",
       "            <div class=\"jp-RenderedHTMLCommon jp-RenderedHTML jp-mod-trusted jp-OutputArea-output\">\n",
       "    <div style=\"width: 24px; height: 24px; background-color: #e1e1e1; border: 3px solid #9D9D9D; border-radius: 5px; position: absolute;\">\n",
       "    </div>\n",
       "    <div style=\"margin-left: 48px;\">\n",
       "        <h3 style=\"margin-bottom: 0px; margin-top: 0px;\">LocalCluster</h3>\n",
       "        <p style=\"color: #9D9D9D; margin-bottom: 0px;\">9a43d2c3</p>\n",
       "        <table style=\"width: 100%; text-align: left;\">\n",
       "            <tr>\n",
       "                <td style=\"text-align: left;\">\n",
       "                    <strong>Dashboard:</strong> <a href=\"http://127.0.0.1:8787/status\" target=\"_blank\">http://127.0.0.1:8787/status</a>\n",
       "                </td>\n",
       "                <td style=\"text-align: left;\">\n",
       "                    <strong>Workers:</strong> 4\n",
       "                </td>\n",
       "            </tr>\n",
       "            <tr>\n",
       "                <td style=\"text-align: left;\">\n",
       "                    <strong>Total threads:</strong> 16\n",
       "                </td>\n",
       "                <td style=\"text-align: left;\">\n",
       "                    <strong>Total memory:</strong> 400.00 GiB\n",
       "                </td>\n",
       "            </tr>\n",
       "            \n",
       "            <tr>\n",
       "    <td style=\"text-align: left;\"><strong>Status:</strong> running</td>\n",
       "    <td style=\"text-align: left;\"><strong>Using processes:</strong> True</td>\n",
       "</tr>\n",
       "\n",
       "            \n",
       "        </table>\n",
       "\n",
       "        <details>\n",
       "            <summary style=\"margin-bottom: 20px;\">\n",
       "                <h3 style=\"display: inline;\">Scheduler Info</h3>\n",
       "            </summary>\n",
       "\n",
       "            <div style=\"\">\n",
       "    <div>\n",
       "        <div style=\"width: 24px; height: 24px; background-color: #FFF7E5; border: 3px solid #FF6132; border-radius: 5px; position: absolute;\"> </div>\n",
       "        <div style=\"margin-left: 48px;\">\n",
       "            <h3 style=\"margin-bottom: 0px;\">Scheduler</h3>\n",
       "            <p style=\"color: #9D9D9D; margin-bottom: 0px;\">Scheduler-fd1cfbae-b974-48fe-b90d-86c5fe03b1a6</p>\n",
       "            <table style=\"width: 100%; text-align: left;\">\n",
       "                <tr>\n",
       "                    <td style=\"text-align: left;\">\n",
       "                        <strong>Comm:</strong> tcp://127.0.0.1:46580\n",
       "                    </td>\n",
       "                    <td style=\"text-align: left;\">\n",
       "                        <strong>Workers:</strong> 4\n",
       "                    </td>\n",
       "                </tr>\n",
       "                <tr>\n",
       "                    <td style=\"text-align: left;\">\n",
       "                        <strong>Dashboard:</strong> <a href=\"http://127.0.0.1:8787/status\" target=\"_blank\">http://127.0.0.1:8787/status</a>\n",
       "                    </td>\n",
       "                    <td style=\"text-align: left;\">\n",
       "                        <strong>Total threads:</strong> 16\n",
       "                    </td>\n",
       "                </tr>\n",
       "                <tr>\n",
       "                    <td style=\"text-align: left;\">\n",
       "                        <strong>Started:</strong> Just now\n",
       "                    </td>\n",
       "                    <td style=\"text-align: left;\">\n",
       "                        <strong>Total memory:</strong> 400.00 GiB\n",
       "                    </td>\n",
       "                </tr>\n",
       "            </table>\n",
       "        </div>\n",
       "    </div>\n",
       "\n",
       "    <details style=\"margin-left: 48px;\">\n",
       "        <summary style=\"margin-bottom: 20px;\">\n",
       "            <h3 style=\"display: inline;\">Workers</h3>\n",
       "        </summary>\n",
       "\n",
       "        \n",
       "        <div style=\"margin-bottom: 20px;\">\n",
       "            <div style=\"width: 24px; height: 24px; background-color: #DBF5FF; border: 3px solid #4CC9FF; border-radius: 5px; position: absolute;\"> </div>\n",
       "            <div style=\"margin-left: 48px;\">\n",
       "            <details>\n",
       "                <summary>\n",
       "                    <h4 style=\"margin-bottom: 0px; display: inline;\">Worker: 0</h4>\n",
       "                </summary>\n",
       "                <table style=\"width: 100%; text-align: left;\">\n",
       "                    <tr>\n",
       "                        <td style=\"text-align: left;\">\n",
       "                            <strong>Comm: </strong> tcp://127.0.0.1:33482\n",
       "                        </td>\n",
       "                        <td style=\"text-align: left;\">\n",
       "                            <strong>Total threads: </strong> 4\n",
       "                        </td>\n",
       "                    </tr>\n",
       "                    <tr>\n",
       "                        <td style=\"text-align: left;\">\n",
       "                            <strong>Dashboard: </strong> <a href=\"http://127.0.0.1:39339/status\" target=\"_blank\">http://127.0.0.1:39339/status</a>\n",
       "                        </td>\n",
       "                        <td style=\"text-align: left;\">\n",
       "                            <strong>Memory: </strong> 100.00 GiB\n",
       "                        </td>\n",
       "                    </tr>\n",
       "                    <tr>\n",
       "                        <td style=\"text-align: left;\">\n",
       "                            <strong>Nanny: </strong> tcp://127.0.0.1:34115\n",
       "                        </td>\n",
       "                        <td style=\"text-align: left;\"></td>\n",
       "                    </tr>\n",
       "                    <tr>\n",
       "                        <td colspan=\"2\" style=\"text-align: left;\">\n",
       "                            <strong>Local directory: </strong> /home/ollie/ssunar/dask-worker-space/worker-jz8of1ak\n",
       "                        </td>\n",
       "                    </tr>\n",
       "\n",
       "                    \n",
       "\n",
       "                    \n",
       "\n",
       "                </table>\n",
       "            </details>\n",
       "            </div>\n",
       "        </div>\n",
       "        \n",
       "        <div style=\"margin-bottom: 20px;\">\n",
       "            <div style=\"width: 24px; height: 24px; background-color: #DBF5FF; border: 3px solid #4CC9FF; border-radius: 5px; position: absolute;\"> </div>\n",
       "            <div style=\"margin-left: 48px;\">\n",
       "            <details>\n",
       "                <summary>\n",
       "                    <h4 style=\"margin-bottom: 0px; display: inline;\">Worker: 1</h4>\n",
       "                </summary>\n",
       "                <table style=\"width: 100%; text-align: left;\">\n",
       "                    <tr>\n",
       "                        <td style=\"text-align: left;\">\n",
       "                            <strong>Comm: </strong> tcp://127.0.0.1:43424\n",
       "                        </td>\n",
       "                        <td style=\"text-align: left;\">\n",
       "                            <strong>Total threads: </strong> 4\n",
       "                        </td>\n",
       "                    </tr>\n",
       "                    <tr>\n",
       "                        <td style=\"text-align: left;\">\n",
       "                            <strong>Dashboard: </strong> <a href=\"http://127.0.0.1:46510/status\" target=\"_blank\">http://127.0.0.1:46510/status</a>\n",
       "                        </td>\n",
       "                        <td style=\"text-align: left;\">\n",
       "                            <strong>Memory: </strong> 100.00 GiB\n",
       "                        </td>\n",
       "                    </tr>\n",
       "                    <tr>\n",
       "                        <td style=\"text-align: left;\">\n",
       "                            <strong>Nanny: </strong> tcp://127.0.0.1:36821\n",
       "                        </td>\n",
       "                        <td style=\"text-align: left;\"></td>\n",
       "                    </tr>\n",
       "                    <tr>\n",
       "                        <td colspan=\"2\" style=\"text-align: left;\">\n",
       "                            <strong>Local directory: </strong> /home/ollie/ssunar/dask-worker-space/worker-39o_o9pd\n",
       "                        </td>\n",
       "                    </tr>\n",
       "\n",
       "                    \n",
       "\n",
       "                    \n",
       "\n",
       "                </table>\n",
       "            </details>\n",
       "            </div>\n",
       "        </div>\n",
       "        \n",
       "        <div style=\"margin-bottom: 20px;\">\n",
       "            <div style=\"width: 24px; height: 24px; background-color: #DBF5FF; border: 3px solid #4CC9FF; border-radius: 5px; position: absolute;\"> </div>\n",
       "            <div style=\"margin-left: 48px;\">\n",
       "            <details>\n",
       "                <summary>\n",
       "                    <h4 style=\"margin-bottom: 0px; display: inline;\">Worker: 2</h4>\n",
       "                </summary>\n",
       "                <table style=\"width: 100%; text-align: left;\">\n",
       "                    <tr>\n",
       "                        <td style=\"text-align: left;\">\n",
       "                            <strong>Comm: </strong> tcp://127.0.0.1:43086\n",
       "                        </td>\n",
       "                        <td style=\"text-align: left;\">\n",
       "                            <strong>Total threads: </strong> 4\n",
       "                        </td>\n",
       "                    </tr>\n",
       "                    <tr>\n",
       "                        <td style=\"text-align: left;\">\n",
       "                            <strong>Dashboard: </strong> <a href=\"http://127.0.0.1:46552/status\" target=\"_blank\">http://127.0.0.1:46552/status</a>\n",
       "                        </td>\n",
       "                        <td style=\"text-align: left;\">\n",
       "                            <strong>Memory: </strong> 100.00 GiB\n",
       "                        </td>\n",
       "                    </tr>\n",
       "                    <tr>\n",
       "                        <td style=\"text-align: left;\">\n",
       "                            <strong>Nanny: </strong> tcp://127.0.0.1:44765\n",
       "                        </td>\n",
       "                        <td style=\"text-align: left;\"></td>\n",
       "                    </tr>\n",
       "                    <tr>\n",
       "                        <td colspan=\"2\" style=\"text-align: left;\">\n",
       "                            <strong>Local directory: </strong> /home/ollie/ssunar/dask-worker-space/worker-sb3jt3o_\n",
       "                        </td>\n",
       "                    </tr>\n",
       "\n",
       "                    \n",
       "\n",
       "                    \n",
       "\n",
       "                </table>\n",
       "            </details>\n",
       "            </div>\n",
       "        </div>\n",
       "        \n",
       "        <div style=\"margin-bottom: 20px;\">\n",
       "            <div style=\"width: 24px; height: 24px; background-color: #DBF5FF; border: 3px solid #4CC9FF; border-radius: 5px; position: absolute;\"> </div>\n",
       "            <div style=\"margin-left: 48px;\">\n",
       "            <details>\n",
       "                <summary>\n",
       "                    <h4 style=\"margin-bottom: 0px; display: inline;\">Worker: 3</h4>\n",
       "                </summary>\n",
       "                <table style=\"width: 100%; text-align: left;\">\n",
       "                    <tr>\n",
       "                        <td style=\"text-align: left;\">\n",
       "                            <strong>Comm: </strong> tcp://127.0.0.1:38900\n",
       "                        </td>\n",
       "                        <td style=\"text-align: left;\">\n",
       "                            <strong>Total threads: </strong> 4\n",
       "                        </td>\n",
       "                    </tr>\n",
       "                    <tr>\n",
       "                        <td style=\"text-align: left;\">\n",
       "                            <strong>Dashboard: </strong> <a href=\"http://127.0.0.1:41725/status\" target=\"_blank\">http://127.0.0.1:41725/status</a>\n",
       "                        </td>\n",
       "                        <td style=\"text-align: left;\">\n",
       "                            <strong>Memory: </strong> 100.00 GiB\n",
       "                        </td>\n",
       "                    </tr>\n",
       "                    <tr>\n",
       "                        <td style=\"text-align: left;\">\n",
       "                            <strong>Nanny: </strong> tcp://127.0.0.1:33563\n",
       "                        </td>\n",
       "                        <td style=\"text-align: left;\"></td>\n",
       "                    </tr>\n",
       "                    <tr>\n",
       "                        <td colspan=\"2\" style=\"text-align: left;\">\n",
       "                            <strong>Local directory: </strong> /home/ollie/ssunar/dask-worker-space/worker-lcoskckx\n",
       "                        </td>\n",
       "                    </tr>\n",
       "\n",
       "                    \n",
       "\n",
       "                    \n",
       "\n",
       "                </table>\n",
       "            </details>\n",
       "            </div>\n",
       "        </div>\n",
       "        \n",
       "\n",
       "    </details>\n",
       "</div>\n",
       "\n",
       "        </details>\n",
       "    </div>\n",
       "</div>\n",
       "            </details>\n",
       "        \n",
       "\n",
       "    </div>\n",
       "</div>"
      ],
      "text/plain": [
       "<Client: 'tcp://127.0.0.1:46580' processes=4 threads=16, memory=400.00 GiB>"
      ]
     },
     "execution_count": 2,
     "metadata": {},
     "output_type": "execute_result"
    }
   ],
   "source": [
    "from dask.distributed import Client, LocalCluster\n",
    "cluster = LocalCluster(memory_limit='128GB')\n",
    "client = Client(cluster)\n",
    "client"
   ]
  },
  {
   "cell_type": "code",
   "execution_count": 2,
   "metadata": {
    "scrolled": false
   },
   "outputs": [
    {
     "name": "stdout",
     "output_type": "stream",
     "text": [
      "Please input values in degree\n",
      "Please enter with '-' sign if the values are in degree south or west\n",
      "left: -70\n",
      "right: 30\n",
      "top: -60\n",
      "bottom: -20\n"
     ]
    }
   ],
   "source": [
    "data_address = '/work/ollie/nkolduno/output_orca12/ssh.fesom.1961.nc'\n",
    "grid_address = '/work/ollie/nkolduno/meshes/FORCA12/fesom.mesh.diag.nc'\n",
    "nod2dfile = '/work/ollie/nkolduno/meshes/FORCA12/nod2d.out'\n",
    "elm2dfile = '/work/ollie/nkolduno/meshes/FORCA12/elem2d.out'\n",
    "data = xr.open_dataset(data_address) #check if we can get effective solution if divided into seperate chunks\n",
    "grid = xr.open_dataset(grid_address)\n",
    "    \n",
    "model_lon_nc = grid.lon.values\n",
    "model_lat_nc = grid.lat.values\n",
    "\n",
    "\n",
    "contentfile = pd.read_csv(\n",
    "nod2dfile,\n",
    "delim_whitespace=True,\n",
    "skiprows=1,\n",
    "names=[\"node_number\", \"x\", \"y\", \"flag\"],\n",
    ")\n",
    "model_lon = contentfile.x.values\n",
    "model_lat = contentfile.y.values\n",
    "\n",
    "\n",
    "lon, lat = region_init()\n",
    "lon2, lat2 = np.meshgrid(lon, lat)\n",
    "lon2 = lon2.T\n",
    "lat2 = lat2.T"
   ]
  },
  {
   "cell_type": "code",
   "execution_count": 10,
   "metadata": {
    "scrolled": false
   },
   "outputs": [
    {
     "name": "stdout",
     "output_type": "stream",
     "text": [
      "2.705701020831318e-10\n",
      "-8.597204459035774e-09\n"
     ]
    }
   ],
   "source": [
    "print(sum(model_lat - model_lat_nc))\n",
    "print(sum(model_lon - model_lon_nc))\n"
   ]
  },
  {
   "cell_type": "code",
   "execution_count": 11,
   "metadata": {
    "scrolled": true
   },
   "outputs": [
    {
     "data": {
      "text/plain": [
       "\"\\nfile_content_elem['temp'] = file_content_elem['third_elem']\\nfile_content_elem['third_elem'] = file_content_elem['second_elem']\\nfile_content_elem['second_elem'] = file_content_elem['temp']\\nfile_content_elem.drop('temp', inplace=True, axis = 1)\\n\""
      ]
     },
     "execution_count": 11,
     "metadata": {},
     "output_type": "execute_result"
    }
   ],
   "source": [
    "file_content_elem = pd.read_csv(\n",
    "    elm2dfile,\n",
    "    delim_whitespace=True,\n",
    "    skiprows=1,\n",
    "    names=[\"first_elem\", \"second_elem\", \"third_elem\"],\n",
    ")\n",
    "'''\n",
    "file_content_elem['temp'] = file_content_elem['third_elem']\n",
    "file_content_elem['third_elem'] = file_content_elem['second_elem']\n",
    "file_content_elem['second_elem'] = file_content_elem['temp']\n",
    "file_content_elem.drop('temp', inplace=True, axis = 1)\n",
    "'''\n"
   ]
  },
  {
   "cell_type": "code",
   "execution_count": 12,
   "metadata": {},
   "outputs": [
    {
     "data": {
      "text/plain": [
       "array([[      0,       3,       6],\n",
       "       [      0,       2,       1],\n",
       "       [      0,       1,       3],\n",
       "       ...,\n",
       "       [8852360, 8852364, 8852362],\n",
       "       [8852362, 8852364, 8852363],\n",
       "       [8852363, 8852364, 8852365]], dtype=int32)"
      ]
     },
     "execution_count": 12,
     "metadata": {},
     "output_type": "execute_result"
    }
   ],
   "source": [
    "elem = (file_content_elem.values - 1).astype('int32')\n",
    "elem"
   ]
  },
  {
   "cell_type": "code",
   "execution_count": 13,
   "metadata": {
    "scrolled": true
   },
   "outputs": [
    {
     "data": {
      "text/plain": [
       "array([[      0,       6,       3],\n",
       "       [      0,       1,       2],\n",
       "       [      0,       3,       1],\n",
       "       ...,\n",
       "       [8852360, 8852362, 8852364],\n",
       "       [8852362, 8852363, 8852364],\n",
       "       [8852363, 8852365, 8852364]], dtype=int32)"
      ]
     },
     "execution_count": 13,
     "metadata": {},
     "output_type": "execute_result"
    }
   ],
   "source": [
    "elem_nc = (grid.elements.data.astype('int32')-1).T\n",
    "elem_nc"
   ]
  },
  {
   "cell_type": "code",
   "execution_count": 7,
   "metadata": {
    "scrolled": false
   },
   "outputs": [
    {
     "name": "stdout",
     "output_type": "stream",
     "text": [
      "CPU times: user 3min 30s, sys: 11 s, total: 3min 41s\n",
      "Wall time: 3min 41s\n"
     ]
    }
   ],
   "source": [
    "%%time\n",
    "triang, tri = triangulator(data, elem, model_lon, model_lat)"
   ]
  },
  {
   "cell_type": "code",
   "execution_count": 8,
   "metadata": {
    "scrolled": true
   },
   "outputs": [
    {
     "name": "stdout",
     "output_type": "stream",
     "text": [
      "CPU times: user 4.52 s, sys: 544 ms, total: 5.06 s\n",
      "Wall time: 5.22 s\n"
     ]
    }
   ],
   "source": [
    "%%time\n",
    "days = 1\n",
    "#triangularized_data = [] \n",
    "NN_interpolator_list = []\n",
    "points = np.vstack((model_lon, model_lat)).T\n",
    "linear_interpolator_list = []\n",
    "for day in range(days):\n",
    "    data_sample = data.ssh[day,:].values\n",
    "    #data_sample_scattered = client.scatter(data_sample)\n",
    "    triangularized_lazy_data = data_triangulation(triang, tri, data_sample)(lon2, lat2)\n",
    "    #NN_interpolator = nearest_nei_interpolator(triangularized_lazy_data, data_sample, model_lon, model_lat, lon2, lat2)\n",
    "    nn_interpolation = NearestNDInterpolator(points, data_sample)((lon2, lat2))\n",
    "    NN_interpolator_list.append(nn_interpolation)\n",
    "    linear_interpolator_list.append(np.ma.masked_invalid(triangularized_lazy_data))"
   ]
  },
  {
   "cell_type": "code",
   "execution_count": 14,
   "metadata": {
    "scrolled": false
   },
   "outputs": [
    {
     "data": {
      "text/plain": [
       "(1200, 480)"
      ]
     },
     "execution_count": 14,
     "metadata": {},
     "output_type": "execute_result"
    }
   ],
   "source": [
    "linear_interpolator_list[0].shape"
   ]
  },
  {
   "cell_type": "code",
   "execution_count": null,
   "metadata": {},
   "outputs": [],
   "source": []
  },
  {
   "cell_type": "code",
   "execution_count": null,
   "metadata": {},
   "outputs": [],
   "source": [
    "for day in range(days):\n",
    "    year = 1961\n",
    "    out_path =  \"/home/ollie/ssunar/output_files/\"\n",
    "    outfile = (out_path+'ssh_gridded_'+str(day)+'nn.nc')\n",
    "    if os.path.isfile(outfile):\n",
    "        os.remove(outfile)\n",
    "\n",
    "    fw = Dataset(outfile, 'w')\n",
    "    fw.createDimension('LONGITUDE', lon.size)\n",
    "    fw.createDimension('LATITUDE', lat.size)\n",
    "\n",
    "    lon3 = fw.createVariable('LONGITUDE', 'f', ('LONGITUDE',))\n",
    "    lat3  = fw.createVariable('LATITUDE', 'f', ('LATITUDE',))\n",
    "    ssh = fw.createVariable('ssh',np.float64, ('LONGITUDE', 'LATITUDE'))\n",
    "    lat3.units = 'degrees_north'\n",
    "    lat3.long_name = 'latitude'\n",
    "    lon3.units = 'degrees_east'\n",
    "    lon3.long_name = 'longitude'\n",
    "    ssh.units = 'm'\n",
    "    ssh.description = 'sea surface elevation'\n",
    "    ssh.long_name = 'sea surface elevation'\n",
    "    lon3[:] = lon[:]\n",
    "    lat3[:] = lat[:]\n",
    "    ssh[:] = NN_interpolator_list[day][:]\n",
    "    fw.close()\n",
    "    "
   ]
  },
  {
   "cell_type": "code",
   "execution_count": null,
   "metadata": {},
   "outputs": [],
   "source": [
    "for day in range(days):\n",
    "    year = 1961\n",
    "    out_path =  \"/home/ollie/ssunar/\"\n",
    "    outfile = (out_path+'ssh_gridded_'+str(day)+'linear.nc')\n",
    "    if os.path.isfile(outfile):\n",
    "        os.remove(outfile)\n",
    "\n",
    "    fw = Dataset(outfile, 'w')\n",
    "    fw.createDimension('LONGITUDE', lon.size)\n",
    "    fw.createDimension('LATITUDE', lat.size)\n",
    "\n",
    "    lon3 = fw.createVariable('LONGITUDE', 'f', ('LONGITUDE',))\n",
    "    lat3  = fw.createVariable('LATITUDE', 'f', ('LATITUDE',))\n",
    "    ssh = fw.createVariable('ssh',np.float64, ('LONGITUDE', 'LATITUDE'))\n",
    "    lat3.units = 'degrees_north'\n",
    "    lat3.long_name = 'latitude'\n",
    "    lon3.units = 'degrees_east'\n",
    "    lon3.long_name = 'longitude'\n",
    "    ssh.units = 'm'\n",
    "    ssh.description = 'sea surface elevation'\n",
    "    ssh.long_name = 'sea surface elevation'\n",
    "    lon3[:] = lon[:]\n",
    "    lat3[:] = lat[:]\n",
    "    ssh[day] = linear_interpolator_list[day][:]\n",
    "    fw.close()"
   ]
  },
  {
   "cell_type": "code",
   "execution_count": null,
   "metadata": {},
   "outputs": [],
   "source": []
  },
  {
   "cell_type": "code",
   "execution_count": 15,
   "metadata": {},
   "outputs": [],
   "source": [
    "year = 1961\n",
    "out_path =  \"/home/ollie/ssunar/\"\n",
    "outfile = (out_path+'ssh_gridded_'+str(year)+'_'+str(0+1).zfill(3)+'_m.nc')\n",
    "if os.path.isfile(outfile):\n",
    "    os.remove(outfile)"
   ]
  },
  {
   "cell_type": "code",
   "execution_count": 16,
   "metadata": {},
   "outputs": [],
   "source": [
    "year = 1961\n",
    "out_path =  \"/home/ollie/ssunar/\"\n",
    "outfile = (out_path+'ssh_gridded_'+str(year)+'_'+str(0+1).zfill(3)+'_m.nc')\n",
    "if os.path.isfile(outfile):\n",
    "    os.remove(outfile)"
   ]
  },
  {
   "cell_type": "code",
   "execution_count": 17,
   "metadata": {},
   "outputs": [],
   "source": [
    "times = data.coords['time'].values\n",
    "time_unit_out= \"hours since 1950-01-01 00:00:00\" #hours in case higher resolution output"
   ]
  },
  {
   "cell_type": "code",
   "execution_count": 18,
   "metadata": {},
   "outputs": [],
   "source": [
    "fw = Dataset(outfile, 'w')"
   ]
  },
  {
   "cell_type": "code",
   "execution_count": 19,
   "metadata": {},
   "outputs": [
    {
     "data": {
      "text/plain": [
       "<class 'netCDF4._netCDF4.Dimension'>: name = 'LATITUDE', size = 480"
      ]
     },
     "execution_count": 19,
     "metadata": {},
     "output_type": "execute_result"
    }
   ],
   "source": [
    "fw.createDimension('TIME', days)\n",
    "fw.createDimension('LONGITUDE', lon.size)\n",
    "fw.createDimension('LATITUDE', lat.size)"
   ]
  },
  {
   "cell_type": "code",
   "execution_count": 20,
   "metadata": {},
   "outputs": [],
   "source": [
    "lon3 = fw.createVariable('LONGITUDE', 'f', ('LONGITUDE',))\n",
    "lat3  = fw.createVariable('LATITUDE', 'f', ('LATITUDE',))        \n",
    "time = fw.createVariable('TIME', 'f', ('TIME',))                  \n",
    "ssh = fw.createVariable('ssh',np.float64, ('TIME','LONGITUDE', 'LATITUDE'))\n"
   ]
  },
  {
   "cell_type": "code",
   "execution_count": 21,
   "metadata": {},
   "outputs": [],
   "source": [
    "lat3.units = 'degrees_north'\n",
    "lat3.long_name = 'latitude'\n",
    "lon3.units = 'degrees_east'\n",
    "lon3.long_name = 'longitude'"
   ]
  },
  {
   "cell_type": "code",
   "execution_count": 22,
   "metadata": {},
   "outputs": [],
   "source": [
    "ssh.units = 'm'"
   ]
  },
  {
   "cell_type": "code",
   "execution_count": 23,
   "metadata": {},
   "outputs": [],
   "source": [
    "ssh.description = 'sea surface elevation'\n",
    "ssh.long_name = 'sea surface elevation'"
   ]
  },
  {
   "cell_type": "code",
   "execution_count": 24,
   "metadata": {},
   "outputs": [],
   "source": [
    "time.setncattr('unit',time_unit_out)"
   ]
  },
  {
   "cell_type": "code",
   "execution_count": 25,
   "metadata": {
    "scrolled": true
   },
   "outputs": [
    {
     "name": "stdout",
     "output_type": "stream",
     "text": [
      "[--]\n"
     ]
    }
   ],
   "source": [
    "print(time[:])"
   ]
  },
  {
   "cell_type": "code",
   "execution_count": 26,
   "metadata": {},
   "outputs": [
    {
     "name": "stdout",
     "output_type": "stream",
     "text": [
      "[-70.       -69.916664 -69.833336 ...  29.75      29.833334  29.916666]\n"
     ]
    }
   ],
   "source": [
    "lon3[:] = lon[:]\n",
    "print(lon3[:])"
   ]
  },
  {
   "cell_type": "code",
   "execution_count": 27,
   "metadata": {},
   "outputs": [],
   "source": [
    "lat3[:] = lat[:]"
   ]
  },
  {
   "cell_type": "code",
   "execution_count": 28,
   "metadata": {},
   "outputs": [
    {
     "data": {
      "text/plain": [
       "masked_array(data=[-60.      , -59.916668, -59.833332, -59.75    ,\n",
       "                   -59.666668, -59.583332, -59.5     , -59.416668,\n",
       "                   -59.333332, -59.25    , -59.166668, -59.083332,\n",
       "                   -59.      , -58.916668, -58.833332, -58.75    ,\n",
       "                   -58.666668, -58.583332, -58.5     , -58.416668,\n",
       "                   -58.333332, -58.25    , -58.166668, -58.083332,\n",
       "                   -58.      , -57.916668, -57.833332, -57.75    ,\n",
       "                   -57.666668, -57.583332, -57.5     , -57.416668,\n",
       "                   -57.333332, -57.25    , -57.166668, -57.083332,\n",
       "                   -57.      , -56.916668, -56.833332, -56.75    ,\n",
       "                   -56.666668, -56.583332, -56.5     , -56.416668,\n",
       "                   -56.333332, -56.25    , -56.166668, -56.083332,\n",
       "                   -56.      , -55.916668, -55.833332, -55.75    ,\n",
       "                   -55.666668, -55.583332, -55.5     , -55.416668,\n",
       "                   -55.333332, -55.25    , -55.166668, -55.083332,\n",
       "                   -55.      , -54.916668, -54.833332, -54.75    ,\n",
       "                   -54.666668, -54.583332, -54.5     , -54.416668,\n",
       "                   -54.333332, -54.25    , -54.166668, -54.083332,\n",
       "                   -54.      , -53.916668, -53.833332, -53.75    ,\n",
       "                   -53.666668, -53.583332, -53.5     , -53.416668,\n",
       "                   -53.333332, -53.25    , -53.166668, -53.083332,\n",
       "                   -53.      , -52.916668, -52.833332, -52.75    ,\n",
       "                   -52.666668, -52.583332, -52.5     , -52.416668,\n",
       "                   -52.333332, -52.25    , -52.166668, -52.083332,\n",
       "                   -52.      , -51.916668, -51.833332, -51.75    ,\n",
       "                   -51.666668, -51.583332, -51.5     , -51.416668,\n",
       "                   -51.333332, -51.25    , -51.166668, -51.083332,\n",
       "                   -51.      , -50.916668, -50.833332, -50.75    ,\n",
       "                   -50.666668, -50.583332, -50.5     , -50.416668,\n",
       "                   -50.333332, -50.25    , -50.166668, -50.083332,\n",
       "                   -50.      , -49.916668, -49.833332, -49.75    ,\n",
       "                   -49.666668, -49.583332, -49.5     , -49.416668,\n",
       "                   -49.333332, -49.25    , -49.166668, -49.083332,\n",
       "                   -49.      , -48.916668, -48.833332, -48.75    ,\n",
       "                   -48.666668, -48.583332, -48.5     , -48.416668,\n",
       "                   -48.333332, -48.25    , -48.166668, -48.083332,\n",
       "                   -48.      , -47.916668, -47.833332, -47.75    ,\n",
       "                   -47.666668, -47.583332, -47.5     , -47.416668,\n",
       "                   -47.333332, -47.25    , -47.166668, -47.083332,\n",
       "                   -47.      , -46.916668, -46.833332, -46.75    ,\n",
       "                   -46.666668, -46.583332, -46.5     , -46.416668,\n",
       "                   -46.333332, -46.25    , -46.166668, -46.083332,\n",
       "                   -46.      , -45.916668, -45.833332, -45.75    ,\n",
       "                   -45.666668, -45.583332, -45.5     , -45.416668,\n",
       "                   -45.333332, -45.25    , -45.166668, -45.083332,\n",
       "                   -45.      , -44.916668, -44.833332, -44.75    ,\n",
       "                   -44.666668, -44.583332, -44.5     , -44.416668,\n",
       "                   -44.333332, -44.25    , -44.166668, -44.083332,\n",
       "                   -44.      , -43.916668, -43.833332, -43.75    ,\n",
       "                   -43.666668, -43.583332, -43.5     , -43.416668,\n",
       "                   -43.333332, -43.25    , -43.166668, -43.083332,\n",
       "                   -43.      , -42.916668, -42.833332, -42.75    ,\n",
       "                   -42.666668, -42.583332, -42.5     , -42.416668,\n",
       "                   -42.333332, -42.25    , -42.166668, -42.083332,\n",
       "                   -42.      , -41.916668, -41.833332, -41.75    ,\n",
       "                   -41.666668, -41.583332, -41.5     , -41.416668,\n",
       "                   -41.333332, -41.25    , -41.166668, -41.083332,\n",
       "                   -41.      , -40.916668, -40.833332, -40.75    ,\n",
       "                   -40.666668, -40.583332, -40.5     , -40.416668,\n",
       "                   -40.333332, -40.25    , -40.166668, -40.083332,\n",
       "                   -40.      , -39.916668, -39.833332, -39.75    ,\n",
       "                   -39.666668, -39.583332, -39.5     , -39.416668,\n",
       "                   -39.333332, -39.25    , -39.166668, -39.083332,\n",
       "                   -39.      , -38.916668, -38.833332, -38.75    ,\n",
       "                   -38.666668, -38.583332, -38.5     , -38.416668,\n",
       "                   -38.333332, -38.25    , -38.166668, -38.083332,\n",
       "                   -38.      , -37.916668, -37.833332, -37.75    ,\n",
       "                   -37.666668, -37.583332, -37.5     , -37.416668,\n",
       "                   -37.333332, -37.25    , -37.166668, -37.083332,\n",
       "                   -37.      , -36.916668, -36.833332, -36.75    ,\n",
       "                   -36.666668, -36.583332, -36.5     , -36.416668,\n",
       "                   -36.333332, -36.25    , -36.166668, -36.083332,\n",
       "                   -36.      , -35.916668, -35.833332, -35.75    ,\n",
       "                   -35.666668, -35.583332, -35.5     , -35.416668,\n",
       "                   -35.333332, -35.25    , -35.166668, -35.083332,\n",
       "                   -35.      , -34.916668, -34.833332, -34.75    ,\n",
       "                   -34.666668, -34.583332, -34.5     , -34.416668,\n",
       "                   -34.333332, -34.25    , -34.166668, -34.083332,\n",
       "                   -34.      , -33.916668, -33.833332, -33.75    ,\n",
       "                   -33.666668, -33.583332, -33.5     , -33.416668,\n",
       "                   -33.333332, -33.25    , -33.166668, -33.083332,\n",
       "                   -33.      , -32.916668, -32.833332, -32.75    ,\n",
       "                   -32.666668, -32.583332, -32.5     , -32.416668,\n",
       "                   -32.333332, -32.25    , -32.166668, -32.083332,\n",
       "                   -32.      , -31.916666, -31.833334, -31.75    ,\n",
       "                   -31.666666, -31.583334, -31.5     , -31.416666,\n",
       "                   -31.333334, -31.25    , -31.166666, -31.083334,\n",
       "                   -31.      , -30.916666, -30.833334, -30.75    ,\n",
       "                   -30.666666, -30.583334, -30.5     , -30.416666,\n",
       "                   -30.333334, -30.25    , -30.166666, -30.083334,\n",
       "                   -30.      , -29.916666, -29.833334, -29.75    ,\n",
       "                   -29.666666, -29.583334, -29.5     , -29.416666,\n",
       "                   -29.333334, -29.25    , -29.166666, -29.083334,\n",
       "                   -29.      , -28.916666, -28.833334, -28.75    ,\n",
       "                   -28.666666, -28.583334, -28.5     , -28.416666,\n",
       "                   -28.333334, -28.25    , -28.166666, -28.083334,\n",
       "                   -28.      , -27.916666, -27.833334, -27.75    ,\n",
       "                   -27.666666, -27.583334, -27.5     , -27.416666,\n",
       "                   -27.333334, -27.25    , -27.166666, -27.083334,\n",
       "                   -27.      , -26.916666, -26.833334, -26.75    ,\n",
       "                   -26.666666, -26.583334, -26.5     , -26.416666,\n",
       "                   -26.333334, -26.25    , -26.166666, -26.083334,\n",
       "                   -26.      , -25.916666, -25.833334, -25.75    ,\n",
       "                   -25.666666, -25.583334, -25.5     , -25.416666,\n",
       "                   -25.333334, -25.25    , -25.166666, -25.083334,\n",
       "                   -25.      , -24.916666, -24.833334, -24.75    ,\n",
       "                   -24.666666, -24.583334, -24.5     , -24.416666,\n",
       "                   -24.333334, -24.25    , -24.166666, -24.083334,\n",
       "                   -24.      , -23.916666, -23.833334, -23.75    ,\n",
       "                   -23.666666, -23.583334, -23.5     , -23.416666,\n",
       "                   -23.333334, -23.25    , -23.166666, -23.083334,\n",
       "                   -23.      , -22.916666, -22.833334, -22.75    ,\n",
       "                   -22.666666, -22.583334, -22.5     , -22.416666,\n",
       "                   -22.333334, -22.25    , -22.166666, -22.083334,\n",
       "                   -22.      , -21.916666, -21.833334, -21.75    ,\n",
       "                   -21.666666, -21.583334, -21.5     , -21.416666,\n",
       "                   -21.333334, -21.25    , -21.166666, -21.083334,\n",
       "                   -21.      , -20.916666, -20.833334, -20.75    ,\n",
       "                   -20.666666, -20.583334, -20.5     , -20.416666,\n",
       "                   -20.333334, -20.25    , -20.166666, -20.083334],\n",
       "             mask=False,\n",
       "       fill_value=1e+20,\n",
       "            dtype=float32)"
      ]
     },
     "execution_count": 28,
     "metadata": {},
     "output_type": "execute_result"
    }
   ],
   "source": [
    "np.ma.array(lat3[:])"
   ]
  },
  {
   "cell_type": "code",
   "execution_count": 29,
   "metadata": {},
   "outputs": [],
   "source": [
    "from filters import bessel_high_filter"
   ]
  },
  {
   "cell_type": "code",
   "execution_count": 30,
   "metadata": {},
   "outputs": [],
   "source": [
    "lat_ma = np.ma.array(lat3[:])\n",
    "lon_ma = np.ma.array(lon3[:])\n",
    "ssh_filtered = bessel_high_filter(linear_interpolator_list[0][:], wave_length = 500, y_c = lat_ma, x_c = lon_ma)"
   ]
  },
  {
   "cell_type": "code",
   "execution_count": 31,
   "metadata": {},
   "outputs": [
    {
     "data": {
      "text/plain": [
       "masked_array(\n",
       "  data=[[0.3261029742076711, 0.3404197357993972, 0.358913947682036, ...,\n",
       "         --, --, --],\n",
       "        [0.3078938103229891, 0.31714083758272427, 0.33140274588770624,\n",
       "         ..., --, --, --],\n",
       "        [0.2915236482246899, 0.2955035521873963, 0.30441971637791077,\n",
       "         ..., --, --, --],\n",
       "        ...,\n",
       "        [-0.011140546820143093, -0.004371494440427837,\n",
       "         0.0017834607584696904, ..., --, --, --],\n",
       "        [-0.02604310869818338, -0.018913827196874955,\n",
       "         -0.01303552835243904, ..., --, --, --],\n",
       "        [-0.04050973830522664, -0.03311461979246899,\n",
       "         -0.027233241758049198, ..., --, --, --]],\n",
       "  mask=[[False, False, False, ...,  True,  True,  True],\n",
       "        [False, False, False, ...,  True,  True,  True],\n",
       "        [False, False, False, ...,  True,  True,  True],\n",
       "        ...,\n",
       "        [False, False, False, ...,  True,  True,  True],\n",
       "        [False, False, False, ...,  True,  True,  True],\n",
       "        [False, False, False, ...,  True,  True,  True]],\n",
       "  fill_value=1e+20)"
      ]
     },
     "execution_count": 31,
     "metadata": {},
     "output_type": "execute_result"
    }
   ],
   "source": [
    "ssh_filtered"
   ]
  },
  {
   "cell_type": "code",
   "execution_count": 32,
   "metadata": {},
   "outputs": [
    {
     "data": {
      "text/plain": [
       "masked_array(\n",
       "  data=[[-0.7143123778390761, -0.6984908574360169, -0.6780314868011601,\n",
       "         ..., --, --, --],\n",
       "        [-0.736072734466255, -0.7252736631432999, -0.7090037464076833,\n",
       "         ..., --, --, --],\n",
       "        [-0.7559842912065307, -0.7504108185442426, -0.7394504389535257,\n",
       "         ..., --, --, --],\n",
       "        ...,\n",
       "        [-1.6210185401138304, -1.6149425907917099, -1.6094164332593666,\n",
       "         ..., --, --, --],\n",
       "        [-1.6354449879248314, -1.6290634685550387, -1.623864878344781,\n",
       "         ..., --, --, --],\n",
       "        [-1.649481354220626, -1.6428911401034725, -1.6377428320789145,\n",
       "         ..., --, --, --]],\n",
       "  mask=[[False, False, False, ...,  True,  True,  True],\n",
       "        [False, False, False, ...,  True,  True,  True],\n",
       "        [False, False, False, ...,  True,  True,  True],\n",
       "        ...,\n",
       "        [False, False, False, ...,  True,  True,  True],\n",
       "        [False, False, False, ...,  True,  True,  True],\n",
       "        [False, False, False, ...,  True,  True,  True]],\n",
       "  fill_value=1e+20)"
      ]
     },
     "execution_count": 32,
     "metadata": {},
     "output_type": "execute_result"
    }
   ],
   "source": [
    "linear_interpolator_list[0][:]"
   ]
  },
  {
   "cell_type": "code",
   "execution_count": 35,
   "metadata": {
    "scrolled": true
   },
   "outputs": [],
   "source": [
    "for day in range(days): \n",
    "    ts=Timestamp(times[day])\n",
    "    t=ts.to_pydatetime()\n",
    "    ssh[day] = linear_interpolator_list[day][:]\n",
    "    time[day] = date2num(t, time_unit_out)\n",
    "    \n"
   ]
  },
  {
   "cell_type": "code",
   "execution_count": 38,
   "metadata": {
    "scrolled": true
   },
   "outputs": [
    {
     "data": {
      "text/plain": [
       "<class 'netCDF4._netCDF4.Dataset'>\n",
       "root group (NETCDF4 data model, file format HDF5):\n",
       "    dimensions(sizes): TIME(2), LONGITUDE(2400), LATITUDE(960)\n",
       "    variables(dimensions): float32 LONGITUDE(LONGITUDE), float32 LATITUDE(LATITUDE), float32 TIME(TIME), float64 ssh(TIME, LONGITUDE, LATITUDE)\n",
       "    groups: "
      ]
     },
     "execution_count": 38,
     "metadata": {},
     "output_type": "execute_result"
    }
   ],
   "source": [
    "fw"
   ]
  },
  {
   "cell_type": "code",
   "execution_count": 127,
   "metadata": {},
   "outputs": [],
   "source": [
    "fw.close()"
   ]
  },
  {
   "cell_type": "code",
   "execution_count": 2,
   "metadata": {},
   "outputs": [],
   "source": [
    "f = Dataset(\"/work/ollie/bpanthi/ssh_gridded_1961_0011_m.nc\", 'r')\n"
   ]
  },
  {
   "cell_type": "code",
   "execution_count": 3,
   "metadata": {},
   "outputs": [
    {
     "data": {
      "text/plain": [
       "<class 'netCDF4._netCDF4.Dataset'>\n",
       "root group (NETCDF4 data model, file format HDF5):\n",
       "    dimensions(sizes): TIME(30), LONGITUDE(2400), LATITUDE(960)\n",
       "    variables(dimensions): float32 LONGITUDE(LONGITUDE), float32 LATITUDE(LATITUDE), float32 TIME(TIME), float64 ssh(TIME, LONGITUDE, LATITUDE)\n",
       "    groups: "
      ]
     },
     "execution_count": 3,
     "metadata": {},
     "output_type": "execute_result"
    }
   ],
   "source": [
    "f\n"
   ]
  },
  {
   "cell_type": "code",
   "execution_count": 24,
   "metadata": {},
   "outputs": [
    {
     "name": "stdout",
     "output_type": "stream",
     "text": [
      "[[-- -- -- ... -0.6984711603885305 -0.7070102198134354\n",
      "  -0.7143123778390752]\n",
      " [-- -- -- ... -0.7117072098175967 -0.7191209154591327 -0.725532223320398]\n",
      " [-- -- -- ... -0.7252698746766981 -0.731325677350048 -0.7360815255514463]\n",
      " ...\n",
      " [-- -- -- ... -1.642880114790831 -1.6458187897243501 -1.649475771878043]\n",
      " [-- -- -- ... -1.6493299862069382 -1.6524329957232533\n",
      "  -1.6561745840720317]\n",
      " [-- -- -- ... -1.6557334842715719 -1.6589661225492787 -1.662809899413439]]\n",
      "j\n",
      "[[-- -- -- ... -0.7097579344823863 -0.7146095689448817\n",
      "  -0.7183948253424273]\n",
      " [-- -- -- ... -0.7209127106385331 -0.7245620725293556\n",
      "  -0.7274268055368207]\n",
      " [-- -- -- ... -0.7324203005169423 -0.7344822941670532\n",
      "  -0.7354428197540486]\n",
      " ...\n",
      " [-- -- -- ... -1.647576861785236 -1.6511817458815017 -1.6554676964731314]\n",
      " [-- -- -- ... -1.6552091128863857 -1.6587511551229461\n",
      "  -1.6630270705029986]\n",
      " [-- -- -- ... -1.662874614187916 -1.6663547115460347 -1.6706089166428448]]\n",
      "j\n",
      "[[-- -- -- ... -0.7048020304998186 -0.7065011013380555\n",
      "  -0.7074100073679208]\n",
      " [-- -- -- ... -0.7135671076250816 -0.7141793208351981\n",
      "  -0.7142848984546326]\n",
      " [-- -- -- ... -0.7227159743106153 -0.7220437382924416\n",
      "  -0.7205803419556389]\n",
      " ...\n",
      " [-- -- -- ... -1.6599185382415502 -1.6634780000355658 -1.667230448791857]\n",
      " [-- -- -- ... -1.6678967543013066 -1.671256551001374 -1.6747277297160519]\n",
      " [-- -- -- ... -1.675889032737608 -1.6790539334208834 -1.682247940391706]]\n",
      "j\n",
      "[[-- -- -- ... -0.7212517638767473 -0.7210010173220933\n",
      "  -0.7200598661224795]\n",
      " [-- -- -- ... -0.7294221556350653 -0.7282057905161956\n",
      "  -0.7265670908843198]\n",
      " [-- -- -- ... -0.7382728757754435 -0.7367488836306713\n",
      "  -0.7344869257243758]\n",
      " ...\n",
      " [-- -- -- ... -1.6795178016010954 -1.6819106841347127\n",
      "  -1.6840654764385823]\n",
      " [-- -- -- ... -1.6870167458691476 -1.6889806140491306\n",
      "  -1.6907323596571233]\n",
      " [-- -- -- ... -1.6945176463220744 -1.6960504639943315 -1.697402459196045]]\n",
      "j\n",
      "[[-- -- -- ... -0.7447741470630742 -0.744207607512168 -0.7431110451488472]\n",
      " [-- -- -- ... -0.7543869497147746 -0.7529347158629207\n",
      "  -0.7512025624174612]\n",
      " [-- -- -- ... -0.7649063483060026 -0.763637489143207 -0.7618098137376634]\n",
      " ...\n",
      " [-- -- -- ... -1.697338537736623 -1.697932228835913 -1.6981581996561506]\n",
      " [-- -- -- ... -1.7034650851525912 -1.7036484609281843\n",
      "  -1.7035447088632325]\n",
      " [-- -- -- ... -1.7095446949541016 -1.709269185889065 -1.7087826165339841]]\n",
      "j\n",
      "[[-- -- -- ... -0.7724049229159409 -0.7735775972566383\n",
      "  -0.7744487997812453]\n",
      " [-- -- -- ... -0.7826891754228917 -0.7832497757361416 -0.783702642633461]\n",
      " [-- -- -- ... -0.7937028810616304 -0.7945206985016924\n",
      "  -0.7950595181252282]\n",
      " ...\n",
      " [-- -- -- ... -1.7048437729192358 -1.7036110115336598 -1.702080947653435]\n",
      " [-- -- -- ... -1.7091869243408206 -1.7077054959686717\n",
      "  -1.7060112378573635]\n",
      " [-- -- -- ... -1.7132647460806507 -1.7114337943163473\n",
      "  -1.7094961648403209]]\n",
      "j\n",
      "[[-- -- -- ... -0.8102526680315325 -0.813949101756732 -0.81735723742751]\n",
      " [-- -- -- ... -0.820484940135561 -0.8239863469478497 -0.8272378128902247]\n",
      " [-- -- -- ... -0.8311947657478154 -0.8352330821150993 -0.839020011349703]\n",
      " ...\n",
      " [-- -- -- ... -1.7061766467490336 -1.7035489919608455 -1.700752971284527]\n",
      " [-- -- -- ... -1.7081268958291842 -1.7053458628420133\n",
      "  -1.7024362895294751]\n",
      " [-- -- -- ... -1.7096090722128787 -1.7065482862617634\n",
      "  -1.7034967059115997]]\n",
      "j\n",
      "[[-- -- -- ... -0.8259171296148722 -0.8314466900926956\n",
      "  -0.8366625597774924]\n",
      " [-- -- -- ... -0.8367582443383395 -0.8423440475747128\n",
      "  -0.8475721770724469]\n",
      " [-- -- -- ... -0.8479556015801055 -0.8543748361739567\n",
      "  -0.8604525839140997]\n",
      " ...\n",
      " [-- -- -- ... -1.700741986027296 -1.6970532204197237 -1.6933657383241147]\n",
      " [-- -- -- ... -1.699719548787204 -1.695931657734488 -1.6922254974899626]\n",
      " [-- -- -- ... -1.6983895512789529 -1.694365606356051 -1.6905809844926276]]\n",
      "j\n",
      "[[-- -- -- ... -0.7915927811449404 -0.7975514506612722 -0.803051454762528]\n",
      " [-- -- -- ... -0.8031966525983592 -0.8092419774554322\n",
      "  -0.8147209776590181]\n",
      " [-- -- -- ... -0.8150971402638287 -0.8221948344482897\n",
      "  -0.8286788114760846]\n",
      " ...\n",
      " [-- -- -- ... -1.6813886617809164 -1.676829124111526 -1.6725320016465837]\n",
      " [-- -- -- ... -1.6784917871314011 -1.6737482298690853\n",
      "  -1.6694196253798808]\n",
      " [-- -- -- ... -1.675720469626949 -1.670774237238403 -1.6662827124931336]]\n",
      "j\n",
      "[[-- -- -- ... -0.7479444090095306 -0.7523253259638345 -0.756222801868196]\n",
      " [-- -- -- ... -0.75975521699303 -0.7640733826121355 -0.767849301786093]\n",
      " [-- -- -- ... -0.7720445476789699 -0.7771737367223928\n",
      "  -0.7817628397820862]\n",
      " ...\n",
      " [-- -- -- ... -1.6649368443671708 -1.6596311808939053\n",
      "  -1.6546982128345782]\n",
      " [-- -- -- ... -1.6627097644900672 -1.6571133170956998 -1.651798802328905]\n",
      " [-- -- -- ... -1.6609342315041236 -1.655099324931511 -1.6494794679559277]]\n",
      "j\n",
      "[[-- -- -- ... -0.7135774230018459 -0.7150647385469249\n",
      "  -0.7158886222901764]\n",
      " [-- -- -- ... -0.7250925221640685 -0.7261907744472396\n",
      "  -0.7266171426809791]\n",
      " [-- -- -- ... -0.7371723401777217 -0.7387579713151986 -0.739301282912038]\n",
      " ...\n",
      " [-- -- -- ... -1.6477395309275753 -1.641277260443399 -1.6351791372651814]\n",
      " [-- -- -- ... -1.646904523357307 -1.640183282291014 -1.6337470424458154]\n",
      " [-- -- -- ... -1.646215613648618 -1.6391602401723482 -1.6324740508510658]]\n",
      "j\n",
      "[[-- -- -- ... -0.7093642076364759 -0.7072243859922906\n",
      "  -0.7047130754510142]\n",
      " [-- -- -- ... -0.72015352062704 -0.717265743981514 -0.7141913442238561]\n",
      " [-- -- -- ... -0.7315732246446878 -0.7286296691693153\n",
      "  -0.7251915330933372]\n",
      " ...\n",
      " [-- -- -- ... -1.6375640268738465 -1.6295635466624994 -1.622298718335644]\n",
      " [-- -- -- ... -1.6363562349675664 -1.6279586420061882\n",
      "  -1.6204861501976513]\n",
      " [-- -- -- ... -1.635543297372248 -1.6266674241050865 -1.6188053209111999]]\n",
      "j\n",
      "[[-- -- -- ... -0.7505107974429279 -0.7452447533767277\n",
      "  -0.7399204895888083]\n",
      " [-- -- -- ... -0.7609341495349007 -0.7547969904097016 -0.74886640867118]\n",
      " [-- -- -- ... -0.7721031113491215 -0.7656607666522852\n",
      "  -0.7591195493066678]\n",
      " ...\n",
      " [-- -- -- ... -1.6447025204276962 -1.6343501820659796 -1.624968535976448]\n",
      " [-- -- -- ... -1.6445978918643327 -1.6337219341467026\n",
      "  -1.6237178530196132]\n",
      " [-- -- -- ... -1.6446240770475562 -1.6334010315242864\n",
      "  -1.6229203006711241]]\n",
      "j\n",
      "[[-- -- -- ... -0.8035300413917668 -0.7961214281557716\n",
      "  -0.7888129203239167]\n",
      " [-- -- -- ... -0.8145971937995888 -0.806284894566442 -0.7983493188350828]\n",
      " [-- -- -- ... -0.8264448000343165 -0.8177673664389538\n",
      "  -0.8091784093705456]\n",
      " ...\n",
      " [-- -- -- ... -1.6507121693772397 -1.639644787533669 -1.6286108034925633]\n",
      " [-- -- -- ... -1.6497421626794981 -1.6386774130600017\n",
      "  -1.6275641210061025]\n",
      " [-- -- -- ... -1.6486104503641137 -1.6375665776827333 -1.626461463696888]]\n",
      "j\n",
      "[[-- -- -- ... -0.8748420804683086 -0.8666923614727047\n",
      "  -0.8585658384704971]\n",
      " [-- -- -- ... -0.8876356073729568 -0.878611538980195 -0.869879081849227]\n",
      " [-- -- -- ... -0.9012323326415128 -0.8919720754653042 -0.882671003852117]\n",
      " ...\n",
      " [-- -- -- ... -1.6498388120432885 -1.6396848853595998\n",
      "  -1.6293315328035476]\n",
      " [-- -- -- ... -1.6477050195911644 -1.6375718838177242\n",
      "  -1.6272390919385948]\n",
      " [-- -- -- ... -1.6452752278146257 -1.6351932522521153\n",
      "  -1.6249634221507385]]\n",
      "j\n",
      "[[-- -- -- ... -0.9301505162560844 -0.9234998571121977 -0.916897430237885]\n",
      " [-- -- -- ... -0.9444193852127825 -0.9370653048979278\n",
      "  -0.9299456897743568]\n",
      " [-- -- -- ... -0.9594298804836257 -0.9520408989879314\n",
      "  -0.9446716793669552]\n",
      " ...\n",
      " [-- -- -- ... -1.641443905250199 -1.6335609042601469 -1.6250584994999038]\n",
      " [-- -- -- ... -1.6371964099792518 -1.6296178418784333 -1.621485205538331]\n",
      " [-- -- -- ... -1.6326142526217708 -1.6252645147385305\n",
      "  -1.6175163046599899]]\n",
      "j\n",
      "[[-- -- -- ... -0.9613747934332899 -0.9574722604412287\n",
      "  -0.9538865826399778]\n",
      " [-- -- -- ... -0.9754280638694723 -0.9710706311904929\n",
      "  -0.9671907115162881]\n",
      " [-- -- -- ... -0.990088027415851 -0.9859278892011609 -0.982147799859181]\n",
      " ...\n",
      " [-- -- -- ... -1.6229952216269954 -1.6173570432201778\n",
      "  -1.6117006258259465]\n",
      " [-- -- -- ... -1.616884659310724 -1.6115588201067617 -1.6062307436810723]\n",
      " [-- -- -- ... -1.610393629842683 -1.6053686222316195 -1.600402068394171]]\n",
      "j\n",
      "[[-- -- -- ... -0.9455571636183429 -0.9437954227495915\n",
      "  -0.9426051186185695]\n",
      " [-- -- -- ... -0.9583202152960446 -0.9563791260829468\n",
      "  -0.9550690960263104]\n",
      " [-- -- -- ... -0.9715202063728334 -0.9699460673596363 -0.969114559569185]\n",
      " ...\n",
      " [-- -- -- ... -1.6023561650674516 -1.5984393476757823\n",
      "  -1.5947496588475172]\n",
      " [-- -- -- ... -1.5940625288141668 -1.5905173661145007 -1.587284997141282]\n",
      " [-- -- -- ... -1.5853351011895551 -1.5820936556613994\n",
      "  -1.5792999601437625]]\n",
      "j\n",
      "[[-- -- -- ... -0.919187598438512 -0.9181988823693352 -0.9178491411832397]\n",
      " [-- -- -- ... -0.9305183577236029 -0.929568351887216 -0.9292625623746602]\n",
      " [-- -- -- ... -0.9421950011474749 -0.941697160099153 -0.9420298809433696]\n",
      " ...\n",
      " [-- -- -- ... -1.5726143563246637 -1.5694982210954418\n",
      "  -1.5670686778388028]\n",
      " [-- -- -- ... -1.56204220724487 -1.5593011619660793 -1.5573305646190185]\n",
      " [-- -- -- ... -1.5510507153524635 -1.5485976654815499\n",
      "  -1.5470870775922325]]\n",
      "j\n"
     ]
    },
    {
     "name": "stdout",
     "output_type": "stream",
     "text": [
      "[[-- -- -- ... -0.8948357632721482 -0.8936534464600925\n",
      "  -0.8929170660760839]\n",
      " [-- -- -- ... -0.9052767726708346 -0.9042252976920615\n",
      "  -0.9035772739586712]\n",
      " [-- -- -- ... -0.9158720519693411 -0.9152785512961543\n",
      "  -0.9151954268432831]\n",
      " ...\n",
      " [-- -- -- ... -1.5388566091955038 -1.5359243613646907\n",
      "  -1.5339830562356926]\n",
      " [-- -- -- ... -1.5264084558200501 -1.5236888944648346\n",
      "  -1.5221175697619387]\n",
      " [-- -- -- ... -1.5136981812055126 -1.5110896998624668\n",
      "  -1.5098399852348834]]\n",
      "j\n",
      "[[-- -- -- ... -0.8893565382660142 -0.8875766136246774\n",
      "  -0.8859138767982913]\n",
      " [-- -- -- ... -0.8993084590244678 -0.8976590093420604\n",
      "  -0.8960260668410491]\n",
      " [-- -- -- ... -0.9092636141702748 -0.9078055855194762 -0.906469355899219]\n",
      " ...\n",
      " [-- -- -- ... -1.520244337646318 -1.5166132943202797 -1.5141822077321923]\n",
      " [-- -- -- ... -1.5069881016511069 -1.5033307037534875\n",
      "  -1.5010091275353385]\n",
      " [-- -- -- ... -1.4936862880269786 -1.4899386639737688\n",
      "  -1.4876734290734408]]\n",
      "j\n",
      "[[-- -- -- ... -0.9001134082689788 -0.8978509046614782\n",
      "  -0.8955609744158401]\n",
      " [-- -- -- ... -0.9094583421689215 -0.9072904975072689\n",
      "  -0.9050203918794182]\n",
      " [-- -- -- ... -0.918737330353224 -0.9165483559598293 -0.914315066418677]\n",
      " ...\n",
      " [-- -- -- ... -1.5210495944416884 -1.5168726767840042\n",
      "  -1.5135801930637225]\n",
      " [-- -- -- ... -1.508099623684032 -1.503689083404936 -1.5002807634234347]\n",
      " [-- -- -- ... -1.4951775596097754 -1.490540766984303 -1.4870221206970182]]\n",
      "j\n",
      "[[-- -- -- ... -0.905263776220032 -0.9024779675326791 -0.8997564816376986]\n",
      " [-- -- -- ... -0.9137121270394353 -0.9109397508470671\n",
      "  -0.9082154364519148]\n",
      " [-- -- -- ... -0.9221009637043913 -0.9193181142365852\n",
      "  -0.9165547547095443]\n",
      " ...\n",
      " [-- -- -- ... -1.5202106323152105 -1.517713535796819 -1.515213207331433]\n",
      " [-- -- -- ... -1.5083836254457808 -1.5054657464330496\n",
      "  -1.5026222380945793]\n",
      " [-- -- -- ... -1.4965144257038094 -1.4931766268963287\n",
      "  -1.4900390611652323]]\n",
      "j\n",
      "[[-- -- -- ... -0.8936784746365198 -0.891090894744913 -0.8886327843425548]\n",
      " [-- -- -- ... -0.9010397182669294 -0.8984423054301516\n",
      "  -0.8959631455919492]\n",
      " [-- -- -- ... -0.9083765647160504 -0.9058108036820851 -0.903325130512938]\n",
      " ...\n",
      " [-- -- -- ... -1.5120307841789762 -1.5134146428078283\n",
      "  -1.5142938449721868]\n",
      " [-- -- -- ... -1.5018791845735224 -1.5028349321902414\n",
      "  -1.5033131406408478]\n",
      " [-- -- -- ... -1.4917325283095293 -1.492160267889795 -1.4921961010437546]]\n",
      "j\n",
      "[[-- -- -- ... -0.8673992752209951 -0.8652557650049175\n",
      "  -0.8632443435598844]\n",
      " [-- -- -- ... -0.8738640349165401 -0.8717055311249897\n",
      "  -0.8696619872597964]\n",
      " [-- -- -- ... -0.8803062040724896 -0.8781602162192783\n",
      "  -0.8761056618764798]\n",
      " ...\n",
      " [-- -- -- ... -1.4979621867422934 -1.5029880507122935 -1.507670098074661]\n",
      " [-- -- -- ... -1.4894346073330393 -1.493971776808206 -1.4983360602407534]\n",
      " [-- -- -- ... -1.481127402320208 -1.4850764795589018 -1.4889934976473471]]\n",
      "j\n",
      "[[-- -- -- ... -0.8424896256271559 -0.8410158444187985\n",
      "  -0.8396428899462354]\n",
      " [-- -- -- ... -0.848351116563931 -0.8468261373411448 -0.8453983077844729]\n",
      " [-- -- -- ... -0.8541960919791389 -0.8526054043664697\n",
      "  -0.8510947095956762]\n",
      " ...\n",
      " [-- -- -- ... -1.4837238642415778 -1.490941737206191 -1.4984581889655733]\n",
      " [-- -- -- ... -1.4767636711218701 -1.483404369400506 -1.4904928167995868]\n",
      " [-- -- -- ... -1.4700736183948673 -1.4761124966133092\n",
      "  -1.4826980610140663]]\n",
      "j\n",
      "[[-- -- -- ... -0.8354008059643316 -0.8342947910458811\n",
      "  -0.8333694329077748]\n",
      " [-- -- -- ... -0.8406725896246634 -0.8395093539376113\n",
      "  -0.8385391675881557]\n",
      " [-- -- -- ... -0.8459437896244424 -0.8446540208073827\n",
      "  -0.8435881652177972]\n",
      " ...\n",
      " [-- -- -- ... -1.4674868165235582 -1.4762540019259216\n",
      "  -1.4856360423987418]\n",
      " [-- -- -- ... -1.4622833997686504 -1.4704964486951697\n",
      "  -1.4794335738440516]\n",
      " [-- -- -- ... -1.457313633416807 -1.4649420762382395 -1.4733751901487349]]\n",
      "j\n",
      "[[-- -- -- ... -0.8136880503349566 -0.8130158742904641\n",
      "  -0.8126691431797415]\n",
      " [-- -- -- ... -0.8185254269585762 -0.8178133318216521\n",
      "  -0.8174470956090616]\n",
      " [-- -- -- ... -0.8233959898539283 -0.822536596175869 -0.8221067843717087]\n",
      " ...\n",
      " [-- -- -- ... -1.436078811695939 -1.4463698327032422 -1.4575371186132422]\n",
      " [-- -- -- ... -1.4328541048081114 -1.442592348594541 -1.4532940178301441]\n",
      " [-- -- -- ... -1.4299043457065963 -1.4390596069341743\n",
      "  -1.4492305430867578]]\n",
      "j\n",
      "[[-- -- -- ... -0.782357208194183 -0.7819111923119202 -0.7819454893170521]\n",
      " [-- -- -- ... -0.7869263492699936 -0.7864121946436882\n",
      "  -0.7864161977464033]\n",
      " [-- -- -- ... -0.7915612129433569 -0.7908853363821269\n",
      "  -0.7907926273953976]\n",
      " ...\n",
      " [-- -- -- ... -1.4031991104539348 -1.4146478724120417\n",
      "  -1.4273315712628953]\n",
      " [-- -- -- ... -1.4016626614495777 -1.4125867773562462\n",
      "  -1.4248407554566587]\n",
      " [-- -- -- ... -1.400523095803436 -1.4108679105483493 -1.422569928025153]]\n",
      "j\n",
      "[[-- -- -- ... -0.7561199722107821 -0.7563199077839453\n",
      "  -0.7571271002623483]\n",
      " [-- -- -- ... -0.7605145219623912 -0.7606187932383968\n",
      "  -0.7614096376706039]\n",
      " [-- -- -- ... -0.7650277021860052 -0.7649729769590179\n",
      "  -0.7656371882131134]\n",
      " ...\n",
      " [-- -- -- ... -1.3863123143458367 -1.3984461824751477\n",
      "  -1.4120161716317803]\n",
      " [-- -- -- ... -1.3861474167261054 -1.3978521304195404 -1.411030021197785]\n",
      " [-- -- -- ... -1.3863917029809798 -1.3976058548160886\n",
      "  -1.4103161824912185]]\n",
      "j\n"
     ]
    }
   ],
   "source": [
    "for i in range(30):\n",
    "    print(f['ssh'][i])\n",
    "    print(\"j\")\n",
    "\n"
   ]
  },
  {
   "cell_type": "code",
   "execution_count": null,
   "metadata": {},
   "outputs": [],
   "source": []
  }
 ],
 "metadata": {
  "kernelspec": {
   "display_name": "eddy-tracking",
   "language": "python",
   "name": "eddy-tracking"
  },
  "language_info": {
   "codemirror_mode": {
    "name": "ipython",
    "version": 3
   },
   "file_extension": ".py",
   "mimetype": "text/x-python",
   "name": "python",
   "nbconvert_exporter": "python",
   "pygments_lexer": "ipython3",
   "version": "3.8.12"
  }
 },
 "nbformat": 4,
 "nbformat_minor": 5
}
