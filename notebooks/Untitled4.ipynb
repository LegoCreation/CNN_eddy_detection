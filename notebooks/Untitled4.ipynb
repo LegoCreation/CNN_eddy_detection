{
 "cells": [
  {
   "cell_type": "code",
   "execution_count": null,
   "metadata": {},
   "outputs": [],
   "source": [
    "import numpy as np\n",
    "from matplotlib import pyplot as plt\n",
    "from matplotlib.path import Path\n",
    "from numpy import arange\n",
    "\n",
    "from py_eddy_tracker import data\n",
    "from py_eddy_tracker.dataset.grid import RegularGridDataset\n",
    "from py_eddy_tracker.poly import create_vertice\n",
    "import re\n",
    "from datetime import datetime, timedelta\n",
    "\n",
    "from matplotlib.animation import FuncAnimation\n",
    "from numpy import arange, isnan, meshgrid, ones\n",
    "\n",
    "from py_eddy_tracker import start_logger\n",
    "from py_eddy_tracker.data import get_demo_path\n",
    "from py_eddy_tracker.dataset.grid import GridCollection\n",
    "from py_eddy_tracker.gui import GUI_AXES\n",
    "from netCDF4 import Dataset\n",
    "import xarray as xr\n",
    "import pandas as pd\n",
    "import numpy as np\n",
    "import matplotlib.cm as cm\n",
    "\n",
    "from typing import List, Tuple\n"
   ]
  }
 ],
 "metadata": {
  "kernelspec": {
   "display_name": "eddy-tracking",
   "language": "python",
   "name": "eddy-tracking"
  },
  "language_info": {
   "codemirror_mode": {
    "name": "ipython",
    "version": 3
   },
   "file_extension": ".py",
   "mimetype": "text/x-python",
   "name": "python",
   "nbconvert_exporter": "python",
   "pygments_lexer": "ipython3",
   "version": "3.8.12"
  }
 },
 "nbformat": 4,
 "nbformat_minor": 4
}
